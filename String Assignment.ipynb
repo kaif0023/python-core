{
 "cells": [
  {
   "cell_type": "code",
   "execution_count": 1,
   "id": "e2459c50",
   "metadata": {},
   "outputs": [
    {
     "data": {
      "text/plain": [
       "'bIlL GaTEs'"
      ]
     },
     "execution_count": 1,
     "metadata": {},
     "output_type": "execute_result"
    }
   ],
   "source": [
    "# Q.1 Write a program to accept a string and display the string with changed case(Change upper and lower case)\n",
    "s = \"BiLl gAteS\"\n",
    "s1 = s.swapcase()\n",
    "s1"
   ]
  },
  {
   "cell_type": "code",
   "execution_count": 19,
   "id": "09181a33",
   "metadata": {},
   "outputs": [
    {
     "name": "stdout",
     "output_type": "stream",
     "text": [
      " enter a Word: bread\n",
      "5\n"
     ]
    }
   ],
   "source": [
    "# Q.2   Write a program to count the length of string without using len() function.\n",
    "\n",
    "def length(string):\n",
    "    counter = 0\n",
    "    while string[counter:]:\n",
    "        counter += 1\n",
    "    return counter\n",
    "        \n",
    " \n",
    " \n",
    "string = input(\" enter a Word: \")\n",
    "print(length(string))\n",
    "        \n",
    "    \n",
    "\n",
    "\n",
    "    \n",
    "\n",
    "    \n"
   ]
  },
  {
   "cell_type": "code",
   "execution_count": 20,
   "id": "7c013e34",
   "metadata": {},
   "outputs": [
    {
     "name": "stdout",
     "output_type": "stream",
     "text": [
      "Enter A word : hope\n",
      "ascii value of h is 104\n",
      "ascii value of o is 111\n",
      "ascii value of p is 112\n",
      "ascii value of e is 101\n"
     ]
    }
   ],
   "source": [
    "# Q.3 Write a program to accept the string from user and display the ascii value for each letter.\n",
    "s = input(\"Enter A word : \")\n",
    "for i in s:\n",
    "    print(\"ascii value of\",i,\"is\",ord(i))\n",
    "    \n"
   ]
  },
  {
   "cell_type": "code",
   "execution_count": 21,
   "id": "af91d393",
   "metadata": {},
   "outputs": [
    {
     "name": "stdout",
     "output_type": "stream",
     "text": [
      "Enter A word : hello have we met before\n"
     ]
    },
    {
     "data": {
      "text/plain": [
       "'hello#have#we#met#before'"
      ]
     },
     "execution_count": 21,
     "metadata": {},
     "output_type": "execute_result"
    }
   ],
   "source": [
    "# Q.4 Write a program that accepts the string and replace all spaces by “#” symbol.\n",
    "s1 = input(\"Enter A word : \")\n",
    "s1.replace(\" \",\"#\")\n"
   ]
  },
  {
   "cell_type": "code",
   "execution_count": 18,
   "id": "208b1c89",
   "metadata": {},
   "outputs": [
    {
     "name": "stdout",
     "output_type": "stream",
     "text": [
      "Enter A word : iroonman\n",
      "Enter the index of Character To be removed  :3\n",
      "after removing 3 th String\n",
      "ironman\n"
     ]
    }
   ],
   "source": [
    "# Q.5 Write a program that delete the character at specific position.\n",
    "\n",
    "def remove(s1,l):\n",
    "    first = s1[:l]\n",
    "    last = s1[l+1:]\n",
    "    return first + last\n",
    "\n",
    "s1 = input(\"Enter A word : \")\n",
    "l = int(input(\"Enter the index of Character To be removed  :\"))\n",
    "\n",
    "print(\"after removing\",l,\"th\",\"String\")\n",
    "print(remove(s1,l))\n"
   ]
  },
  {
   "cell_type": "code",
   "execution_count": 3,
   "id": "4f6fd975",
   "metadata": {},
   "outputs": [
    {
     "name": "stdout",
     "output_type": "stream",
     "text": [
      "Enter A word : boolean\n",
      " a occurs  1 times\n",
      " e occurs  1 times\n",
      " i occurs  0 times\n",
      " o occurs  2 times\n",
      " u occurs  0 times\n"
     ]
    }
   ],
   "source": [
    "# Q.6 Write a  program which accepts a strings and count the frequency of each vowel.\n",
    "s1 = input(\"Enter A word : \")\n",
    "s = s1.lower()           \n",
    "print(\" a occurs \",s.count(\"a\"),\"times\")\n",
    "print(\" e occurs \",s.count(\"e\"),\"times\")\n",
    "print(\" i occurs \",s.count(\"i\"),\"times\")\n",
    "print(\" o occurs \",s.count(\"o\"),\"times\")\n",
    "print(\" u occurs \",s.count(\"u\"),\"times\")\n",
    "\n",
    "\n"
   ]
  },
  {
   "cell_type": "code",
   "execution_count": 5,
   "id": "7dbdb218",
   "metadata": {},
   "outputs": [
    {
     "name": "stdout",
     "output_type": "stream",
     "text": [
      "Enter First String :hello how are you\n",
      "Enter A Second String :are we fine\n",
      "are"
     ]
    }
   ],
   "source": [
    "# Q.7 Write a program which accepts the two strings from user and display the common words(ignore case).\n",
    "str1 = input(\"Enter First String :\")\n",
    "str2 = input(\"Enter A Second String :\")\n",
    "s = str1.split()\n",
    "t = str2.split()\n",
    "for i in s:\n",
    "    if i in t:\n",
    "        print(i,end=\"\")\n",
    "    \n",
    "\n",
    "            \n"
   ]
  },
  {
   "cell_type": "code",
   "execution_count": 6,
   "id": "0b7bc355",
   "metadata": {},
   "outputs": [
    {
     "name": "stdout",
     "output_type": "stream",
     "text": [
      "Enter a String :barking\n",
      "brkng\n"
     ]
    }
   ],
   "source": [
    "# Q.8 write a program to Remove  vowel from The String \n",
    "string = input(\"Enter a String :\")\n",
    "z = [\"a\",\"e\",\"i\",\"o\",\"u\"]\n",
    "for i in string:\n",
    "    result = [i for i in string if i.lower() not in z]\n",
    "    result = \"\".join(result)\n",
    "print(result)\n",
    "\n",
    "    "
   ]
  },
  {
   "cell_type": "code",
   "execution_count": 7,
   "id": "30051cd2",
   "metadata": {},
   "outputs": [
    {
     "name": "stdout",
     "output_type": "stream",
     "text": [
      "Enter your Full Name : mohd kaif khan\n",
      "M.K.khan\n"
     ]
    }
   ],
   "source": [
    "# Q.9 Write a program that takes full name as input and displays the abbrevations of the first and middle names\n",
    "# except the last name which is displayed as it is. Eg:Robert Brett Roser output :R.B.Roser.\n",
    "name = input(\"Enter your Full Name : \")\n",
    "name1 = name.split()\n",
    "firstname = name1[0][0].upper() + '.'\n",
    "middlename = name1[1][0].upper() + '.'\n",
    "lastname = name1[2]\n",
    "fullname = firstname + middlename + lastname\n",
    "print(fullname)\n"
   ]
  },
  {
   "cell_type": "code",
   "execution_count": 1,
   "id": "07795b01",
   "metadata": {},
   "outputs": [
    {
     "name": "stdout",
     "output_type": "stream",
     "text": [
      "Enter A String :fastest\n",
      "fast\n"
     ]
    }
   ],
   "source": [
    "# Q.10 Write a Python program to get a string made of the first 2 and the last 2 chars from a given a string. \n",
    "# If the string length is less than 2, return instead of the empty string.\n",
    "s = input(\"Enter A String :\")\n",
    "l = len(s)\n",
    "if l >= 2:\n",
    "    print(s[0:2]+s[-2:])\n",
    "else:\n",
    "    print(\"empty string\")"
   ]
  },
  {
   "cell_type": "code",
   "execution_count": 9,
   "id": "6600d9b6",
   "metadata": {},
   "outputs": [
    {
     "name": "stdout",
     "output_type": "stream",
     "text": [
      "meter marker\n"
     ]
    }
   ],
   "source": [
    "# Q.12 Write a Python program to get a single string from two given strings, \n",
    "# separated by a space and swap the first two characters of each string. \n",
    "s = \"peter\"\n",
    "t = \"parker\"\n",
    "s1 = s.replace(\"pe\",\"me\")\n",
    "t1 = t.replace(\"pa\",\"ma\")\n",
    "print(s1,t1)\n",
    "\n",
    "\n"
   ]
  },
  {
   "cell_type": "code",
   "execution_count": 2,
   "id": "8bdabfb0",
   "metadata": {},
   "outputs": [
    {
     "name": "stdout",
     "output_type": "stream",
     "text": [
      "Enter A Word : stead\n",
      "steading\n"
     ]
    }
   ],
   "source": [
    "# Q.13 Write a Python program to add 'ing' at the end of a given string (length should be at least 3). \n",
    "# If the given string already ends with 'ing' then add 'ly' instead. \n",
    "# If the string length of the given string is less than 3, leave it unchanged. \n",
    "s = input(\"Enter A Word : \")\n",
    "l = len(s)\n",
    "p1 = \"ing\"\n",
    "p2 = \"ly\"\n",
    "if l >= 3:\n",
    "    if p1 in s:\n",
    "        print(s+p2)\n",
    "    else:\n",
    "        print(s+p1)\n",
    "else:\n",
    "    print(s)\n"
   ]
  },
  {
   "cell_type": "code",
   "execution_count": 11,
   "id": "764a56fe",
   "metadata": {},
   "outputs": [
    {
     "name": "stdout",
     "output_type": "stream",
     "text": [
      "sole\n"
     ]
    }
   ],
   "source": [
    "# Q.14 Write a Python program to remove the characters which have odd index values of a given string.\n",
    "s = \"shoulder\"\n",
    "result = \"\"\n",
    "for i in range(len(s)):\n",
    "    if i % 2 == 0:\n",
    "        result = result + s[i]\n",
    "print(result)\n",
    "    "
   ]
  },
  {
   "cell_type": "code",
   "execution_count": 2,
   "id": "47e6ad63",
   "metadata": {},
   "outputs": [
    {
     "name": "stdout",
     "output_type": "stream",
     "text": [
      "PYTHON\n"
     ]
    }
   ],
   "source": [
    "# Q.15 Write a Python function to convert a given string to all uppercase if it \n",
    "# contains at least 2 uppercase characters in the first 4 characters.\n",
    "string = \"PytHon\"\n",
    "count = 0\n",
    "for letter in string[:4]:\n",
    "    if letter.upper() == letter:\n",
    "        count += 1\n",
    "if count >= 2:\n",
    "    s1=string.upper()\n",
    "    print(s1)\n",
    "else:\n",
    "    print(\"No Two Uppercase Characters detected\")\n",
    "\n",
    "    \n"
   ]
  },
  {
   "cell_type": "code",
   "execution_count": 16,
   "id": "4c1a7119",
   "metadata": {},
   "outputs": [
    {
     "name": "stdout",
     "output_type": "stream",
     "text": [
      "Enter a String :Strongest\n",
      "index of S is 0\n",
      "index of t is 1\n",
      "index of r is 2\n",
      "index of o is 3\n",
      "index of n is 4\n",
      "index of g is 5\n",
      "index of e is 6\n",
      "index of s is 7\n",
      "index of t is 8\n"
     ]
    }
   ],
   "source": [
    "# Q.16 Write a Python program to print the index of the character in a string.\n",
    "# Sample string: w3resource\n",
    "# Expected output:\n",
    "# Current character w position at 0\n",
    "# Current character 3 position at 1\n",
    "# Current character r position at 2\n",
    "\n",
    "string = input(\"Enter a String :\")\n",
    "count = -1\n",
    "for  i in string:\n",
    "    count += 1\n",
    "    print(\"index of\",i,\"is\",count)\n",
    "\n"
   ]
  },
  {
   "cell_type": "code",
   "execution_count": 22,
   "id": "b6b2def0",
   "metadata": {},
   "outputs": [
    {
     "name": "stdout",
     "output_type": "stream",
     "text": [
      "Enter a Phrase :the quick brown fox jumps over the lazy dog\n",
      "Its A Pangram\n"
     ]
    }
   ],
   "source": [
    "# Q.17 Write a Python program to check whether a string contains all letters of the alphabet.\n",
    "sample = input(\"Enter a Phrase :\")\n",
    "s = sample.lower()\n",
    "z = 0\n",
    "for i in s:\n",
    "    if ( 96 < ord(i)>= 122):\n",
    "        z = 1\n",
    "if z == 1:\n",
    "    print(\"Its A Pangram\")\n",
    "else:\n",
    "    print(\"Its Not A Pangram\")\n",
    "        "
   ]
  },
  {
   "cell_type": "code",
   "execution_count": 23,
   "id": "604cec9a",
   "metadata": {},
   "outputs": [
    {
     "name": "stdout",
     "output_type": "stream",
     "text": [
      "Enter a Phrase :hjhdjhfjh\n",
      "Its Not A Pangram\n"
     ]
    }
   ],
   "source": [
    "sample = input(\"Enter a Phrase :\")\n",
    "s = sample.lower()\n",
    "z = 0\n",
    "for i in s:\n",
    "    if ( 96 < ord(i)>= 122):\n",
    "        z = 1\n",
    "if z == 1:\n",
    "    print(\"Its A Pangram\")\n",
    "else:\n",
    "    print(\"Its Not A Pangram\")"
   ]
  },
  {
   "cell_type": "code",
   "execution_count": null,
   "id": "8a12f952",
   "metadata": {},
   "outputs": [],
   "source": []
  }
 ],
 "metadata": {
  "kernelspec": {
   "display_name": "Python 3 (ipykernel)",
   "language": "python",
   "name": "python3"
  },
  "language_info": {
   "codemirror_mode": {
    "name": "ipython",
    "version": 3
   },
   "file_extension": ".py",
   "mimetype": "text/x-python",
   "name": "python",
   "nbconvert_exporter": "python",
   "pygments_lexer": "ipython3",
   "version": "3.9.12"
  }
 },
 "nbformat": 4,
 "nbformat_minor": 5
}
