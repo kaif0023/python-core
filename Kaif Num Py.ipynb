{
 "cells": [
  {
   "cell_type": "markdown",
   "id": "4e785e6c",
   "metadata": {},
   "source": [
    "# Numpy"
   ]
  },
  {
   "cell_type": "markdown",
   "id": "6227448c",
   "metadata": {},
   "source": [
    "## 1-it is a python library/package for mathematical computing and processing multi-dimensional array\n",
    "## 2-it is written in c\n",
    "## 3-it overcomes the problem of running slower algorithms on python by using multidimensional array\n",
    "## 4-executes elementwise operation\n",
    "## 5-performs linear alegbra ,fourier transform or any complex operation on it\n",
    "## 6-core data structure of numpy is nd-array\n"
   ]
  },
  {
   "cell_type": "markdown",
   "id": "e3af4a2d",
   "metadata": {},
   "source": [
    "### 1- normal python coding for dividing two parallel data"
   ]
  },
  {
   "cell_type": "code",
   "execution_count": 2,
   "id": "a7dbef4d",
   "metadata": {},
   "outputs": [
    {
     "data": {
      "text/plain": [
       "[(400, 40), (300, 50), (100, 70), (200, 60)]"
      ]
     },
     "execution_count": 2,
     "metadata": {},
     "output_type": "execute_result"
    }
   ],
   "source": [
    "d=[400,300,100,200]\n",
    "sp=[40,50,70,60]\n",
    "m=list(zip(d,sp))\n",
    "m"
   ]
  },
  {
   "cell_type": "code",
   "execution_count": 6,
   "id": "a931a0c1",
   "metadata": {},
   "outputs": [
    {
     "data": {
      "text/plain": [
       "[[400, 40], [300, 50], [100, 70], [200, 60]]"
      ]
     },
     "execution_count": 6,
     "metadata": {},
     "output_type": "execute_result"
    }
   ],
   "source": [
    "main=[]\n",
    "for i in m:\n",
    "    l1=[]\n",
    "    for j in i:\n",
    "        l1.append(j)\n",
    "    main.append(l1)\n",
    "main\n",
    "        \n",
    "    "
   ]
  },
  {
   "cell_type": "code",
   "execution_count": 9,
   "id": "ad1bd34c",
   "metadata": {},
   "outputs": [
    {
     "name": "stdout",
     "output_type": "stream",
     "text": [
      "[10.0, 6.0, 1.4285714285714286, 3.3333333333333335]\n"
     ]
    }
   ],
   "source": [
    "time=[]\n",
    "for k in main:\n",
    "    time.append(k[0]/k[1])\n",
    "print(time)\n",
    "    "
   ]
  },
  {
   "cell_type": "markdown",
   "id": "7a586f04",
   "metadata": {},
   "source": [
    "### 2 - when we use numpy"
   ]
  },
  {
   "cell_type": "code",
   "execution_count": 10,
   "id": "e87b7dbf",
   "metadata": {},
   "outputs": [
    {
     "data": {
      "text/plain": [
       "array([10.        ,  6.        ,  1.42857143,  3.33333333])"
      ]
     },
     "execution_count": 10,
     "metadata": {},
     "output_type": "execute_result"
    }
   ],
   "source": [
    "import numpy as np\n",
    "d1=np.array([400,300,100,200])\n",
    "sp1=np.array([40,50,70,60])\n",
    "d1/sp1"
   ]
  },
  {
   "cell_type": "markdown",
   "id": "b0550b50",
   "metadata": {},
   "source": [
    "## Array"
   ]
  },
  {
   "cell_type": "markdown",
   "id": "76578d57",
   "metadata": {},
   "source": [
    "## 1 = stores homogenous data\n",
    "## 2 = only in numbers\n",
    "## 3 = fast and efficient\n",
    "## 4 = operates only on homogenous data (only numbers)"
   ]
  },
  {
   "cell_type": "markdown",
   "id": "b0d5036c",
   "metadata": {},
   "source": [
    "# Creating array"
   ]
  },
  {
   "cell_type": "code",
   "execution_count": 14,
   "id": "e738dae7",
   "metadata": {},
   "outputs": [
    {
     "data": {
      "text/plain": [
       "array([1, 2, 3, 4, 5, 6, 7, 8])"
      ]
     },
     "execution_count": 14,
     "metadata": {},
     "output_type": "execute_result"
    }
   ],
   "source": [
    "a = np.array([1,2,3,4,5,6,7,8])\n",
    "a"
   ]
  },
  {
   "cell_type": "code",
   "execution_count": 15,
   "id": "457d3dbf",
   "metadata": {},
   "outputs": [
    {
     "data": {
      "text/plain": [
       "numpy.ndarray"
      ]
     },
     "execution_count": 15,
     "metadata": {},
     "output_type": "execute_result"
    }
   ],
   "source": [
    "type(a)"
   ]
  },
  {
   "cell_type": "code",
   "execution_count": 16,
   "id": "70bd0539",
   "metadata": {},
   "outputs": [
    {
     "data": {
      "text/plain": [
       "dtype('int32')"
      ]
     },
     "execution_count": 16,
     "metadata": {},
     "output_type": "execute_result"
    }
   ],
   "source": [
    "a.dtype"
   ]
  },
  {
   "cell_type": "code",
   "execution_count": 17,
   "id": "13169ef0",
   "metadata": {},
   "outputs": [
    {
     "data": {
      "text/plain": [
       "array([[ 1,  3,  7,  9],\n",
       "       [45, 89, 56, 11]])"
      ]
     },
     "execution_count": 17,
     "metadata": {},
     "output_type": "execute_result"
    }
   ],
   "source": [
    "# 2d array creation\n",
    "a2 = np.array([[1,3,7,9],[45,89,56,11]])\n",
    "a2"
   ]
  },
  {
   "cell_type": "code",
   "execution_count": 22,
   "id": "1a9aee20",
   "metadata": {},
   "outputs": [
    {
     "data": {
      "text/plain": [
       "array([[[ 1,  2,  3,  4],\n",
       "        [ 2,  4,  6,  8]],\n",
       "\n",
       "       [[20, 45, 56, 90],\n",
       "        [45, 78, 90, 45]]])"
      ]
     },
     "execution_count": 22,
     "metadata": {},
     "output_type": "execute_result"
    }
   ],
   "source": [
    "# 3d array creation\n",
    "s = np.array([[[1,2,3,4],[2,4,6,8]],[[20,45,56,90],[45,78,90,45]]])\n",
    "s"
   ]
  },
  {
   "cell_type": "code",
   "execution_count": 19,
   "id": "9480f27f",
   "metadata": {},
   "outputs": [
    {
     "data": {
      "text/plain": [
       "array([1, 3, 5, 7, 9])"
      ]
     },
     "execution_count": 19,
     "metadata": {},
     "output_type": "execute_result"
    }
   ],
   "source": [
    "# creating array from tuple\n",
    "s = np.array((1,3,5,7,9))\n",
    "s"
   ]
  },
  {
   "cell_type": "code",
   "execution_count": 20,
   "id": "19b6937b",
   "metadata": {},
   "outputs": [
    {
     "data": {
      "text/plain": [
       "array('hi hello why', dtype='<U12')"
      ]
     },
     "execution_count": 20,
     "metadata": {},
     "output_type": "execute_result"
    }
   ],
   "source": [
    "# creating array from string\n",
    "s = np.array(\"hi hello why\")\n",
    "s\n",
    "#it is a 0th.darray"
   ]
  },
  {
   "cell_type": "markdown",
   "id": "11db9314",
   "metadata": {},
   "source": [
    "# Important properties \\ attributes of Array:\n",
    "## 1. ndim\n",
    "## 2. shape\n",
    "## 3. size\n",
    "## 4. astype"
   ]
  },
  {
   "cell_type": "code",
   "execution_count": 23,
   "id": "329ad248",
   "metadata": {},
   "outputs": [
    {
     "name": "stdout",
     "output_type": "stream",
     "text": [
      "[20 30 90]\n"
     ]
    }
   ],
   "source": [
    "# single dimensional array \n",
    "a = np.array([20,30,90])\n",
    "print(a)"
   ]
  },
  {
   "cell_type": "markdown",
   "id": "0dbf3c13",
   "metadata": {},
   "source": [
    "## property 1 of array - ndim"
   ]
  },
  {
   "cell_type": "code",
   "execution_count": 24,
   "id": "4073b56a",
   "metadata": {},
   "outputs": [
    {
     "data": {
      "text/plain": [
       "1"
      ]
     },
     "execution_count": 24,
     "metadata": {},
     "output_type": "execute_result"
    }
   ],
   "source": [
    "a.ndim"
   ]
  },
  {
   "cell_type": "code",
   "execution_count": 27,
   "id": "2ae23730",
   "metadata": {},
   "outputs": [
    {
     "name": "stdout",
     "output_type": "stream",
     "text": [
      "[[ 1  2  3]\n",
      " [23 45 60]]\n",
      "\n",
      "2\n"
     ]
    }
   ],
   "source": [
    "# 2d array\n",
    "c = np.array([[1,2,3],[23,45,60]])\n",
    "print(c)\n",
    "print(\"\")\n",
    "print(c.ndim)"
   ]
  },
  {
   "cell_type": "code",
   "execution_count": 28,
   "id": "27a124eb",
   "metadata": {},
   "outputs": [
    {
     "name": "stdout",
     "output_type": "stream",
     "text": [
      "0\n",
      "0\n",
      "1\n",
      "2\n",
      "3\n",
      "4\n",
      "2\n",
      "5\n"
     ]
    }
   ],
   "source": [
    "a = np.array(42)\n",
    "b = np.array([1, 2, 3, 4, 5]) # in  single dimension we can not judge the rows and columns\n",
    "c = np.array([[1, 2, 3,45], [4, 5, 6,7],[3,5,6,7]])\n",
    "d = np.array([[[1, 2, 3], [4, 5, 6]], [[1, 2, 3], [4, 5, 6]]])\n",
    "e=np.array([[[[1, 2, 3], [4, 5, 6]]]])\n",
    "f=np.array([[2,3,4,5]])\n",
    "g=np.array([[[[[20,30]]]]])\n",
    "print(a.ndim)\n",
    "print(np.ndim(a))\n",
    "print(b.ndim)\n",
    "print(c.ndim)\n",
    "print(d.ndim)\n",
    "print(e.ndim)\n",
    "print(f.ndim)\n",
    "print(g.ndim)\n"
   ]
  },
  {
   "cell_type": "code",
   "execution_count": 29,
   "id": "55f114ba",
   "metadata": {},
   "outputs": [
    {
     "data": {
      "text/plain": [
       "array([[[[[1, 2, 3, 4]]]]])"
      ]
     },
     "execution_count": 29,
     "metadata": {},
     "output_type": "execute_result"
    }
   ],
   "source": [
    "a1=np.array([1,2,3,4],ndmin=5)\n",
    "a1"
   ]
  },
  {
   "cell_type": "code",
   "execution_count": 30,
   "id": "05759577",
   "metadata": {},
   "outputs": [
    {
     "data": {
      "text/plain": [
       "array([[[[[[[ 1,  2,  3],\n",
       "            [23, 45, 60]]]]]]])"
      ]
     },
     "execution_count": 30,
     "metadata": {},
     "output_type": "execute_result"
    }
   ],
   "source": [
    "c = np.array([[1,2,3],[23,45,60]],ndmin=7)\n",
    "c"
   ]
  },
  {
   "cell_type": "markdown",
   "id": "d1b5394d",
   "metadata": {},
   "source": [
    "## property of array 2 - shape"
   ]
  },
  {
   "cell_type": "code",
   "execution_count": 32,
   "id": "5b610e5e",
   "metadata": {},
   "outputs": [
    {
     "name": "stdout",
     "output_type": "stream",
     "text": [
      "(4,)\n"
     ]
    }
   ],
   "source": [
    "a1=np.array([1,2,3,4]) ## in 1d shape we cannot judge rows and columns\n",
    "print(a1.shape)"
   ]
  },
  {
   "cell_type": "code",
   "execution_count": 33,
   "id": "5cd51e1b",
   "metadata": {},
   "outputs": [
    {
     "data": {
      "text/plain": [
       "(2, 3)"
      ]
     },
     "execution_count": 33,
     "metadata": {},
     "output_type": "execute_result"
    }
   ],
   "source": [
    "# determining of shape in 2d array\n",
    "c = np.array([[1, 2, 3], [4, 5, 6]])\n",
    "c.shape"
   ]
  },
  {
   "cell_type": "code",
   "execution_count": 34,
   "id": "3ed9c9af",
   "metadata": {},
   "outputs": [
    {
     "data": {
      "text/plain": [
       "(3, 4)"
      ]
     },
     "execution_count": 34,
     "metadata": {},
     "output_type": "execute_result"
    }
   ],
   "source": [
    "c = np.array([[1, 2, 3,45], [4, 5, 6,7],[3,5,6,7]])\n",
    "c.shape"
   ]
  },
  {
   "cell_type": "code",
   "execution_count": 35,
   "id": "6c32ced2",
   "metadata": {},
   "outputs": [
    {
     "data": {
      "text/plain": [
       "(1, 3)"
      ]
     },
     "execution_count": 35,
     "metadata": {},
     "output_type": "execute_result"
    }
   ],
   "source": [
    "c = np.array([[1, 2, 3]])\n",
    "c.shape"
   ]
  },
  {
   "cell_type": "code",
   "execution_count": 36,
   "id": "4404d496",
   "metadata": {},
   "outputs": [
    {
     "data": {
      "text/plain": [
       "(2, 2, 3)"
      ]
     },
     "execution_count": 36,
     "metadata": {},
     "output_type": "execute_result"
    }
   ],
   "source": [
    "d = np.array([[[1, 2, 3], [4, 5, 6]], [[1, 2, 3], [4, 5, 6]]])\n",
    "d.shape"
   ]
  },
  {
   "cell_type": "code",
   "execution_count": 38,
   "id": "78c24438",
   "metadata": {},
   "outputs": [
    {
     "name": "stdout",
     "output_type": "stream",
     "text": [
      "(1, 1, 1, 1, 1, 3, 3)\n",
      "[[[[[[[ 2  3  4]\n",
      "      [45 78 90]\n",
      "      [50 90 89]]]]]]]\n"
     ]
    }
   ],
   "source": [
    "k=np.array([[[[[[[2,3,4],[45,78,90],[50,90,89]]]]]]])\n",
    "print(k.shape)\n",
    "print(k)\n"
   ]
  },
  {
   "cell_type": "code",
   "execution_count": 39,
   "id": "29ef40c1",
   "metadata": {},
   "outputs": [
    {
     "data": {
      "text/plain": [
       "(1, 1, 1, 1, 1, 1, 1, 4)"
      ]
     },
     "execution_count": 39,
     "metadata": {},
     "output_type": "execute_result"
    }
   ],
   "source": [
    "a=np.array([[[[[[[[\"pizza\",\"sweet corn\",\"coffee\",\"lemonade\"]]]]]]]])\n",
    "a.shape\n"
   ]
  },
  {
   "cell_type": "code",
   "execution_count": 2,
   "id": "9a7ea822",
   "metadata": {},
   "outputs": [
    {
     "data": {
      "text/plain": [
       "(2, 4, 2)"
      ]
     },
     "execution_count": 2,
     "metadata": {},
     "output_type": "execute_result"
    }
   ],
   "source": [
    "import numpy as np\n",
    "k = np.array([[[2,3],[2,3],[2,3],[2,3]],[[2,3],[2,3],[2,3],[2,3]]])\n",
    "k.shape"
   ]
  },
  {
   "cell_type": "code",
   "execution_count": 8,
   "id": "93460426",
   "metadata": {},
   "outputs": [
    {
     "name": "stdout",
     "output_type": "stream",
     "text": [
      "[[[[2 3 4]\n",
      "   [3 5 6]\n",
      "   [6 7 8]]]]\n",
      "(1, 1, 3, 3)\n"
     ]
    }
   ],
   "source": [
    "#create a shape odf array 1,1,3,3\n",
    "j = np.array([[[[2,3,4],[3,5,6],[6,7,8]]]])\n",
    "print(j)\n",
    "print(j.shape)"
   ]
  },
  {
   "cell_type": "code",
   "execution_count": 11,
   "id": "70a15f2c",
   "metadata": {},
   "outputs": [
    {
     "data": {
      "text/plain": [
       "5"
      ]
     },
     "execution_count": 11,
     "metadata": {},
     "output_type": "execute_result"
    }
   ],
   "source": [
    "#1,1,3,3,3\n",
    "k = np.array([[[[[2,3,4],[2,3,4],[2,3,4]],[[2,3,4],[2,3,4],[2,3,4]],[[2,3,4],[2,3,4],[2,3,4]]]]])\n",
    "k.shape"
   ]
  },
  {
   "cell_type": "markdown",
   "id": "c1633805",
   "metadata": {},
   "source": [
    "## rank is the same as number of dimension"
   ]
  },
  {
   "cell_type": "code",
   "execution_count": 14,
   "id": "0f9d142e",
   "metadata": {},
   "outputs": [
    {
     "name": "stdout",
     "output_type": "stream",
     "text": [
      "4\n",
      "4\n"
     ]
    }
   ],
   "source": [
    "d = np.array([20,40,70,90])\n",
    "print(np.size(d))\n",
    "print(np.size(d,axis=0))"
   ]
  },
  {
   "cell_type": "code",
   "execution_count": 18,
   "id": "088fe81b",
   "metadata": {},
   "outputs": [
    {
     "name": "stdout",
     "output_type": "stream",
     "text": [
      "8\n",
      "2\n",
      "4\n"
     ]
    }
   ],
   "source": [
    "a = np.array([[1,2,3,4],[4,5,6,7]])\n",
    "print(np.size(a))\n",
    "print(np.size(a,0))\n",
    "print(np.size(a,1))"
   ]
  },
  {
   "cell_type": "code",
   "execution_count": 24,
   "id": "bcb746a5",
   "metadata": {},
   "outputs": [
    {
     "name": "stdout",
     "output_type": "stream",
     "text": [
      "16\n",
      "2\n",
      "2\n",
      "4\n"
     ]
    }
   ],
   "source": [
    "# 3d Array\n",
    "a = np.array([[[1,2,3,4],[4,5,6,7]],[[1,2,3,4],[2,5,3,4]]])\n",
    "print(np.size(a))\n",
    "print(np.size(a,0))\n",
    "print(np.size(a,1))\n",
    "print(np.size(a,2))\n"
   ]
  },
  {
   "cell_type": "markdown",
   "id": "338cd04e",
   "metadata": {},
   "source": [
    "## item size it specifies how much memory does one element is alloted - always shows in bits "
   ]
  },
  {
   "cell_type": "code",
   "execution_count": 26,
   "id": "0eccfce5",
   "metadata": {},
   "outputs": [
    {
     "name": "stdout",
     "output_type": "stream",
     "text": [
      "64\n"
     ]
    }
   ],
   "source": [
    "# item size it always shows in bits\n",
    "print(a.size*a.itemsize)"
   ]
  },
  {
   "cell_type": "markdown",
   "id": "42e212d3",
   "metadata": {},
   "source": [
    "### dtype always in default is float\n"
   ]
  },
  {
   "cell_type": "code",
   "execution_count": 28,
   "id": "a50219e4",
   "metadata": {},
   "outputs": [
    {
     "name": "stdout",
     "output_type": "stream",
     "text": [
      "[[1. 1. 1.]\n",
      " [1. 1. 1.]]\n",
      "float64\n"
     ]
    }
   ],
   "source": [
    "a=np.ones((2,3))\n",
    "print(a)\n",
    "print(a.dtype)"
   ]
  },
  {
   "cell_type": "code",
   "execution_count": 31,
   "id": "db1b4e6d",
   "metadata": {},
   "outputs": [
    {
     "data": {
      "text/plain": [
       "array([[[1.],\n",
       "        [1.],\n",
       "        [1.]],\n",
       "\n",
       "       [[1.],\n",
       "        [1.],\n",
       "        [1.]]])"
      ]
     },
     "execution_count": 31,
     "metadata": {},
     "output_type": "execute_result"
    }
   ],
   "source": [
    "# create an array of shape 2,3,1\n",
    "a=np.ones((2,3,1))\n",
    "a"
   ]
  },
  {
   "cell_type": "markdown",
   "id": "d6d5822e",
   "metadata": {},
   "source": [
    "## astype - conversion of one datatype to another"
   ]
  },
  {
   "cell_type": "code",
   "execution_count": 35,
   "id": "2b159ed3",
   "metadata": {},
   "outputs": [
    {
     "name": "stdout",
     "output_type": "stream",
     "text": [
      "[[[1]\n",
      "  [1]\n",
      "  [1]]\n",
      "\n",
      " [[1]\n",
      "  [1]\n",
      "  [1]]]\n",
      "int32\n"
     ]
    }
   ],
   "source": [
    "a1=a.astype(\"int\")\n",
    "print(a1)\n",
    "print(a1.dtype)"
   ]
  },
  {
   "cell_type": "markdown",
   "id": "eaf98ee9",
   "metadata": {},
   "source": [
    "## arrays are faster then list datatype (coding is short in arrays)\n",
    "## arrays can perform element wise operation while list cannot\n",
    "## arrays take less memory"
   ]
  },
  {
   "cell_type": "code",
   "execution_count": 36,
   "id": "ac35d6b8",
   "metadata": {},
   "outputs": [
    {
     "name": "stdout",
     "output_type": "stream",
     "text": [
      "856\n",
      "4\n",
      "list takes : 85600 bytes\n",
      "array takes :  400 bytes\n"
     ]
    }
   ],
   "source": [
    "\n",
    "import sys\n",
    "l=list(range(100))\n",
    "a=np.arange(100)\n",
    "print(sys.getsizeof(l))\n",
    "print(a.itemsize)\n",
    "print(\"list takes :\",sys.getsizeof(l)*len(l),\"bytes\")  ##ys.getsizeof(l) : size of each element in the list\n",
    "print(\"array takes : \",a.itemsize*a.size,\"bytes\" ) ## itemsize: size of each element in the array.\n"
   ]
  },
  {
   "cell_type": "markdown",
   "id": "7461a1d9",
   "metadata": {},
   "source": [
    "# Array Indexing : in 1D"
   ]
  },
  {
   "cell_type": "code",
   "execution_count": 39,
   "id": "1bc8c64e",
   "metadata": {},
   "outputs": [
    {
     "name": "stdout",
     "output_type": "stream",
     "text": [
      "1\n",
      "[3 4]\n",
      "[2]\n"
     ]
    }
   ],
   "source": [
    "a = np.array([1,2,3,4])\n",
    "print(a[0])\n",
    "print(a[2:])\n",
    "print(a[1:5:3])"
   ]
  },
  {
   "cell_type": "markdown",
   "id": "86136f01",
   "metadata": {},
   "source": [
    "## Array Indexing : In 2D"
   ]
  },
  {
   "cell_type": "code",
   "execution_count": 53,
   "id": "c656173b",
   "metadata": {},
   "outputs": [
    {
     "name": "stdout",
     "output_type": "stream",
     "text": [
      "[2 3 4 5 6]\n",
      "[20 30 40 50 90]\n",
      "40\n",
      "[50 90]\n",
      "[ 3  8 30]\n",
      "[[ 3  6]\n",
      " [ 8 90]\n",
      " [30 90]]\n",
      "[[ 2  5]\n",
      " [20 50]]\n",
      "[[ 2  3  4  5  6]\n",
      " [ 7  8  9  0 90]\n",
      " [20 30 40 50 90]]\n"
     ]
    }
   ],
   "source": [
    "a=np.array([[2,3,4,5,6],[7,8,9,0,90],[20,30,40,50,90]])\n",
    "print(a[0])\n",
    "\n",
    "print(a[-1])\n",
    "\n",
    "print(a[-1][2])\n",
    "\n",
    "print(a[-1][3:])\n",
    "\n",
    "print(a[:,1])\n",
    "\n",
    "print(a[:,1:5:3])\n",
    "\n",
    "print(a[0:3:2,0:4:3])\n",
    "print(a)"
   ]
  },
  {
   "cell_type": "code",
   "execution_count": 52,
   "id": "25f05b00",
   "metadata": {},
   "outputs": [
    {
     "name": "stdout",
     "output_type": "stream",
     "text": [
      "[[ 2  3  4  5  6]\n",
      " [20 30 40 50 90]]\n"
     ]
    }
   ],
   "source": [
    "print(a[0:3:2])"
   ]
  },
  {
   "cell_type": "code",
   "execution_count": 56,
   "id": "02aafc06",
   "metadata": {},
   "outputs": [
    {
     "data": {
      "text/plain": [
       "array([[ 2,  3,  4,  5,  6],\n",
       "       [ 7,  8,  9,  0, 90],\n",
       "       [20, 30, 40, 50, 90]])"
      ]
     },
     "execution_count": 56,
     "metadata": {},
     "output_type": "execute_result"
    }
   ],
   "source": [
    "a"
   ]
  },
  {
   "cell_type": "code",
   "execution_count": 55,
   "id": "656bb066",
   "metadata": {},
   "outputs": [
    {
     "data": {
      "text/plain": [
       "array([[ 8,  9],\n",
       "       [30, 40]])"
      ]
     },
     "execution_count": 55,
     "metadata": {},
     "output_type": "execute_result"
    }
   ],
   "source": [
    "a[1:3,1:3]"
   ]
  },
  {
   "cell_type": "code",
   "execution_count": 57,
   "id": "359042d0",
   "metadata": {},
   "outputs": [
    {
     "name": "stdout",
     "output_type": "stream",
     "text": [
      "[[ 2  3  4  5  6]\n",
      " [ 7  8  9  0 90]\n",
      " [20 30 40 50 90]]\n",
      "[2 3 4 5 6]\n",
      "[ 7  8  9  0 90]\n",
      "[20 30 40 50 90]\n",
      "[20 30 40 50 90]\n",
      "4\n",
      "[ 9  0 90]\n",
      "7\n",
      "[ 4  9 40]\n",
      "[[ 4  5  6]\n",
      " [ 9  0 90]]\n",
      "[9]\n",
      "[[ 4  6]\n",
      " [40 90]]\n",
      "[[ 3  5]\n",
      " [30 50]]\n"
     ]
    }
   ],
   "source": [
    "a=np.array([[2,3,4,5,6],[7,8,9,0,90],[20,30,40,50,90]])  # 2d array  here , \n",
    "print(a)\n",
    "print(a[0]) #or print(a[-3]) means first row\n",
    "print(a[1]) #or print(a[-2]) means second row\n",
    "print(a[2]) #or print(a[-1]) means third row\n",
    "print(a[-1]) # or print(a[2])  means  last row\n",
    "print(a[0][2]) # fetch 4\n",
    "print(a[1][2:]) # 9,0,90\n",
    "print(a[-2][0])  # fetch 7\n",
    "print(a[:,2])  ## all rows with 2nd column  (discontinous manner)\n",
    "print(a[0:2,2:]) ## ist and 2nd rows with columns from 2nd(disconinous manner)\n",
    "print(a[1,2:3])\n",
    "print(a[0:3:2,2:5:2]) ## feth 4,6 40 ,90\n",
    "#print(a[[0,2],[1,3]])\n",
    "print(a[0:3:2,1:4:2]) ## fetch 3, 30 5 and 50\n",
    " \n"
   ]
  },
  {
   "cell_type": "code",
   "execution_count": 66,
   "id": "2fcac965",
   "metadata": {},
   "outputs": [
    {
     "data": {
      "text/plain": [
       "array([[[[[[[['pizza', 'sweet corn', 'coffee', 'lemonade']]]]]]]],\n",
       "      dtype='<U10')"
      ]
     },
     "execution_count": 66,
     "metadata": {},
     "output_type": "execute_result"
    }
   ],
   "source": [
    "a=np.array([[[[[[[[\"pizza\",\"sweet corn\",\"coffee\",\"lemonade\"]]]]]]]])\n",
    "a\n"
   ]
  },
  {
   "cell_type": "code",
   "execution_count": 60,
   "id": "709c47ce",
   "metadata": {},
   "outputs": [
    {
     "name": "stdout",
     "output_type": "stream",
     "text": [
      "['pizza' 'sweet corn' 'coffee' 'lemonade']\n"
     ]
    }
   ],
   "source": [
    "print(a[0][0][0][0][0][0][0])"
   ]
  },
  {
   "cell_type": "code",
   "execution_count": 69,
   "id": "85560fd4",
   "metadata": {},
   "outputs": [
    {
     "name": "stdout",
     "output_type": "stream",
     "text": [
      "['sweet corn' 'coffee' 'lemonade']\n"
     ]
    }
   ],
   "source": [
    "print(a[0][0][0][0][0][0][0][1:])"
   ]
  },
  {
   "cell_type": "code",
   "execution_count": 70,
   "id": "18d213fe",
   "metadata": {},
   "outputs": [
    {
     "data": {
      "text/plain": [
       "array([[[[[ 1,  2,  3, 50],\n",
       "          [ 4,  5,  6, 90],\n",
       "          [ 7,  8,  9, 99],\n",
       "          [11, 12,  3, 98]]]]])"
      ]
     },
     "execution_count": 70,
     "metadata": {},
     "output_type": "execute_result"
    }
   ],
   "source": [
    "a=np.array([[[[[1,2,3,50,],[4,5,6,90],[7,8,9,99],[11,12,3,98]]]]])\n",
    "a"
   ]
  },
  {
   "cell_type": "code",
   "execution_count": 71,
   "id": "78165b07",
   "metadata": {},
   "outputs": [
    {
     "data": {
      "text/plain": [
       "98"
      ]
     },
     "execution_count": 71,
     "metadata": {},
     "output_type": "execute_result"
    }
   ],
   "source": [
    "a[0][0][0][-1][-1]"
   ]
  },
  {
   "cell_type": "code",
   "execution_count": 72,
   "id": "1a3b88fe",
   "metadata": {},
   "outputs": [
    {
     "data": {
      "text/plain": [
       "98"
      ]
     },
     "execution_count": 72,
     "metadata": {},
     "output_type": "execute_result"
    }
   ],
   "source": [
    "a[0][0][0][3][-1]\n"
   ]
  },
  {
   "cell_type": "code",
   "execution_count": 73,
   "id": "eca1cc5a",
   "metadata": {},
   "outputs": [
    {
     "data": {
      "text/plain": [
       "array([[[[ 1,  2,  3,  4,  5],\n",
       "         [ 6,  7,  8,  9,  0],\n",
       "         [11, 12, 13, 14, 15],\n",
       "         [16, 17, 18, 19, 20]]]])"
      ]
     },
     "execution_count": 73,
     "metadata": {},
     "output_type": "execute_result"
    }
   ],
   "source": [
    "a=np.array([[[[1,2,3,4,5],[6,7,8,9,0],[11,12,13,14,15],[16,17,18,19,20]]]])\n",
    "a"
   ]
  },
  {
   "cell_type": "code",
   "execution_count": 74,
   "id": "f8398e36",
   "metadata": {},
   "outputs": [
    {
     "data": {
      "text/plain": [
       "19"
      ]
     },
     "execution_count": 74,
     "metadata": {},
     "output_type": "execute_result"
    }
   ],
   "source": [
    "a[0][0][-1][-2]"
   ]
  },
  {
   "cell_type": "code",
   "execution_count": 76,
   "id": "41c1fc03",
   "metadata": {},
   "outputs": [
    {
     "data": {
      "text/plain": [
       "array([13, 15])"
      ]
     },
     "execution_count": 76,
     "metadata": {},
     "output_type": "execute_result"
    }
   ],
   "source": [
    "a[0][0][2][2:5:2]"
   ]
  },
  {
   "cell_type": "code",
   "execution_count": 2,
   "id": "f6384741",
   "metadata": {},
   "outputs": [
    {
     "data": {
      "text/plain": [
       "array([[[ 1,  2,  3],\n",
       "        [ 4,  5,  6]],\n",
       "\n",
       "       [[ 7,  8,  9],\n",
       "        [10, 11, 12]]])"
      ]
     },
     "execution_count": 2,
     "metadata": {},
     "output_type": "execute_result"
    }
   ],
   "source": [
    "import numpy as np\n",
    "arr = np.array([[[1, 2, 3], [4, 5, 6]], [[7, 8, 9], [10, 11, 12]]])\n",
    "arr"
   ]
  },
  {
   "cell_type": "code",
   "execution_count": 3,
   "id": "09dee977",
   "metadata": {},
   "outputs": [
    {
     "data": {
      "text/plain": [
       "array([7, 8, 9])"
      ]
     },
     "execution_count": 3,
     "metadata": {},
     "output_type": "execute_result"
    }
   ],
   "source": [
    "arr[1][0]"
   ]
  },
  {
   "cell_type": "code",
   "execution_count": 10,
   "id": "a82638d4",
   "metadata": {},
   "outputs": [
    {
     "data": {
      "text/plain": [
       "array([[ 8,  9],\n",
       "       [11, 12]])"
      ]
     },
     "execution_count": 10,
     "metadata": {},
     "output_type": "execute_result"
    }
   ],
   "source": [
    "arr[1][:,1:] # 8,9,11,12 or # 11,12"
   ]
  },
  {
   "cell_type": "markdown",
   "id": "38421538",
   "metadata": {},
   "source": [
    "## Indexing With Boolean (Important From EDA Point OF View"
   ]
  },
  {
   "cell_type": "code",
   "execution_count": 11,
   "id": "a5de4d49",
   "metadata": {},
   "outputs": [
    {
     "data": {
      "text/plain": [
       "array([[ 20,  30,  60],\n",
       "       [ 40,  80,  90],\n",
       "       [ 70,  90, 100]])"
      ]
     },
     "execution_count": 11,
     "metadata": {},
     "output_type": "execute_result"
    }
   ],
   "source": [
    "a=np.array([[20,30,60],[40,80,90],[70,90,100]])\n",
    "a\n"
   ]
  },
  {
   "cell_type": "code",
   "execution_count": 12,
   "id": "9655de28",
   "metadata": {},
   "outputs": [
    {
     "data": {
      "text/plain": [
       "array([[ True,  True, False],\n",
       "       [False, False, False],\n",
       "       [False, False, False]])"
      ]
     },
     "execution_count": 12,
     "metadata": {},
     "output_type": "execute_result"
    }
   ],
   "source": [
    "a<40"
   ]
  },
  {
   "cell_type": "code",
   "execution_count": 14,
   "id": "c3b6e3a3",
   "metadata": {},
   "outputs": [
    {
     "data": {
      "text/plain": [
       "array([[ True,  True, False],\n",
       "       [False, False, False],\n",
       "       [False, False, False]])"
      ]
     },
     "execution_count": 14,
     "metadata": {},
     "output_type": "execute_result"
    }
   ],
   "source": [
    "z=a<40\n",
    "z"
   ]
  },
  {
   "cell_type": "code",
   "execution_count": 16,
   "id": "96a24279",
   "metadata": {},
   "outputs": [
    {
     "name": "stdout",
     "output_type": "stream",
     "text": [
      "[20 30]\n",
      "[20 30]\n"
     ]
    }
   ],
   "source": [
    "print(a[z])\n",
    "# or \n",
    "print(a[a<40])"
   ]
  },
  {
   "cell_type": "code",
   "execution_count": 17,
   "id": "4379c4d5",
   "metadata": {},
   "outputs": [
    {
     "data": {
      "text/plain": [
       "[array([['85', '85', 'Nothing'],\n",
       "        ['Nothing', 'Nothing', 'Nothing'],\n",
       "        ['Nothing', 'Nothing', 'Nothing']], dtype='<U11')]"
      ]
     },
     "execution_count": 17,
     "metadata": {},
     "output_type": "execute_result"
    }
   ],
   "source": [
    "## np.where returns index\n",
    "[np.where(a<40,85,\"Nothing\")]"
   ]
  },
  {
   "cell_type": "code",
   "execution_count": 22,
   "id": "190ed903",
   "metadata": {},
   "outputs": [
    {
     "name": "stdout",
     "output_type": "stream",
     "text": [
      "[ 60  80  90  70  90 100]\n"
     ]
    }
   ],
   "source": [
    "## greater than 40 and also even\n",
    "print(a[(a%2==0)&(a>40)])\n"
   ]
  },
  {
   "cell_type": "code",
   "execution_count": 23,
   "id": "774d1ecc",
   "metadata": {},
   "outputs": [
    {
     "data": {
      "text/plain": [
       "[[[[2, 3, 4, 5], [40, 50, 60, 90]]]]"
      ]
     },
     "execution_count": 23,
     "metadata": {},
     "output_type": "execute_result"
    }
   ],
   "source": [
    "a=[[[[2,3,4,5],[40,50,60,90]]]]\n",
    "a"
   ]
  },
  {
   "cell_type": "code",
   "execution_count": 65,
   "id": "1d324372",
   "metadata": {},
   "outputs": [
    {
     "name": "stdout",
     "output_type": "stream",
     "text": [
      "[ 3 50]\n",
      "[60 90]\n",
      "[ 3 90]\n"
     ]
    }
   ],
   "source": [
    "m=np.array(a)\n",
    "m\n",
    "print(m[0][0][:,1])\n",
    "print(m[0][0][1,2:])\n",
    "print(m[0][0][[0,1],[1,3]])\n"
   ]
  },
  {
   "cell_type": "code",
   "execution_count": null,
   "id": "c89d3c70",
   "metadata": {},
   "outputs": [],
   "source": []
  },
  {
   "cell_type": "code",
   "execution_count": 90,
   "id": "847553fa",
   "metadata": {},
   "outputs": [
    {
     "data": {
      "text/plain": [
       "array([ 4, 60])"
      ]
     },
     "execution_count": 90,
     "metadata": {},
     "output_type": "execute_result"
    }
   ],
   "source": [
    "m[0][0][:,2]"
   ]
  },
  {
   "cell_type": "markdown",
   "id": "a31df882",
   "metadata": {},
   "source": [
    "# How TO fetch Each Element Of Array Using Loop In Order to perform Any # \n",
    "# Logic On Each Element : Using np.nditer\n"
   ]
  },
  {
   "cell_type": "code",
   "execution_count": 94,
   "id": "63360d8b",
   "metadata": {},
   "outputs": [
    {
     "name": "stdout",
     "output_type": "stream",
     "text": [
      "[[2 3 4]\n",
      " [5 6 7]]\n",
      "2\n",
      "3\n",
      "4\n",
      "5\n",
      "6\n",
      "7\n"
     ]
    }
   ],
   "source": [
    "a = np.array([[2,3,4],[5,6,7]])\n",
    "print(a)\n",
    "for i in np.nditer(a):\n",
    "    print(i)"
   ]
  },
  {
   "cell_type": "markdown",
   "id": "f64fab03",
   "metadata": {},
   "source": [
    "## Copy and View"
   ]
  },
  {
   "cell_type": "code",
   "execution_count": 95,
   "id": "8e0d9b05",
   "metadata": {},
   "outputs": [
    {
     "name": "stdout",
     "output_type": "stream",
     "text": [
      "copy... [ 1  2  3 70]\n",
      "Original Array.. [1 2 3 4]\n"
     ]
    }
   ],
   "source": [
    "##   copy\n",
    "a = np.array([1,2,3,4])\n",
    "a1=a.copy() # Deep Copy\n",
    "a1[3]=70\n",
    "print(\"copy...\",a1)\n",
    "print(\"Original Array..\",a)"
   ]
  },
  {
   "cell_type": "code",
   "execution_count": 96,
   "id": "129f4278",
   "metadata": {},
   "outputs": [
    {
     "name": "stdout",
     "output_type": "stream",
     "text": [
      "copy... [ 1  2  3 70]\n",
      "Original Array.. [ 1  2  3 70]\n"
     ]
    }
   ],
   "source": [
    "#  VIew\n",
    "a = np.array([1,2,3,4])\n",
    "a1=a.view() # Deep Copy\n",
    "a1[3]=70\n",
    "print(\"copy...\",a1)\n",
    "print(\"Original Array..\",a)"
   ]
  },
  {
   "cell_type": "code",
   "execution_count": 97,
   "id": "3e7888d5",
   "metadata": {},
   "outputs": [
    {
     "name": "stdout",
     "output_type": "stream",
     "text": [
      "original.. [  1   2 200  70]\n",
      "View Copy.. [  1   2 200  70]\n"
     ]
    }
   ],
   "source": [
    "## Another Example Of View Copy\n",
    "a2=a1 #\n",
    "a2[2]=200\n",
    "print(\"original..\",a1)\n",
    "print(\"View Copy..\",a2)\n"
   ]
  },
  {
   "cell_type": "markdown",
   "id": "8fb00c5f",
   "metadata": {},
   "source": [
    "## Shape Manipulation : Reshape , Resize (Shallow=Reshape,DeepCopy=Resize"
   ]
  },
  {
   "cell_type": "code",
   "execution_count": 98,
   "id": "43280b4e",
   "metadata": {},
   "outputs": [
    {
     "data": {
      "text/plain": [
       "(2, 6)"
      ]
     },
     "execution_count": 98,
     "metadata": {},
     "output_type": "execute_result"
    }
   ],
   "source": [
    "x = np.array([[1,2,3,4,5,6],[7,8,9,10,11,12]])\n",
    "x.shape"
   ]
  },
  {
   "cell_type": "code",
   "execution_count": 105,
   "id": "82d0719d",
   "metadata": {},
   "outputs": [
    {
     "name": "stdout",
     "output_type": "stream",
     "text": [
      "deep copy.. [[ 1  2  3  4  5  6  7  8  9 10 11 12]]\n",
      "original array.. [[ 1  2  3  4  5  6]\n",
      " [ 7  8  9 10 11 12]]\n",
      "Copy 2.. [[ 1  2  3  4]\n",
      " [ 5  6  7  8]\n",
      " [ 9 10 11 12]]\n",
      "Copy 3.. [[ 1  2]\n",
      " [ 3  4]\n",
      " [ 5  6]\n",
      " [ 7  8]\n",
      " [ 9 10]\n",
      " [11 12]]\n"
     ]
    }
   ],
   "source": [
    "\n",
    "# RESHAPE\n",
    "\n",
    "x1=x.reshape(1,12)\n",
    "print(\"deep copy..\",x1)\n",
    "print(\"original array..\",x)\n",
    "x2=x.reshape(3,4)\n",
    "print(\"Copy 2..\",x2)\n",
    "x3=x.reshape(6,2)\n",
    "print(\"Copy 3..\",x3)\n"
   ]
  },
  {
   "cell_type": "code",
   "execution_count": 106,
   "id": "45ddb02e",
   "metadata": {},
   "outputs": [
    {
     "name": "stdout",
     "output_type": "stream",
     "text": [
      "deep copy.. None\n",
      "original array.. [[ 1  2  3  4  5  6  7  8  9 10 11 12]]\n"
     ]
    }
   ],
   "source": [
    "#       Resize\n",
    "x1=x.resize(1,12)\n",
    "print(\"deep copy..\",x1) ## Return None ... Changes Original Data\n",
    "print(\"original array..\",x)\n"
   ]
  },
  {
   "cell_type": "code",
   "execution_count": 109,
   "id": "7f3593d1",
   "metadata": {},
   "outputs": [
    {
     "name": "stdout",
     "output_type": "stream",
     "text": [
      "[[[1 2]\n",
      "  [3 4]]\n",
      "\n",
      " [[5 6]\n",
      "  [7 8]]]\n",
      "[[[1 2]\n",
      "  [3 4]]\n",
      "\n",
      " [[5 6]\n",
      "  [7 8]]]\n"
     ]
    }
   ],
   "source": [
    "arr = np.array([1, 2, 3, 4, 5, 6, 7, 8])\n",
    "newarr= arr.reshape(2,2,-1)\n",
    "newarr1= arr.reshape(-1,2,2)\n",
    "print(newarr)\n",
    "print(newarr1)"
   ]
  },
  {
   "cell_type": "markdown",
   "id": "42d807f2",
   "metadata": {},
   "source": [
    "#  Flatten The Array - Ravel (Shallow Copy),Flatten(Deepcopy)\n",
    "### Flattening The Arrays means Converting Multi-dimensional Arrays Into 1D Arrays.."
   ]
  },
  {
   "cell_type": "code",
   "execution_count": 111,
   "id": "9bd06abc",
   "metadata": {},
   "outputs": [
    {
     "name": "stdout",
     "output_type": "stream",
     "text": [
      "!d .. [1 2 3 4 5 7]\n",
      "2d .. [[1 2 3]\n",
      " [4 5 7]]\n"
     ]
    }
   ],
   "source": [
    "# By USing Reshape\n",
    "\n",
    "arr = np.array([[1,2,3],[4,5,7]])\n",
    "arr1 = arr.ravel()\n",
    "print(\"!d ..\",arr1)\n",
    "print(\"2d ..\",arr)"
   ]
  },
  {
   "cell_type": "code",
   "execution_count": 112,
   "id": "2dd235e3",
   "metadata": {},
   "outputs": [
    {
     "name": "stdout",
     "output_type": "stream",
     "text": [
      "[[  1   2 360]\n",
      " [  4   5   7]] Original\n",
      "[  1   2 360   4   5   7] Deep Copy\n"
     ]
    }
   ],
   "source": [
    "arr1[2]=360\n",
    "print(arr,\"Original\")\n",
    "print(arr1,\"Deep Copy\")"
   ]
  },
  {
   "cell_type": "code",
   "execution_count": 116,
   "id": "a736baab",
   "metadata": {},
   "outputs": [
    {
     "name": "stdout",
     "output_type": "stream",
     "text": [
      "1d .. [1 2 3 4 5 7] Copy\n",
      "2d .. [[1 2 3]\n",
      " [4 5 7]] original\n",
      "[[1 2 3]\n",
      " [4 5 7]] Original\n",
      "[  1   2 360   4   5   7] shallow Copy\n"
     ]
    }
   ],
   "source": [
    "# By Using Flatten\n",
    "\n",
    "arr = np.array([[1,2,3],[4,5,7]])\n",
    "arr1 = arr.flatten()\n",
    "print(\"1d ..\",arr1,\"Copy\")\n",
    "print(\"2d ..\",arr,\"original\")\n",
    "arr1[2]=360\n",
    "print(arr,\"Original\")\n",
    "print(arr1,\"shallow Copy\")"
   ]
  },
  {
   "cell_type": "code",
   "execution_count": 115,
   "id": "1393a21f",
   "metadata": {},
   "outputs": [
    {
     "name": "stdout",
     "output_type": "stream",
     "text": [
      "1d .. [1 2 3 4 5 7] Copy\n",
      "2d .. [[1 2 3]\n",
      " [4 5 7]] original\n"
     ]
    }
   ],
   "source": [
    "# BY Using Reshape -1\n",
    "\n",
    "arr = np.array([[1,2,3],[4,5,7]])\n",
    "arr1 = arr.reshape(-1)\n",
    "print(\"1d ..\",arr1,\"Copy\")\n",
    "print(\"2d ..\",arr,\"original\")\n",
    "arr1[2]=360\n",
    "print(arr,\"Original\")\n",
    "print(arr1,\"Deep Copy\")"
   ]
  },
  {
   "cell_type": "markdown",
   "id": "c84d3923",
   "metadata": {},
   "source": [
    "# Arange - Returns an Arrays Of Consecutive Generated Numbers\n",
    "\n"
   ]
  },
  {
   "cell_type": "code",
   "execution_count": 119,
   "id": "8ac3f552",
   "metadata": {},
   "outputs": [
    {
     "name": "stdout",
     "output_type": "stream",
     "text": [
      "[ 1  2  3  4  5  6  7  8  9 10]\n",
      "[1 3 5 7 9]\n",
      "[ 1.1  1.3  1.5  1.7  1.9  2.1  2.3  2.5  2.7  2.9  3.1  3.3  3.5  3.7\n",
      "  3.9  4.1  4.3  4.5  4.7  4.9  5.1  5.3  5.5  5.7  5.9  6.1  6.3  6.5\n",
      "  6.7  6.9  7.1  7.3  7.5  7.7  7.9  8.1  8.3  8.5  8.7  8.9  9.1  9.3\n",
      "  9.5  9.7  9.9 10.1 10.3 10.5 10.7 10.9 11.1]\n"
     ]
    }
   ],
   "source": [
    "a=np.arange(1,11)\n",
    "print(a)\n",
    "a1=np.arange(1,11,2)\n",
    "print(a1)\n",
    "a2=np.arange(1.1,11.2,0.2)\n",
    "print(a2)\n"
   ]
  },
  {
   "cell_type": "markdown",
   "id": "1c960486",
   "metadata": {},
   "source": [
    "## Line Space "
   ]
  },
  {
   "cell_type": "code",
   "execution_count": 121,
   "id": "8d753c65",
   "metadata": {},
   "outputs": [
    {
     "data": {
      "text/plain": [
       "array([-30.        , -23.33333333, -16.66666667, -10.        ,\n",
       "        -3.33333333,   3.33333333,  10.        ,  16.66666667,\n",
       "        23.33333333,  30.        ])"
      ]
     },
     "execution_count": 121,
     "metadata": {},
     "output_type": "execute_result"
    }
   ],
   "source": [
    "a=np.linspace(-30,30,10) # 10 elemnts Generated # linspace() creates an array of equally spaced 10 elements\n",
    "a"
   ]
  },
  {
   "cell_type": "code",
   "execution_count": 122,
   "id": "aff8d1cd",
   "metadata": {},
   "outputs": [
    {
     "data": {
      "text/plain": [
       "array([-30, -20, -10,   0,  10,  20])"
      ]
     },
     "execution_count": 122,
     "metadata": {},
     "output_type": "execute_result"
    }
   ],
   "source": [
    "a=np.arange(-30,30,10) # 10 elemnts not Generated\n",
    "a"
   ]
  },
  {
   "cell_type": "markdown",
   "id": "0574e158",
   "metadata": {},
   "source": [
    "# LogSpace : Generates Log Value Of Linspace"
   ]
  },
  {
   "cell_type": "code",
   "execution_count": 124,
   "id": "c159abcf",
   "metadata": {},
   "outputs": [
    {
     "data": {
      "text/plain": [
       "array([1.00000000e-30, 4.64158883e-24, 2.15443469e-17, 1.00000000e-10,\n",
       "       4.64158883e-04, 2.15443469e+03, 1.00000000e+10, 4.64158883e+16,\n",
       "       2.15443469e+23, 1.00000000e+30])"
      ]
     },
     "execution_count": 124,
     "metadata": {},
     "output_type": "execute_result"
    }
   ],
   "source": [
    "a=np.logspace(-30,30,10) # Show Log Value of Linspace\n",
    "a"
   ]
  },
  {
   "cell_type": "code",
   "execution_count": 1,
   "id": "5ac37f78",
   "metadata": {},
   "outputs": [
    {
     "data": {
      "text/plain": [
       "[[[[2, 3, 4, 5], [40, 50, 60, 90]]]]"
      ]
     },
     "execution_count": 1,
     "metadata": {},
     "output_type": "execute_result"
    }
   ],
   "source": [
    "a=[[[[2,3,4,5],[40,50,60,90]]]]\n",
    "a"
   ]
  },
  {
   "cell_type": "code",
   "execution_count": 3,
   "id": "024aefdb",
   "metadata": {},
   "outputs": [
    {
     "data": {
      "text/plain": [
       "array([[[[ 2,  3,  4,  5],\n",
       "         [40, 50, 60, 90]]]])"
      ]
     },
     "execution_count": 3,
     "metadata": {},
     "output_type": "execute_result"
    }
   ],
   "source": [
    "import numpy as np\n",
    "a=np.array([[[[2,3,4,5],[40,50,60,90]]]])\n",
    "a"
   ]
  },
  {
   "cell_type": "code",
   "execution_count": 8,
   "id": "9cc70f82",
   "metadata": {},
   "outputs": [
    {
     "name": "stdout",
     "output_type": "stream",
     "text": [
      "[ 3 90]\n"
     ]
    }
   ],
   "source": [
    "print(a[0][0][[0,1],[1,3]])"
   ]
  },
  {
   "cell_type": "code",
   "execution_count": 19,
   "id": "355f6356",
   "metadata": {},
   "outputs": [
    {
     "name": "stdout",
     "output_type": "stream",
     "text": [
      "[ 3  5  7  9 11 13 15 17 19 21 23 25 27 29]\n",
      "[13 15 21 29]\n"
     ]
    }
   ],
   "source": [
    "a=np.arange(3,30,2) #,,13 15 21 29\n",
    "print(a)\n",
    "print(a[[5,6,9,13]])"
   ]
  },
  {
   "cell_type": "markdown",
   "id": "9a831272",
   "metadata": {},
   "source": [
    "# some arrays are used for initialization purpose\n",
    "# 1 np.ones()\n",
    "# 2 np.zeros()\n",
    "# 3 np.empty()"
   ]
  },
  {
   "cell_type": "code",
   "execution_count": 20,
   "id": "00af88b4",
   "metadata": {},
   "outputs": [
    {
     "name": "stdout",
     "output_type": "stream",
     "text": [
      "[[0.00000000e+000 0.00000000e+000 0.00000000e+000 0.00000000e+000]\n",
      " [0.00000000e+000 8.57697961e-321 1.78019082e-306 1.37959740e-306]]\n"
     ]
    }
   ],
   "source": [
    "a = np.empty([2,4])\n",
    "print(a)"
   ]
  },
  {
   "cell_type": "code",
   "execution_count": 24,
   "id": "ad32c1f4",
   "metadata": {},
   "outputs": [
    {
     "data": {
      "text/plain": [
       "array([[551493552,       563,         0]])"
      ]
     },
     "execution_count": 24,
     "metadata": {},
     "output_type": "execute_result"
    }
   ],
   "source": [
    "a = np.empty([1,3],dtype=\"int\")\n",
    "a"
   ]
  },
  {
   "cell_type": "code",
   "execution_count": 23,
   "id": "ff80788d",
   "metadata": {},
   "outputs": [
    {
     "data": {
      "text/plain": [
       "dtype('int32')"
      ]
     },
     "execution_count": 23,
     "metadata": {},
     "output_type": "execute_result"
    }
   ],
   "source": [
    "a.dtype"
   ]
  },
  {
   "cell_type": "code",
   "execution_count": 27,
   "id": "f8460b0d",
   "metadata": {},
   "outputs": [
    {
     "data": {
      "text/plain": [
       "array([[0, 0, 0, 0],\n",
       "       [0, 0, 0, 0],\n",
       "       [0, 0, 0, 0]])"
      ]
     },
     "execution_count": 27,
     "metadata": {},
     "output_type": "execute_result"
    }
   ],
   "source": [
    "a=np.zeros([3,4],dtype=\"int\")\n",
    "a"
   ]
  },
  {
   "cell_type": "code",
   "execution_count": 29,
   "id": "51f28bb3",
   "metadata": {},
   "outputs": [
    {
     "data": {
      "text/plain": [
       "array([[1., 1., 1., 1., 1.]])"
      ]
     },
     "execution_count": 29,
     "metadata": {},
     "output_type": "execute_result"
    }
   ],
   "source": [
    "a=np.ones([1,5])\n",
    "a"
   ]
  },
  {
   "cell_type": "code",
   "execution_count": 37,
   "id": "5500d231",
   "metadata": {},
   "outputs": [
    {
     "data": {
      "text/plain": [
       "array([[ 3, 20,  5,  4],\n",
       "       [ 3,  4, 50,  6],\n",
       "       [ 7,  8,  7,  9]])"
      ]
     },
     "execution_count": 37,
     "metadata": {},
     "output_type": "execute_result"
    }
   ],
   "source": [
    "a1=np.array([[1,2,3,4],[3,4,5,6],[7,8,9,3]])\n",
    "a1\n",
    "\n",
    "a2=np.array([[3,20,5,4],[3,4,50,6],[7,8,7,9]])\n",
    "a2\n"
   ]
  },
  {
   "cell_type": "code",
   "execution_count": 38,
   "id": "5d421367",
   "metadata": {},
   "outputs": [
    {
     "data": {
      "text/plain": [
       "array([[ 4, 22,  8,  8],\n",
       "       [ 6,  8, 55, 12],\n",
       "       [14, 16, 16, 12]])"
      ]
     },
     "execution_count": 38,
     "metadata": {},
     "output_type": "execute_result"
    }
   ],
   "source": [
    "a1+a2"
   ]
  },
  {
   "cell_type": "code",
   "execution_count": 39,
   "id": "cc43bf20",
   "metadata": {},
   "outputs": [
    {
     "data": {
      "text/plain": [
       "array([[  3,  40,  15,  16],\n",
       "       [  9,  16, 250,  36],\n",
       "       [ 49,  64,  63,  27]])"
      ]
     },
     "execution_count": 39,
     "metadata": {},
     "output_type": "execute_result"
    }
   ],
   "source": [
    "a1*a2"
   ]
  },
  {
   "cell_type": "code",
   "execution_count": 40,
   "id": "a7c002c6",
   "metadata": {},
   "outputs": [
    {
     "data": {
      "text/plain": [
       "array([[0.33333333, 0.1       , 0.6       , 1.        ],\n",
       "       [1.        , 1.        , 0.1       , 1.        ],\n",
       "       [1.        , 1.        , 1.28571429, 0.33333333]])"
      ]
     },
     "execution_count": 40,
     "metadata": {},
     "output_type": "execute_result"
    }
   ],
   "source": [
    "a1/a2"
   ]
  },
  {
   "cell_type": "code",
   "execution_count": 41,
   "id": "efb8fcba",
   "metadata": {},
   "outputs": [
    {
     "data": {
      "text/plain": [
       "array([[ True,  True,  True, False],\n",
       "       [False, False,  True, False],\n",
       "       [False, False, False,  True]])"
      ]
     },
     "execution_count": 41,
     "metadata": {},
     "output_type": "execute_result"
    }
   ],
   "source": [
    "a1<a2"
   ]
  },
  {
   "cell_type": "code",
   "execution_count": 44,
   "id": "88a934b3",
   "metadata": {},
   "outputs": [
    {
     "ename": "TypeError",
     "evalue": "'numpy.ndarray' object is not callable",
     "output_type": "error",
     "traceback": [
      "\u001b[1;31m---------------------------------------------------------------------------\u001b[0m",
      "\u001b[1;31mTypeError\u001b[0m                                 Traceback (most recent call last)",
      "Input \u001b[1;32mIn [44]\u001b[0m, in \u001b[0;36m<cell line: 1>\u001b[1;34m()\u001b[0m\n\u001b[1;32m----> 1\u001b[0m [\u001b[43ma\u001b[49m\u001b[43m(\u001b[49m\u001b[43ma1\u001b[49m\u001b[38;5;241;43m<\u001b[39;49m\u001b[43ma2\u001b[49m\u001b[43m)\u001b[49m]\n",
      "\u001b[1;31mTypeError\u001b[0m: 'numpy.ndarray' object is not callable"
     ]
    }
   ],
   "source": [
    "[a1<a2]"
   ]
  },
  {
   "cell_type": "code",
   "execution_count": 45,
   "id": "b4f152c8",
   "metadata": {},
   "outputs": [
    {
     "data": {
      "text/plain": [
       "array([[False, False,  True,  True],\n",
       "       [ True,  True,  True,  True],\n",
       "       [ True,  True,  True,  True]])"
      ]
     },
     "execution_count": 45,
     "metadata": {},
     "output_type": "execute_result"
    }
   ],
   "source": [
    "a1>2"
   ]
  },
  {
   "cell_type": "code",
   "execution_count": 46,
   "id": "e5c51eff",
   "metadata": {},
   "outputs": [
    {
     "data": {
      "text/plain": [
       "[[4, 9, 16, 36]]"
      ]
     },
     "execution_count": 46,
     "metadata": {},
     "output_type": "execute_result"
    }
   ],
   "source": [
    "a1 = [[4,9,16,36]]\n",
    "a1"
   ]
  },
  {
   "cell_type": "code",
   "execution_count": 47,
   "id": "cf7dfdeb",
   "metadata": {},
   "outputs": [
    {
     "data": {
      "text/plain": [
       "array([[2., 3., 4., 6.]])"
      ]
     },
     "execution_count": 47,
     "metadata": {},
     "output_type": "execute_result"
    }
   ],
   "source": [
    "np.sqrt(a1)"
   ]
  },
  {
   "cell_type": "code",
   "execution_count": 48,
   "id": "184a5ce8",
   "metadata": {},
   "outputs": [
    {
     "data": {
      "text/plain": [
       "array([[-0.7568025 ,  0.41211849, -0.28790332, -0.99177885]])"
      ]
     },
     "execution_count": 48,
     "metadata": {},
     "output_type": "execute_result"
    }
   ],
   "source": [
    "np.sin(a1)"
   ]
  },
  {
   "cell_type": "code",
   "execution_count": 49,
   "id": "9b9a54ad",
   "metadata": {},
   "outputs": [
    {
     "data": {
      "text/plain": [
       "2"
      ]
     },
     "execution_count": 49,
     "metadata": {},
     "output_type": "execute_result"
    }
   ],
   "source": [
    "import math\n",
    "a = 2.3\n",
    "math.floor(a)"
   ]
  },
  {
   "cell_type": "code",
   "execution_count": 51,
   "id": "e60e8513",
   "metadata": {},
   "outputs": [
    {
     "data": {
      "text/plain": [
       "-3"
      ]
     },
     "execution_count": 51,
     "metadata": {},
     "output_type": "execute_result"
    }
   ],
   "source": [
    "a = -3.4\n",
    "math.ceil(a)"
   ]
  },
  {
   "cell_type": "code",
   "execution_count": 57,
   "id": "a31a9d04",
   "metadata": {},
   "outputs": [
    {
     "data": {
      "text/plain": [
       "24"
      ]
     },
     "execution_count": 57,
     "metadata": {},
     "output_type": "execute_result"
    }
   ],
   "source": [
    "round(23.56789)"
   ]
  },
  {
   "cell_type": "code",
   "execution_count": 58,
   "id": "e38afb98",
   "metadata": {},
   "outputs": [
    {
     "data": {
      "text/plain": [
       "array([[ 4.,  9., 16., 36.]])"
      ]
     },
     "execution_count": 58,
     "metadata": {},
     "output_type": "execute_result"
    }
   ],
   "source": [
    "np.ceil(a1)"
   ]
  },
  {
   "cell_type": "code",
   "execution_count": 59,
   "id": "006afcfb",
   "metadata": {},
   "outputs": [
    {
     "data": {
      "text/plain": [
       "array([[ 4.,  9., 16., 36.]])"
      ]
     },
     "execution_count": 59,
     "metadata": {},
     "output_type": "execute_result"
    }
   ],
   "source": [
    "np.floor(a1)"
   ]
  },
  {
   "cell_type": "code",
   "execution_count": 60,
   "id": "a36f10a2",
   "metadata": {},
   "outputs": [
    {
     "data": {
      "text/plain": [
       "array([21., -2.,  4.])"
      ]
     },
     "execution_count": 60,
     "metadata": {},
     "output_type": "execute_result"
    }
   ],
   "source": [
    "a1= np.array([20.4,-2.6,3.9])\n",
    "np.ceil(a1)"
   ]
  },
  {
   "cell_type": "code",
   "execution_count": 61,
   "id": "422b0a7b",
   "metadata": {},
   "outputs": [
    {
     "data": {
      "text/plain": [
       "array([20., -3.,  3.])"
      ]
     },
     "execution_count": 61,
     "metadata": {},
     "output_type": "execute_result"
    }
   ],
   "source": [
    "np.floor(a1)"
   ]
  },
  {
   "cell_type": "code",
   "execution_count": 62,
   "id": "4e7b7f61",
   "metadata": {},
   "outputs": [
    {
     "data": {
      "text/plain": [
       "-2.6"
      ]
     },
     "execution_count": 62,
     "metadata": {},
     "output_type": "execute_result"
    }
   ],
   "source": [
    "np.min(a1)"
   ]
  },
  {
   "cell_type": "code",
   "execution_count": 63,
   "id": "6e68c750",
   "metadata": {},
   "outputs": [
    {
     "data": {
      "text/plain": [
       "array([[1, 2, 3, 4],\n",
       "       [3, 4, 5, 6],\n",
       "       [7, 8, 9, 0]])"
      ]
     },
     "execution_count": 63,
     "metadata": {},
     "output_type": "execute_result"
    }
   ],
   "source": [
    "a1=np.array([[1,2,3,4],[3,4,5,6],[7,8,9,0]])\n",
    "a1\n"
   ]
  },
  {
   "cell_type": "code",
   "execution_count": 64,
   "id": "e821e6a1",
   "metadata": {},
   "outputs": [
    {
     "data": {
      "text/plain": [
       "10"
      ]
     },
     "execution_count": 64,
     "metadata": {},
     "output_type": "execute_result"
    }
   ],
   "source": [
    "np.argmax(a1)"
   ]
  },
  {
   "cell_type": "code",
   "execution_count": 65,
   "id": "26e621e1",
   "metadata": {},
   "outputs": [
    {
     "data": {
      "text/plain": [
       "9"
      ]
     },
     "execution_count": 65,
     "metadata": {},
     "output_type": "execute_result"
    }
   ],
   "source": [
    "np.max(a1)"
   ]
  },
  {
   "cell_type": "code",
   "execution_count": 66,
   "id": "502df601",
   "metadata": {},
   "outputs": [
    {
     "data": {
      "text/plain": [
       "array([7, 8, 9, 6])"
      ]
     },
     "execution_count": 66,
     "metadata": {},
     "output_type": "execute_result"
    }
   ],
   "source": [
    "a1.max(axis=0)"
   ]
  },
  {
   "cell_type": "code",
   "execution_count": 67,
   "id": "87497c34",
   "metadata": {},
   "outputs": [
    {
     "data": {
      "text/plain": [
       "array([4, 6, 9])"
      ]
     },
     "execution_count": 67,
     "metadata": {},
     "output_type": "execute_result"
    }
   ],
   "source": [
    "a1.max(axis=1)"
   ]
  },
  {
   "cell_type": "code",
   "execution_count": 68,
   "id": "63e4d4ea",
   "metadata": {},
   "outputs": [
    {
     "data": {
      "text/plain": [
       "array([11, 14, 17, 10])"
      ]
     },
     "execution_count": 68,
     "metadata": {},
     "output_type": "execute_result"
    }
   ],
   "source": [
    "a1.sum(axis=0)"
   ]
  },
  {
   "cell_type": "code",
   "execution_count": 69,
   "id": "399a47e0",
   "metadata": {},
   "outputs": [
    {
     "data": {
      "text/plain": [
       "array([10, 18, 24])"
      ]
     },
     "execution_count": 69,
     "metadata": {},
     "output_type": "execute_result"
    }
   ],
   "source": [
    "a1.sum(axis=1)"
   ]
  },
  {
   "cell_type": "code",
   "execution_count": 73,
   "id": "4724a68f",
   "metadata": {},
   "outputs": [
    {
     "data": {
      "text/plain": [
       "array([[1, 2, 3, 4],\n",
       "       [3, 4, 5, 6],\n",
       "       [0, 7, 8, 9]])"
      ]
     },
     "execution_count": 73,
     "metadata": {},
     "output_type": "execute_result"
    }
   ],
   "source": [
    "np.sort(a1)"
   ]
  },
  {
   "cell_type": "code",
   "execution_count": 74,
   "id": "1d67ef9a",
   "metadata": {},
   "outputs": [
    {
     "data": {
      "text/plain": [
       "array([[0, 2, 3, 4],\n",
       "       [1, 4, 5, 6],\n",
       "       [3, 7, 8, 9]])"
      ]
     },
     "execution_count": 74,
     "metadata": {},
     "output_type": "execute_result"
    }
   ],
   "source": [
    "np.sort(a1,axis=0)"
   ]
  },
  {
   "cell_type": "code",
   "execution_count": 75,
   "id": "a8ac7db2",
   "metadata": {},
   "outputs": [
    {
     "data": {
      "text/plain": [
       "array([[1, 2, 3, 4],\n",
       "       [3, 4, 5, 6],\n",
       "       [0, 7, 8, 9]])"
      ]
     },
     "execution_count": 75,
     "metadata": {},
     "output_type": "execute_result"
    }
   ],
   "source": [
    "np.sort(a1,axis=1)"
   ]
  },
  {
   "cell_type": "markdown",
   "id": "3ea15b6f",
   "metadata": {},
   "source": [
    "## difference between Matrix and Array\n",
    "###  - matrix atmost is 2(dimensional) and Arrays Are N(dimensional)"
   ]
  },
  {
   "cell_type": "code",
   "execution_count": 76,
   "id": "0669157e",
   "metadata": {},
   "outputs": [
    {
     "data": {
      "text/plain": [
       "matrix([[1, 2],\n",
       "        [3, 4]])"
      ]
     },
     "execution_count": 76,
     "metadata": {},
     "output_type": "execute_result"
    }
   ],
   "source": [
    "a=np.mat([[1,2],[3,4]])\n",
    "a"
   ]
  },
  {
   "cell_type": "code",
   "execution_count": 78,
   "id": "77a36243",
   "metadata": {},
   "outputs": [
    {
     "data": {
      "text/plain": [
       "matrix([[1, 2, 3],\n",
       "        [4, 5, 6],\n",
       "        [7, 8, 9]])"
      ]
     },
     "execution_count": 78,
     "metadata": {},
     "output_type": "execute_result"
    }
   ],
   "source": [
    "a= np.mat([[1,2,3],[4,5,6],[7,8,9]])\n",
    "a"
   ]
  },
  {
   "cell_type": "code",
   "execution_count": 80,
   "id": "2d5d6675",
   "metadata": {},
   "outputs": [
    {
     "ename": "ValueError",
     "evalue": "matrix must be 2-dimensional",
     "output_type": "error",
     "traceback": [
      "\u001b[1;31m---------------------------------------------------------------------------\u001b[0m",
      "\u001b[1;31mValueError\u001b[0m                                Traceback (most recent call last)",
      "Input \u001b[1;32mIn [80]\u001b[0m, in \u001b[0;36m<cell line: 1>\u001b[1;34m()\u001b[0m\n\u001b[1;32m----> 1\u001b[0m a\u001b[38;5;241m=\u001b[39m \u001b[43mnp\u001b[49m\u001b[38;5;241;43m.\u001b[39;49m\u001b[43mmat\u001b[49m\u001b[43m(\u001b[49m\u001b[43m[\u001b[49m\u001b[43m[\u001b[49m\u001b[43m[\u001b[49m\u001b[38;5;241;43m1\u001b[39;49m\u001b[43m,\u001b[49m\u001b[38;5;241;43m2\u001b[39;49m\u001b[43m,\u001b[49m\u001b[38;5;241;43m3\u001b[39;49m\u001b[43m]\u001b[49m\u001b[43m,\u001b[49m\u001b[43m[\u001b[49m\u001b[38;5;241;43m4\u001b[39;49m\u001b[43m,\u001b[49m\u001b[38;5;241;43m5\u001b[39;49m\u001b[43m,\u001b[49m\u001b[38;5;241;43m6\u001b[39;49m\u001b[43m]\u001b[49m\u001b[43m,\u001b[49m\u001b[43m[\u001b[49m\u001b[38;5;241;43m7\u001b[39;49m\u001b[43m,\u001b[49m\u001b[38;5;241;43m8\u001b[39;49m\u001b[43m,\u001b[49m\u001b[38;5;241;43m9\u001b[39;49m\u001b[43m]\u001b[49m\u001b[43m]\u001b[49m\u001b[43m]\u001b[49m\u001b[43m)\u001b[49m\n\u001b[0;32m      2\u001b[0m a\n",
      "File \u001b[1;32m~\\anaconda3\\lib\\site-packages\\numpy\\matrixlib\\defmatrix.py:69\u001b[0m, in \u001b[0;36masmatrix\u001b[1;34m(data, dtype)\u001b[0m\n\u001b[0;32m     36\u001b[0m \u001b[38;5;129m@set_module\u001b[39m(\u001b[38;5;124m'\u001b[39m\u001b[38;5;124mnumpy\u001b[39m\u001b[38;5;124m'\u001b[39m)\n\u001b[0;32m     37\u001b[0m \u001b[38;5;28;01mdef\u001b[39;00m \u001b[38;5;21masmatrix\u001b[39m(data, dtype\u001b[38;5;241m=\u001b[39m\u001b[38;5;28;01mNone\u001b[39;00m):\n\u001b[0;32m     38\u001b[0m     \u001b[38;5;124;03m\"\"\"\u001b[39;00m\n\u001b[0;32m     39\u001b[0m \u001b[38;5;124;03m    Interpret the input as a matrix.\u001b[39;00m\n\u001b[0;32m     40\u001b[0m \n\u001b[1;32m   (...)\u001b[0m\n\u001b[0;32m     67\u001b[0m \n\u001b[0;32m     68\u001b[0m \u001b[38;5;124;03m    \"\"\"\u001b[39;00m\n\u001b[1;32m---> 69\u001b[0m     \u001b[38;5;28;01mreturn\u001b[39;00m \u001b[43mmatrix\u001b[49m\u001b[43m(\u001b[49m\u001b[43mdata\u001b[49m\u001b[43m,\u001b[49m\u001b[43m \u001b[49m\u001b[43mdtype\u001b[49m\u001b[38;5;241;43m=\u001b[39;49m\u001b[43mdtype\u001b[49m\u001b[43m,\u001b[49m\u001b[43m \u001b[49m\u001b[43mcopy\u001b[49m\u001b[38;5;241;43m=\u001b[39;49m\u001b[38;5;28;43;01mFalse\u001b[39;49;00m\u001b[43m)\u001b[49m\n",
      "File \u001b[1;32m~\\anaconda3\\lib\\site-packages\\numpy\\matrixlib\\defmatrix.py:149\u001b[0m, in \u001b[0;36mmatrix.__new__\u001b[1;34m(subtype, data, dtype, copy)\u001b[0m\n\u001b[0;32m    147\u001b[0m shape \u001b[38;5;241m=\u001b[39m arr\u001b[38;5;241m.\u001b[39mshape\n\u001b[0;32m    148\u001b[0m \u001b[38;5;28;01mif\u001b[39;00m (ndim \u001b[38;5;241m>\u001b[39m \u001b[38;5;241m2\u001b[39m):\n\u001b[1;32m--> 149\u001b[0m     \u001b[38;5;28;01mraise\u001b[39;00m \u001b[38;5;167;01mValueError\u001b[39;00m(\u001b[38;5;124m\"\u001b[39m\u001b[38;5;124mmatrix must be 2-dimensional\u001b[39m\u001b[38;5;124m\"\u001b[39m)\n\u001b[0;32m    150\u001b[0m \u001b[38;5;28;01melif\u001b[39;00m ndim \u001b[38;5;241m==\u001b[39m \u001b[38;5;241m0\u001b[39m:\n\u001b[0;32m    151\u001b[0m     shape \u001b[38;5;241m=\u001b[39m (\u001b[38;5;241m1\u001b[39m, \u001b[38;5;241m1\u001b[39m)\n",
      "\u001b[1;31mValueError\u001b[0m: matrix must be 2-dimensional"
     ]
    }
   ],
   "source": [
    "a= np.mat([[[1,2,3],[4,5,6],[7,8,9]]])\n",
    "a  ## ValueError(\"matrix must be 2-dimensional\")"
   ]
  },
  {
   "cell_type": "code",
   "execution_count": 81,
   "id": "d0c30427",
   "metadata": {},
   "outputs": [
    {
     "data": {
      "text/plain": [
       "array([[ 3,  8],\n",
       "       [24, 36]])"
      ]
     },
     "execution_count": 81,
     "metadata": {},
     "output_type": "execute_result"
    }
   ],
   "source": [
    "m1=np.array([[1,2],[3,4]])\n",
    "m2=np.array([[3,4],[8,9]])\n",
    "m1*m2 \n"
   ]
  },
  {
   "cell_type": "code",
   "execution_count": 82,
   "id": "7cde081e",
   "metadata": {},
   "outputs": [
    {
     "data": {
      "text/plain": [
       "matrix([[19, 22],\n",
       "        [41, 48]])"
      ]
     },
     "execution_count": 82,
     "metadata": {},
     "output_type": "execute_result"
    }
   ],
   "source": [
    "m1=np.mat([[1,2],[3,4]])\n",
    "m2=np.mat([[3,4],[8,9]])\n",
    "m1*m2 \n"
   ]
  },
  {
   "cell_type": "code",
   "execution_count": 83,
   "id": "93affd72",
   "metadata": {},
   "outputs": [
    {
     "data": {
      "text/plain": [
       "array([[1, 3],\n",
       "       [2, 4]])"
      ]
     },
     "execution_count": 83,
     "metadata": {},
     "output_type": "execute_result"
    }
   ],
   "source": [
    "m1=np.array([[1,2],[3,4]])\n",
    "m1.T"
   ]
  },
  {
   "cell_type": "code",
   "execution_count": 86,
   "id": "4ee7ff35",
   "metadata": {},
   "outputs": [
    {
     "data": {
      "text/plain": [
       "matrix([[1, 3],\n",
       "        [2, 4]])"
      ]
     },
     "execution_count": 86,
     "metadata": {},
     "output_type": "execute_result"
    }
   ],
   "source": [
    "m1=np.mat([[1,2],[3,4]])  ## Transpose- two ways of transposing by using .T or np.transpose\n",
    "m1.T"
   ]
  },
  {
   "cell_type": "code",
   "execution_count": 87,
   "id": "d5c83c63",
   "metadata": {},
   "outputs": [
    {
     "data": {
      "text/plain": [
       "array([[1, 3],\n",
       "       [2, 4]])"
      ]
     },
     "execution_count": 87,
     "metadata": {},
     "output_type": "execute_result"
    }
   ],
   "source": [
    "m1=np.array([[1,2],[3,4]])\n",
    "np.transpose(m1)"
   ]
  },
  {
   "cell_type": "markdown",
   "id": "97bc0f5a",
   "metadata": {},
   "source": [
    "## Trace "
   ]
  },
  {
   "cell_type": "code",
   "execution_count": 88,
   "id": "39153316",
   "metadata": {},
   "outputs": [
    {
     "data": {
      "text/plain": [
       "5"
      ]
     },
     "execution_count": 88,
     "metadata": {},
     "output_type": "execute_result"
    }
   ],
   "source": [
    "np.trace(m1)"
   ]
  },
  {
   "cell_type": "markdown",
   "id": "4cb9f056",
   "metadata": {},
   "source": [
    "## inverse"
   ]
  },
  {
   "cell_type": "code",
   "execution_count": 89,
   "id": "a4a5a1f7",
   "metadata": {},
   "outputs": [
    {
     "name": "stdout",
     "output_type": "stream",
     "text": [
      "(2, 2)\n",
      "(2, 2)\n"
     ]
    },
    {
     "data": {
      "text/plain": [
       "matrix([[-2. ,  1. ],\n",
       "        [ 1.5, -0.5]])"
      ]
     },
     "execution_count": 89,
     "metadata": {},
     "output_type": "execute_result"
    }
   ],
   "source": [
    "a=np.array([[1,2],[3,4]])  \n",
    "d=np.matrix([[1,2],[3,4]])\n",
    "print(a.shape)\n",
    "print(d.shape)\n",
    "np.linalg.inv(d)\n"
   ]
  },
  {
   "cell_type": "markdown",
   "id": "c97efc34",
   "metadata": {},
   "source": [
    "## Broadcasting"
   ]
  },
  {
   "cell_type": "code",
   "execution_count": 92,
   "id": "95a73e5e",
   "metadata": {},
   "outputs": [
    {
     "data": {
      "text/plain": [
       "array([[ 0,  2,  4,  6],\n",
       "       [ 8, 10, 12, 14]])"
      ]
     },
     "execution_count": 92,
     "metadata": {},
     "output_type": "execute_result"
    }
   ],
   "source": [
    "# case 1 When Shape Is Same\n",
    "a = np.arange(8).reshape(2,4)\n",
    "a1 = np.arange(8).reshape(2,4)\n",
    "a+a1\n"
   ]
  },
  {
   "cell_type": "code",
   "execution_count": 94,
   "id": "70206b12",
   "metadata": {},
   "outputs": [
    {
     "data": {
      "text/plain": [
       "array([[ 0,  4,  8],\n",
       "       [12, 16, 20],\n",
       "       [24, 28, 32]])"
      ]
     },
     "execution_count": 94,
     "metadata": {},
     "output_type": "execute_result"
    }
   ],
   "source": [
    "# Case 2 When Shape Is Different \n",
    "a1=np.arange(9).reshape(3,3)\n",
    "a1*4 ## Effect of Broadcast"
   ]
  },
  {
   "cell_type": "code",
   "execution_count": 105,
   "id": "7a16ce9d",
   "metadata": {},
   "outputs": [
    {
     "name": "stdout",
     "output_type": "stream",
     "text": [
      "[[ 0  1  2]\n",
      " [ 3  4  5]\n",
      " [ 6  7  8]\n",
      " [ 9 10 11]]\n",
      "[[0 1 2]\n",
      " [3 4 5]\n",
      " [6 7 8]]\n"
     ]
    },
    {
     "ename": "ValueError",
     "evalue": "operands could not be broadcast together with shapes (3,3) (4,3) ",
     "output_type": "error",
     "traceback": [
      "\u001b[1;31m---------------------------------------------------------------------------\u001b[0m",
      "\u001b[1;31mValueError\u001b[0m                                Traceback (most recent call last)",
      "Input \u001b[1;32mIn [105]\u001b[0m, in \u001b[0;36m<cell line: 6>\u001b[1;34m()\u001b[0m\n\u001b[0;32m      4\u001b[0m \u001b[38;5;28mprint\u001b[39m(a2)\n\u001b[0;32m      5\u001b[0m \u001b[38;5;28mprint\u001b[39m(a1)\n\u001b[1;32m----> 6\u001b[0m \u001b[43ma1\u001b[49m\u001b[38;5;241;43m+\u001b[39;49m\u001b[43ma2\u001b[49m\n",
      "\u001b[1;31mValueError\u001b[0m: operands could not be broadcast together with shapes (3,3) (4,3) "
     ]
    }
   ],
   "source": [
    "# Case 2.2 When shape is different\n",
    "## Conditions Must Be met For  Broadcasting Which Is - One Of The Dimension Is Of Size 1 or It Will raise Error\n",
    "a2= np.arange(12).reshape(4,3)\n",
    "print(a2)\n",
    "print(a1)\n",
    "a1+a2"
   ]
  },
  {
   "cell_type": "code",
   "execution_count": null,
   "id": "575e27a3",
   "metadata": {},
   "outputs": [],
   "source": []
  }
 ],
 "metadata": {
  "kernelspec": {
   "display_name": "Python 3 (ipykernel)",
   "language": "python",
   "name": "python3"
  },
  "language_info": {
   "codemirror_mode": {
    "name": "ipython",
    "version": 3
   },
   "file_extension": ".py",
   "mimetype": "text/x-python",
   "name": "python",
   "nbconvert_exporter": "python",
   "pygments_lexer": "ipython3",
   "version": "3.9.12"
  }
 },
 "nbformat": 4,
 "nbformat_minor": 5
}
