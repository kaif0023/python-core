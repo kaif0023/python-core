{
 "cells": [
  {
   "cell_type": "markdown",
   "id": "04e06990",
   "metadata": {},
   "source": [
    "### Control statments: Branching statements allows us to skip over some statements, execute a series of statements repetitively, or choose between alternate sets of statements to execute.\n",
    "\n",
    "- Condional statements\n",
    "\n",
    "- looping statements"
   ]
  },
  {
   "cell_type": "markdown",
   "id": "fca38f87",
   "metadata": {},
   "source": [
    "### Conditional statements : Decision statements "
   ]
  },
  {
   "cell_type": "markdown",
   "id": "92e1069b",
   "metadata": {},
   "source": [
    "\n",
    "Conditional statements that are used in decision-making:-\n",
    "    \n",
    "1. If the statement\n",
    "\n",
    "2. If else statement\n",
    "\n",
    "3. Nested if statement"
   ]
  },
  {
   "cell_type": "markdown",
   "id": "0187b4c8",
   "metadata": {},
   "source": [
    "1. if statements\n",
    "\n",
    "**syntax:**\n",
    "    \n",
    "if expression\n",
    "\n",
    "       Statement\n",
    "       \n",
    "#### If the condition is true, the statement will be executed."
   ]
  },
  {
   "cell_type": "code",
   "execution_count": 5,
   "id": "02737c89",
   "metadata": {},
   "outputs": [
    {
     "name": "stdout",
     "output_type": "stream",
     "text": [
      "hello\n"
     ]
    }
   ],
   "source": [
    "print(\"hello\")"
   ]
  },
  {
   "cell_type": "code",
   "execution_count": 2,
   "id": "7a6567df",
   "metadata": {},
   "outputs": [],
   "source": [
    "a=2"
   ]
  },
  {
   "cell_type": "code",
   "execution_count": 3,
   "id": "3a4c85cd",
   "metadata": {},
   "outputs": [
    {
     "name": "stdout",
     "output_type": "stream",
     "text": [
      "5 is a positive number.\n",
      "This statement is true.\n"
     ]
    }
   ],
   "source": [
    "num = 5\n",
    "if num > 0:\n",
    "    print(num, \"is a positive number.\")\n",
    "print(\"This statement is true.\")\n"
   ]
  },
  {
   "cell_type": "code",
   "execution_count": 6,
   "id": "1959e176",
   "metadata": {},
   "outputs": [
    {
     "name": "stdout",
     "output_type": "stream",
     "text": [
      "b is greater than a\n"
     ]
    }
   ],
   "source": [
    "## print greater number \n",
    "a = 25\n",
    "b = 170\n",
    "if b > a:\n",
    "    print(\"b is greater than a\")\n"
   ]
  },
  {
   "cell_type": "markdown",
   "id": "bbc8f64b",
   "metadata": {},
   "source": [
    "#### 2. If Else Statement\n",
    "\n",
    "This statement is used when both the true and false parts of a given condition are specified to be executed. \n",
    "\n",
    "if condition :\n",
    "\n",
    "     #Will executes this block if the condition is true\n",
    "     \n",
    "else :\n",
    "\n",
    "    #Will executes this block if the condition is false"
   ]
  },
  {
   "cell_type": "code",
   "execution_count": 7,
   "id": "7dc8e058",
   "metadata": {},
   "outputs": [
    {
     "name": "stdout",
     "output_type": "stream",
     "text": [
      "Positive or Zero\n"
     ]
    }
   ],
   "source": [
    "num = 5\n",
    "if num >= 0:\n",
    "    print(\"Positive or Zero\")\n",
    "else:\n",
    "     print(\"Negative number\")\n"
   ]
  },
  {
   "cell_type": "markdown",
   "id": "e7f626eb",
   "metadata": {},
   "source": [
    "### 3. A Nested IF statement :  It is one in which an If statement is nestled inside another If statement."
   ]
  },
  {
   "cell_type": "markdown",
   "id": "8da3dbb7",
   "metadata": {},
   "source": [
    "**syntax**::\n",
    "if (condition1):\n",
    "\n",
    "    #Executes if condition 1 is true\n",
    "\n",
    "    if (condition 2):\n",
    "\n",
    "          #Executes if condition 2 is true\n",
    "  \n",
    "          #Condition 2 ends here\n",
    "  \n",
    "#Condition 1 ends here"
   ]
  },
  {
   "cell_type": "code",
   "execution_count": null,
   "id": "fbe7efe7",
   "metadata": {},
   "outputs": [],
   "source": [
    "### Wap to take any number from user and print it is postive number , zero and  negative using nested if-else\n",
    "num = 8\n",
    "if num >= 0:\n",
    "    if num == 0:\n",
    "        print(\"zero\")\n",
    "    else:\n",
    "        print(\"Positive number\")\n",
    "else:\n",
    "    print(\"Negative number\")\n"
   ]
  },
  {
   "cell_type": "markdown",
   "id": "c6872d77",
   "metadata": {},
   "source": [
    "### Wap if number is positive then its divisibility by 5"
   ]
  },
  {
   "cell_type": "markdown",
   "id": "63c72e15",
   "metadata": {},
   "source": [
    "### 4.  If…Elif ladder\n",
    "**SYNTAX**:\n",
    "\n",
    "if condition :\n",
    "\n",
    "    Body of if\n",
    "    \n",
    "elif condition :\n",
    "\n",
    "    Body of elif\n",
    "    \n",
    "else: \n",
    "    Body of else"
   ]
  },
  {
   "cell_type": "code",
   "execution_count": null,
   "id": "df97c7c1",
   "metadata": {},
   "outputs": [],
   "source": [
    "num = 7\n",
    "if num > 0:\n",
    "    print(\"Positive number\")\n",
    "elif num == 0:\n",
    "    print(\"Zero\")\n",
    "else:\n",
    "    print(\"Negative number\")\n"
   ]
  },
  {
   "cell_type": "code",
   "execution_count": null,
   "id": "395fc1fd",
   "metadata": {},
   "outputs": [],
   "source": [
    "### 1.Write a program to check whether a person is eligible for voting or not. (accept age from user)\n",
    "### 2.Write a program to check whether a number entered by user is even or odd.\n",
    "### 3.Write a program to check whether a number is divisible by 7 or not.\n",
    "### 4.Write a program to display \"Hello\" if a number entered by user is a multiple of five , otherwise print \"Bye\".\n",
    "### 5. Write a program to calculate the electricity bill (accept number of unit from user) according to the following criteria :\n",
    "             Unit                                                     Price  \n",
    "First 100 units                                               no charge\n",
    "Next 100 units                                              Rs 5 per unit\n",
    "After 200 units                                             Rs 10 per unit\n",
    "\n",
    "\n",
    "(For example if input unit is 350 than total bill amount is Rs2000)\n"
   ]
  },
  {
   "cell_type": "code",
   "execution_count": null,
   "id": "ab3b5cc9",
   "metadata": {},
   "outputs": [],
   "source": [
    "### Write a program to check whether the last digit of a number( entered by user ) is divisible by 3 or not.\n",
    "num=int(input(\"Enter any number\"))\n",
    "ld=num%10\n",
    "if ld%3==0:\n",
    "     print(\"Last digit of number is divisible by 3 \")\n",
    "else:\n",
    "     print(\"Last digit of number is not divisible by 3 \")"
   ]
  },
  {
   "cell_type": "code",
   "execution_count": null,
   "id": "ea788324",
   "metadata": {},
   "outputs": [],
   "source": [
    "#### Wap to display the largest of 2 numbers\n",
    "a=2\n",
    "b=3\n",
    "if a>b:\n",
    "    print(\"a is greater\")\n",
    "elif b>a:\n",
    "    print(\"b is greater\")\n",
    "else:\n",
    "    print(\"a==b\")"
   ]
  },
  {
   "cell_type": "code",
   "execution_count": null,
   "id": "99018753",
   "metadata": {},
   "outputs": [],
   "source": [
    "### Write a program to accept a number from 1 to 7 and display the name of the day like 1 for Sunday , 2 for Monday and so on.\n",
    "### Accept any city from the user and display monument of that city.\n",
    "                  City                                 Monument\n",
    "                  Delhi                               Red Fort\n",
    "                  Agra                                Taj Mahal\n",
    "                  Jaipur                              Jal Mahal\n",
    "#### Wap to display the largest of three numbers\n"
   ]
  },
  {
   "cell_type": "code",
   "execution_count": null,
   "id": "5c00c93a",
   "metadata": {},
   "outputs": [],
   "source": [
    "a=2\n",
    "b=3\n",
    "c=3\n",
    "if a>b and a>c:\n",
    "    print(\"a is greater\")\n",
    "elif a==b and a>c:\n",
    "    print(\"a and b both are greater\")\n",
    "elif a==c and a>b:\n",
    "    print(\"a and c both are greater\")\n",
    "elif b>c and b>a:\n",
    "    print(\"b is greater\")\n",
    "elif b==c and b>a:\n",
    "    print(\"c and b both are greater\")\n",
    "else:\n",
    "    print(\"c is greater\")"
   ]
  },
  {
   "cell_type": "markdown",
   "id": "1a5de665",
   "metadata": {},
   "source": [
    "#### Write a program to whether a number (accepted from user) is divisible by 5 and 7 both or either by 5 or 7."
   ]
  },
  {
   "cell_type": "code",
   "execution_count": null,
   "id": "46d199c7",
   "metadata": {},
   "outputs": [],
   "source": [
    "a=int(input(\"enter the number\"))\n",
    "if (a%5==0 and a%7==0):\n",
    "    print(a,\"is divisble by 5 and 7 both\")\n",
    "elif a%5==0:\n",
    "    print(a,\"is divisble by 5 \")\n",
    "elif a%7==0:\n",
    "    print(a,\"is divisble  7 \")\n",
    "else:\n",
    "    print(\"not divisble by neither of them\")"
   ]
  },
  {
   "cell_type": "markdown",
   "id": "7fae5252",
   "metadata": {},
   "source": [
    "Write the output of the following if a = 9\n",
    "        \n",
    "    if (a > 5 and a <=10):    \n",
    "         print(\"Hello\")    \n",
    "    else:    \n",
    "        print(\"Bye\")"
   ]
  },
  {
   "cell_type": "markdown",
   "id": "85baab13",
   "metadata": {},
   "source": [
    "I want to play cricket :\n",
    "weather conditions should be :\n",
    "sunny , windy \n",
    "but not stormy or rainy \n"
   ]
  },
  {
   "cell_type": "code",
   "execution_count": null,
   "id": "f982a1d4",
   "metadata": {},
   "outputs": [],
   "source": [
    "w=input(\"Enter the weather outside :  \\n \")\n",
    "if w==\"rainy\":\n",
    "    print(\"wait\")\n",
    "elif w==\"cold\":\n",
    "    print(\"switch on the blower\")\n",
    "elif w==\"sunny\":\n",
    "    print(\"will move outside\")\n",
    "else:\n",
    "    print(\"none of the above is true and so I am getting executed\")"
   ]
  },
  {
   "cell_type": "code",
   "execution_count": null,
   "id": "472abdbf",
   "metadata": {},
   "outputs": [],
   "source": [
    "'''Write a prog to take input from the user regarding the weight and height of\n",
    "a person and calculate the BMI of the person and print it and also display weather the person\n",
    "is under weight, normal, overweight and obese'''\n",
    "\n",
    "weight=input(\"enter the value of weight :   \")\n",
    "height=input(\"enter the value of height in meters : \")\n",
    "weight=float(weight)\n",
    "height=float(height)\n",
    "BMI= weight/(height**2)\n",
    "BMI=round(BMI,2)\n",
    "print(\"the value of BMI is :\", BMI)\n",
    "if (0<=BMI and BMI<=16):\n",
    "    print(\"under weight\")\n",
    "elif (16<BMI and BMI<=20):\n",
    "    print(\"normal\")\n",
    "elif (20<BMI and BMI<=25):\n",
    "    print(\"over weight\")\n",
    "\n",
    "else:\n",
    "    print(\"OBESE\")\n",
    "\n",
    "    \n",
    "    \n"
   ]
  },
  {
   "cell_type": "code",
   "execution_count": null,
   "id": "8eb26988",
   "metadata": {},
   "outputs": [],
   "source": [
    "'''Write a program to print the grades of student based on their marks'''\n",
    "marks=input(\"enter the marks of student : \\n \")\n",
    "marks=int(marks)\n",
    "if (marks<50):\n",
    "    print(\"fail\")\n",
    "elif (marks>=50 and marks<=60):\n",
    "    print(\"D\")\n",
    "elif (marks>60 and marks<=70):\n",
    "    print(\"C\")\n",
    "elif (marks>70 and marks<=80):\n",
    "    print(\"B\")\n",
    "elif (marks>80 and marks<=90):\n",
    "    print(\"A\")\n",
    "elif (marks>90 and marks<=100):\n",
    "    print(\"A+\")\n",
    "else:\n",
    "    print(\"marks value is not correct\")\n",
    "    "
   ]
  },
  {
   "cell_type": "code",
   "execution_count": null,
   "id": "f20217e2",
   "metadata": {},
   "outputs": [],
   "source": [
    "'''WAP: For PM election , whether is person is eligible for PM or not :\n",
    "  eligibilty criteria as :\n",
    "   1: No of criminal cases = 0\n",
    "   2. Age>45\n",
    "   3. past experince as CM'''\n",
    "nc= int(input(\"enter the no of criminal cases:  \"))\n",
    "age=int(input(\"enter the age :   \"))\n",
    "exper= (input(\"whether you worked as CM : type Yes OR No  \"))\n",
    "\n",
    "if (nc==0 and age>45 and exper==\"yes\"):\n",
    "    print(\"you are eligible for PM\")\n",
    "else:\n",
    "    print(\"not eligible for PM \")"
   ]
  },
  {
   "cell_type": "code",
   "execution_count": 1,
   "id": "80bc3a3e",
   "metadata": {},
   "outputs": [
    {
     "name": "stdout",
     "output_type": "stream",
     "text": [
      "enter your idkaif\n",
      "enter the password12345\n",
      "credentials are not valid\n",
      "hint:  \n",
      " id :   XXXXXXX781  \n",
      " passoword is :  XXXXXXnk9\n",
      "enter your id kaif\n",
      "enter the password12345\n",
      " worng details : tried too many times\n"
     ]
    }
   ],
   "source": [
    "#WAP to check the validity of user based on his id and passowrd\n",
    "id=\"5678890781\"\n",
    "password=\"abchj8hnk9\"\n",
    "id1=input(\"enter your id\")\n",
    "pass1=input(\"enter the password\")\n",
    "if (id1==id and pass1==password):\n",
    "    print(\"use is valid\")\n",
    "else:\n",
    "    print(\"credentials are not valid\")\n",
    "    print(\"hint:  \\n id :   XXXXXXX781  \\n passoword is :  XXXXXXnk9\")\n",
    "    id1=input(\"enter your id \")\n",
    "    pass1=input(\"enter the password\")\n",
    "    if (id1==id and pass1==password):\n",
    "        print(\"use is valid\")\n",
    "    else:\n",
    "        print(\" worng details : tried too many times\")\n",
    "    \n",
    "    \n",
    "    \n",
    "\n",
    " "
   ]
  },
  {
   "cell_type": "code",
   "execution_count": null,
   "id": "5dcd1112",
   "metadata": {},
   "outputs": [],
   "source": []
  }
 ],
 "metadata": {
  "kernelspec": {
   "display_name": "Python 3 (ipykernel)",
   "language": "python",
   "name": "python3"
  },
  "language_info": {
   "codemirror_mode": {
    "name": "ipython",
    "version": 3
   },
   "file_extension": ".py",
   "mimetype": "text/x-python",
   "name": "python",
   "nbconvert_exporter": "python",
   "pygments_lexer": "ipython3",
   "version": "3.9.12"
  }
 },
 "nbformat": 4,
 "nbformat_minor": 5
}
