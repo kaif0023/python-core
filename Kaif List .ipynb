{
 "cells": [
  {
   "cell_type": "code",
   "execution_count": null,
   "id": "9a986a44",
   "metadata": {},
   "outputs": [],
   "source": [
    "l = []\n",
    "print(l)"
   ]
  },
  {
   "cell_type": "code",
   "execution_count": 23,
   "id": "ad64bdb5",
   "metadata": {},
   "outputs": [
    {
     "name": "stdout",
     "output_type": "stream",
     "text": [
      "[1, 2, 4, 6, 7, 'hello']\n"
     ]
    },
    {
     "data": {
      "text/plain": [
       "str"
      ]
     },
     "execution_count": 23,
     "metadata": {},
     "output_type": "execute_result"
    }
   ],
   "source": [
    "l = [1,2,4,6,7,\"hello\"]\n",
    "print(l)\n",
    "type(l[5])"
   ]
  },
  {
   "cell_type": "code",
   "execution_count": 20,
   "id": "614e0d14",
   "metadata": {},
   "outputs": [
    {
     "name": "stdout",
     "output_type": "stream",
     "text": [
      "[1, 2, 4, 6, 7, 7.8, 'hello']\n"
     ]
    }
   ],
   "source": [
    "l = [1,2,4,6,7,7.8,\"hello\"]\n",
    "print(l)\n"
   ]
  },
  {
   "cell_type": "code",
   "execution_count": null,
   "id": "5bff9b04",
   "metadata": {},
   "outputs": [],
   "source": [
    "l = [\"aman\",2,[34,56,78],\"m\"]\n",
    "print(l)\n",
    "l[2][2]"
   ]
  },
  {
   "cell_type": "code",
   "execution_count": 2,
   "id": "146dd917",
   "metadata": {},
   "outputs": [
    {
     "name": "stdout",
     "output_type": "stream",
     "text": [
      "[[1, 2, 3], [4, 5, 6]]\n"
     ]
    },
    {
     "ename": "TypeError",
     "evalue": "can't multiply sequence by non-int of type 'list'",
     "output_type": "error",
     "traceback": [
      "\u001b[1;31m---------------------------------------------------------------------------\u001b[0m",
      "\u001b[1;31mTypeError\u001b[0m                                 Traceback (most recent call last)",
      "Input \u001b[1;32mIn [2]\u001b[0m, in \u001b[0;36m<cell line: 7>\u001b[1;34m()\u001b[0m\n\u001b[0;32m      6\u001b[0m l[\u001b[38;5;241m1\u001b[39m][\u001b[38;5;241m2\u001b[39m]\n\u001b[0;32m      7\u001b[0m \u001b[38;5;28;01mfor\u001b[39;00m i \u001b[38;5;129;01min\u001b[39;00m l:\n\u001b[1;32m----> 8\u001b[0m     l[i]\u001b[38;5;241m=\u001b[39m \u001b[43mi\u001b[49m\u001b[38;5;241;43m*\u001b[39;49m\u001b[43mi\u001b[49m\n\u001b[0;32m      9\u001b[0m l\n",
      "\u001b[1;31mTypeError\u001b[0m: can't multiply sequence by non-int of type 'list'"
     ]
    }
   ],
   "source": [
    "# Nested List\n",
    "l = [[1,2,3],[4,5,6]]\n",
    "print(l)\n",
    "l[0]\n",
    "l[1]\n",
    "l[1][2]\n",
    "for i in l:\n",
    "    l[i]= i*i\n",
    "l\n"
   ]
  },
  {
   "cell_type": "code",
   "execution_count": null,
   "id": "2ee4cfd9",
   "metadata": {},
   "outputs": [],
   "source": [
    "# 3d \n",
    "l = [[[1,2,3],[4,5,6]],[[45,23],[76,79]]]\n",
    "l[0][1][2]"
   ]
  },
  {
   "cell_type": "code",
   "execution_count": 5,
   "id": "634c701c",
   "metadata": {},
   "outputs": [
    {
     "data": {
      "text/plain": [
       "[34, 56]"
      ]
     },
     "execution_count": 5,
     "metadata": {},
     "output_type": "execute_result"
    }
   ],
   "source": [
    "# Slicing of list\n",
    "l = [1,2,4,6,7,7.8,\"hello\",[34,56,45,78]]\n",
    "l[7][0:2]"
   ]
  },
  {
   "cell_type": "code",
   "execution_count": null,
   "id": "52b0c5f5",
   "metadata": {},
   "outputs": [],
   "source": [
    "# Mutablity\n",
    "l = [1,2,4,6,7,7.8,\"hello\",[34,56,45,78]]\n",
    "l[1:3]=[78,11]\n",
    "print(l)\n"
   ]
  },
  {
   "cell_type": "code",
   "execution_count": 7,
   "id": "be59ac60",
   "metadata": {},
   "outputs": [
    {
     "ename": "IndexError",
     "evalue": "list assignment index out of range",
     "output_type": "error",
     "traceback": [
      "\u001b[1;31m---------------------------------------------------------------------------\u001b[0m",
      "\u001b[1;31mIndexError\u001b[0m                                Traceback (most recent call last)",
      "Input \u001b[1;32mIn [7]\u001b[0m, in \u001b[0;36m<cell line: 5>\u001b[1;34m()\u001b[0m\n\u001b[0;32m      4\u001b[0m l\n\u001b[0;32m      5\u001b[0m \u001b[38;5;28;01mfor\u001b[39;00m i \u001b[38;5;129;01min\u001b[39;00m \u001b[38;5;28mrange\u001b[39m(\u001b[38;5;241m1\u001b[39m,\u001b[38;5;241m6\u001b[39m):\n\u001b[1;32m----> 6\u001b[0m     l[i]\u001b[38;5;241m=\u001b[39m i\u001b[38;5;241m*\u001b[39mi\n\u001b[0;32m      7\u001b[0m \u001b[38;5;28mprint\u001b[39m(l)\n",
      "\u001b[1;31mIndexError\u001b[0m: list assignment index out of range"
     ]
    }
   ],
   "source": [
    "# adding elements to list\n",
    "# using append\n",
    "l = []\n",
    "l\n",
    "for i in range(1,6):\n",
    "    z= i*i\n",
    "print(l)\n"
   ]
  },
  {
   "cell_type": "code",
   "execution_count": 1,
   "id": "ec8792ef",
   "metadata": {},
   "outputs": [
    {
     "data": {
      "text/plain": [
       "[1, 2, 3, 4, 5, 'hello']"
      ]
     },
     "execution_count": 1,
     "metadata": {},
     "output_type": "execute_result"
    }
   ],
   "source": [
    "l = [1,2,3,4,5]\n",
    "l.append(\"hello\")\n",
    "l"
   ]
  },
  {
   "cell_type": "code",
   "execution_count": 2,
   "id": "07d7ee23",
   "metadata": {},
   "outputs": [
    {
     "data": {
      "text/plain": [
       "[1, 2, 3, 4, 5, 45, 56, 80]"
      ]
     },
     "execution_count": 2,
     "metadata": {},
     "output_type": "execute_result"
    }
   ],
   "source": [
    "# Extend\n",
    "l = [1,2,3,4,5]\n",
    "l2 = [45,56,80]\n",
    "l.extend(l2)\n",
    "l"
   ]
  },
  {
   "cell_type": "code",
   "execution_count": null,
   "id": "2dcb6551",
   "metadata": {},
   "outputs": [],
   "source": [
    "start = int(input(\"Enter The Number\"))\n",
    "end = int(input(\"Enter The Number\"))\n",
    "l = []\n",
    "for i in range(start,end + 1):\n",
    "    l.append(i)\n",
    "print(l)\n",
    "\n",
    "    "
   ]
  },
  {
   "cell_type": "code",
   "execution_count": null,
   "id": "81ff1383",
   "metadata": {},
   "outputs": [],
   "source": [
    "# adding elements at desired\n",
    "l = [1,2,3,4,5]\n",
    "l.insert(2,\"hello\")\n",
    "l"
   ]
  },
  {
   "cell_type": "code",
   "execution_count": 1,
   "id": "594ca019",
   "metadata": {},
   "outputs": [
    {
     "data": {
      "text/plain": [
       "[1, 2, 3, 5]"
      ]
     },
     "execution_count": 1,
     "metadata": {},
     "output_type": "execute_result"
    }
   ],
   "source": [
    "# Deleting Elements of list\n",
    "l = [1,2,3,4,5]\n",
    "del l[3]\n",
    "l"
   ]
  },
  {
   "cell_type": "code",
   "execution_count": null,
   "id": "66ec52ad",
   "metadata": {},
   "outputs": [],
   "source": [
    "# deleting whole list\n",
    "l = [1,2,3,4,5]\n",
    "del l\n"
   ]
  },
  {
   "cell_type": "code",
   "execution_count": null,
   "id": "556922ed",
   "metadata": {},
   "outputs": [],
   "source": [
    "# deleting Using Pop\n",
    "l = [1,2,3,4,5]\n",
    "l.pop()"
   ]
  },
  {
   "cell_type": "code",
   "execution_count": null,
   "id": "4805e2e9",
   "metadata": {},
   "outputs": [],
   "source": [
    "l"
   ]
  },
  {
   "cell_type": "code",
   "execution_count": null,
   "id": "f8522d96",
   "metadata": {},
   "outputs": [],
   "source": [
    "l.pop()"
   ]
  },
  {
   "cell_type": "code",
   "execution_count": null,
   "id": "b73f389b",
   "metadata": {},
   "outputs": [],
   "source": [
    "l"
   ]
  },
  {
   "cell_type": "code",
   "execution_count": 4,
   "id": "82cbc6e6",
   "metadata": {},
   "outputs": [
    {
     "name": "stdout",
     "output_type": "stream",
     "text": [
      "[1, 2, 3, 4, 5, 7, 9]\n",
      "[1, 2, 3, 4, 5, 7]\n",
      "[1, 2, 3, 4, 5]\n",
      "[1, 2, 3, 4]\n",
      "[1, 2, 3]\n",
      "[1, 2]\n"
     ]
    }
   ],
   "source": [
    "l = [1,2,3,4,5,7,9,11]\n",
    "for i in range(1,7):\n",
    "    l.pop()\n",
    "    print(l)"
   ]
  },
  {
   "cell_type": "code",
   "execution_count": null,
   "id": "a9600c5f",
   "metadata": {},
   "outputs": [],
   "source": [
    "# Deleting Using l.Remove\n",
    "l = [1,2,3,4,5,7,9,11]\n",
    "l.remove(4)\n",
    "l"
   ]
  },
  {
   "cell_type": "code",
   "execution_count": null,
   "id": "4b72cb18",
   "metadata": {},
   "outputs": [],
   "source": [
    "# If Element is not Present It Shows Error\n",
    "l = [1,2,3,4,5,7,9,11]\n",
    "l.remove(\"k\")\n",
    "l"
   ]
  },
  {
   "cell_type": "code",
   "execution_count": null,
   "id": "4fbf09f5",
   "metadata": {},
   "outputs": [],
   "source": [
    "# If WE Want to EMpty the list elememst\n",
    "# We Use Clear\n",
    "l = [1,2,3,4,5,7,9,11]\n",
    "l.clear()\n",
    "l"
   ]
  },
  {
   "cell_type": "code",
   "execution_count": null,
   "id": "ae10e9ea",
   "metadata": {},
   "outputs": [],
   "source": [
    "# Comncataenate\n",
    "l = [1,2,3,4,5,7,9,11] + [23,56,22]\n",
    "l"
   ]
  },
  {
   "cell_type": "code",
   "execution_count": null,
   "id": "ebd0b289",
   "metadata": {},
   "outputs": [],
   "source": [
    "l = [1,2,3,4,5,7,9,11]*4\n",
    "print(l)"
   ]
  },
  {
   "cell_type": "code",
   "execution_count": null,
   "id": "59af2ca5",
   "metadata": {},
   "outputs": [],
   "source": [
    "l1 = [1,2,3,4,[5,7,9,11]]\n",
    "[[11]] in l1\n",
    "    "
   ]
  },
  {
   "cell_type": "code",
   "execution_count": null,
   "id": "4fa735e8",
   "metadata": {},
   "outputs": [],
   "source": [
    "#Take user input in both\n",
    "# write a program to display all the eeven numbers in new list\n",
    "# write a program to display the list which contains the type of elements in list\n",
    "\n",
    "start = int(input(\"Enter Starting Number\"))\n",
    "end = int(input(\"Enter Ending Number\"))\n",
    "l = []\n",
    "evenlist=[]\n",
    "oddlist = []\n",
    "for i in range(start,end + 1):\n",
    "    l.append(i)\n",
    "    if i % 2 == 0:\n",
    "        evenlist.append(i)\n",
    "    else:\n",
    "        oddlist.append(i)\n",
    "\n",
    "print(l)\n",
    "print(evenlist)\n",
    "print(oddlist)\n",
    "    \n"
   ]
  },
  {
   "cell_type": "code",
   "execution_count": 2,
   "id": "56752f1b",
   "metadata": {},
   "outputs": [
    {
     "name": "stdout",
     "output_type": "stream",
     "text": [
      "Enter A String or Number: jell\n",
      "['jell']\n"
     ]
    }
   ],
   "source": [
    "l = []\n",
    "x = input(\"Enter A String or Number: \")\n",
    "\n",
    "l.append(x)\n",
    "print(l)\n",
    "for i in l:\n",
    "    type(x[0])"
   ]
  },
  {
   "cell_type": "code",
   "execution_count": 3,
   "id": "936d6598",
   "metadata": {},
   "outputs": [
    {
     "data": {
      "text/plain": [
       "4"
      ]
     },
     "execution_count": 3,
     "metadata": {},
     "output_type": "execute_result"
    }
   ],
   "source": [
    "l = [1,34,56,78]\n",
    "len(l)"
   ]
  },
  {
   "cell_type": "code",
   "execution_count": 4,
   "id": "8509d1d8",
   "metadata": {},
   "outputs": [
    {
     "data": {
      "text/plain": [
       "1"
      ]
     },
     "execution_count": 4,
     "metadata": {},
     "output_type": "execute_result"
    }
   ],
   "source": [
    "l = [1,34,56,78]\n",
    "min(l)"
   ]
  },
  {
   "cell_type": "code",
   "execution_count": 5,
   "id": "af0ffab6",
   "metadata": {},
   "outputs": [
    {
     "data": {
      "text/plain": [
       "78"
      ]
     },
     "execution_count": 5,
     "metadata": {},
     "output_type": "execute_result"
    }
   ],
   "source": [
    "l = [1,34,56,78]\n",
    "max(l)"
   ]
  },
  {
   "cell_type": "code",
   "execution_count": 6,
   "id": "03d465b5",
   "metadata": {},
   "outputs": [
    {
     "data": {
      "text/plain": [
       "'i'"
      ]
     },
     "execution_count": 6,
     "metadata": {},
     "output_type": "execute_result"
    }
   ],
   "source": [
    "s = \"Kaif\"\n",
    "max(s)"
   ]
  },
  {
   "cell_type": "code",
   "execution_count": 7,
   "id": "eb4c572e",
   "metadata": {},
   "outputs": [
    {
     "data": {
      "text/plain": [
       "['t', 't', 't', 'r', 'c', 'b', 'a', 'a', 'a']"
      ]
     },
     "execution_count": 7,
     "metadata": {},
     "output_type": "execute_result"
    }
   ],
   "source": [
    "s = \"catbatrat\"\n",
    "sorted(s,reverse=True)"
   ]
  },
  {
   "cell_type": "code",
   "execution_count": 9,
   "id": "c84e7c16",
   "metadata": {},
   "outputs": [
    {
     "data": {
      "text/plain": [
       "[1, 56, 78, 84]"
      ]
     },
     "execution_count": 9,
     "metadata": {},
     "output_type": "execute_result"
    }
   ],
   "source": [
    "l = [1,84,56,78]\n",
    "l.sort()\n",
    "l"
   ]
  },
  {
   "cell_type": "code",
   "execution_count": null,
   "id": "b797b91f",
   "metadata": {},
   "outputs": [],
   "source": [
    "l = [\"aabbcc\",\"hello\",\"abc\"]\n",
    "min(l)"
   ]
  },
  {
   "cell_type": "code",
   "execution_count": null,
   "id": "ae1de1e4",
   "metadata": {},
   "outputs": [],
   "source": [
    "l = [1,34,56,78]\n",
    "l.reverse()\n",
    "l"
   ]
  },
  {
   "cell_type": "code",
   "execution_count": null,
   "id": "09319908",
   "metadata": {},
   "outputs": [],
   "source": [
    "l = [1,34,56,78,65,4,5]\n",
    "l.count(5)"
   ]
  },
  {
   "cell_type": "code",
   "execution_count": 3,
   "id": "459c94d9",
   "metadata": {},
   "outputs": [
    {
     "name": "stdout",
     "output_type": "stream",
     "text": [
      "['here', 'helearn', 'hethon', 'we re', 'we learn', 'we thon', 'pyre', 'pylearn', 'python']\n"
     ]
    }
   ],
   "source": [
    "l1 = [\"he\",\"we \",\"py\"]\n",
    "l2 = [\"re\",\"learn\",\"thon\"]\n",
    "l0 = []\n",
    "for i in l1:\n",
    "    for j in l2:\n",
    "        l0.append(i + j)\n",
    "print(l0)\n",
    "        \n"
   ]
  },
  {
   "cell_type": "code",
   "execution_count": 5,
   "id": "7abb4069",
   "metadata": {},
   "outputs": [
    {
     "data": {
      "text/plain": [
       "[(1, 'One'), (2, 'two'), (3, 'Three'), (4, 'Four'), (5, 'Five')]"
      ]
     },
     "execution_count": 5,
     "metadata": {},
     "output_type": "execute_result"
    }
   ],
   "source": [
    "l1 = [1,2,3,4,5]\n",
    "l2 = [\"One\",\"two\",\"Three\",\"Four\",\"Five\"]\n",
    "list(zip(l1,l2))"
   ]
  },
  {
   "cell_type": "code",
   "execution_count": 6,
   "id": "a949a93d",
   "metadata": {},
   "outputs": [
    {
     "name": "stdout",
     "output_type": "stream",
     "text": [
      "<zip object at 0x000001D5D7A82280>\n"
     ]
    }
   ],
   "source": []
  },
  {
   "cell_type": "code",
   "execution_count": 12,
   "id": "21a5ecb5",
   "metadata": {},
   "outputs": [
    {
     "data": {
      "text/plain": [
       "[('he', 're', 'we'), ('learn', 'Python', 'Because'), ('We', 'Want', 'To')]"
      ]
     },
     "execution_count": 12,
     "metadata": {},
     "output_type": "execute_result"
    }
   ],
   "source": [
    "l1 = [\"he\",\"learn\",\"We\"]\n",
    "l2 = [\"re\",\"Python\",\"Want\"]\n",
    "l3 = [\"we\",\"Because\",\"To\"]\n",
    "list(zip(l1,l2,l3))\n",
    "for i in list:\n",
    "    print(i)"
   ]
  },
  {
   "cell_type": "code",
   "execution_count": 11,
   "id": "06260deb",
   "metadata": {},
   "outputs": [
    {
     "data": {
      "text/plain": [
       "'t'"
      ]
     },
     "execution_count": 11,
     "metadata": {},
     "output_type": "execute_result"
    }
   ],
   "source": [
    "s1 = \"Python\"\n",
    "s2 = \"core\"\n",
    "l1= list(zip(s1,s2))\n",
    "l1[2]\n",
    "l1[2][0]"
   ]
  },
  {
   "cell_type": "code",
   "execution_count": 15,
   "id": "02d9a663",
   "metadata": {},
   "outputs": [
    {
     "data": {
      "text/plain": [
       "[1, 2, 3, 4, 5, 6, 7, 8, 9, 10]"
      ]
     },
     "execution_count": 15,
     "metadata": {},
     "output_type": "execute_result"
    }
   ],
   "source": [
    "# print 1,5 counting using for looop\n",
    "l = []\n",
    "for i in range(1,11):\n",
    "    \n",
    "    l.append(i)\n",
    "l"
   ]
  },
  {
   "cell_type": "code",
   "execution_count": 16,
   "id": "33b7bc75",
   "metadata": {},
   "outputs": [
    {
     "data": {
      "text/plain": [
       "[1, 2, 3, 4, 5, 6, 7, 8, 9, 10]"
      ]
     },
     "execution_count": 16,
     "metadata": {},
     "output_type": "execute_result"
    }
   ],
   "source": [
    "[i for i in range(1,11)]"
   ]
  },
  {
   "cell_type": "code",
   "execution_count": 18,
   "id": "64652a7a",
   "metadata": {},
   "outputs": [
    {
     "data": {
      "text/plain": [
       "[2, 4, 6, 8, 10]"
      ]
     },
     "execution_count": 18,
     "metadata": {},
     "output_type": "execute_result"
    }
   ],
   "source": [
    "# add even numbers in list\n",
    "l = []\n",
    "for i  in range(1,11):\n",
    "    if i % 2 == 0:\n",
    "        l.append(i)\n",
    "l"
   ]
  },
  {
   "cell_type": "code",
   "execution_count": 19,
   "id": "53e1504b",
   "metadata": {},
   "outputs": [
    {
     "data": {
      "text/plain": [
       "['odd', 2, 'odd', 4, 'odd', 6, 'odd', 8, 'odd', 10]"
      ]
     },
     "execution_count": 19,
     "metadata": {},
     "output_type": "execute_result"
    }
   ],
   "source": [
    "[i if i%2==0 else \"odd\" for i in range(1,11)]"
   ]
  },
  {
   "cell_type": "code",
   "execution_count": 21,
   "id": "a6ca824a",
   "metadata": {},
   "outputs": [
    {
     "data": {
      "text/plain": [
       "[5, 6, 7]"
      ]
     },
     "execution_count": 21,
     "metadata": {},
     "output_type": "execute_result"
    }
   ],
   "source": [
    "l = [[2,3,4],[5,6,7],[8,9,10]]\n",
    "l[1]"
   ]
  },
  {
   "cell_type": "code",
   "execution_count": 24,
   "id": "d9f1f363",
   "metadata": {},
   "outputs": [
    {
     "data": {
      "text/plain": [
       "['YEs It is Present']"
      ]
     },
     "execution_count": 24,
     "metadata": {},
     "output_type": "execute_result"
    }
   ],
   "source": [
    "[\"YEs It is Present\" for i in l if i == [5,6,7]]"
   ]
  },
  {
   "cell_type": "code",
   "execution_count": 1,
   "id": "2081da1f",
   "metadata": {},
   "outputs": [
    {
     "ename": "IndentationError",
     "evalue": "unexpected indent (2159008892.py, line 7)",
     "output_type": "error",
     "traceback": [
      "\u001b[1;36m  Input \u001b[1;32mIn [1]\u001b[1;36m\u001b[0m\n\u001b[1;33m    for j in list:\u001b[0m\n\u001b[1;37m    ^\u001b[0m\n\u001b[1;31mIndentationError\u001b[0m\u001b[1;31m:\u001b[0m unexpected indent\n"
     ]
    }
   ],
   "source": [
    "l = []\n",
    "for i in range(1,11):\n",
    "    i = int(input(\"Enter Number :\"))\n",
    "    l.append(i)\n",
    "print(l)\n",
    "element = int(input(\"enter the Number To be Searched :\"))\n",
    "    for j in list:\n",
    "        if j == element:\n",
    "            print(\"yes its present\")\n",
    "        else:\n",
    "            print(\"It Is Not Present\")"
   ]
  },
  {
   "cell_type": "code",
   "execution_count": 19,
   "id": "0bc5049d",
   "metadata": {},
   "outputs": [
    {
     "name": "stdout",
     "output_type": "stream",
     "text": [
      "Enter Number :98\n",
      "Enter Number :32\n",
      "Enter Number :65\n",
      "Enter Number :32\n",
      "Enter Number :25\n",
      "Enter Number :3652\n",
      "Enter Number :355\n",
      "Enter Number :\n"
     ]
    },
    {
     "ename": "ValueError",
     "evalue": "invalid literal for int() with base 10: ''",
     "output_type": "error",
     "traceback": [
      "\u001b[1;31m---------------------------------------------------------------------------\u001b[0m",
      "\u001b[1;31mValueError\u001b[0m                                Traceback (most recent call last)",
      "Input \u001b[1;32mIn [19]\u001b[0m, in \u001b[0;36m<cell line: 3>\u001b[1;34m()\u001b[0m\n\u001b[0;32m      2\u001b[0m flag \u001b[38;5;241m=\u001b[39m \u001b[38;5;241m0\u001b[39m\n\u001b[0;32m      3\u001b[0m \u001b[38;5;28;01mfor\u001b[39;00m i \u001b[38;5;129;01min\u001b[39;00m \u001b[38;5;28mrange\u001b[39m(\u001b[38;5;241m0\u001b[39m,\u001b[38;5;241m10\u001b[39m):\n\u001b[1;32m----> 4\u001b[0m     i \u001b[38;5;241m=\u001b[39m \u001b[38;5;28;43mint\u001b[39;49m\u001b[43m(\u001b[49m\u001b[38;5;28;43minput\u001b[39;49m\u001b[43m(\u001b[49m\u001b[38;5;124;43m\"\u001b[39;49m\u001b[38;5;124;43mEnter Number :\u001b[39;49m\u001b[38;5;124;43m\"\u001b[39;49m\u001b[43m)\u001b[49m\u001b[43m)\u001b[49m\n\u001b[0;32m      5\u001b[0m     l\u001b[38;5;241m.\u001b[39mappend(i)\n\u001b[0;32m      6\u001b[0m \u001b[38;5;28mprint\u001b[39m(l)\n",
      "\u001b[1;31mValueError\u001b[0m: invalid literal for int() with base 10: ''"
     ]
    }
   ],
   "source": [
    "l = []\n",
    "flag = 0\n",
    "for i in range(0,10):\n",
    "    i = int(input(\"Enter Number :\"))\n",
    "    l.append(i)\n",
    "print(l)\n",
    "element = int(input(\"enter the Number To be Searched :\"))\n",
    "for j in l:\n",
    "    if j == element:\n",
    "        flag = 1\n",
    "if flag == 1:\n",
    "    print(\"yes Its Present\")\n",
    "else:\n",
    "    print(\"No its not present\")\n",
    "   \n",
    " "
   ]
  },
  {
   "cell_type": "code",
   "execution_count": 16,
   "id": "c14051ff",
   "metadata": {},
   "outputs": [
    {
     "name": "stdout",
     "output_type": "stream",
     "text": [
      "-9\n"
     ]
    }
   ],
   "source": [
    "# write a program to display smallest element in list\n",
    "l = [5,3,3,4,5,1,11,0,-9]\n",
    "sm = l[0]\n",
    "for i in l:\n",
    "    if i < sm:\n",
    "        sm = i\n",
    "print(sm)\n"
   ]
  },
  {
   "cell_type": "code",
   "execution_count": 18,
   "id": "d4f9cbf5",
   "metadata": {},
   "outputs": [
    {
     "data": {
      "text/plain": [
       "9"
      ]
     },
     "execution_count": 18,
     "metadata": {},
     "output_type": "execute_result"
    }
   ],
   "source": [
    "l = [9,3,3,4,5,1,7]\n",
    "l1 = l.sort()\n",
    "# for maximum\n",
    "l1\n",
    "l[-1]\n"
   ]
  },
  {
   "cell_type": "code",
   "execution_count": 36,
   "id": "be12f4ea",
   "metadata": {},
   "outputs": [
    {
     "data": {
      "text/plain": [
       "1"
      ]
     },
     "execution_count": 36,
     "metadata": {},
     "output_type": "execute_result"
    }
   ],
   "source": [
    "# for minimum\n",
    "l[0]"
   ]
  },
  {
   "cell_type": "code",
   "execution_count": 42,
   "id": "affc9ce5",
   "metadata": {},
   "outputs": [
    {
     "data": {
      "text/plain": [
       "[9, 3, 4, 5, 1, 22, 7]"
      ]
     },
     "execution_count": 42,
     "metadata": {},
     "output_type": "execute_result"
    }
   ],
   "source": [
    "# write a progarm to remove duplicate item of list\n",
    "l = [9,3,3,4,5,1,1,22,7]\n",
    "unique = []\n",
    "for i in l:\n",
    "    if i not in unique:\n",
    "        unique.append(i)\n",
    "        \n",
    "unique"
   ]
  },
  {
   "cell_type": "code",
   "execution_count": 10,
   "id": "3230e447",
   "metadata": {},
   "outputs": [
    {
     "data": {
      "text/plain": [
       "[9, 4, 5, 1, 1, 22, 3, 7]"
      ]
     },
     "execution_count": 10,
     "metadata": {},
     "output_type": "execute_result"
    }
   ],
   "source": [
    "# write a program to remove repetitive elements from user input list\n",
    "l = [9,3,3,4,5,1,3,1,3,22,3,7]\n",
    "for i in l:\n",
    "    if i == 3:\n",
    "        l.remove(i)\n",
    "l"
   ]
  },
  {
   "cell_type": "code",
   "execution_count": null,
   "id": "00dbe23a",
   "metadata": {},
   "outputs": [],
   "source": [
    "start,end = int(input(\"Enter Starting Number :\")).split(\" \")\n",
    "start = int(start)\n"
   ]
  }
 ],
 "metadata": {
  "kernelspec": {
   "display_name": "Python 3 (ipykernel)",
   "language": "python",
   "name": "python3"
  },
  "language_info": {
   "codemirror_mode": {
    "name": "ipython",
    "version": 3
   },
   "file_extension": ".py",
   "mimetype": "text/x-python",
   "name": "python",
   "nbconvert_exporter": "python",
   "pygments_lexer": "ipython3",
   "version": "3.9.12"
  }
 },
 "nbformat": 4,
 "nbformat_minor": 5
}
