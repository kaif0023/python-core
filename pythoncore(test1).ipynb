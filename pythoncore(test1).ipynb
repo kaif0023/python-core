{
 "cells": [
  {
   "cell_type": "markdown",
   "id": "70484243",
   "metadata": {},
   "source": [
    "### q.1 \n",
    "\n",
    "### l=['a','quick','brown','fox','jumps','over','the','lazy','dog']\n",
    "### 1) arrange the list in alphabetical order \n",
    "### 2) count the total letters and count of distinct letters in the list "
   ]
  },
  {
   "cell_type": "code",
   "execution_count": null,
   "id": "77a9c537",
   "metadata": {},
   "outputs": [],
   "source": [
    "#1\n",
    "l=['a','quick','brown','fox','jumps','over','the','lazy','dog']\n",
    "#l.sort()\n",
    "#print(l)\n",
    "\n",
    "#2\n",
    "#count=0\n",
    "#for i in l:\n",
    "    #for j in i:\n",
    "       # count+=1\n",
    "#print(\"Total letters in The list Are :\",count)\n",
    "\n",
    "#2.2\n",
    "from collections import Counter\n",
    "l1=[]\n",
    "for i in l:\n",
    "    for j in i:\n",
    "        l1.append(j)\n",
    "print(l1)\n",
    "print(Counter(l1))"
   ]
  },
  {
   "cell_type": "markdown",
   "id": "b6b17fc9",
   "metadata": {},
   "source": [
    "### q.2\n",
    "### With a given tuple (1,2,3,4,5,6,7,8,9,10), write a program to print the first half values in one line and the last half values in one line. "
   ]
  },
  {
   "cell_type": "code",
   "execution_count": null,
   "id": "495f6bb4",
   "metadata": {},
   "outputs": [],
   "source": []
  },
  {
   "cell_type": "markdown",
   "id": "afbbbf27",
   "metadata": {},
   "source": [
    "### q.3 \n",
    "### a) Use a list comprehension to square each odd number in a list. The list is input by a sequence of comma-separated numbers. \n",
    "\n",
    "### b) wap  to remove punctuation mark from list of string using list comprehension\n",
    "l=[\"hello'\",1'2,22'4,\"hi how'r u\"]\n",
    "\n",
    "## c) Use a list comprehension to square each odd number in a list. The list is input by a sequence of comma-separated numbers.\n",
    "Suppose the input is supplied to the program: 1,2,3,4,5,6,7,8,9\n",
    "Then, the output should be: 1, 3, 5, 7, 9 \n",
    "\n"
   ]
  },
  {
   "cell_type": "code",
   "execution_count": null,
   "id": "7c1e8bbd",
   "metadata": {},
   "outputs": [],
   "source": []
  },
  {
   "cell_type": "markdown",
   "id": "b899fef5",
   "metadata": {},
   "source": [
    "### q.4\n",
    "\n",
    "### Find Longest String in List\n",
    "l=[\"hello\",\"madrid\",\"hi how r u\",\"i m doing good u tell\",\"meet\"]"
   ]
  },
  {
   "cell_type": "code",
   "execution_count": 4,
   "id": "2fbdd73b",
   "metadata": {},
   "outputs": [
    {
     "name": "stdout",
     "output_type": "stream",
     "text": [
      "i m doing good u tell\n"
     ]
    }
   ],
   "source": [
    "l=[\"hello\",\"madrid\",\"hi how r u\",\"i m doing good u tell\",\"meet\"]\n",
    "x=l[0]\n",
    "max1 = len(l[0])\n",
    "for i in l:\n",
    "    if len(i) > max1:\n",
    "        max1=len(i)\n",
    "        x = i\n",
    "print(x)"
   ]
  },
  {
   "cell_type": "markdown",
   "id": "891150f6",
   "metadata": {},
   "source": [
    "### q.5\n",
    "\n",
    "### Display the characters at an odd position in string input by User."
   ]
  },
  {
   "cell_type": "code",
   "execution_count": 11,
   "id": "9ba1258f",
   "metadata": {},
   "outputs": [
    {
     "name": "stdout",
     "output_type": "stream",
     "text": [
      "Stringhillclimb\n",
      "illm\n"
     ]
    }
   ],
   "source": [
    "s = input(\"String\")\n",
    "result=\"\"\n",
    "for i in range(len(s)):\n",
    "    if i % 2 != 0:\n",
    "        result=result+s[i]\n",
    "print(result)"
   ]
  },
  {
   "cell_type": "markdown",
   "id": "4f01e850",
   "metadata": {},
   "source": [
    "### q.6\n",
    "\n",
    "### Extract file name in this  /document/imp/salary.txt\n"
   ]
  },
  {
   "cell_type": "code",
   "execution_count": 1,
   "id": "f9e2eb76",
   "metadata": {},
   "outputs": [
    {
     "data": {
      "text/plain": [
       "'salary'"
      ]
     },
     "execution_count": 1,
     "metadata": {},
     "output_type": "execute_result"
    }
   ],
   "source": [
    "z=\"/document/imp/salary.txt\"\n",
    "l=z.rsplit(\"/\")\n",
    "l\n",
    "m = l[3]\n",
    "m1=m.split(\".\")\n",
    "m1[0]"
   ]
  },
  {
   "cell_type": "markdown",
   "id": "324c2cc9",
   "metadata": {},
   "source": [
    "### q.7\n",
    "### Write a program which accepts a sequence of comma-separated numbers from console and generate a list and a tuple which contains every number.\n",
    "Suppose the input is supplied to the program: 34, 67, 55, 33, 12, 98\n",
    "\n",
    "\n",
    "Then, the output should be:\n",
    "\n",
    "\n",
    "['34', '67', '55', '33', '12', '98'] and ('34', '67', '55', '33', '12', '98')\n"
   ]
  },
  {
   "cell_type": "markdown",
   "id": "dc2e0c2d",
   "metadata": {},
   "source": [
    "### q. 8\n",
    "\n",
    "### Write a program to display second largest element of the list entered by user "
   ]
  },
  {
   "cell_type": "code",
   "execution_count": null,
   "id": "4b42eb87",
   "metadata": {},
   "outputs": [],
   "source": [
    "l = []\n",
    "m = int(input(\"Enter the range of the List : \"))\n",
    "for i in range(1,m+1):\n",
    "    element=int(input(\"Enter The Elements : \"))\n",
    "    l.append(element)\n",
    "l.sort()\n",
    "print(\"Second LArgest Element in this List is :\",l[-2])"
   ]
  },
  {
   "cell_type": "markdown",
   "id": "ac3570f6",
   "metadata": {},
   "source": [
    "### q.9\n",
    "\n",
    "### Write a program to display the most, second most and least frequent word of the list\n",
    "\n",
    "l=[\"abc\",\"bac\",\"abc\",\"abb\",\"abb\",\"abb\"]"
   ]
  },
  {
   "cell_type": "code",
   "execution_count": 3,
   "id": "acbd2aec",
   "metadata": {},
   "outputs": [],
   "source": [
    "from collections import Counter\n",
    "l=[\"abc\",\"bac\",\"abc\",\"abb\",\"abb\",\"abb\"]\n",
    "for i in l:\n",
    "    Counter(i)"
   ]
  },
  {
   "cell_type": "markdown",
   "id": "785428f2",
   "metadata": {},
   "source": [
    "### q.10\n",
    "### Write a program that calculates and prints the value according to the given formula:\n",
    "Q = Square root of [(2 * C * D)/H]\n",
    "\n",
    "\n",
    "Following are the fixed values of C and H: C is 50. H is 30.\n"
   ]
  },
  {
   "cell_type": "code",
   "execution_count": null,
   "id": "df6de49d",
   "metadata": {},
   "outputs": [],
   "source": []
  },
  {
   "cell_type": "markdown",
   "id": "906e1c32",
   "metadata": {},
   "source": [
    "### q.11\n",
    "### wap to place \"hello\" at even index of string.\n",
    "\n",
    "eg: string :  \"madrid\"\n",
    "\n",
    "output:    helloahellorhellod"
   ]
  },
  {
   "cell_type": "code",
   "execution_count": 20,
   "id": "fa2708b0",
   "metadata": {},
   "outputs": [
    {
     "data": {
      "text/plain": [
       "'g'"
      ]
     },
     "execution_count": 20,
     "metadata": {},
     "output_type": "execute_result"
    }
   ],
   "source": [
    "s = \"String\"\n",
    "for i in s:\n",
    "    i=i.replace(s[2:4],\"hello\")\n",
    "i\n",
    "    \n",
    "        "
   ]
  },
  {
   "cell_type": "markdown",
   "id": "ed4d7f85",
   "metadata": {},
   "source": [
    "### q.12\n",
    "## Write a program that accepts a sequence of whitespace separated words as input and prints the words after removing all duplicate words and sorting them alphanumerically.\n",
    "Suppose the input is supplied to the program: hello world and practice makes perfect and hello world again\n"
   ]
  },
  {
   "cell_type": "markdown",
   "id": "698f6591",
   "metadata": {},
   "source": []
  },
  {
   "cell_type": "markdown",
   "id": "0cb01fdf",
   "metadata": {},
   "source": [
    "## q.13\n",
    "#### You are required to write a program to sort the (name, age, height) tuples by ascending order where name is string, age and height are numbers. The tuples are input by console. The sort criteria is: \n",
    "1: Sort based on name; \n",
    "2: Then sort based on age; \n",
    "3: Then sort by score. \n",
    "\n",
    " \n",
    "The priority is that name > age > score. \n",
    "\n",
    "\n",
    "If the following tuples are given as input to the program: \n",
    "\n",
    "\n",
    "Tom,19,80 \n",
    "\n",
    "John,20,90 \n",
    "\n",
    "Jony,17,91\n",
    "\n",
    "Jony,17,93 \n",
    "\n",
    "Json,21,85 \n",
    "\n",
    "\n",
    "Then, the output of the program should be: \n",
    "[('John', '20', '90'), ('Jony', '17', '91'), ('Jony', '17', '93'), ('Json', '21', '85'), ('Tom', '19', '80')] \n",
    " "
   ]
  },
  {
   "cell_type": "code",
   "execution_count": null,
   "id": "9c7acb63",
   "metadata": {},
   "outputs": [],
   "source": []
  }
 ],
 "metadata": {
  "kernelspec": {
   "display_name": "Python 3 (ipykernel)",
   "language": "python",
   "name": "python3"
  },
  "language_info": {
   "codemirror_mode": {
    "name": "ipython",
    "version": 3
   },
   "file_extension": ".py",
   "mimetype": "text/x-python",
   "name": "python",
   "nbconvert_exporter": "python",
   "pygments_lexer": "ipython3",
   "version": "3.9.12"
  }
 },
 "nbformat": 4,
 "nbformat_minor": 5
}
