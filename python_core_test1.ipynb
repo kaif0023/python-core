{
 "cells": [
  {
   "cell_type": "markdown",
   "id": "b6b17fc9",
   "metadata": {},
   "source": [
    "### With a given tuple (1,2,3,4,5,6,7,8,9,10), write a program to print the first half values in one line and the last half values in one line. "
   ]
  },
  {
   "cell_type": "code",
   "execution_count": null,
   "id": "ae4a8163",
   "metadata": {},
   "outputs": [],
   "source": [
    "t=(1,2,3,4,5,6,7,8,9,10)\n",
    "print(\"first half values of the tuple are :  \",t[0:(len(t)//2)])\n",
    "print(\"second half values are \",t[len(t)//2:len(t)])\n"
   ]
  },
  {
   "cell_type": "markdown",
   "id": "afbbbf27",
   "metadata": {},
   "source": [
    "### Use a list comprehension to square each odd number in a list. The list is input by a sequence of comma-separated numbers. "
   ]
  },
  {
   "cell_type": "code",
   "execution_count": 4,
   "id": "e4f1c7aa",
   "metadata": {},
   "outputs": [
    {
     "name": "stdout",
     "output_type": "stream",
     "text": [
      "enter the elements in the list 3,5,7,8\n",
      "[9, 25, 49]\n"
     ]
    }
   ],
   "source": [
    "l=input(\"enter the elements in the list \").split(\",\")\n",
    "\n",
    "l1=[int(num)*int(num) for num in l if int(num)%2!=0]\n",
    "print(l1)"
   ]
  },
  {
   "cell_type": "code",
   "execution_count": 22,
   "id": "25eef44d",
   "metadata": {},
   "outputs": [
    {
     "data": {
      "text/plain": [
       "['hello', '12', '224', 'hi', 'howr u']"
      ]
     },
     "execution_count": 22,
     "metadata": {},
     "output_type": "execute_result"
    }
   ],
   "source": [
    "### a) wap  to remove punctuation mark from list of string using list comprehension\n",
    "l=[\"hello'\",\"1'2\",\"22'4\",\"hi\" ,\"how'r u\"]\n",
    "l1=[]\n",
    "for i in l:\n",
    "    l1.append(i.replace(\"'\",\"\"))\n",
    "l1\n"
   ]
  },
  {
   "cell_type": "code",
   "execution_count": 24,
   "id": "81dcf878",
   "metadata": {},
   "outputs": [
    {
     "name": "stdout",
     "output_type": "stream",
     "text": [
      "[1, 3, 5, 7, 9]\n"
     ]
    }
   ],
   "source": [
    "## b) Use a list comprehension to display the lement at odd index in a list. The list is input by a sequence of comma-separated numbers.\n",
    "#Suppose the input is supplied to the program: 1,2,3,4,5,6,7,8,9\n",
    "#Then, the output should be: 1, 3, 5, 7, 9 \n",
    "l=[1,2,3,4,5,6,7,8,9]\n",
    "l1=[]\n",
    "for i in range(0,len(l),2):\n",
    "    l1.append(l[i])\n",
    "print(l1)\n"
   ]
  },
  {
   "cell_type": "markdown",
   "id": "b899fef5",
   "metadata": {},
   "source": [
    "### Find Longest String in List"
   ]
  },
  {
   "cell_type": "code",
   "execution_count": 5,
   "id": "5f1a8c28",
   "metadata": {},
   "outputs": [
    {
     "name": "stdout",
     "output_type": "stream",
     "text": [
      "let's hi how  ru \n"
     ]
    }
   ],
   "source": [
    "import functools\n",
    "string_list = [\"hello\", \"world\", \"let's hi how  ru \", \"learn\", \"some\", \"Pythonhello\"]\n",
    "longest = functools.reduce(lambda longest, current_string: current_string if len(current_string) > len(longest) else longest, string_list, \"\")\n",
    "print(longest)"
   ]
  },
  {
   "cell_type": "markdown",
   "id": "891150f6",
   "metadata": {},
   "source": [
    "### Display the characters at an odd position in string input by User."
   ]
  },
  {
   "cell_type": "markdown",
   "id": "4f01e850",
   "metadata": {},
   "source": [
    "### Extract file name in this  /document/imp/salary.txt\n"
   ]
  },
  {
   "cell_type": "code",
   "execution_count": 32,
   "id": "97169466",
   "metadata": {},
   "outputs": [
    {
     "name": "stdout",
     "output_type": "stream",
     "text": [
      "[' ', 'document', 'imp', 'salary.txt']\n",
      "salary.txt\n"
     ]
    },
    {
     "data": {
      "text/plain": [
       "'salary'"
      ]
     },
     "execution_count": 32,
     "metadata": {},
     "output_type": "execute_result"
    }
   ],
   "source": [
    "s=\" /document/imp/salary.txt\"\n",
    "l=s.rsplit(\"/\")\n",
    "print(l)\n",
    "print(l[3])\n",
    "x=l[3]\n",
    "x1=x.split(\".\")\n",
    "x1[0]\n",
    "\n",
    "    \n"
   ]
  },
  {
   "cell_type": "markdown",
   "id": "4c85b677",
   "metadata": {},
   "source": [
    "#### With a given integral number n, write a program to generate a dictionary that contains (i, i*i) such that is an integral number between 1 and n (both included) and then the program should print the dictionary.\n",
    "\n",
    "Suppose the input is supplied to the program: 8\n",
    "\n",
    "Then, the output should be: {1: 1, 2: 4, 3: 9, 4: 16, 5: 25, 6: 36, 7: 49, 8: 64}\n"
   ]
  },
  {
   "cell_type": "markdown",
   "id": "324c2cc9",
   "metadata": {},
   "source": [
    "### Write a program which accepts a sequence of comma-separated numbers from console and generate a list and a tuple which contains every number.\n",
    "Suppose the input is supplied to the program: 34, 67, 55, 33, 12, 98\n",
    "\n",
    "\n",
    "Then, the output should be:\n",
    "\n",
    "\n",
    "['34', '67', '55', '33', '12', '98'] and ('34', '67', '55', '33', '12', '98')\n"
   ]
  },
  {
   "cell_type": "code",
   "execution_count": null,
   "id": "ac43f6fd",
   "metadata": {},
   "outputs": [],
   "source": [
    "l=input(\"enter the list of elements\").split(\",\")\n",
    "t=list(l)\n"
   ]
  },
  {
   "cell_type": "markdown",
   "id": "dc2e0c2d",
   "metadata": {},
   "source": [
    "### Write a program to display second largest element of the list entered by user "
   ]
  },
  {
   "cell_type": "code",
   "execution_count": null,
   "id": "4b42eb87",
   "metadata": {},
   "outputs": [],
   "source": []
  },
  {
   "cell_type": "markdown",
   "id": "ac3570f6",
   "metadata": {},
   "source": [
    "## Write a program to display the most, second most and least frequent word of the list\n",
    "\n",
    "l=[\"abc\",\"bac\",\"abc\",\"abb\",\"abb\",\"abb\"]"
   ]
  },
  {
   "cell_type": "code",
   "execution_count": null,
   "id": "acbd2aec",
   "metadata": {},
   "outputs": [],
   "source": []
  },
  {
   "cell_type": "markdown",
   "id": "785428f2",
   "metadata": {},
   "source": [
    "### Write a program that calculates and prints the value according to the given formula:\n",
    "Q = Square root of [(2 * C * D)/H]\n",
    "\n",
    "\n",
    "Following are the fixed values of C and H: C is 50. H is 30.\n"
   ]
  },
  {
   "cell_type": "markdown",
   "id": "ed4d7f85",
   "metadata": {},
   "source": [
    "### Write a program that accepts a sequence of whitespace separated words as input and prints the words after removing all duplicate words and sorting them alphanumerically.\n",
    "Suppose the input is supplied to the program: hello world and practice makes perfect and hello world again\n"
   ]
  },
  {
   "cell_type": "markdown",
   "id": "11881323",
   "metadata": {},
   "source": [
    "### Write a program which takes a input as a string  and print * at all the even indexes\n",
    "Suppose the input is supplied to the program: madrid\n",
    "Then the output should be: *a*r*d\n"
   ]
  },
  {
   "cell_type": "markdown",
   "id": "698f6591",
   "metadata": {},
   "source": [
    "### Use a list comprehension to square each odd number in a list. The list is input by a sequence of comma-separated numbers.\n",
    "Suppose the input is supplied to the program: 1,2,3,4,5,6,7,8,9\n",
    "Then, the output should be: 1, 3, 5, 7, 9 \n"
   ]
  },
  {
   "cell_type": "markdown",
   "id": "0cb01fdf",
   "metadata": {},
   "source": [
    "##### You are required to write a program to sort the (name, age, height) tuples by ascending order where name is string, age and height are numbers. The tuples are input by console. The sort criteria is: \n",
    "1: Sort based on name; \n",
    "2: Then sort based on age; \n",
    "3: Then sort by score. \n",
    "\n",
    " \n",
    "The priority is that name > age > score. \n",
    "\n",
    "\n",
    "If the following tuples are given as input to the program: \n",
    "\n",
    "\n",
    "Tom,19,80 \n",
    "\n",
    "John,20,90 \n",
    "\n",
    "Jony,17,91\n",
    "\n",
    "Jony,17,93 \n",
    "\n",
    "Json,21,85 \n",
    "\n",
    "\n",
    "Then, the output of the program should be: \n",
    "[('John', '20', '90'), ('Jony', '17', '91'), ('Jony', '17', '93'), ('Json', '21', '85'), ('Tom', '19', '80')] \n",
    " \n"
   ]
  },
  {
   "cell_type": "code",
   "execution_count": 27,
   "id": "6ae36061",
   "metadata": {},
   "outputs": [
    {
     "name": "stdout",
     "output_type": "stream",
     "text": [
      "enter the name,age,scoremeet 45 67\n",
      "enter the name,age,scorepreet 67 89\n",
      "enter the name,age,scoreneha 34 56\n",
      "enter the name,age,scoredeep 32 21\n",
      "enter the name,age,scoredeepa 54 43\n",
      "[('meet', '45', '67'), ('preet', '67', '89'), ('neha', '34', '56'), ('deep', '32', '21'), ('deepa', '54', '43')]\n"
     ]
    }
   ],
   "source": [
    "l1=[]\n",
    "for i in range(1,6):\n",
    "    l=[]\n",
    "    l=input(\"enter the name,age,score\").split()\n",
    "    l1.append(tuple(l))\n",
    "print(l1)\n"
   ]
  },
  {
   "cell_type": "code",
   "execution_count": 28,
   "id": "6849aa93",
   "metadata": {},
   "outputs": [
    {
     "data": {
      "text/plain": [
       "[('deep', '32', '21'),\n",
       " ('deepa', '54', '43'),\n",
       " ('meet', '45', '67'),\n",
       " ('neha', '34', '56'),\n",
       " ('preet', '67', '89')]"
      ]
     },
     "execution_count": 28,
     "metadata": {},
     "output_type": "execute_result"
    }
   ],
   "source": [
    "sorted(l1,key=lambda t:t[0])"
   ]
  },
  {
   "cell_type": "code",
   "execution_count": 29,
   "id": "65c9a082",
   "metadata": {},
   "outputs": [
    {
     "data": {
      "text/plain": [
       "[('deep', '32', '21'),\n",
       " ('neha', '34', '56'),\n",
       " ('meet', '45', '67'),\n",
       " ('deepa', '54', '43'),\n",
       " ('preet', '67', '89')]"
      ]
     },
     "execution_count": 29,
     "metadata": {},
     "output_type": "execute_result"
    }
   ],
   "source": [
    "sorted(l1,key=lambda t:t[1])"
   ]
  },
  {
   "cell_type": "code",
   "execution_count": 30,
   "id": "e8fd997a",
   "metadata": {},
   "outputs": [
    {
     "data": {
      "text/plain": [
       "[('deep', '32', '21'),\n",
       " ('deepa', '54', '43'),\n",
       " ('neha', '34', '56'),\n",
       " ('meet', '45', '67'),\n",
       " ('preet', '67', '89')]"
      ]
     },
     "execution_count": 30,
     "metadata": {},
     "output_type": "execute_result"
    }
   ],
   "source": [
    "sorted(l1,key=lambda t:t[2])"
   ]
  },
  {
   "cell_type": "code",
   "execution_count": null,
   "id": "c56c0103",
   "metadata": {},
   "outputs": [],
   "source": []
  }
 ],
 "metadata": {
  "kernelspec": {
   "display_name": "Python 3 (ipykernel)",
   "language": "python",
   "name": "python3"
  },
  "language_info": {
   "codemirror_mode": {
    "name": "ipython",
    "version": 3
   },
   "file_extension": ".py",
   "mimetype": "text/x-python",
   "name": "python",
   "nbconvert_exporter": "python",
   "pygments_lexer": "ipython3",
   "version": "3.9.7"
  }
 },
 "nbformat": 4,
 "nbformat_minor": 5
}
