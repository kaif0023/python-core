{
 "cells": [
  {
   "cell_type": "code",
   "execution_count": null,
   "id": "335b21de",
   "metadata": {},
   "outputs": [],
   "source": [
    "'''dictionary is mutable but keys are immutable\n",
    "dictionary has no indexing\n",
    "keys are unique\n",
    "values can be  mutable or immutable\n",
    "\n",
    "###List Of Data Types Wich are Mutable or Immutable\n",
    "Mutable = List,Sets,Dictionary\n",
    "Immutable = Strings,Tuple,Int,Float,Boolean,Complex'''\n",
    "\n",
    "\n"
   ]
  },
  {
   "cell_type": "code",
   "execution_count": 1,
   "id": "b8577de0",
   "metadata": {},
   "outputs": [
    {
     "data": {
      "text/plain": [
       "2495141734864"
      ]
     },
     "execution_count": 1,
     "metadata": {},
     "output_type": "execute_result"
    }
   ],
   "source": [
    "a = 6\n",
    "id(6)"
   ]
  },
  {
   "cell_type": "code",
   "execution_count": 2,
   "id": "bb589255",
   "metadata": {},
   "outputs": [
    {
     "data": {
      "text/plain": [
       "2495141734800"
      ]
     },
     "execution_count": 2,
     "metadata": {},
     "output_type": "execute_result"
    }
   ],
   "source": [
    "a = 4\n",
    "id(4)"
   ]
  },
  {
   "cell_type": "code",
   "execution_count": 3,
   "id": "e1e05cd3",
   "metadata": {},
   "outputs": [
    {
     "data": {
      "text/plain": [
       "dict"
      ]
     },
     "execution_count": 3,
     "metadata": {},
     "output_type": "execute_result"
    }
   ],
   "source": [
    "# Empty Dictionary\n",
    "d ={}\n",
    "type(d)"
   ]
  },
  {
   "cell_type": "code",
   "execution_count": 5,
   "id": "3158b798",
   "metadata": {},
   "outputs": [],
   "source": [
    "d = {1:\"one\",2:\"Two\",3:\"Three\"}\n"
   ]
  },
  {
   "cell_type": "code",
   "execution_count": 6,
   "id": "40724856",
   "metadata": {},
   "outputs": [
    {
     "data": {
      "text/plain": [
       "4"
      ]
     },
     "execution_count": 6,
     "metadata": {},
     "output_type": "execute_result"
    }
   ],
   "source": [
    "d = {1:\"one\",2:\"Two\",3:\"Three\",4:{\"four\":\"even\"}}\n",
    "len(d)"
   ]
  },
  {
   "cell_type": "code",
   "execution_count": 7,
   "id": "51b31d72",
   "metadata": {},
   "outputs": [
    {
     "ename": "TypeError",
     "evalue": "unhashable type: 'list'",
     "output_type": "error",
     "traceback": [
      "\u001b[1;31m---------------------------------------------------------------------------\u001b[0m",
      "\u001b[1;31mTypeError\u001b[0m                                 Traceback (most recent call last)",
      "Input \u001b[1;32mIn [7]\u001b[0m, in \u001b[0;36m<cell line: 1>\u001b[1;34m()\u001b[0m\n\u001b[1;32m----> 1\u001b[0m d \u001b[38;5;241m=\u001b[39m {[\u001b[38;5;241m1\u001b[39m,\u001b[38;5;241m2\u001b[39m,\u001b[38;5;241m3\u001b[39m,\u001b[38;5;241m4\u001b[39m]:\u001b[38;5;124m\"\u001b[39m\u001b[38;5;124mlist\u001b[39m\u001b[38;5;124m\"\u001b[39m}\n",
      "\u001b[1;31mTypeError\u001b[0m: unhashable type: 'list'"
     ]
    }
   ],
   "source": [
    "d = {[1,2,3,4]:\"list\"}"
   ]
  },
  {
   "cell_type": "code",
   "execution_count": 8,
   "id": "e73d9e0f",
   "metadata": {},
   "outputs": [
    {
     "data": {
      "text/plain": [
       "{'Md': 'kaif'}"
      ]
     },
     "execution_count": 8,
     "metadata": {},
     "output_type": "execute_result"
    }
   ],
   "source": [
    "d = {\"Md\":\"kaif\"}\n",
    "d"
   ]
  },
  {
   "cell_type": "code",
   "execution_count": 9,
   "id": "6b4bf7f7",
   "metadata": {},
   "outputs": [
    {
     "name": "stdout",
     "output_type": "stream",
     "text": [
      "{'name': 'python', 1: [1, 2, 3, 4]}\n"
     ]
    }
   ],
   "source": [
    "d = {\"name\":\"python\",1:[1,2,3,4]}\n",
    "print(d)"
   ]
  },
  {
   "cell_type": "code",
   "execution_count": 10,
   "id": "4fdb2f51",
   "metadata": {},
   "outputs": [
    {
     "data": {
      "text/plain": [
       "{1: 'hello'}"
      ]
     },
     "execution_count": 10,
     "metadata": {},
     "output_type": "execute_result"
    }
   ],
   "source": [
    "d = dict({1:\"hello\"})\n",
    "type(d)\n",
    "d"
   ]
  },
  {
   "cell_type": "code",
   "execution_count": 13,
   "id": "f64759c2",
   "metadata": {},
   "outputs": [
    {
     "ename": "TypeError",
     "evalue": "unhashable type: 'list'",
     "output_type": "error",
     "traceback": [
      "\u001b[1;31m---------------------------------------------------------------------------\u001b[0m",
      "\u001b[1;31mTypeError\u001b[0m                                 Traceback (most recent call last)",
      "Input \u001b[1;32mIn [13]\u001b[0m, in \u001b[0;36m<cell line: 2>\u001b[1;34m()\u001b[0m\n\u001b[0;32m      1\u001b[0m l1 \u001b[38;5;241m=\u001b[39m [(\u001b[38;5;241m1\u001b[39m,\u001b[38;5;124m\"\u001b[39m\u001b[38;5;124mone\u001b[39m\u001b[38;5;124m\"\u001b[39m),(\u001b[38;5;241m2\u001b[39m,\u001b[38;5;124m\"\u001b[39m\u001b[38;5;124mtwo\u001b[39m\u001b[38;5;124m\"\u001b[39m)]\n\u001b[1;32m----> 2\u001b[0m l \u001b[38;5;241m=\u001b[39m \u001b[38;5;28mdict\u001b[39m({l1})\n\u001b[0;32m      3\u001b[0m l1\n",
      "\u001b[1;31mTypeError\u001b[0m: unhashable type: 'list'"
     ]
    }
   ],
   "source": [
    "l1 = [(1,\"one\"),(2,\"two\")]\n",
    "l = dict({l1})\n",
    "l1"
   ]
  },
  {
   "cell_type": "code",
   "execution_count": 6,
   "id": "270b0622",
   "metadata": {},
   "outputs": [
    {
     "data": {
      "text/plain": [
       "[4, 3, 2, 1]"
      ]
     },
     "execution_count": 6,
     "metadata": {},
     "output_type": "execute_result"
    }
   ],
   "source": [
    "d = {1:\"One\",2:\"Two\",3:\"three\",4:{\"four\":\"even\",\"multipleof2\":\"2\"},\"list\":[1,2,3,4]}\n",
    "d[\"list\"][::-1]"
   ]
  },
  {
   "cell_type": "code",
   "execution_count": 21,
   "id": "727c9b3d",
   "metadata": {},
   "outputs": [
    {
     "data": {
      "text/plain": [
       "'Two'"
      ]
     },
     "execution_count": 21,
     "metadata": {},
     "output_type": "execute_result"
    }
   ],
   "source": [
    "d = {1:\"One\",2:\"Two\",3:\"three\",4:{\"four\":\"even\",\"multipleof2\":\"2\"},\"list\":[1,2,3,4]}\n",
    "d[2]"
   ]
  },
  {
   "cell_type": "code",
   "execution_count": 22,
   "id": "66bca19d",
   "metadata": {},
   "outputs": [
    {
     "data": {
      "text/plain": [
       "{'four': 'even', 'multipleof2': '2'}"
      ]
     },
     "execution_count": 22,
     "metadata": {},
     "output_type": "execute_result"
    }
   ],
   "source": [
    "d = {1:\"One\",2:\"Two\",3:\"three\",4:{\"four\":\"even\",\"multipleof\":\"2\"},\"list\":[1,2,3,4]}\n",
    "d[4]"
   ]
  },
  {
   "cell_type": "code",
   "execution_count": 23,
   "id": "551caeab",
   "metadata": {},
   "outputs": [
    {
     "ename": "KeyError",
     "evalue": "5",
     "output_type": "error",
     "traceback": [
      "\u001b[1;31m---------------------------------------------------------------------------\u001b[0m",
      "\u001b[1;31mKeyError\u001b[0m                                  Traceback (most recent call last)",
      "Input \u001b[1;32mIn [23]\u001b[0m, in \u001b[0;36m<cell line: 1>\u001b[1;34m()\u001b[0m\n\u001b[1;32m----> 1\u001b[0m \u001b[43md\u001b[49m\u001b[43m[\u001b[49m\u001b[38;5;241;43m5\u001b[39;49m\u001b[43m]\u001b[49m\n",
      "\u001b[1;31mKeyError\u001b[0m: 5"
     ]
    }
   ],
   "source": [
    "d[5]"
   ]
  },
  {
   "cell_type": "code",
   "execution_count": 24,
   "id": "fa923725",
   "metadata": {},
   "outputs": [
    {
     "data": {
      "text/plain": [
       "{'four': 'even', 'multipleof2': '2'}"
      ]
     },
     "execution_count": 24,
     "metadata": {},
     "output_type": "execute_result"
    }
   ],
   "source": [
    "d.get(4)"
   ]
  },
  {
   "cell_type": "code",
   "execution_count": 7,
   "id": "1970f877",
   "metadata": {},
   "outputs": [
    {
     "data": {
      "text/plain": [
       "list"
      ]
     },
     "execution_count": 7,
     "metadata": {},
     "output_type": "execute_result"
    }
   ],
   "source": [
    "type(d.get(\"list\"))"
   ]
  },
  {
   "cell_type": "code",
   "execution_count": 32,
   "id": "0388f07f",
   "metadata": {},
   "outputs": [
    {
     "data": {
      "text/plain": [
       "['__class__',\n",
       " '__class_getitem__',\n",
       " '__contains__',\n",
       " '__delattr__',\n",
       " '__delitem__',\n",
       " '__dir__',\n",
       " '__doc__',\n",
       " '__eq__',\n",
       " '__format__',\n",
       " '__ge__',\n",
       " '__getattribute__',\n",
       " '__getitem__',\n",
       " '__gt__',\n",
       " '__hash__',\n",
       " '__init__',\n",
       " '__init_subclass__',\n",
       " '__ior__',\n",
       " '__iter__',\n",
       " '__le__',\n",
       " '__len__',\n",
       " '__lt__',\n",
       " '__ne__',\n",
       " '__new__',\n",
       " '__or__',\n",
       " '__reduce__',\n",
       " '__reduce_ex__',\n",
       " '__repr__',\n",
       " '__reversed__',\n",
       " '__ror__',\n",
       " '__setattr__',\n",
       " '__setitem__',\n",
       " '__sizeof__',\n",
       " '__str__',\n",
       " '__subclasshook__',\n",
       " 'clear',\n",
       " 'copy',\n",
       " 'fromkeys',\n",
       " 'get',\n",
       " 'items',\n",
       " 'keys',\n",
       " 'pop',\n",
       " 'popitem',\n",
       " 'setdefault',\n",
       " 'update',\n",
       " 'values']"
      ]
     },
     "execution_count": 32,
     "metadata": {},
     "output_type": "execute_result"
    }
   ],
   "source": [
    "dir(dict)"
   ]
  },
  {
   "cell_type": "code",
   "execution_count": 35,
   "id": "78d14d89",
   "metadata": {},
   "outputs": [
    {
     "name": "stdout",
     "output_type": "stream",
     "text": [
      "dict_keys([1, 2])\n"
     ]
    }
   ],
   "source": [
    "l1 = {1:\"one\",2:\"two\"}\n",
    "print(l1.keys())"
   ]
  },
  {
   "cell_type": "code",
   "execution_count": 9,
   "id": "9f0b99d4",
   "metadata": {},
   "outputs": [
    {
     "ename": "NameError",
     "evalue": "name 'l1' is not defined",
     "output_type": "error",
     "traceback": [
      "\u001b[1;31m---------------------------------------------------------------------------\u001b[0m",
      "\u001b[1;31mNameError\u001b[0m                                 Traceback (most recent call last)",
      "Input \u001b[1;32mIn [9]\u001b[0m, in \u001b[0;36m<cell line: 1>\u001b[1;34m()\u001b[0m\n\u001b[1;32m----> 1\u001b[0m \u001b[38;5;28mprint\u001b[39m(\u001b[43ml1\u001b[49m\u001b[38;5;241m.\u001b[39mvalues())\n",
      "\u001b[1;31mNameError\u001b[0m: name 'l1' is not defined"
     ]
    }
   ],
   "source": [
    "print(l1.values())"
   ]
  },
  {
   "cell_type": "code",
   "execution_count": 38,
   "id": "367878df",
   "metadata": {},
   "outputs": [
    {
     "data": {
      "text/plain": [
       "dict_items([(1, 'one'), (2, 'two')])"
      ]
     },
     "execution_count": 38,
     "metadata": {},
     "output_type": "execute_result"
    }
   ],
   "source": [
    "l1.items()"
   ]
  },
  {
   "cell_type": "code",
   "execution_count": 2,
   "id": "a965da47",
   "metadata": {},
   "outputs": [
    {
     "data": {
      "text/html": [
       "<div>\n",
       "<style scoped>\n",
       "    .dataframe tbody tr th:only-of-type {\n",
       "        vertical-align: middle;\n",
       "    }\n",
       "\n",
       "    .dataframe tbody tr th {\n",
       "        vertical-align: top;\n",
       "    }\n",
       "\n",
       "    .dataframe thead th {\n",
       "        text-align: right;\n",
       "    }\n",
       "</style>\n",
       "<table border=\"1\" class=\"dataframe\">\n",
       "  <thead>\n",
       "    <tr style=\"text-align: right;\">\n",
       "      <th></th>\n",
       "      <th>name</th>\n",
       "      <th>gender</th>\n",
       "      <th>grade</th>\n",
       "    </tr>\n",
       "  </thead>\n",
       "  <tbody>\n",
       "    <tr>\n",
       "      <th>0</th>\n",
       "      <td>jatin</td>\n",
       "      <td>m</td>\n",
       "      <td>a</td>\n",
       "    </tr>\n",
       "    <tr>\n",
       "      <th>1</th>\n",
       "      <td>priya</td>\n",
       "      <td>f</td>\n",
       "      <td>b</td>\n",
       "    </tr>\n",
       "    <tr>\n",
       "      <th>2</th>\n",
       "      <td>jay</td>\n",
       "      <td>m</td>\n",
       "      <td>a+</td>\n",
       "    </tr>\n",
       "  </tbody>\n",
       "</table>\n",
       "</div>"
      ],
      "text/plain": [
       "    name gender grade\n",
       "0  jatin      m     a\n",
       "1  priya      f     b\n",
       "2    jay      m    a+"
      ]
     },
     "execution_count": 2,
     "metadata": {},
     "output_type": "execute_result"
    }
   ],
   "source": [
    "d = {}\n",
    "d[\"name\"]=[\"jatin\",\"priya\",\"jay\"]\n",
    "d[\"gender\"]=[\"m\",\"f\",\"m\"]\n",
    "d[\"grade\"]= [\"a\",\"b\",\"a+\"]\n",
    "d\n",
    "import pandas as pd\n",
    "df=pd.DataFrame(d)\n",
    "df"
   ]
  },
  {
   "cell_type": "code",
   "execution_count": 1,
   "id": "dd2f8d56",
   "metadata": {},
   "outputs": [
    {
     "ename": "NameError",
     "evalue": "name 'd' is not defined",
     "output_type": "error",
     "traceback": [
      "\u001b[1;31m---------------------------------------------------------------------------\u001b[0m",
      "\u001b[1;31mNameError\u001b[0m                                 Traceback (most recent call last)",
      "Input \u001b[1;32mIn [1]\u001b[0m, in \u001b[0;36m<cell line: 2>\u001b[1;34m()\u001b[0m\n\u001b[0;32m      1\u001b[0m \u001b[38;5;28;01mimport\u001b[39;00m \u001b[38;5;21;01mpandas\u001b[39;00m \u001b[38;5;28;01mas\u001b[39;00m \u001b[38;5;21;01mpd\u001b[39;00m\n\u001b[1;32m----> 2\u001b[0m df\u001b[38;5;241m=\u001b[39mpd\u001b[38;5;241m.\u001b[39mDataFrame(\u001b[43md\u001b[49m)\n\u001b[0;32m      3\u001b[0m df\n",
      "\u001b[1;31mNameError\u001b[0m: name 'd' is not defined"
     ]
    }
   ],
   "source": [
    "import pandas as pd\n",
    "df=pd.DataFrame(d)\n",
    "df"
   ]
  },
  {
   "cell_type": "code",
   "execution_count": 20,
   "id": "42e99d70",
   "metadata": {},
   "outputs": [
    {
     "ename": "ValueError",
     "evalue": "If using all scalar values, you must pass an index",
     "output_type": "error",
     "traceback": [
      "\u001b[1;31m---------------------------------------------------------------------------\u001b[0m",
      "\u001b[1;31mValueError\u001b[0m                                Traceback (most recent call last)",
      "Input \u001b[1;32mIn [20]\u001b[0m, in \u001b[0;36m<cell line: 6>\u001b[1;34m()\u001b[0m\n\u001b[0;32m      4\u001b[0m d\n\u001b[0;32m      5\u001b[0m \u001b[38;5;28;01mimport\u001b[39;00m \u001b[38;5;21;01mpandas\u001b[39;00m \u001b[38;5;28;01mas\u001b[39;00m \u001b[38;5;21;01mpd\u001b[39;00m\n\u001b[1;32m----> 6\u001b[0m df\u001b[38;5;241m=\u001b[39m\u001b[43mpd\u001b[49m\u001b[38;5;241;43m.\u001b[39;49m\u001b[43mDataFrame\u001b[49m\u001b[43m(\u001b[49m\u001b[43md\u001b[49m\u001b[43m)\u001b[49m\n\u001b[0;32m      7\u001b[0m df\n",
      "File \u001b[1;32m~\\anaconda3\\lib\\site-packages\\pandas\\core\\frame.py:636\u001b[0m, in \u001b[0;36mDataFrame.__init__\u001b[1;34m(self, data, index, columns, dtype, copy)\u001b[0m\n\u001b[0;32m    630\u001b[0m     mgr \u001b[38;5;241m=\u001b[39m \u001b[38;5;28mself\u001b[39m\u001b[38;5;241m.\u001b[39m_init_mgr(\n\u001b[0;32m    631\u001b[0m         data, axes\u001b[38;5;241m=\u001b[39m{\u001b[38;5;124m\"\u001b[39m\u001b[38;5;124mindex\u001b[39m\u001b[38;5;124m\"\u001b[39m: index, \u001b[38;5;124m\"\u001b[39m\u001b[38;5;124mcolumns\u001b[39m\u001b[38;5;124m\"\u001b[39m: columns}, dtype\u001b[38;5;241m=\u001b[39mdtype, copy\u001b[38;5;241m=\u001b[39mcopy\n\u001b[0;32m    632\u001b[0m     )\n\u001b[0;32m    634\u001b[0m \u001b[38;5;28;01melif\u001b[39;00m \u001b[38;5;28misinstance\u001b[39m(data, \u001b[38;5;28mdict\u001b[39m):\n\u001b[0;32m    635\u001b[0m     \u001b[38;5;66;03m# GH#38939 de facto copy defaults to False only in non-dict cases\u001b[39;00m\n\u001b[1;32m--> 636\u001b[0m     mgr \u001b[38;5;241m=\u001b[39m \u001b[43mdict_to_mgr\u001b[49m\u001b[43m(\u001b[49m\u001b[43mdata\u001b[49m\u001b[43m,\u001b[49m\u001b[43m \u001b[49m\u001b[43mindex\u001b[49m\u001b[43m,\u001b[49m\u001b[43m \u001b[49m\u001b[43mcolumns\u001b[49m\u001b[43m,\u001b[49m\u001b[43m \u001b[49m\u001b[43mdtype\u001b[49m\u001b[38;5;241;43m=\u001b[39;49m\u001b[43mdtype\u001b[49m\u001b[43m,\u001b[49m\u001b[43m \u001b[49m\u001b[43mcopy\u001b[49m\u001b[38;5;241;43m=\u001b[39;49m\u001b[43mcopy\u001b[49m\u001b[43m,\u001b[49m\u001b[43m \u001b[49m\u001b[43mtyp\u001b[49m\u001b[38;5;241;43m=\u001b[39;49m\u001b[43mmanager\u001b[49m\u001b[43m)\u001b[49m\n\u001b[0;32m    637\u001b[0m \u001b[38;5;28;01melif\u001b[39;00m \u001b[38;5;28misinstance\u001b[39m(data, ma\u001b[38;5;241m.\u001b[39mMaskedArray):\n\u001b[0;32m    638\u001b[0m     \u001b[38;5;28;01mimport\u001b[39;00m \u001b[38;5;21;01mnumpy\u001b[39;00m\u001b[38;5;21;01m.\u001b[39;00m\u001b[38;5;21;01mma\u001b[39;00m\u001b[38;5;21;01m.\u001b[39;00m\u001b[38;5;21;01mmrecords\u001b[39;00m \u001b[38;5;28;01mas\u001b[39;00m \u001b[38;5;21;01mmrecords\u001b[39;00m\n",
      "File \u001b[1;32m~\\anaconda3\\lib\\site-packages\\pandas\\core\\internals\\construction.py:502\u001b[0m, in \u001b[0;36mdict_to_mgr\u001b[1;34m(data, index, columns, dtype, typ, copy)\u001b[0m\n\u001b[0;32m    494\u001b[0m     arrays \u001b[38;5;241m=\u001b[39m [\n\u001b[0;32m    495\u001b[0m         x\n\u001b[0;32m    496\u001b[0m         \u001b[38;5;28;01mif\u001b[39;00m \u001b[38;5;129;01mnot\u001b[39;00m \u001b[38;5;28mhasattr\u001b[39m(x, \u001b[38;5;124m\"\u001b[39m\u001b[38;5;124mdtype\u001b[39m\u001b[38;5;124m\"\u001b[39m) \u001b[38;5;129;01mor\u001b[39;00m \u001b[38;5;129;01mnot\u001b[39;00m \u001b[38;5;28misinstance\u001b[39m(x\u001b[38;5;241m.\u001b[39mdtype, ExtensionDtype)\n\u001b[0;32m    497\u001b[0m         \u001b[38;5;28;01melse\u001b[39;00m x\u001b[38;5;241m.\u001b[39mcopy()\n\u001b[0;32m    498\u001b[0m         \u001b[38;5;28;01mfor\u001b[39;00m x \u001b[38;5;129;01min\u001b[39;00m arrays\n\u001b[0;32m    499\u001b[0m     ]\n\u001b[0;32m    500\u001b[0m     \u001b[38;5;66;03m# TODO: can we get rid of the dt64tz special case above?\u001b[39;00m\n\u001b[1;32m--> 502\u001b[0m \u001b[38;5;28;01mreturn\u001b[39;00m \u001b[43marrays_to_mgr\u001b[49m\u001b[43m(\u001b[49m\u001b[43marrays\u001b[49m\u001b[43m,\u001b[49m\u001b[43m \u001b[49m\u001b[43mcolumns\u001b[49m\u001b[43m,\u001b[49m\u001b[43m \u001b[49m\u001b[43mindex\u001b[49m\u001b[43m,\u001b[49m\u001b[43m \u001b[49m\u001b[43mdtype\u001b[49m\u001b[38;5;241;43m=\u001b[39;49m\u001b[43mdtype\u001b[49m\u001b[43m,\u001b[49m\u001b[43m \u001b[49m\u001b[43mtyp\u001b[49m\u001b[38;5;241;43m=\u001b[39;49m\u001b[43mtyp\u001b[49m\u001b[43m,\u001b[49m\u001b[43m \u001b[49m\u001b[43mconsolidate\u001b[49m\u001b[38;5;241;43m=\u001b[39;49m\u001b[43mcopy\u001b[49m\u001b[43m)\u001b[49m\n",
      "File \u001b[1;32m~\\anaconda3\\lib\\site-packages\\pandas\\core\\internals\\construction.py:120\u001b[0m, in \u001b[0;36marrays_to_mgr\u001b[1;34m(arrays, columns, index, dtype, verify_integrity, typ, consolidate)\u001b[0m\n\u001b[0;32m    117\u001b[0m \u001b[38;5;28;01mif\u001b[39;00m verify_integrity:\n\u001b[0;32m    118\u001b[0m     \u001b[38;5;66;03m# figure out the index, if necessary\u001b[39;00m\n\u001b[0;32m    119\u001b[0m     \u001b[38;5;28;01mif\u001b[39;00m index \u001b[38;5;129;01mis\u001b[39;00m \u001b[38;5;28;01mNone\u001b[39;00m:\n\u001b[1;32m--> 120\u001b[0m         index \u001b[38;5;241m=\u001b[39m \u001b[43m_extract_index\u001b[49m\u001b[43m(\u001b[49m\u001b[43marrays\u001b[49m\u001b[43m)\u001b[49m\n\u001b[0;32m    121\u001b[0m     \u001b[38;5;28;01melse\u001b[39;00m:\n\u001b[0;32m    122\u001b[0m         index \u001b[38;5;241m=\u001b[39m ensure_index(index)\n",
      "File \u001b[1;32m~\\anaconda3\\lib\\site-packages\\pandas\\core\\internals\\construction.py:664\u001b[0m, in \u001b[0;36m_extract_index\u001b[1;34m(data)\u001b[0m\n\u001b[0;32m    661\u001b[0m         \u001b[38;5;28;01mraise\u001b[39;00m \u001b[38;5;167;01mValueError\u001b[39;00m(\u001b[38;5;124m\"\u001b[39m\u001b[38;5;124mPer-column arrays must each be 1-dimensional\u001b[39m\u001b[38;5;124m\"\u001b[39m)\n\u001b[0;32m    663\u001b[0m \u001b[38;5;28;01mif\u001b[39;00m \u001b[38;5;129;01mnot\u001b[39;00m indexes \u001b[38;5;129;01mand\u001b[39;00m \u001b[38;5;129;01mnot\u001b[39;00m raw_lengths:\n\u001b[1;32m--> 664\u001b[0m     \u001b[38;5;28;01mraise\u001b[39;00m \u001b[38;5;167;01mValueError\u001b[39;00m(\u001b[38;5;124m\"\u001b[39m\u001b[38;5;124mIf using all scalar values, you must pass an index\u001b[39m\u001b[38;5;124m\"\u001b[39m)\n\u001b[0;32m    666\u001b[0m \u001b[38;5;28;01melif\u001b[39;00m have_series:\n\u001b[0;32m    667\u001b[0m     index \u001b[38;5;241m=\u001b[39m union_indexes(indexes)\n",
      "\u001b[1;31mValueError\u001b[0m: If using all scalar values, you must pass an index"
     ]
    }
   ],
   "source": [
    "d = {\"A\":\"python\",\"B\":\"core\"}\n",
    "d1 = {\"Course\":\"python\",\"Course2\":\"Datascience\"}\n",
    "d.update(d1)\n",
    "d\n",
    "import pandas as pd\n",
    "df=pd.DataFrame(d)\n",
    "df"
   ]
  },
  {
   "cell_type": "code",
   "execution_count": 26,
   "id": "d5a25f24",
   "metadata": {},
   "outputs": [
    {
     "data": {
      "text/plain": [
       "{'Course': 'python', 'Course2': 'Datascience'}"
      ]
     },
     "execution_count": 26,
     "metadata": {},
     "output_type": "execute_result"
    }
   ],
   "source": [
    "#Shallow Copy\n",
    "d = {\"A\":\"python\",\"B\":\"core\"}\n",
    "d1 = {\"Course\":\"python\",\"Course2\":\"Datascience\"}\n",
    "d1.copy()\n",
    "d1\n"
   ]
  },
  {
   "cell_type": "code",
   "execution_count": 4,
   "id": "028a71e1",
   "metadata": {},
   "outputs": [
    {
     "name": "stdout",
     "output_type": "stream",
     "text": [
      "{5: 'Welcome', 6: 'to', 7: 'Madrid', 'A': {1: 'Python', 2: 'For', 3: {1: 'Madrid', 2: 'solutions'}}}\n"
     ]
    },
    {
     "data": {
      "text/plain": [
       "'Madrid'"
      ]
     },
     "execution_count": 4,
     "metadata": {},
     "output_type": "execute_result"
    }
   ],
   "source": [
    "dict = {5: \"Welcome\",6: \"to\",7: \"Madrid\",\"A\" :{1: \"Python\",2: \"For\",3:{1:\"Madrid\",2: \"solutions\"}}}\n",
    "print(dict)\n",
    "dict.pop(7)"
   ]
  },
  {
   "cell_type": "code",
   "execution_count": 13,
   "id": "c22a5fd4",
   "metadata": {},
   "outputs": [],
   "source": [
    "Dict = {5: \"Welcome\",6: \"to\",7: \"Madrid\",\"A\" :{1: \"Python\",2: \"For\",3:{1:\"Madrid\",2: \"solutions\"}}}\n"
   ]
  },
  {
   "cell_type": "code",
   "execution_count": 20,
   "id": "623060dc",
   "metadata": {},
   "outputs": [
    {
     "name": "stdout",
     "output_type": "stream",
     "text": [
      "nohtyp\n"
     ]
    }
   ],
   "source": [
    "# wap to reverse a string a using while loop and for loop\n",
    "s = \"python\"\n",
    "s1 = \"\"\n",
    "for i in s:\n",
    "    s1 =s[::-1]\n",
    "print(s1)\n",
    "    \n",
    "\n",
    "    "
   ]
  },
  {
   "cell_type": "code",
   "execution_count": 25,
   "id": "0759e33f",
   "metadata": {},
   "outputs": [
    {
     "name": "stdout",
     "output_type": "stream",
     "text": [
      "nohtyp\n"
     ]
    }
   ],
   "source": [
    "s = \"python\"\n",
    "s1 = \"\"\n",
    "i = len(s)-1\n",
    "while(i >=0):\n",
    "    s1 = s1 +s[i]\n",
    "    i = i - 1\n",
    "print(s1)"
   ]
  },
  {
   "cell_type": "code",
   "execution_count": 27,
   "id": "026c6241",
   "metadata": {},
   "outputs": [
    {
     "name": "stdout",
     "output_type": "stream",
     "text": [
      "1\n",
      "name\n",
      "3\n",
      "4\n"
     ]
    }
   ],
   "source": [
    "Dict = {1: \"python\",\"name\": \"Madrid\",3: \"core\",4:[1,2,3]}\n",
    "for i in Dict.items:\n",
    "    print(i)"
   ]
  },
  {
   "cell_type": "code",
   "execution_count": 4,
   "id": "3c94cd58",
   "metadata": {},
   "outputs": [
    {
     "name": "stdout",
     "output_type": "stream",
     "text": [
      "1 ---- python\n",
      "name ---- Madrid\n",
      "3 ---- core\n",
      "4 ---- [1, 2, 3]\n"
     ]
    },
    {
     "data": {
      "text/html": [
       "<div>\n",
       "<style scoped>\n",
       "    .dataframe tbody tr th:only-of-type {\n",
       "        vertical-align: middle;\n",
       "    }\n",
       "\n",
       "    .dataframe tbody tr th {\n",
       "        vertical-align: top;\n",
       "    }\n",
       "\n",
       "    .dataframe thead th {\n",
       "        text-align: right;\n",
       "    }\n",
       "</style>\n",
       "<table border=\"1\" class=\"dataframe\">\n",
       "  <thead>\n",
       "    <tr style=\"text-align: right;\">\n",
       "      <th></th>\n",
       "      <th>1</th>\n",
       "      <th>name</th>\n",
       "      <th>3</th>\n",
       "      <th>4</th>\n",
       "    </tr>\n",
       "  </thead>\n",
       "  <tbody>\n",
       "    <tr>\n",
       "      <th>0</th>\n",
       "      <td>python</td>\n",
       "      <td>Madrid</td>\n",
       "      <td>core</td>\n",
       "      <td>1</td>\n",
       "    </tr>\n",
       "    <tr>\n",
       "      <th>1</th>\n",
       "      <td>python</td>\n",
       "      <td>Madrid</td>\n",
       "      <td>core</td>\n",
       "      <td>2</td>\n",
       "    </tr>\n",
       "    <tr>\n",
       "      <th>2</th>\n",
       "      <td>python</td>\n",
       "      <td>Madrid</td>\n",
       "      <td>core</td>\n",
       "      <td>3</td>\n",
       "    </tr>\n",
       "  </tbody>\n",
       "</table>\n",
       "</div>"
      ],
      "text/plain": [
       "        1    name     3  4\n",
       "0  python  Madrid  core  1\n",
       "1  python  Madrid  core  2\n",
       "2  python  Madrid  core  3"
      ]
     },
     "execution_count": 4,
     "metadata": {},
     "output_type": "execute_result"
    }
   ],
   "source": [
    "Dict = {1: \"python\",\"name\": \"Madrid\",3: \"core\",4:[1,2,3]}\n",
    "for i,j in Dict.items():\n",
    "    print(i,\"----\",j)"
   ]
  },
  {
   "cell_type": "code",
   "execution_count": 36,
   "id": "7613d397",
   "metadata": {},
   "outputs": [
    {
     "name": "stdout",
     "output_type": "stream",
     "text": [
      "{1: 1, 2: 2, 3: 0, 4: 1, 5: 2, 6: 0, 7: 1, 8: 2, 9: 0, 10: 1, 11: 2, 12: 0, 13: 1, 14: 2, 15: 0}\n"
     ]
    }
   ],
   "source": [
    "# create a dictionary and print squares of 1 to 15\n",
    "d = {}\n",
    "for i in range(1,16):\n",
    "    d[i]=i%3\n",
    "    \n",
    "print(d)\n"
   ]
  },
  {
   "cell_type": "code",
   "execution_count": 19,
   "id": "8be24aed",
   "metadata": {},
   "outputs": [
    {
     "name": "stdout",
     "output_type": "stream",
     "text": [
      "{1: 3, 2: 'two', 3: 5, 4: 'four', 5: 4}\n"
     ]
    }
   ],
   "source": [
    "d = {1:\"one\",2:\"two\",3:\"three\",4:\"four\",5:\"five\"}\n",
    "for i,j in d.items():\n",
    "    if i % 2 == 0:\n",
    "        d[i].upper()\n",
    "    else:\n",
    "        d[i]=len(j)\n",
    "print(d)\n"
   ]
  },
  {
   "cell_type": "code",
   "execution_count": 49,
   "id": "fe1304ce",
   "metadata": {},
   "outputs": [
    {
     "name": "stdout",
     "output_type": "stream",
     "text": [
      "Enter the Number of Students :3\n",
      "enter the namepang\n",
      "enter the marks36 78 89\n",
      "enter the genderm\n",
      "Enter Class A or B :B\n",
      "enter the nameMing\n",
      "enter the marks78 90 67\n",
      "enter the genderf\n",
      "Enter Class A or B :kaif\n",
      "enter the namekaif\n",
      "enter the marks90 92 94\n",
      "enter the genderm\n",
      "Enter Class A or B :a\n",
      "{'Name': ['pang', 'Ming', 'kaif'], 'Marks': [['36', '78', '89'], ['78', '90', '67'], ['90', '92', '94']], 'gender': ['m', 'f', 'm'], 'Class': ['B', 'kaif', 'a']}\n"
     ]
    }
   ],
   "source": [
    "# write a dictionary program \n",
    "# 1 Take number of students\n",
    "# 2 marks of three subjects ,gender,class a 0r b\n",
    "\n",
    "d={}\n",
    "name=[]\n",
    "gender=[]\n",
    "marks=[]\n",
    "Class = []\n",
    "n=int(input(\"Enter the Number of Students :\"))\n",
    "for i in range(1,n+1):\n",
    "    name1=input(\"enter the name\")\n",
    "    name.append(name1)\n",
    "    marks1=input(\"enter the marks\").split(\" \")\n",
    "    marks.append(marks1)\n",
    "    gender1=input(\"enter the gender\")\n",
    "    gender.append(gender1)\n",
    "    Classs = input(\"Enter Class A or B :\")\n",
    "    Class.append(Classs)\n",
    "    \n",
    "d[\"Name\"]= name\n",
    "d[\"Marks\"]=marks\n",
    "d[\"gender\"]=gender\n",
    "d[\"Class\"]= Class\n",
    "print(d)\n"
   ]
  },
  {
   "cell_type": "code",
   "execution_count": 41,
   "id": "da8381e3",
   "metadata": {},
   "outputs": [
    {
     "name": "stdout",
     "output_type": "stream",
     "text": [
      "Enter A Word: hi hello how are you\n",
      "{'h': 3, 'i': 1, ' ': 4, 'e': 2, 'l': 2, 'o': 3, 'w': 1, 'a': 1, 'r': 1, 'y': 1, 'u': 1}\n"
     ]
    }
   ],
   "source": [
    "d = {}\n",
    "s = input(\"Enter A Word: \")\n",
    "for i in s:\n",
    "    d[i] = s.count(i)\n",
    "print(d)"
   ]
  },
  {
   "cell_type": "code",
   "execution_count": 46,
   "id": "d88fc28f",
   "metadata": {},
   "outputs": [
    {
     "name": "stdout",
     "output_type": "stream",
     "text": [
      "[7, 6, 5, 4, 3, 2, 1, 0]\n"
     ]
    }
   ],
   "source": [
    "dictionary = {0:\"a\",1:\"quick\",2:\"brown\",3:\"fox\",4:\"jumps\",5:\"Over\",6:\"lazy\",7:\"dog\"}\n",
    "print(sorted(dictionary.keys(),reverse= True))"
   ]
  },
  {
   "cell_type": "code",
   "execution_count": 48,
   "id": "7e786192",
   "metadata": {},
   "outputs": [
    {
     "name": "stdout",
     "output_type": "stream",
     "text": [
      "['a', 'brown', 'dog', 'fox', 'jumps', 'lazy', 'over', 'quick']\n"
     ]
    }
   ],
   "source": [
    "dictionary = {0:\"a\",1:\"quick\",2:\"brown\",3:\"fox\",4:\"jumps\",5:\"over\",6:\"lazy\",7:\"dog\"}\n",
    "print(sorted(dictionary.values()))"
   ]
  },
  {
   "cell_type": "code",
   "execution_count": 49,
   "id": "e5ea3597",
   "metadata": {},
   "outputs": [
    {
     "name": "stdout",
     "output_type": "stream",
     "text": [
      "[(0, 'a'), (1, 'quick'), (2, 'brown'), (3, 'fox'), (4, 'jumps'), (5, 'over'), (6, 'lazy'), (7, 'dog')]\n"
     ]
    }
   ],
   "source": [
    "\n",
    "dictionary = {0:\"a\",1:\"quick\",2:\"brown\",3:\"fox\",4:\"jumps\",5:\"over\",6:\"lazy\",7:\"dog\"}\n",
    "print(sorted(dictionary.items()))\n"
   ]
  },
  {
   "cell_type": "code",
   "execution_count": null,
   "id": "90e39b0d",
   "metadata": {},
   "outputs": [],
   "source": [
    "# write a program to sort the dictionary on the basis of its values\n",
    "\n"
   ]
  },
  {
   "cell_type": "code",
   "execution_count": 4,
   "id": "206e5bfc",
   "metadata": {},
   "outputs": [
    {
     "ename": "AttributeError",
     "evalue": "type object 'dict' has no attribute '_delitem_'",
     "output_type": "error",
     "traceback": [
      "\u001b[1;31m---------------------------------------------------------------------------\u001b[0m",
      "\u001b[1;31mAttributeError\u001b[0m                            Traceback (most recent call last)",
      "Input \u001b[1;32mIn [4]\u001b[0m, in \u001b[0;36m<cell line: 1>\u001b[1;34m()\u001b[0m\n\u001b[1;32m----> 1\u001b[0m help(\u001b[38;5;28;43mdict\u001b[39;49m\u001b[38;5;241;43m.\u001b[39;49m\u001b[43m_delitem_\u001b[49m)\n",
      "\u001b[1;31mAttributeError\u001b[0m: type object 'dict' has no attribute '_delitem_'"
     ]
    }
   ],
   "source": [
    "help(dict._delitem_)"
   ]
  },
  {
   "cell_type": "code",
   "execution_count": 51,
   "id": "5aa4812a",
   "metadata": {},
   "outputs": [
    {
     "name": "stdout",
     "output_type": "stream",
     "text": [
      "{'key1': 0, 'key2': 0, 'key3': 0}\n"
     ]
    }
   ],
   "source": [
    "# from keys\n",
    "\n",
    "# create a dictionary with 3 keys ,all with values 0\n",
    "\n",
    "x = ('key1','key2','key3')\n",
    "y = 0\n",
    "d = dict.fromkeys(x,y)\n",
    "print(d)"
   ]
  },
  {
   "cell_type": "code",
   "execution_count": 52,
   "id": "0c7612f5",
   "metadata": {},
   "outputs": [
    {
     "name": "stdout",
     "output_type": "stream",
     "text": [
      "{'key1': None, 'key2': None, 'key3': None}\n"
     ]
    }
   ],
   "source": [
    "x = ('key1','key2','key3')\n",
    "d = dict.fromkeys(x)\n",
    "print(d)"
   ]
  },
  {
   "cell_type": "code",
   "execution_count": 54,
   "id": "971a47c1",
   "metadata": {},
   "outputs": [
    {
     "name": "stdout",
     "output_type": "stream",
     "text": [
      "{'a': [1, 2, 3, 4, 5], 'e': [1, 2, 3, 4, 5], 'i': [1, 2, 3, 4, 5], 'o': [1, 2, 3, 4, 5], 'u': [1, 2, 3, 4, 5]}\n"
     ]
    }
   ],
   "source": [
    "li = ['a','e','i','o','u']\n",
    "l1 = [1,2,3,4,5]\n",
    "new_dict=dict.fromkeys(li,l1)\n",
    "print(new_dict)"
   ]
  },
  {
   "cell_type": "code",
   "execution_count": 45,
   "id": "960e50b1",
   "metadata": {},
   "outputs": [
    {
     "name": "stdout",
     "output_type": "stream",
     "text": [
      "(('a', 1), ('e', 2), ('i', 3), ('o', 4), ('u', 5))\n"
     ]
    }
   ],
   "source": [
    "li = ['a','e','i','o','u']\n",
    "l1 = [1,2,3,4,5]\n",
    "t = tuple(zip(li,l1))\n",
    "print(t)"
   ]
  },
  {
   "cell_type": "code",
   "execution_count": 64,
   "id": "5e3d2b6c",
   "metadata": {},
   "outputs": [
    {
     "name": "stdout",
     "output_type": "stream",
     "text": [
      "[('a', 1), ('e', 2), ('i', 3), ('o', 4), ('u', 5)]\n"
     ]
    },
    {
     "ename": "TypeError",
     "evalue": "float() argument must be a string or a number, not 'zip'",
     "output_type": "error",
     "traceback": [
      "\u001b[1;31m---------------------------------------------------------------------------\u001b[0m",
      "\u001b[1;31mTypeError\u001b[0m                                 Traceback (most recent call last)",
      "Input \u001b[1;32mIn [64]\u001b[0m, in \u001b[0;36m<cell line: 5>\u001b[1;34m()\u001b[0m\n\u001b[0;32m      3\u001b[0m t \u001b[38;5;241m=\u001b[39m \u001b[38;5;28mlist\u001b[39m(\u001b[38;5;28mzip\u001b[39m(li,l1))\n\u001b[0;32m      4\u001b[0m \u001b[38;5;28mprint\u001b[39m(t)\n\u001b[1;32m----> 5\u001b[0m z \u001b[38;5;241m=\u001b[39m \u001b[38;5;28;43mfloat\u001b[39;49m\u001b[43m(\u001b[49m\u001b[38;5;28;43mzip\u001b[39;49m\u001b[43m(\u001b[49m\u001b[38;5;241;43m*\u001b[39;49m\u001b[43mt\u001b[49m\u001b[43m)\u001b[49m\u001b[43m)\u001b[49m\n\u001b[0;32m      6\u001b[0m \u001b[38;5;28mprint\u001b[39m(z)\n",
      "\u001b[1;31mTypeError\u001b[0m: float() argument must be a string or a number, not 'zip'"
     ]
    }
   ],
   "source": [
    "li = ['a','e','i','o','u']\n",
    "l1 = [1,2,3,4,5]\n",
    "t = list(zip(li,l1))\n",
    "print(t)\n",
    "z = float (zip(*t))\n",
    "print(z)\n"
   ]
  },
  {
   "cell_type": "code",
   "execution_count": null,
   "id": "2ae5ec17",
   "metadata": {},
   "outputs": [],
   "source": [
    "# write a program to remove spaces from dictionary keys\n",
    "d = {'1 0'}\n",
    "# write a program to remove duplicates from dictionary\n",
    "# write a program to check Whether a particular keys present in dictionary"
   ]
  },
  {
   "cell_type": "code",
   "execution_count": null,
   "id": "45f26391",
   "metadata": {},
   "outputs": [],
   "source": [
    "# write a python to merge two dictyionary\n",
    "#sample dicyionary\n",
    "dic1 = {1:10,2:20}\n",
    "dic2 = {2:30,4:40}\n",
    "dic3 = {5:50,6:60}\n",
    "#expected result = {1:10,2:20....6:60}\n"
   ]
  },
  {
   "cell_type": "code",
   "execution_count": null,
   "id": "49c90efd",
   "metadata": {},
   "outputs": [],
   "source": [
    "# "
   ]
  }
 ],
 "metadata": {
  "kernelspec": {
   "display_name": "Python 3 (ipykernel)",
   "language": "python",
   "name": "python3"
  },
  "language_info": {
   "codemirror_mode": {
    "name": "ipython",
    "version": 3
   },
   "file_extension": ".py",
   "mimetype": "text/x-python",
   "name": "python",
   "nbconvert_exporter": "python",
   "pygments_lexer": "ipython3",
   "version": "3.9.12"
  }
 },
 "nbformat": 4,
 "nbformat_minor": 5
}
