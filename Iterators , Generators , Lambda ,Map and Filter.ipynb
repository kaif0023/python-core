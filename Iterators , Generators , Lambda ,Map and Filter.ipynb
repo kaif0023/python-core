{
 "cells": [
  {
   "cell_type": "code",
   "execution_count": null,
   "id": "f61c506e",
   "metadata": {},
   "outputs": [],
   "source": [
    "l = [20,4,90,34,67]\n",
    "iter(l)"
   ]
  },
  {
   "cell_type": "code",
   "execution_count": 1,
   "id": "49f5ea9f",
   "metadata": {},
   "outputs": [
    {
     "ename": "NameError",
     "evalue": "name 'l' is not defined",
     "output_type": "error",
     "traceback": [
      "\u001b[1;31m---------------------------------------------------------------------------\u001b[0m",
      "\u001b[1;31mNameError\u001b[0m                                 Traceback (most recent call last)",
      "Input \u001b[1;32mIn [1]\u001b[0m, in \u001b[0;36m<cell line: 1>\u001b[1;34m()\u001b[0m\n\u001b[1;32m----> 1\u001b[0m \u001b[38;5;28mtype\u001b[39m(\u001b[38;5;28miter\u001b[39m(\u001b[43ml\u001b[49m))\n",
      "\u001b[1;31mNameError\u001b[0m: name 'l' is not defined"
     ]
    }
   ],
   "source": [
    "type(iter(l))"
   ]
  },
  {
   "cell_type": "code",
   "execution_count": null,
   "id": "03237497",
   "metadata": {},
   "outputs": [],
   "source": [
    "result=iter(l)\n",
    "result\n"
   ]
  },
  {
   "cell_type": "code",
   "execution_count": null,
   "id": "7e25c9e7",
   "metadata": {},
   "outputs": [],
   "source": [
    "next(result)"
   ]
  },
  {
   "cell_type": "code",
   "execution_count": 2,
   "id": "2475879e",
   "metadata": {},
   "outputs": [
    {
     "ename": "NameError",
     "evalue": "name 'result' is not defined",
     "output_type": "error",
     "traceback": [
      "\u001b[1;31m---------------------------------------------------------------------------\u001b[0m",
      "\u001b[1;31mNameError\u001b[0m                                 Traceback (most recent call last)",
      "Input \u001b[1;32mIn [2]\u001b[0m, in \u001b[0;36m<cell line: 1>\u001b[1;34m()\u001b[0m\n\u001b[1;32m----> 1\u001b[0m \u001b[38;5;28mnext\u001b[39m(\u001b[43mresult\u001b[49m)\n",
      "\u001b[1;31mNameError\u001b[0m: name 'result' is not defined"
     ]
    }
   ],
   "source": [
    "next(result)"
   ]
  },
  {
   "cell_type": "code",
   "execution_count": 3,
   "id": "b5267e7c",
   "metadata": {},
   "outputs": [
    {
     "name": "stdout",
     "output_type": "stream",
     "text": [
      "Help on built-in function iter in module builtins:\n",
      "\n",
      "iter(...)\n",
      "    iter(iterable) -> iterator\n",
      "    iter(callable, sentinel) -> iterator\n",
      "    \n",
      "    Get an iterator from an object.  In the first form, the argument must\n",
      "    supply its own iterator, or be a sequence.\n",
      "    In the second form, the callable is called until it returns the sentinel.\n",
      "\n"
     ]
    }
   ],
   "source": [
    "help(iter)"
   ]
  },
  {
   "cell_type": "code",
   "execution_count": null,
   "id": "c487efcb",
   "metadata": {},
   "outputs": [],
   "source": [
    "'''iterators reads data in the form of chunks\n",
    "in this way it can handle large stream of data\n",
    "it can read millions of list and or records because we cannot apply loops in in that case\n",
    "iterable is an object which we are able iterated\n",
    "iterator = it iterates iterable\n",
    "\n",
    "Generator : It is A Special Kind Of Function Which Returns an Iterators\n",
    "'''"
   ]
  },
  {
   "cell_type": "code",
   "execution_count": null,
   "id": "bb301297",
   "metadata": {},
   "outputs": [],
   "source": [
    "l = [1,2,3,4,5]\n",
    "def gen():\n",
    "    for i in l:\n",
    "        print(\"hello\")\n",
    "        yield i\n",
    "        print(\"after yield\")"
   ]
  },
  {
   "cell_type": "code",
   "execution_count": null,
   "id": "55664200",
   "metadata": {},
   "outputs": [],
   "source": [
    "k = gen()\n",
    "k"
   ]
  },
  {
   "cell_type": "code",
   "execution_count": null,
   "id": "6574fa6f",
   "metadata": {},
   "outputs": [],
   "source": [
    "type(k)"
   ]
  },
  {
   "cell_type": "code",
   "execution_count": null,
   "id": "34bf5502",
   "metadata": {},
   "outputs": [],
   "source": [
    "next(k)"
   ]
  },
  {
   "cell_type": "code",
   "execution_count": null,
   "id": "fd6cca53",
   "metadata": {},
   "outputs": [],
   "source": [
    "lambda is  A keyword\n",
    "it is a anonymous Function it means it does not have any name\n",
    "we can use lambda keyword to create Small Anonymous Function\n"
   ]
  },
  {
   "cell_type": "code",
   "execution_count": null,
   "id": "ec39633c",
   "metadata": {},
   "outputs": [],
   "source": [
    "def add(a,b):\n",
    "    c = a + b\n",
    "\n",
    "    return c\n",
    "add(3,4)"
   ]
  },
  {
   "cell_type": "code",
   "execution_count": null,
   "id": "976ffc32",
   "metadata": {},
   "outputs": [],
   "source": [
    "lambda a1,a2:a1 + a2\n",
    "\n"
   ]
  },
  {
   "cell_type": "code",
   "execution_count": null,
   "id": "96cc0c41",
   "metadata": {},
   "outputs": [],
   "source": [
    "type(lambda a1,a2:a1+a2)"
   ]
  },
  {
   "cell_type": "code",
   "execution_count": null,
   "id": "be50975c",
   "metadata": {},
   "outputs": [],
   "source": [
    "(lambda a1,a2:a1 + a2)(4,7)"
   ]
  },
  {
   "cell_type": "code",
   "execution_count": null,
   "id": "817ee8b1",
   "metadata": {},
   "outputs": [],
   "source": [
    "(lambda a1,a2:a1 + a2)(int(input(\"Enter a Number : \")),int(input(\"Enter a Second Number :\")))"
   ]
  },
  {
   "cell_type": "code",
   "execution_count": null,
   "id": "cb527541",
   "metadata": {},
   "outputs": [],
   "source": [
    "k = (lambda a1,a2:a1 + a2)\n",
    "k"
   ]
  },
  {
   "cell_type": "code",
   "execution_count": null,
   "id": "8b083669",
   "metadata": {},
   "outputs": [],
   "source": [
    "k(56,78)"
   ]
  },
  {
   "cell_type": "code",
   "execution_count": null,
   "id": "529b4e7d",
   "metadata": {},
   "outputs": [],
   "source": [
    "# Write a Function To display all The Fruits that Starts With A\n",
    "\n",
    "def Fr(fruits):\n",
    "        if fruits.startswith(\"A\" and \"a\"):\n",
    "            return fruits\n",
    "        else:\n",
    "            return \"\"\n",
    "Fr(fruits)\n"
   ]
  },
  {
   "cell_type": "code",
   "execution_count": 4,
   "id": "edf50736",
   "metadata": {},
   "outputs": [
    {
     "data": {
      "text/plain": [
       "''"
      ]
     },
     "execution_count": 4,
     "metadata": {},
     "output_type": "execute_result"
    }
   ],
   "source": [
    "(lambda fruit: fruit if fruit.startswith(\"a\" and \"A\") else \"\")(\"Guava\")"
   ]
  },
  {
   "cell_type": "code",
   "execution_count": 9,
   "id": "7f3da7a2",
   "metadata": {},
   "outputs": [
    {
     "name": "stdout",
     "output_type": "stream",
     "text": [
      "Enter a Number :p\n"
     ]
    },
    {
     "ename": "ValueError",
     "evalue": "invalid literal for int() with base 10: 'p'",
     "output_type": "error",
     "traceback": [
      "\u001b[1;31m---------------------------------------------------------------------------\u001b[0m",
      "\u001b[1;31mValueError\u001b[0m                                Traceback (most recent call last)",
      "Input \u001b[1;32mIn [9]\u001b[0m, in \u001b[0;36m<cell line: 1>\u001b[1;34m()\u001b[0m\n\u001b[1;32m----> 1\u001b[0m s \u001b[38;5;241m=\u001b[39m \u001b[38;5;28;43mint\u001b[39;49m\u001b[43m(\u001b[49m\u001b[38;5;28;43minput\u001b[39;49m\u001b[43m(\u001b[49m\u001b[38;5;124;43m\"\u001b[39;49m\u001b[38;5;124;43mEnter a Number :\u001b[39;49m\u001b[38;5;124;43m\"\u001b[39;49m\u001b[43m)\u001b[49m\u001b[43m)\u001b[49m\n\u001b[0;32m      2\u001b[0m r \u001b[38;5;241m=\u001b[39m (\u001b[38;5;28;01mlambda\u001b[39;00m x: x \u001b[38;5;28;01mif\u001b[39;00m \u001b[38;5;28mtype\u001b[39m(x) \u001b[38;5;241m==\u001b[39m \u001b[38;5;28mint\u001b[39m \u001b[38;5;28;01melse\u001b[39;00m \u001b[38;5;124m\"\u001b[39m\u001b[38;5;124mstring\u001b[39m\u001b[38;5;124m\"\u001b[39m)\n\u001b[0;32m      3\u001b[0m \u001b[38;5;28mprint\u001b[39m(r(s))\n",
      "\u001b[1;31mValueError\u001b[0m: invalid literal for int() with base 10: 'p'"
     ]
    }
   ],
   "source": [
    "s = int(input(\"Enter a Number :\"))\n",
    "r = (lambda x: x if type(x) == int else \"string\")\n",
    "print(r(s))"
   ]
  },
  {
   "cell_type": "code",
   "execution_count": null,
   "id": "96009697",
   "metadata": {},
   "outputs": [],
   "source": [
    "d = {\"one\":1,\"five\":5,\"two\":2}\n",
    "d.items()"
   ]
  },
  {
   "cell_type": "code",
   "execution_count": null,
   "id": "96d42f09",
   "metadata": {},
   "outputs": [],
   "source": [
    "sorted(d.items(),reverse = True)"
   ]
  },
  {
   "cell_type": "code",
   "execution_count": null,
   "id": "2792ca2d",
   "metadata": {},
   "outputs": [],
   "source": [
    "sorted(d.items(),key=lambda x:x[1])"
   ]
  },
  {
   "cell_type": "code",
   "execution_count": null,
   "id": "4159683b",
   "metadata": {},
   "outputs": [],
   "source": [
    "sorted(d.items(),key=lambda x:x[1],reverse=True)"
   ]
  },
  {
   "cell_type": "code",
   "execution_count": null,
   "id": "29f92e30",
   "metadata": {},
   "outputs": [],
   "source": [
    "#map function\n",
    "# write a program to fetch those fruits name that starts with a\n",
    "# using list comprehension\n",
    "# Without it\n",
    "fruits = [\"Apple\",\"banana \",\"avocado\",\"Lichi\"]\n",
    "def check(fruits):\n",
    "    for i in fruits:\n",
    "        if i.startswith(\"a\" and \"A\"):\n",
    "            return i\n",
    "check(fruits)"
   ]
  },
  {
   "cell_type": "code",
   "execution_count": 10,
   "id": "8d162da4",
   "metadata": {},
   "outputs": [
    {
     "data": {
      "text/plain": [
       "['apple', 'avocado']"
      ]
     },
     "execution_count": 10,
     "metadata": {},
     "output_type": "execute_result"
    }
   ],
   "source": [
    "fruits = [\"apple\",\"banana \",\"avocado\",\"Lichi\"]\n",
    "def check(fruits):\n",
    "    z=[i for i in fruits if i.startswith(\"a\")]\n",
    "    return z\n",
    "check(fruits)"
   ]
  },
  {
   "cell_type": "code",
   "execution_count": null,
   "id": "68b19c86",
   "metadata": {},
   "outputs": [],
   "source": [
    "map(check,z)"
   ]
  },
  {
   "cell_type": "code",
   "execution_count": 18,
   "id": "07aaaf0d",
   "metadata": {},
   "outputs": [
    {
     "name": "stdout",
     "output_type": "stream",
     "text": [
      "apple\n"
     ]
    },
    {
     "data": {
      "text/plain": [
       "''"
      ]
     },
     "execution_count": 18,
     "metadata": {},
     "output_type": "execute_result"
    }
   ],
   "source": [
    "def checker(fruits):\n",
    "    while True:\n",
    "        for i in fruits:\n",
    "            if i.startswith(\"a\"):\n",
    "                print(i)\n",
    "            else:\n",
    "                return \"\"\n",
    "checker(fruits)\n"
   ]
  },
  {
   "cell_type": "code",
   "execution_count": null,
   "id": "9aa5d676",
   "metadata": {},
   "outputs": [],
   "source": [
    "map(checker,fruits)"
   ]
  },
  {
   "cell_type": "code",
   "execution_count": 4,
   "id": "b8c68d03",
   "metadata": {},
   "outputs": [
    {
     "data": {
      "text/plain": [
       "['apple', '', 'avocado', '']"
      ]
     },
     "execution_count": 4,
     "metadata": {},
     "output_type": "execute_result"
    }
   ],
   "source": [
    "fruits = [\"apple\",\"banana \",\"avocado\",\"Lichi\"]\n",
    "l=list(map(lambda fruits: fruits if fruits.startswith(\"a\") else \"\",fruits))\n",
    "l"
   ]
  },
  {
   "cell_type": "code",
   "execution_count": 3,
   "id": "e99c6c56",
   "metadata": {},
   "outputs": [
    {
     "name": "stdout",
     "output_type": "stream",
     "text": [
      "enter a Range : 1 12\n",
      "[1, 2, 3, 4, 5, 6, 7, 8, 9, 10, 11, 12]\n",
      "[1, 8, 27, 64, 125, 216, 343, 512, 729, 1000, 1331, 1728]\n"
     ]
    }
   ],
   "source": [
    "# Take any list and print its cube using map and lambda\n",
    "l = []\n",
    "start,end=input(\"enter a Range : \").split(\" \")\n",
    "start = int(start)\n",
    "end = int(end)\n",
    "for i in range(start,end + 1):\n",
    "    l.append(i)\n",
    "print(l)\n",
    "k = list(map(lambda x :  x*x*x,l))\n",
    "print(k)\n"
   ]
  },
  {
   "cell_type": "code",
   "execution_count": 2,
   "id": "4dc2d745",
   "metadata": {},
   "outputs": [
    {
     "data": {
      "text/plain": [
       "[14, 6, 8]"
      ]
     },
     "execution_count": 2,
     "metadata": {},
     "output_type": "execute_result"
    }
   ],
   "source": [
    "l1 = [12,3,4]\n",
    "l2 = [2,3,4]\n",
    "l = []\n",
    "z= list(zip(l1,l2))\n",
    "z\n",
    "for i in z:\n",
    "    s= i[0] + i[1]\n",
    "    l.append(s)\n",
    "l"
   ]
  },
  {
   "cell_type": "code",
   "execution_count": 6,
   "id": "b1160800",
   "metadata": {},
   "outputs": [
    {
     "data": {
      "text/plain": [
       "[14, 6, 8]"
      ]
     },
     "execution_count": 6,
     "metadata": {},
     "output_type": "execute_result"
    }
   ],
   "source": [
    "list(map(lambda x,y:x+y,l1,l2))"
   ]
  },
  {
   "cell_type": "code",
   "execution_count": 9,
   "id": "f0c10d6e",
   "metadata": {},
   "outputs": [
    {
     "data": {
      "text/plain": [
       "[4, 64, 6]"
      ]
     },
     "execution_count": 9,
     "metadata": {},
     "output_type": "execute_result"
    }
   ],
   "source": [
    "baselist= [2,4,6]\n",
    "powerlist= [2,3,1]\n",
    "list(map(lambda x,y:x**y,baselist,powerlist))"
   ]
  },
  {
   "cell_type": "code",
   "execution_count": 20,
   "id": "bb2d803d",
   "metadata": {},
   "outputs": [
    {
     "data": {
      "text/plain": [
       "['apple', '-', '-', 'avocado']"
      ]
     },
     "execution_count": 20,
     "metadata": {},
     "output_type": "execute_result"
    }
   ],
   "source": [
    "\n",
    "\n",
    "fruits = [\"apple\",\"banana\",\"mango\",\"avocado\"]\n",
    "list(map(lambda fruits:fruits if fruits.startswith(\"a\") else \"-\",fruits))"
   ]
  },
  {
   "cell_type": "code",
   "execution_count": 21,
   "id": "a02b901b",
   "metadata": {},
   "outputs": [
    {
     "data": {
      "text/plain": [
       "['apple', 'banana', 'mango', 'avocado']"
      ]
     },
     "execution_count": 21,
     "metadata": {},
     "output_type": "execute_result"
    }
   ],
   "source": [
    "list(filter(lambda x:x if x.startswith(\"a\") else \"_\",fruits))"
   ]
  },
  {
   "cell_type": "code",
   "execution_count": 18,
   "id": "65d2ca24",
   "metadata": {},
   "outputs": [
    {
     "data": {
      "text/plain": [
       "[2, 4, 6, 8]"
      ]
     },
     "execution_count": 18,
     "metadata": {},
     "output_type": "execute_result"
    }
   ],
   "source": [
    "l = [1,2,3,4]\n",
    "list(map(lambda x: x*2,l))"
   ]
  },
  {
   "cell_type": "markdown",
   "id": "6ec37f2b",
   "metadata": {},
   "source": [
    "#reduce"
   ]
  },
  {
   "cell_type": "code",
   "execution_count": 23,
   "id": "878fc0ce",
   "metadata": {},
   "outputs": [
    {
     "data": {
      "text/plain": [
       "113"
      ]
     },
     "execution_count": 23,
     "metadata": {},
     "output_type": "execute_result"
    }
   ],
   "source": [
    "from functools import reduce\n",
    "l = [47,11,42,13]\n",
    "reduce(lambda x,y:x+y,l)"
   ]
  },
  {
   "cell_type": "code",
   "execution_count": 26,
   "id": "4def003c",
   "metadata": {},
   "outputs": [
    {
     "data": {
      "text/plain": [
       "47"
      ]
     },
     "execution_count": 26,
     "metadata": {},
     "output_type": "execute_result"
    }
   ],
   "source": [
    "reduce(lambda x,y:x if x > y else y ,l)"
   ]
  },
  {
   "cell_type": "code",
   "execution_count": null,
   "id": "f67101d6",
   "metadata": {},
   "outputs": [],
   "source": []
  }
 ],
 "metadata": {
  "kernelspec": {
   "display_name": "Python 3 (ipykernel)",
   "language": "python",
   "name": "python3"
  },
  "language_info": {
   "codemirror_mode": {
    "name": "ipython",
    "version": 3
   },
   "file_extension": ".py",
   "mimetype": "text/x-python",
   "name": "python",
   "nbconvert_exporter": "python",
   "pygments_lexer": "ipython3",
   "version": "3.9.12"
  }
 },
 "nbformat": 4,
 "nbformat_minor": 5
}
