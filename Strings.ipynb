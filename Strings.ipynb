{
 "cells": [
  {
   "cell_type": "code",
   "execution_count": 1,
   "id": "44ca96f2",
   "metadata": {},
   "outputs": [
    {
     "name": "stdout",
     "output_type": "stream",
     "text": [
      "hello\n"
     ]
    }
   ],
   "source": [
    "s = \"hello\"\n",
    "print(s) "
   ]
  },
  {
   "cell_type": "code",
   "execution_count": 2,
   "id": "fdd0245d",
   "metadata": {},
   "outputs": [
    {
     "name": "stdout",
     "output_type": "stream",
     "text": [
      "hello\n"
     ]
    }
   ],
   "source": [
    "s = 'hello'\n",
    "print(s)"
   ]
  },
  {
   "cell_type": "code",
   "execution_count": 3,
   "id": "75d8810b",
   "metadata": {},
   "outputs": [
    {
     "name": "stdout",
     "output_type": "stream",
     "text": [
      "hello\n",
      "how are you\n"
     ]
    }
   ],
   "source": [
    "s = '''hello\n",
    "how are you'''\n",
    "print(s)"
   ]
  },
  {
   "cell_type": "code",
   "execution_count": 4,
   "id": "3207c79d",
   "metadata": {},
   "outputs": [
    {
     "name": "stdout",
     "output_type": "stream",
     "text": [
      "\n"
     ]
    }
   ],
   "source": [
    "# empty string\n",
    "s = str()\n",
    "print(s)"
   ]
  },
  {
   "cell_type": "markdown",
   "id": "41f9f6f6",
   "metadata": {},
   "source": [
    "INdexing and Slicing\n",
    "\n",
    "\n",
    "\n"
   ]
  },
  {
   "cell_type": "code",
   "execution_count": 14,
   "id": "1f23b666",
   "metadata": {},
   "outputs": [
    {
     "data": {
      "text/plain": [
       "'P'"
      ]
     },
     "execution_count": 14,
     "metadata": {},
     "output_type": "execute_result"
    }
   ],
   "source": [
    "s = \"Python\"  #indexing starts from 0\n",
    "s[0]"
   ]
  },
  {
   "cell_type": "code",
   "execution_count": 11,
   "id": "2e9546eb",
   "metadata": {},
   "outputs": [
    {
     "data": {
      "text/plain": [
       "'y'"
      ]
     },
     "execution_count": 11,
     "metadata": {},
     "output_type": "execute_result"
    }
   ],
   "source": [
    "s = \"Python\"\n",
    "s[1]"
   ]
  },
  {
   "cell_type": "code",
   "execution_count": 12,
   "id": "e18dd8a0",
   "metadata": {},
   "outputs": [
    {
     "data": {
      "text/plain": [
       "'t'"
      ]
     },
     "execution_count": 12,
     "metadata": {},
     "output_type": "execute_result"
    }
   ],
   "source": [
    "s = \"Python\"\n",
    "s[-4]"
   ]
  },
  {
   "cell_type": "code",
   "execution_count": 13,
   "id": "d93ccfdc",
   "metadata": {},
   "outputs": [
    {
     "data": {
      "text/plain": [
       "'ytho'"
      ]
     },
     "execution_count": 13,
     "metadata": {},
     "output_type": "execute_result"
    }
   ],
   "source": [
    "s = \"Python\"\n",
    "s[1:5]"
   ]
  },
  {
   "cell_type": "code",
   "execution_count": 19,
   "id": "a456f38f",
   "metadata": {},
   "outputs": [
    {
     "data": {
      "text/plain": [
       "'yth'"
      ]
     },
     "execution_count": 19,
     "metadata": {},
     "output_type": "execute_result"
    }
   ],
   "source": [
    "s = \"Python\"\n",
    "s[1:-2]"
   ]
  },
  {
   "cell_type": "code",
   "execution_count": 21,
   "id": "18966176",
   "metadata": {},
   "outputs": [
    {
     "data": {
      "text/plain": [
       "'re sub'"
      ]
     },
     "execution_count": 21,
     "metadata": {},
     "output_type": "execute_result"
    }
   ],
   "source": [
    "s = \"python is my core subject\"\n",
    "s[-10:-4]"
   ]
  },
  {
   "cell_type": "code",
   "execution_count": 22,
   "id": "9a10c8a4",
   "metadata": {},
   "outputs": [
    {
     "data": {
      "text/plain": [
       "'ython'"
      ]
     },
     "execution_count": 22,
     "metadata": {},
     "output_type": "execute_result"
    }
   ],
   "source": [
    "s = \"Python\"\n",
    "s[1:]"
   ]
  },
  {
   "cell_type": "code",
   "execution_count": 24,
   "id": "b6624bd1",
   "metadata": {},
   "outputs": [
    {
     "data": {
      "text/plain": [
       "'ython is my core subject'"
      ]
     },
     "execution_count": 24,
     "metadata": {},
     "output_type": "execute_result"
    }
   ],
   "source": [
    "s = \"python is my core subject\"\n",
    "s[1:]"
   ]
  },
  {
   "cell_type": "code",
   "execution_count": 26,
   "id": "f82b4d7b",
   "metadata": {},
   "outputs": [
    {
     "data": {
      "text/plain": [
       "'jb'"
      ]
     },
     "execution_count": 26,
     "metadata": {},
     "output_type": "execute_result"
    }
   ],
   "source": [
    "s = \"python is my core subject\"\n",
    "s[-4:-6:-1]"
   ]
  },
  {
   "cell_type": "code",
   "execution_count": 89,
   "id": "ee35b7b3",
   "metadata": {},
   "outputs": [
    {
     "data": {
      "text/plain": [
       "'yoim'"
      ]
     },
     "execution_count": 89,
     "metadata": {},
     "output_type": "execute_result"
    }
   ],
   "source": [
    "s = \"python is my core subject\"\n",
    "s[1:12:3]"
   ]
  },
  {
   "cell_type": "code",
   "execution_count": 29,
   "id": "b76eb451",
   "metadata": {},
   "outputs": [
    {
     "data": {
      "text/plain": [
       "'tcejbus '"
      ]
     },
     "execution_count": 29,
     "metadata": {},
     "output_type": "execute_result"
    }
   ],
   "source": [
    "s = \"python is my core subject\"\n",
    "s[-1:-9:-1]"
   ]
  },
  {
   "cell_type": "code",
   "execution_count": 30,
   "id": "3038a438",
   "metadata": {},
   "outputs": [
    {
     "data": {
      "text/plain": [
       "'tebs'"
      ]
     },
     "execution_count": 30,
     "metadata": {},
     "output_type": "execute_result"
    }
   ],
   "source": [
    "s = \"python is my core subject\"\n",
    "s[-1:-9:-2]"
   ]
  },
  {
   "cell_type": "code",
   "execution_count": 32,
   "id": "77417d60",
   "metadata": {},
   "outputs": [
    {
     "data": {
      "text/plain": [
       "'esbe'"
      ]
     },
     "execution_count": 32,
     "metadata": {},
     "output_type": "execute_result"
    }
   ],
   "source": [
    "s = \"python is my core subject\"\n",
    "s[-9:-1:2]"
   ]
  },
  {
   "cell_type": "code",
   "execution_count": 1,
   "id": "eb78b166",
   "metadata": {},
   "outputs": [
    {
     "data": {
      "text/plain": [
       "'ct'"
      ]
     },
     "execution_count": 1,
     "metadata": {},
     "output_type": "execute_result"
    }
   ],
   "source": [
    "s = \"python is my core subject\"\n",
    "s[-2::]"
   ]
  },
  {
   "cell_type": "code",
   "execution_count": 2,
   "id": "f3204a0b",
   "metadata": {},
   "outputs": [
    {
     "data": {
      "text/plain": [
       "'us eroc ym si nohtyp'"
      ]
     },
     "execution_count": 2,
     "metadata": {},
     "output_type": "execute_result"
    }
   ],
   "source": [
    "s = \"python is my core subject\"\n",
    "s[-6::-1]"
   ]
  },
  {
   "cell_type": "code",
   "execution_count": 1,
   "id": "38b2ae8e",
   "metadata": {},
   "outputs": [],
   "source": [
    "s = \"madrid solutions\""
   ]
  },
  {
   "cell_type": "code",
   "execution_count": 2,
   "id": "52450724",
   "metadata": {},
   "outputs": [],
   "source": [
    "s = \"python\"\n",
    "s=\"s\""
   ]
  },
  {
   "cell_type": "code",
   "execution_count": 5,
   "id": "67944a2d",
   "metadata": {},
   "outputs": [
    {
     "ename": "TypeError",
     "evalue": "'str' object doesn't support item deletion",
     "output_type": "error",
     "traceback": [
      "\u001b[1;31m---------------------------------------------------------------------------\u001b[0m",
      "\u001b[1;31mTypeError\u001b[0m                                 Traceback (most recent call last)",
      "Input \u001b[1;32mIn [5]\u001b[0m, in \u001b[0;36m<cell line: 3>\u001b[1;34m()\u001b[0m\n\u001b[0;32m      1\u001b[0m s \u001b[38;5;241m=\u001b[39m \u001b[38;5;124m\"\u001b[39m\u001b[38;5;124mpython\u001b[39m\u001b[38;5;124m\"\u001b[39m\n\u001b[0;32m      2\u001b[0m s[\u001b[38;5;241m1\u001b[39m]\n\u001b[1;32m----> 3\u001b[0m \u001b[38;5;28;01mdel\u001b[39;00m s[\u001b[38;5;241m1\u001b[39m]\n",
      "\u001b[1;31mTypeError\u001b[0m: 'str' object doesn't support item deletion"
     ]
    }
   ],
   "source": [
    "s = \"python\"\n",
    "s[1]\n",
    "del s[1]"
   ]
  },
  {
   "cell_type": "code",
   "execution_count": 6,
   "id": "b39d795f",
   "metadata": {},
   "outputs": [],
   "source": [
    "s = \"python\"\n",
    "del s"
   ]
  },
  {
   "cell_type": "code",
   "execution_count": 7,
   "id": "08797680",
   "metadata": {},
   "outputs": [
    {
     "name": "stdout",
     "output_type": "stream",
     "text": [
      "python\n",
      "Madrid\n"
     ]
    }
   ],
   "source": [
    "s = \"python\"\n",
    "print(s)\n",
    "s = \"Madrid\"\n",
    "print(s)"
   ]
  },
  {
   "cell_type": "markdown",
   "id": "c7051ac1",
   "metadata": {},
   "source": [
    "# string operators"
   ]
  },
  {
   "cell_type": "code",
   "execution_count": null,
   "id": "93456427",
   "metadata": {},
   "outputs": [],
   "source": [
    "\"arithematic\n",
    "relational\n",
    "logical\n",
    "membership\n"
   ]
  },
  {
   "cell_type": "code",
   "execution_count": 11,
   "id": "a71c44a3",
   "metadata": {},
   "outputs": [
    {
     "ename": "SyntaxError",
     "evalue": "invalid syntax (2440288985.py, line 2)",
     "output_type": "error",
     "traceback": [
      "\u001b[1;36m  Input \u001b[1;32mIn [11]\u001b[1;36m\u001b[0m\n\u001b[1;33m    K=(s1 + s2) \"+\" Hi How aRE yOU\u001b[0m\n\u001b[1;37m                ^\u001b[0m\n\u001b[1;31mSyntaxError\u001b[0m\u001b[1;31m:\u001b[0m invalid syntax\n"
     ]
    }
   ],
   "source": [
    "s1,s2 = input(\"Enter a Word\").split( )\n",
    "K=(s1 + s2) \"+\" Hi How aRE yOU\n"
   ]
  },
  {
   "cell_type": "code",
   "execution_count": 12,
   "id": "96970fbf",
   "metadata": {},
   "outputs": [
    {
     "name": "stdout",
     "output_type": "stream",
     "text": [
      "hellohellohellohellohellohellohellohellohellohello\n"
     ]
    }
   ],
   "source": [
    "a = \"hello\"\n",
    "print(a*10)"
   ]
  },
  {
   "cell_type": "code",
   "execution_count": 15,
   "id": "afddf453",
   "metadata": {},
   "outputs": [
    {
     "name": "stdout",
     "output_type": "stream",
     "text": [
      "False\n"
     ]
    }
   ],
   "source": [
    "a = \"kaif\"\n",
    "a1 = \"md\"\n",
    "print(a==a1)"
   ]
  },
  {
   "cell_type": "code",
   "execution_count": 16,
   "id": "34466ab7",
   "metadata": {},
   "outputs": [
    {
     "name": "stdout",
     "output_type": "stream",
     "text": [
      "True\n"
     ]
    }
   ],
   "source": [
    "a = \"kaif\"\n",
    "a1 = \"md\"\n",
    "print(a!=a1)"
   ]
  },
  {
   "cell_type": "code",
   "execution_count": 17,
   "id": "a16efb71",
   "metadata": {},
   "outputs": [
    {
     "name": "stdout",
     "output_type": "stream",
     "text": [
      "False\n"
     ]
    }
   ],
   "source": [
    "a = \"kaif\"\n",
    "a1 = \"md\"\n",
    "print(a>a1)"
   ]
  },
  {
   "cell_type": "code",
   "execution_count": 18,
   "id": "a154af70",
   "metadata": {},
   "outputs": [
    {
     "name": "stdout",
     "output_type": "stream",
     "text": [
      "True\n"
     ]
    }
   ],
   "source": [
    "a = \"kaif\"\n",
    "a1 = \"md\"\n",
    "print(a<a1)"
   ]
  },
  {
   "cell_type": "code",
   "execution_count": 20,
   "id": "528ea535",
   "metadata": {},
   "outputs": [
    {
     "data": {
      "text/plain": [
       "''"
      ]
     },
     "execution_count": 20,
     "metadata": {},
     "output_type": "execute_result"
    }
   ],
   "source": [
    "a = \"kaif\" and \"\"\n",
    "a"
   ]
  },
  {
   "cell_type": "code",
   "execution_count": 22,
   "id": "c33fd7ae",
   "metadata": {},
   "outputs": [
    {
     "data": {
      "text/plain": [
       "'kaif'"
      ]
     },
     "execution_count": 22,
     "metadata": {},
     "output_type": "execute_result"
    }
   ],
   "source": [
    "a = \"kaif\" or \"\"\n",
    "a"
   ]
  },
  {
   "cell_type": "code",
   "execution_count": 24,
   "id": "85eaaed0",
   "metadata": {},
   "outputs": [
    {
     "data": {
      "text/plain": [
       "'md'"
      ]
     },
     "execution_count": 24,
     "metadata": {},
     "output_type": "execute_result"
    }
   ],
   "source": [
    "a = \"kaif\" and \"md\"\n",
    "a"
   ]
  },
  {
   "cell_type": "code",
   "execution_count": 26,
   "id": "9c628f74",
   "metadata": {},
   "outputs": [
    {
     "data": {
      "text/plain": [
       "'kaif'"
      ]
     },
     "execution_count": 26,
     "metadata": {},
     "output_type": "execute_result"
    }
   ],
   "source": [
    "a = \"kaif\" or \"md\"\n",
    "a"
   ]
  },
  {
   "cell_type": "code",
   "execution_count": 28,
   "id": "b3a75c87",
   "metadata": {},
   "outputs": [
    {
     "name": "stdout",
     "output_type": "stream",
     "text": [
      "p\n",
      "y\n",
      "t\n",
      "h\n",
      "o\n",
      "n\n"
     ]
    }
   ],
   "source": [
    "s = \"python\"\n",
    "for i in s:\n",
    "    print(i)"
   ]
  },
  {
   "cell_type": "code",
   "execution_count": 31,
   "id": "ea134e4c",
   "metadata": {},
   "outputs": [
    {
     "name": "stdout",
     "output_type": "stream",
     "text": [
      "y\n",
      "t\n",
      "h\n",
      "o\n",
      "n\n"
     ]
    }
   ],
   "source": [
    "s = \"python\"\n",
    "for i in s[1:6]:\n",
    "    print(i)"
   ]
  },
  {
   "cell_type": "code",
   "execution_count": 1,
   "id": "a653031e",
   "metadata": {},
   "outputs": [
    {
     "name": "stdout",
     "output_type": "stream",
     "text": [
      " \n",
      " \n",
      " \n",
      " \n",
      " \n"
     ]
    }
   ],
   "source": [
    "s = \"hello\"\n",
    "for i in s:\n",
    "    print(\" \")"
   ]
  },
  {
   "cell_type": "code",
   "execution_count": 2,
   "id": "810ef1af",
   "metadata": {},
   "outputs": [
    {
     "data": {
      "text/plain": [
       "5"
      ]
     },
     "execution_count": 2,
     "metadata": {},
     "output_type": "execute_result"
    }
   ],
   "source": [
    "len(s)"
   ]
  },
  {
   "cell_type": "code",
   "execution_count": 41,
   "id": "56050ef2",
   "metadata": {},
   "outputs": [
    {
     "data": {
      "text/plain": [
       "'r'"
      ]
     },
     "execution_count": 41,
     "metadata": {},
     "output_type": "execute_result"
    }
   ],
   "source": [
    "max(\"Madrid\")"
   ]
  },
  {
   "cell_type": "code",
   "execution_count": 2,
   "id": "0c8a2526",
   "metadata": {},
   "outputs": [
    {
     "ename": "TypeError",
     "evalue": "'builtin_function_or_method' object is not subscriptable",
     "output_type": "error",
     "traceback": [
      "\u001b[1;31m---------------------------------------------------------------------------\u001b[0m",
      "\u001b[1;31mTypeError\u001b[0m                                 Traceback (most recent call last)",
      "Input \u001b[1;32mIn [2]\u001b[0m, in \u001b[0;36m<cell line: 1>\u001b[1;34m()\u001b[0m\n\u001b[1;32m----> 1\u001b[0m \u001b[38;5;28;43mlen\u001b[39;49m\u001b[43m[\u001b[49m\u001b[38;5;124;43m\"\u001b[39;49m\u001b[38;5;124;43m1,2,3,4,5,6,7,8,9\u001b[39;49m\u001b[38;5;124;43m\"\u001b[39;49m\u001b[43m]\u001b[49m\n",
      "\u001b[1;31mTypeError\u001b[0m: 'builtin_function_or_method' object is not subscriptable"
     ]
    }
   ],
   "source": [
    "len[\"1,2,3,4,5,6,7,8,9\"]"
   ]
  },
  {
   "cell_type": "code",
   "execution_count": 45,
   "id": "8f33fb1c",
   "metadata": {},
   "outputs": [
    {
     "data": {
      "text/plain": [
       "['a', 'd', 'd', 'i', 'm', 'o', 'r']"
      ]
     },
     "execution_count": 45,
     "metadata": {},
     "output_type": "execute_result"
    }
   ],
   "source": [
    "sorted(\"madroid\")"
   ]
  },
  {
   "cell_type": "code",
   "execution_count": 3,
   "id": "90e1c497",
   "metadata": {},
   "outputs": [
    {
     "data": {
      "text/plain": [
       "['r', 'o', 'm', 'i', 'd', 'd', 'a']"
      ]
     },
     "execution_count": 3,
     "metadata": {},
     "output_type": "execute_result"
    }
   ],
   "source": [
    "sorted(\"madroid\", reverse = True)"
   ]
  },
  {
   "cell_type": "code",
   "execution_count": 59,
   "id": "43c28011",
   "metadata": {},
   "outputs": [
    {
     "name": "stdout",
     "output_type": "stream",
     "text": [
      "Madrid Software\n"
     ]
    },
    {
     "data": {
      "text/plain": [
       "'madrid software'"
      ]
     },
     "execution_count": 59,
     "metadata": {},
     "output_type": "execute_result"
    }
   ],
   "source": [
    "s = \"madrid software\"\n",
    "print(s.title())\n",
    "s"
   ]
  },
  {
   "cell_type": "code",
   "execution_count": 58,
   "id": "3099a9e4",
   "metadata": {},
   "outputs": [
    {
     "name": "stdout",
     "output_type": "stream",
     "text": [
      "Madrid software\n"
     ]
    },
    {
     "data": {
      "text/plain": [
       "'madrid software'"
      ]
     },
     "execution_count": 58,
     "metadata": {},
     "output_type": "execute_result"
    }
   ],
   "source": [
    "s = \"madrid software\"\n",
    "print(s.capitalize())\n",
    "s"
   ]
  },
  {
   "cell_type": "code",
   "execution_count": 57,
   "id": "5b918af8",
   "metadata": {},
   "outputs": [
    {
     "name": "stdout",
     "output_type": "stream",
     "text": [
      "madrid software\n"
     ]
    },
    {
     "data": {
      "text/plain": [
       "'Madrid Software'"
      ]
     },
     "execution_count": 57,
     "metadata": {},
     "output_type": "execute_result"
    }
   ],
   "source": [
    "s = \"Madrid Software\"\n",
    "print(s.lower())\n",
    "s"
   ]
  },
  {
   "cell_type": "code",
   "execution_count": 56,
   "id": "506487b5",
   "metadata": {},
   "outputs": [
    {
     "name": "stdout",
     "output_type": "stream",
     "text": [
      "MADRID SOFTWARE\n"
     ]
    },
    {
     "data": {
      "text/plain": [
       "'madrid software'"
      ]
     },
     "execution_count": 56,
     "metadata": {},
     "output_type": "execute_result"
    }
   ],
   "source": [
    "s = \"madrid software\"\n",
    "print(s.upper())\n",
    "s"
   ]
  },
  {
   "cell_type": "code",
   "execution_count": 61,
   "id": "844098a1",
   "metadata": {},
   "outputs": [
    {
     "name": "stdout",
     "output_type": "stream",
     "text": [
      "MAdRID sOFTwARE\n"
     ]
    },
    {
     "data": {
      "text/plain": [
       "'maDrid SoftWare'"
      ]
     },
     "execution_count": 61,
     "metadata": {},
     "output_type": "execute_result"
    }
   ],
   "source": [
    "s = \"maDrid SoftWare\"\n",
    "print(s.swapcase())\n",
    "s"
   ]
  },
  {
   "cell_type": "code",
   "execution_count": 63,
   "id": "e98604e8",
   "metadata": {},
   "outputs": [
    {
     "data": {
      "text/plain": [
       "3"
      ]
     },
     "execution_count": 63,
     "metadata": {},
     "output_type": "execute_result"
    }
   ],
   "source": [
    "a = \"hi heena how are you\"\n",
    "a.count(\"h\")"
   ]
  },
  {
   "cell_type": "code",
   "execution_count": 68,
   "id": "60558672",
   "metadata": {},
   "outputs": [
    {
     "data": {
      "text/plain": [
       "4"
      ]
     },
     "execution_count": 68,
     "metadata": {},
     "output_type": "execute_result"
    }
   ],
   "source": [
    "a = \"my my my my my my\"\n",
    "a.count(\"my\",0,11)"
   ]
  },
  {
   "cell_type": "code",
   "execution_count": 69,
   "id": "f6f5366e",
   "metadata": {},
   "outputs": [
    {
     "data": {
      "text/plain": [
       "0"
      ]
     },
     "execution_count": 69,
     "metadata": {},
     "output_type": "execute_result"
    }
   ],
   "source": [
    "a = \"my my my my my my\"\n",
    "a.count(\"hi\")"
   ]
  },
  {
   "cell_type": "code",
   "execution_count": 3,
   "id": "a6404207",
   "metadata": {},
   "outputs": [
    {
     "data": {
      "text/plain": [
       "3"
      ]
     },
     "execution_count": 3,
     "metadata": {},
     "output_type": "execute_result"
    }
   ],
   "source": [
    "#  \n",
    "s = \"python Notebook\"\n",
    "s.index(\"h\")"
   ]
  },
  {
   "cell_type": "code",
   "execution_count": 4,
   "id": "82e884fc",
   "metadata": {},
   "outputs": [
    {
     "data": {
      "text/plain": [
       "-1"
      ]
     },
     "execution_count": 4,
     "metadata": {},
     "output_type": "execute_result"
    }
   ],
   "source": [
    "# find\n",
    "s = \"Python\"\n",
    "s.find(\"k\")"
   ]
  },
  {
   "cell_type": "code",
   "execution_count": 5,
   "id": "4b127139",
   "metadata": {},
   "outputs": [
    {
     "data": {
      "text/plain": [
       "8"
      ]
     },
     "execution_count": 5,
     "metadata": {},
     "output_type": "execute_result"
    }
   ],
   "source": [
    "s = \"Python Core\"\n",
    "s.index(\"o\",7,9)"
   ]
  },
  {
   "cell_type": "code",
   "execution_count": 6,
   "id": "034a6469",
   "metadata": {},
   "outputs": [
    {
     "data": {
      "text/plain": [
       "False"
      ]
     },
     "execution_count": 6,
     "metadata": {},
     "output_type": "execute_result"
    }
   ],
   "source": [
    "# is check Methods\n",
    "# is.alnum\n",
    "s = \"Madrid Solution\"\n",
    "s.isalnum()\n"
   ]
  },
  {
   "cell_type": "code",
   "execution_count": 7,
   "id": "ff893044",
   "metadata": {},
   "outputs": [
    {
     "data": {
      "text/plain": [
       "False"
      ]
     },
     "execution_count": 7,
     "metadata": {},
     "output_type": "execute_result"
    }
   ],
   "source": [
    "# is.alpha\n",
    "s = \"Madrid Solution\"\n",
    "s.isalpha()\n"
   ]
  },
  {
   "cell_type": "code",
   "execution_count": 9,
   "id": "a9b3947a",
   "metadata": {},
   "outputs": [
    {
     "data": {
      "text/plain": [
       "True"
      ]
     },
     "execution_count": 9,
     "metadata": {},
     "output_type": "execute_result"
    }
   ],
   "source": [
    "# is.alnum\n",
    "s = \"MadridSolution1\"\n",
    "s.isalnum()\n"
   ]
  },
  {
   "cell_type": "code",
   "execution_count": 19,
   "id": "28a69830",
   "metadata": {},
   "outputs": [
    {
     "data": {
      "text/plain": [
       "True"
      ]
     },
     "execution_count": 19,
     "metadata": {},
     "output_type": "execute_result"
    }
   ],
   "source": [
    "#isspace\n",
    "s = \" \"\n",
    "s.isspace()\n",
    "\n"
   ]
  },
  {
   "cell_type": "code",
   "execution_count": 12,
   "id": "37715bca",
   "metadata": {},
   "outputs": [
    {
     "data": {
      "text/plain": [
       "True"
      ]
     },
     "execution_count": 12,
     "metadata": {},
     "output_type": "execute_result"
    }
   ],
   "source": [
    "#is Lower\n",
    "s = \"madrid solution\"\n",
    "s.islower()"
   ]
  },
  {
   "cell_type": "code",
   "execution_count": 15,
   "id": "4b90fc04",
   "metadata": {},
   "outputs": [
    {
     "data": {
      "text/plain": [
       "False"
      ]
     },
     "execution_count": 15,
     "metadata": {},
     "output_type": "execute_result"
    }
   ],
   "source": [
    "# is.digit\n",
    "s = \"MadridSolution1\"\n",
    "s.isdigit()\n"
   ]
  },
  {
   "cell_type": "code",
   "execution_count": 25,
   "id": "f521d5f3",
   "metadata": {},
   "outputs": [
    {
     "data": {
      "text/plain": [
       "'Kaif'"
      ]
     },
     "execution_count": 25,
     "metadata": {},
     "output_type": "execute_result"
    }
   ],
   "source": [
    "# is capitalize\n",
    "s = \"kaif\"\n",
    "s.capitalize()"
   ]
  },
  {
   "cell_type": "code",
   "execution_count": 29,
   "id": "e9809611",
   "metadata": {},
   "outputs": [
    {
     "name": "stdout",
     "output_type": "stream",
     "text": [
      "Python Core Is Interesting\n",
      "Python Core Is Boring\n"
     ]
    }
   ],
   "source": [
    "# replace\n",
    "s = \"Python Core Is Interesting\"\n",
    "s1 = s.replace(\"Interesting\",\"Boring\")\n",
    "print(s)\n",
    "print(s1)"
   ]
  },
  {
   "cell_type": "code",
   "execution_count": 30,
   "id": "f1232123",
   "metadata": {},
   "outputs": [
    {
     "name": "stdout",
     "output_type": "stream",
     "text": [
      "Python Core Is Interesting\n",
      "Pythbn Cbre Is Interesting\n"
     ]
    }
   ],
   "source": [
    "s = \"Python Core Is Interesting\"\n",
    "s1 = s.replace(\"o\",\"b\")\n",
    "print(s)\n",
    "print(s1)"
   ]
  },
  {
   "cell_type": "code",
   "execution_count": 32,
   "id": "6cc3993b",
   "metadata": {},
   "outputs": [
    {
     "name": "stdout",
     "output_type": "stream",
     "text": [
      "Python Core Is Interesting\n",
      "Pythbn Cbre Is Interesting\n"
     ]
    }
   ],
   "source": [
    "s = \"Python Core Is Interesting\"\n",
    "s1 = s.replace(\"o\",\"b\",2)\n",
    "print(s)\n",
    "print(s1)"
   ]
  },
  {
   "cell_type": "code",
   "execution_count": 33,
   "id": "302fc3ed",
   "metadata": {},
   "outputs": [
    {
     "name": "stdout",
     "output_type": "stream",
     "text": [
      "Python Core Is Interesting or Boring\n",
      "Pythbn Cbre Is Interesting br Boring\n"
     ]
    }
   ],
   "source": [
    "s = \"Python Core Is Interesting or Boring\"\n",
    "s1 = s.replace(\"o\",\"b\",3)\n",
    "print(s)\n",
    "print(s1)"
   ]
  },
  {
   "cell_type": "code",
   "execution_count": 35,
   "id": "fed68444",
   "metadata": {},
   "outputs": [
    {
     "name": "stdout",
     "output_type": "stream",
     "text": [
      "Enter A String : return\n",
      "Enter A String : u\n"
     ]
    },
    {
     "data": {
      "text/plain": [
       "'retrn'"
      ]
     },
     "execution_count": 35,
     "metadata": {},
     "output_type": "execute_result"
    }
   ],
   "source": [
    "# Write A Program To remove A Particular String From A Given String\n",
    "s = input(\"Enter A String : \")\n",
    "s1 = input(\"Enter A String : \")\n",
    "s.replace(s1,\"\")"
   ]
  },
  {
   "cell_type": "code",
   "execution_count": 41,
   "id": "98042532",
   "metadata": {},
   "outputs": [
    {
     "name": "stdout",
     "output_type": "stream",
     "text": [
      "Enter A String: toppers\n",
      "Enter The Position: 6\n",
      "toppers\n"
     ]
    }
   ],
   "source": [
    "# Remove A Particular Character From A Particular Position\n",
    "s = input(\"Enter A String: \")\n",
    "pos = input(\"Enter The Position: \")\n",
    "s1 = \"\"\n",
    "for i in range(0,len(s)):\n",
    "    if i != pos:\n",
    "        s1 =  s1 + s[i]\n",
    "print(s1)"
   ]
  },
  {
   "cell_type": "code",
   "execution_count": 4,
   "id": "6e40b1a6",
   "metadata": {},
   "outputs": [
    {
     "name": "stdout",
     "output_type": "stream",
     "text": [
      "Enter A String: hello\n",
      "Enter The Position: 2\n"
     ]
    },
    {
     "ename": "TypeError",
     "evalue": "unsupported operand type(s) for -: 'str' and 'int'",
     "output_type": "error",
     "traceback": [
      "\u001b[1;31m---------------------------------------------------------------------------\u001b[0m",
      "\u001b[1;31mTypeError\u001b[0m                                 Traceback (most recent call last)",
      "Input \u001b[1;32mIn [4]\u001b[0m, in \u001b[0;36m<cell line: 3>\u001b[1;34m()\u001b[0m\n\u001b[0;32m      1\u001b[0m s \u001b[38;5;241m=\u001b[39m \u001b[38;5;28minput\u001b[39m(\u001b[38;5;124m\"\u001b[39m\u001b[38;5;124mEnter A String: \u001b[39m\u001b[38;5;124m\"\u001b[39m)\n\u001b[0;32m      2\u001b[0m pos \u001b[38;5;241m=\u001b[39m \u001b[38;5;28minput\u001b[39m(\u001b[38;5;124m\"\u001b[39m\u001b[38;5;124mEnter The Position: \u001b[39m\u001b[38;5;124m\"\u001b[39m)\n\u001b[1;32m----> 3\u001b[0m s1 \u001b[38;5;241m=\u001b[39m s[\u001b[38;5;241m0\u001b[39m:\u001b[43mpos\u001b[49m\u001b[38;5;241;43m-\u001b[39;49m\u001b[38;5;241;43m1\u001b[39;49m] \u001b[38;5;241m+\u001b[39m s[pos \u001b[38;5;241m+\u001b[39m \u001b[38;5;241m1\u001b[39m:]\n\u001b[0;32m      4\u001b[0m \u001b[38;5;28mprint\u001b[39m(s1)\n",
      "\u001b[1;31mTypeError\u001b[0m: unsupported operand type(s) for -: 'str' and 'int'"
     ]
    }
   ],
   "source": [
    "s = input(\"Enter A String: \")\n",
    "pos = input(\"Enter The Position: \")\n",
    "s1 = s[0:pos-1] + s[pos + 1:]\n",
    "print(s1)"
   ]
  },
  {
   "cell_type": "code",
   "execution_count": 44,
   "id": "bc8e482f",
   "metadata": {},
   "outputs": [
    {
     "name": "stdout",
     "output_type": "stream",
     "text": [
      "Madid Software\n"
     ]
    }
   ],
   "source": [
    "s = \"Madrid Software\"\n",
    "s = s[0:3]+s[4:]\n",
    "print(s)"
   ]
  },
  {
   "cell_type": "code",
   "execution_count": 53,
   "id": "aef95d03",
   "metadata": {},
   "outputs": [
    {
     "name": "stdout",
     "output_type": "stream",
     "text": [
      "4 is the Square of 2\n"
     ]
    }
   ],
   "source": [
    "# format\n",
    "a = 2\n",
    "b = 4\n",
    "print(\"{} is the Square of {}\".format(b,a))"
   ]
  },
  {
   "cell_type": "code",
   "execution_count": 54,
   "id": "8197f444",
   "metadata": {},
   "outputs": [
    {
     "ename": "SyntaxError",
     "evalue": "invalid syntax (4042388099.py, line 1)",
     "output_type": "error",
     "traceback": [
      "\u001b[1;36m  Input \u001b[1;32mIn [54]\u001b[1;36m\u001b[0m\n\u001b[1;33m    string = \"hi\" {} {}.format(\"hello\",\"its you\", \"you\")\u001b[0m\n\u001b[1;37m                  ^\u001b[0m\n\u001b[1;31mSyntaxError\u001b[0m\u001b[1;31m:\u001b[0m invalid syntax\n"
     ]
    }
   ],
   "source": [
    "string = \"hi\" {} {}.format(\"hello\",\"its you\", \"you\")\n",
    "print(string)"
   ]
  },
  {
   "cell_type": "code",
   "execution_count": 56,
   "id": "1ee60fa5",
   "metadata": {},
   "outputs": [
    {
     "data": {
      "text/plain": [
       "True"
      ]
     },
     "execution_count": 56,
     "metadata": {},
     "output_type": "execute_result"
    }
   ],
   "source": [
    "s = \"Kaif\"\n",
    "s.startswith(\"K\")"
   ]
  },
  {
   "cell_type": "code",
   "execution_count": 57,
   "id": "14189163",
   "metadata": {},
   "outputs": [
    {
     "data": {
      "text/plain": [
       "True"
      ]
     },
     "execution_count": 57,
     "metadata": {},
     "output_type": "execute_result"
    }
   ],
   "source": [
    "s = \"Md Kaif\"\n",
    "s.endswith(\"f\")"
   ]
  },
  {
   "cell_type": "code",
   "execution_count": 65,
   "id": "65e68e42",
   "metadata": {},
   "outputs": [
    {
     "data": {
      "text/plain": [
       "['Python Core']"
      ]
     },
     "execution_count": 65,
     "metadata": {},
     "output_type": "execute_result"
    }
   ],
   "source": [
    "text = \"Python Core\"\n",
    "# Split At Space\n",
    "text.split()\n",
    "# Split at o\n",
    "text.split(\"o\")\n",
    "# split at a\n",
    "text.split(\"a\")"
   ]
  },
  {
   "cell_type": "code",
   "execution_count": 66,
   "id": "4b7dcf6e",
   "metadata": {},
   "outputs": [
    {
     "name": "stdout",
     "output_type": "stream",
     "text": [
      "Enter Your Email id: mkaif6176@gmail.com\n"
     ]
    },
    {
     "data": {
      "text/plain": [
       "['mkaif6176', 'gmail.com']"
      ]
     },
     "execution_count": 66,
     "metadata": {},
     "output_type": "execute_result"
    }
   ],
   "source": [
    "s = input(\"Enter Your Email id: \")\n",
    "s.split(\"@\")"
   ]
  },
  {
   "cell_type": "code",
   "execution_count": 70,
   "id": "c5ba20be",
   "metadata": {},
   "outputs": [
    {
     "data": {
      "text/plain": [
       "['CatBatSatFatOr']"
      ]
     },
     "execution_count": 70,
     "metadata": {},
     "output_type": "execute_result"
    }
   ],
   "source": [
    "s = \"CatBatSatFatOr\"\n",
    "#Split at t\n",
    "s.split(\"t\",2)\n",
    "# SPLIT AT sppace\n",
    "s.split(\" \",2)\n"
   ]
  },
  {
   "cell_type": "code",
   "execution_count": 69,
   "id": "3db96b4b",
   "metadata": {},
   "outputs": [
    {
     "data": {
      "text/plain": [
       "['W', 'E', 'L,C,O,M,E']"
      ]
     },
     "execution_count": 69,
     "metadata": {},
     "output_type": "execute_result"
    }
   ],
   "source": [
    "s = \"W,E,L,C,O,M,E\"\n",
    "s.split(\",\",2)"
   ]
  },
  {
   "cell_type": "code",
   "execution_count": 72,
   "id": "26676c2a",
   "metadata": {},
   "outputs": [
    {
     "data": {
      "text/plain": [
       "['mkaif@gmail.com', 'mails', 'inbox']"
      ]
     },
     "execution_count": 72,
     "metadata": {},
     "output_type": "execute_result"
    }
   ],
   "source": [
    "# right side Split\n",
    "s = \"mkaif@gmail.com/mails/inbox\"\n",
    "s.rsplit(\"/\",1)\n",
    "# if we Dont give max split\n",
    "s.rsplit(\"/\")"
   ]
  },
  {
   "cell_type": "code",
   "execution_count": 76,
   "id": "26b37074",
   "metadata": {},
   "outputs": [
    {
     "name": "stdout",
     "output_type": "stream",
     "text": [
      "   forido   \n"
     ]
    },
    {
     "data": {
      "text/plain": [
       "'forido'"
      ]
     },
     "execution_count": 76,
     "metadata": {},
     "output_type": "execute_result"
    }
   ],
   "source": [
    "# Strip Function\n",
    "s = \"   forido   \"\n",
    "print(s)\n",
    "s.strip()"
   ]
  },
  {
   "cell_type": "code",
   "execution_count": 78,
   "id": "72590ee8",
   "metadata": {},
   "outputs": [
    {
     "data": {
      "text/plain": [
       "'1*2*3*4*5*6'"
      ]
     },
     "execution_count": 78,
     "metadata": {},
     "output_type": "execute_result"
    }
   ],
   "source": [
    "l = [\"1\",\"2\",\"3\",\"4\",\"5\",\"6\"]\n",
    "s = \"*\"\n",
    "s.join(l)"
   ]
  },
  {
   "cell_type": "code",
   "execution_count": 81,
   "id": "e243ebc8",
   "metadata": {},
   "outputs": [
    {
     "name": "stdout",
     "output_type": "stream",
     "text": [
      "Enter the Fruitsapple,banana,lichi,gua\n",
      "apple\n"
     ]
    }
   ],
   "source": [
    "# Write A program To Take A list From User and Display All The Words Of The List Which starts With \"A\"\n",
    "fruit = input(\"Enter the Fruits\").split(\",\")\n",
    "for i in fruit:\n",
    "    if i.startswith(\"a\"):\n",
    "        print(i)"
   ]
  },
  {
   "cell_type": "code",
   "execution_count": 83,
   "id": "29aae4af",
   "metadata": {},
   "outputs": [
    {
     "ename": "SyntaxError",
     "evalue": "invalid syntax (593084680.py, line 5)",
     "output_type": "error",
     "traceback": [
      "\u001b[1;36m  Input \u001b[1;32mIn [83]\u001b[1;36m\u001b[0m\n\u001b[1;33m    if i.isupper()\u001b[0m\n\u001b[1;37m                  ^\u001b[0m\n\u001b[1;31mSyntaxError\u001b[0m\u001b[1;31m:\u001b[0m invalid syntax\n"
     ]
    }
   ],
   "source": [
    "# Write a Program TO Check how many uppercase lower case digits and special characters\n",
    "s = \"Uioi5677665@##$#@#@UIUG\"\n",
    "u,l,d,s = 0,0,0,0\n",
    "for i in s:\n",
    "    if i.isupper()\n",
    "    u += 0\n",
    "    elif i\n",
    "print(u)\n",
    "print(s)\n",
    "print(l)\n",
    "print(d)\n",
    "    "
   ]
  },
  {
   "cell_type": "code",
   "execution_count": 88,
   "id": "8239db31",
   "metadata": {},
   "outputs": [
    {
     "name": "stdout",
     "output_type": "stream",
     "text": [
      "dirdaM"
     ]
    }
   ],
   "source": [
    "s = input(\"Enter A Name : \")\n",
    "l = len(s)\n",
    "l1 = l - 1\n",
    "while(l1>=0):\n",
    "    print(s[l1],end=\"\")\n",
    "    l1 -= 1"
   ]
  },
  {
   "cell_type": "code",
   "execution_count": 5,
   "id": "81e26313",
   "metadata": {},
   "outputs": [
    {
     "name": "stdout",
     "output_type": "stream",
     "text": [
      "Enter the Password :Mkaif@456\n",
      "Please Try Again - Invalid Password\n",
      "Enter the Password :Mkaif@1234\n",
      "Please Try Again - Invalid Password\n"
     ]
    },
    {
     "ename": "KeyboardInterrupt",
     "evalue": "Interrupted by user",
     "output_type": "error",
     "traceback": [
      "\u001b[1;31m---------------------------------------------------------------------------\u001b[0m",
      "\u001b[1;31mKeyboardInterrupt\u001b[0m                         Traceback (most recent call last)",
      "Input \u001b[1;32mIn [5]\u001b[0m, in \u001b[0;36m<cell line: 8>\u001b[1;34m()\u001b[0m\n\u001b[0;32m      7\u001b[0m count \u001b[38;5;241m=\u001b[39m \u001b[38;5;241m0\u001b[39m\n\u001b[0;32m      8\u001b[0m \u001b[38;5;28;01mwhile\u001b[39;00m count\u001b[38;5;241m<\u001b[39m\u001b[38;5;241m5\u001b[39m:\n\u001b[1;32m----> 9\u001b[0m     p \u001b[38;5;241m=\u001b[39m \u001b[38;5;28;43minput\u001b[39;49m\u001b[43m(\u001b[49m\u001b[38;5;124;43m\"\u001b[39;49m\u001b[38;5;124;43mEnter the Password :\u001b[39;49m\u001b[38;5;124;43m\"\u001b[39;49m\u001b[43m)\u001b[49m\n\u001b[0;32m     10\u001b[0m     c,d,e,f \u001b[38;5;241m=\u001b[39m \u001b[38;5;241m0\u001b[39m,\u001b[38;5;241m0\u001b[39m,\u001b[38;5;241m0\u001b[39m,\u001b[38;5;241m0\u001b[39m\n\u001b[0;32m     11\u001b[0m     \u001b[38;5;28;01mfor\u001b[39;00m i \u001b[38;5;129;01min\u001b[39;00m p:\n",
      "File \u001b[1;32m~\\anaconda3\\lib\\site-packages\\ipykernel\\kernelbase.py:1075\u001b[0m, in \u001b[0;36mKernel.raw_input\u001b[1;34m(self, prompt)\u001b[0m\n\u001b[0;32m   1071\u001b[0m \u001b[38;5;28;01mif\u001b[39;00m \u001b[38;5;129;01mnot\u001b[39;00m \u001b[38;5;28mself\u001b[39m\u001b[38;5;241m.\u001b[39m_allow_stdin:\n\u001b[0;32m   1072\u001b[0m     \u001b[38;5;28;01mraise\u001b[39;00m StdinNotImplementedError(\n\u001b[0;32m   1073\u001b[0m         \u001b[38;5;124m\"\u001b[39m\u001b[38;5;124mraw_input was called, but this frontend does not support input requests.\u001b[39m\u001b[38;5;124m\"\u001b[39m\n\u001b[0;32m   1074\u001b[0m     )\n\u001b[1;32m-> 1075\u001b[0m \u001b[38;5;28;01mreturn\u001b[39;00m \u001b[38;5;28;43mself\u001b[39;49m\u001b[38;5;241;43m.\u001b[39;49m\u001b[43m_input_request\u001b[49m\u001b[43m(\u001b[49m\n\u001b[0;32m   1076\u001b[0m \u001b[43m    \u001b[49m\u001b[38;5;28;43mstr\u001b[39;49m\u001b[43m(\u001b[49m\u001b[43mprompt\u001b[49m\u001b[43m)\u001b[49m\u001b[43m,\u001b[49m\n\u001b[0;32m   1077\u001b[0m \u001b[43m    \u001b[49m\u001b[38;5;28;43mself\u001b[39;49m\u001b[38;5;241;43m.\u001b[39;49m\u001b[43m_parent_ident\u001b[49m\u001b[43m[\u001b[49m\u001b[38;5;124;43m\"\u001b[39;49m\u001b[38;5;124;43mshell\u001b[39;49m\u001b[38;5;124;43m\"\u001b[39;49m\u001b[43m]\u001b[49m\u001b[43m,\u001b[49m\n\u001b[0;32m   1078\u001b[0m \u001b[43m    \u001b[49m\u001b[38;5;28;43mself\u001b[39;49m\u001b[38;5;241;43m.\u001b[39;49m\u001b[43mget_parent\u001b[49m\u001b[43m(\u001b[49m\u001b[38;5;124;43m\"\u001b[39;49m\u001b[38;5;124;43mshell\u001b[39;49m\u001b[38;5;124;43m\"\u001b[39;49m\u001b[43m)\u001b[49m\u001b[43m,\u001b[49m\n\u001b[0;32m   1079\u001b[0m \u001b[43m    \u001b[49m\u001b[43mpassword\u001b[49m\u001b[38;5;241;43m=\u001b[39;49m\u001b[38;5;28;43;01mFalse\u001b[39;49;00m\u001b[43m,\u001b[49m\n\u001b[0;32m   1080\u001b[0m \u001b[43m\u001b[49m\u001b[43m)\u001b[49m\n",
      "File \u001b[1;32m~\\anaconda3\\lib\\site-packages\\ipykernel\\kernelbase.py:1120\u001b[0m, in \u001b[0;36mKernel._input_request\u001b[1;34m(self, prompt, ident, parent, password)\u001b[0m\n\u001b[0;32m   1117\u001b[0m             \u001b[38;5;28;01mbreak\u001b[39;00m\n\u001b[0;32m   1118\u001b[0m \u001b[38;5;28;01mexcept\u001b[39;00m \u001b[38;5;167;01mKeyboardInterrupt\u001b[39;00m:\n\u001b[0;32m   1119\u001b[0m     \u001b[38;5;66;03m# re-raise KeyboardInterrupt, to truncate traceback\u001b[39;00m\n\u001b[1;32m-> 1120\u001b[0m     \u001b[38;5;28;01mraise\u001b[39;00m \u001b[38;5;167;01mKeyboardInterrupt\u001b[39;00m(\u001b[38;5;124m\"\u001b[39m\u001b[38;5;124mInterrupted by user\u001b[39m\u001b[38;5;124m\"\u001b[39m) \u001b[38;5;28;01mfrom\u001b[39;00m \u001b[38;5;28mNone\u001b[39m\n\u001b[0;32m   1121\u001b[0m \u001b[38;5;28;01mexcept\u001b[39;00m \u001b[38;5;167;01mException\u001b[39;00m:\n\u001b[0;32m   1122\u001b[0m     \u001b[38;5;28mself\u001b[39m\u001b[38;5;241m.\u001b[39mlog\u001b[38;5;241m.\u001b[39mwarning(\u001b[38;5;124m\"\u001b[39m\u001b[38;5;124mInvalid Message:\u001b[39m\u001b[38;5;124m\"\u001b[39m, exc_info\u001b[38;5;241m=\u001b[39m\u001b[38;5;28;01mTrue\u001b[39;00m)\n",
      "\u001b[1;31mKeyboardInterrupt\u001b[0m: Interrupted by user"
     ]
    }
   ],
   "source": [
    "# Write A Program To cHange a given string to a new string where first and last characters have been exchanged\n",
    "# write a program go remove charactrers that have a odd string value in agiven string\n",
    "# Write A Program to count the number of characters in a given string\n",
    "#write a progarm gto check validity of a password given by a user\n",
    "# minimum 10 digits\n",
    "#min 1 upper casem,1 lower case, 1 special characters\n",
    "count = 0\n",
    "while count<5:\n",
    "    p = input(\"Enter the Password :\")\n",
    "    c,d,e,f = 0,0,0,0\n",
    "    for i in p:\n",
    "        if i.isupper():\n",
    "            c = c + 1\n",
    "        elif i.islower():\n",
    "            d = d + 1\n",
    "        elif i.isdigit():\n",
    "            e = e + 1\n",
    "        else:\n",
    "            f = f + 1\n",
    "    if c >= 1 and d >= 1 and e >= 10 and f >= 1:\n",
    "        print(\"Password is Valid\")\n",
    "        break\n",
    "    else:\n",
    "        count += 1\n",
    "        print(\"Please Try Again - Invalid Password\")\n",
    "        if count == 5:\n",
    "            print(\"You Have Entered Wrong Password Too Many Times !!!\")\n",
    "\n",
    "\n",
    "\n",
    "\n",
    "\n",
    "'''from collections import Counter\n",
    "s = \"Madrid Software\"\n",
    "print(s)\n",
    "Counter(s)'''\n",
    "            \n",
    "        \n",
    "        \n",
    "        \n",
    "\n",
    "\n",
    "    \n",
    "    \n",
    "    \n",
    "    \n",
    "    \n",
    "\n",
    "            "
   ]
  },
  {
   "cell_type": "code",
   "execution_count": 4,
   "id": "280688d4",
   "metadata": {},
   "outputs": [
    {
     "name": "stdout",
     "output_type": "stream",
     "text": [
      "Madrid Software\n"
     ]
    },
    {
     "data": {
      "text/plain": [
       "Counter({'M': 1,\n",
       "         'a': 2,\n",
       "         'd': 2,\n",
       "         'r': 2,\n",
       "         'i': 1,\n",
       "         ' ': 1,\n",
       "         'S': 1,\n",
       "         'o': 1,\n",
       "         'f': 1,\n",
       "         't': 1,\n",
       "         'w': 1,\n",
       "         'e': 1})"
      ]
     },
     "execution_count": 4,
     "metadata": {},
     "output_type": "execute_result"
    }
   ],
   "source": [
    "from collections import Counter\n",
    "s = \"Madrid Software\"\n",
    "print(s)\n",
    "Counter(s)"
   ]
  },
  {
   "cell_type": "code",
   "execution_count": null,
   "id": "e5e09ab0",
   "metadata": {},
   "outputs": [],
   "source": [
    "'''s = \"madrid\"\n",
    "a = s[-1]\n",
    "b = s[0]\n",
    "a + s[1:5] + b'''"
   ]
  }
 ],
 "metadata": {
  "kernelspec": {
   "display_name": "Python 3 (ipykernel)",
   "language": "python",
   "name": "python3"
  },
  "language_info": {
   "codemirror_mode": {
    "name": "ipython",
    "version": 3
   },
   "file_extension": ".py",
   "mimetype": "text/x-python",
   "name": "python",
   "nbconvert_exporter": "python",
   "pygments_lexer": "ipython3",
   "version": "3.9.12"
  }
 },
 "nbformat": 4,
 "nbformat_minor": 5
}
