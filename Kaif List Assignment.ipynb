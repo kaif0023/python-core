{
 "cells": [
  {
   "cell_type": "code",
   "execution_count": 21,
   "id": "666b73f9",
   "metadata": {},
   "outputs": [
    {
     "name": "stdout",
     "output_type": "stream",
     "text": [
      "Enter a Range for the List :23 45\n",
      "[23, 24, 25, 26, 27, 28, 29, 30, 31, 32, 33, 34, 35, 36, 37, 38, 39, 40, 41, 42, 43, 44, 45]\n",
      "sum of all the items in list is: \n",
      "782\n"
     ]
    }
   ],
   "source": [
    "# Q.1 Write a Python program to sum all the items in a list\n",
    "\n",
    "start,end = input(\"Enter a Range for the List :\").split(\" \")\n",
    "start = int(start)\n",
    "end = int(end)\n",
    "l = []\n",
    "for i in range(start,end + 1):\n",
    "    l.append(i)\n",
    "print(l)\n",
    "print(\"sum of all the items in list is: \")\n",
    "sum = 0\n",
    "for i in l:\n",
    "    sum = sum + i\n",
    "print(sum)\n",
    "    "
   ]
  },
  {
   "cell_type": "code",
   "execution_count": 1,
   "id": "19013f21",
   "metadata": {},
   "outputs": [
    {
     "name": "stdout",
     "output_type": "stream",
     "text": [
      "enter the number of elements in list5\n",
      "enter the element in the list45\n",
      "enter the element in the list74\n",
      "enter the element in the list85\n",
      "enter the element in the list36\n",
      "enter the element in the list16\n",
      "[45, 74, 85, 36, 16]\n",
      "16\n"
     ]
    }
   ],
   "source": [
    "# Q.2  Write a Python program to get the smallest number from a list.\n",
    "\n",
    "l=[]\n",
    "n=int(input(\"enter the number of elements in list :\"))\n",
    "for i in range(1,n+1):\n",
    "    e=int(input(\"enter the element in the list -:-\"))\n",
    "    l.append(e)\n",
    "print(l)\n",
    "smallest = min(l)\n",
    "print(smallest)"
   ]
  },
  {
   "cell_type": "code",
   "execution_count": 18,
   "id": "b4c2dc7f",
   "metadata": {},
   "outputs": [
    {
     "name": "stdout",
     "output_type": "stream",
     "text": [
      "enter a stringbrainstorming\n",
      "['b', 'r', 'a', 'i', 'n', 's', 't', 'o', 'm', 'g']\n"
     ]
    }
   ],
   "source": [
    "# Q.3 Write a program to find unique elements of string specified by user and display unique elements in list\n",
    "s = input(\"enter a string\")\n",
    "unique = []\n",
    "for i in s:\n",
    "    if i not in unique:\n",
    "        unique.append(i)\n",
    "print(unique)"
   ]
  },
  {
   "cell_type": "code",
   "execution_count": 18,
   "id": "ed239082",
   "metadata": {},
   "outputs": [
    {
     "name": "stdout",
     "output_type": "stream",
     "text": [
      "[12, 45, 67, 78, 82, 90, 74, 85, 97, 48]\n",
      "After Removing 0th ,4th,5th elements\n",
      "[45, 67, 78, 74, 85, 97, 48]\n"
     ]
    }
   ],
   "source": [
    "# Q.4 Write a Python program to print a specified list after removing the 0th, 4th and 5th elements.\n",
    "\n",
    "l=[12,45,67,78,82,90,74,85,97,48]\n",
    "print(l)\n",
    "l1  = l\n",
    "print(\"After Removing 0th ,4th,5th elements\")\n",
    "del l1[0]\n",
    "del l1[3]\n",
    "del l1[3]\n",
    "print(l)\n"
   ]
  },
  {
   "cell_type": "code",
   "execution_count": 5,
   "id": "7823bfa0",
   "metadata": {},
   "outputs": [
    {
     "name": "stdout",
     "output_type": "stream",
     "text": [
      "Enter a Range for the List :20 40\n",
      "[20, 21, 22, 23, 24, 25, 26, 27, 28, 29, 30, 31, 32, 33, 34, 35, 36, 37, 38, 39, 40]\n",
      " elements of odd position are :\n",
      "[20, 22, 24, 26, 28, 30, 32, 34, 36, 38, 40]\n"
     ]
    }
   ],
   "source": [
    "# Q.5 Write a program to display all the elements of odd position.\n",
    "start,end = input(\"Enter a Range for the List :\").split(\" \")\n",
    "start = int(start)\n",
    "end = int(end)\n",
    "l = []\n",
    "for i in range(start,end + 1):\n",
    "    l.append(i)\n",
    "print(l)\n",
    "\n",
    "print(\" elements of odd position are :\")\n",
    "odd = []\n",
    "for i in l:\n",
    "    if i % 2 == 0:\n",
    "        odd.append(i)\n",
    "print(odd)"
   ]
  },
  {
   "cell_type": "code",
   "execution_count": 14,
   "id": "7d8da86f",
   "metadata": {},
   "outputs": [
    {
     "data": {
      "text/plain": [
       "['H', 'o', 'm', 'e', 's', 'w', 'e', 'e', 't', 'h', 'o', 'm', 'e']"
      ]
     },
     "execution_count": 14,
     "metadata": {},
     "output_type": "execute_result"
    }
   ],
   "source": [
    "# Q.6 Write a Python program to convert a string to a list.\n",
    "s = \"Homesweethome\"\n",
    "l = []\n",
    "for i in s:\n",
    "    l.append(i)\n",
    "l"
   ]
  },
  {
   "cell_type": "code",
   "execution_count": 13,
   "id": "0f30a99c",
   "metadata": {},
   "outputs": [
    {
     "name": "stdout",
     "output_type": "stream",
     "text": [
      "l = [1,2,3,4,5,6]\n",
      "After inserting 22 at 5th position We Get : \n"
     ]
    },
    {
     "data": {
      "text/plain": [
       "[1, 2, 3, 4, 5, 22, 6]"
      ]
     },
     "execution_count": 13,
     "metadata": {},
     "output_type": "execute_result"
    }
   ],
   "source": [
    "# Q.7 Write a Python program to insert \n",
    "# an element at a specified position into a given list.\n",
    "print(\"l = [1,2,3,4,5,6]\")\n",
    "l = [1,2,3,4,5,6]\n",
    "print(\"After inserting 22 at 5th position We Get : \")\n",
    "l.insert(5,22)\n",
    "l\n",
    "    \n",
    "\n",
    "        \n",
    "            \n",
    "\n",
    "    \n",
    "\n"
   ]
  },
  {
   "cell_type": "code",
   "execution_count": 12,
   "id": "2dc23c72",
   "metadata": {},
   "outputs": [
    {
     "data": {
      "text/plain": [
       "[67, 45, 'fine', 3, 'hello', 'hi']"
      ]
     },
     "execution_count": 12,
     "metadata": {},
     "output_type": "execute_result"
    }
   ],
   "source": [
    "# Q.8 How to reverse the List using slice\n",
    "l = [\"hi\",\"hello\",3,\"fine\",45,67]\n",
    "z = l[::-1]\n",
    "z"
   ]
  },
  {
   "cell_type": "code",
   "execution_count": 4,
   "id": "865fdbdd",
   "metadata": {},
   "outputs": [
    {
     "name": "stdout",
     "output_type": "stream",
     "text": [
      "hi how are you ! kaif "
     ]
    },
    {
     "data": {
      "text/plain": [
       "str"
      ]
     },
     "execution_count": 4,
     "metadata": {},
     "output_type": "execute_result"
    }
   ],
   "source": [
    "# Q.9 Program to convert a list into string\n",
    "l = [\"hi\",\"how\",\"are\",\"you !\",\"kaif\"]\n",
    "for i in l:\n",
    "    print(i,end=\" \")\n",
    "type(i)"
   ]
  },
  {
   "cell_type": "code",
   "execution_count": 11,
   "id": "e32be1e0",
   "metadata": {},
   "outputs": [
    {
     "name": "stdout",
     "output_type": "stream",
     "text": [
      "Enter the  Range :20 40\n",
      "[20, 21, 22, 23, 24, 25, 26, 27, 28, 29, 30, 31, 32, 33, 34, 35, 36, 37, 38, 39, 40]\n",
      "After Filtering Even List We Get :\n",
      "[20, 22, 24, 26, 28, 30, 32, 34, 36, 38, 40]\n"
     ]
    }
   ],
   "source": [
    "# Q.10 How to Filter even values from a list using list comprehension\n",
    "start,end=input(\"Enter the  Range :\").split(\" \")\n",
    "start = int(start)\n",
    "end = int(end)\n",
    "l = []\n",
    "for i in range(start,end + 1):\n",
    "    l.append(i)\n",
    "print(l)\n",
    "\n",
    "# By using list comprehension\n",
    "print(\"After Filtering Even List We Get :\")\n",
    "evenlist = [i for i in l if i % 2 == 0]\n",
    "print(evenlist)\n"
   ]
  },
  {
   "cell_type": "code",
   "execution_count": 1,
   "id": "4f4b2b38",
   "metadata": {},
   "outputs": [
    {
     "name": "stdout",
     "output_type": "stream",
     "text": [
      "Enter the  Range :1 20\n",
      "[1, 2, 3, 4, 5, 6, 7, 8, 9, 10, 11, 12, 13, 14, 15, 16, 17, 18, 19, 20]\n",
      "after Squaring Each elements We Get :\n",
      "[1, 4, 9, 16, 25, 36, 49, 64, 81, 100, 121, 144, 169, 196, 225, 256, 289, 324, 361, 400]\n"
     ]
    }
   ],
   "source": [
    "# Q.11 How to get the square of each list element between two range\n",
    "start,end=input(\"Enter the  Range :\").split(\" \")\n",
    "start = int(start)\n",
    "end = int(end)\n",
    "l = []\n",
    "for i in range(start,end + 1):\n",
    "    l.append(i)\n",
    "print(l)\n",
    "print(\"after Squaring Each elements We Get :\")\n",
    "z = []\n",
    "for j in l:\n",
    "    z.append(j*j)\n",
    "print(z)\n",
    "    \n",
    "\n",
    "\n"
   ]
  },
  {
   "cell_type": "code",
   "execution_count": 6,
   "id": "bb4413c2",
   "metadata": {},
   "outputs": [
    {
     "name": "stdout",
     "output_type": "stream",
     "text": [
      "enter the number of elements in list :7\n",
      "enter the element in the list -:-12\n",
      "enter the element in the list -:-78\n",
      "enter the element in the list -:-56\n",
      "enter the element in the list -:-4\n",
      "enter the element in the list -:-96\n",
      "enter the element in the list -:-35\n",
      "enter the element in the list -:-16\n",
      "[12, 78, 56, 4, 96, 35, 16]\n",
      "Enter the index  To remove the elements before it :3\n",
      "[4, 96, 35, 16]\n"
     ]
    }
   ],
   "source": [
    "#Q.12 How to remove elements in a list before a specific index\n",
    "l=[]\n",
    "n=int(input(\"enter the number of elements in list :\"))\n",
    "for i in range(1,n+1):\n",
    "    e=int(input(\"enter the element in the list -:-\"))\n",
    "    l.append(e)\n",
    "print(l)\n",
    "l1 = int(input(\"Enter the index  To remove the elements before it :\"))\n",
    "z = l[l1:]\n",
    "print(z)\n",
    "\n",
    "\n"
   ]
  },
  {
   "cell_type": "code",
   "execution_count": null,
   "id": "19bda43a",
   "metadata": {},
   "outputs": [],
   "source": []
  }
 ],
 "metadata": {
  "kernelspec": {
   "display_name": "Python 3 (ipykernel)",
   "language": "python",
   "name": "python3"
  },
  "language_info": {
   "codemirror_mode": {
    "name": "ipython",
    "version": 3
   },
   "file_extension": ".py",
   "mimetype": "text/x-python",
   "name": "python",
   "nbconvert_exporter": "python",
   "pygments_lexer": "ipython3",
   "version": "3.9.12"
  }
 },
 "nbformat": 4,
 "nbformat_minor": 5
}
