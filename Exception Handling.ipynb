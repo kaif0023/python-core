{
 "cells": [
  {
   "cell_type": "markdown",
   "id": "75349069",
   "metadata": {},
   "source": [
    "# Exception : it is an event that occurs during the execution of a program that disrupts, the normal flow of instructions during the execution of a program\n",
    "# How To Handle Exception in Python"
   ]
  },
  {
   "cell_type": "markdown",
   "id": "555334b0",
   "metadata": {},
   "source": [
    "#types of errors"
   ]
  },
  {
   "cell_type": "markdown",
   "id": "603f154e",
   "metadata": {},
   "source": [
    "1 = logical error: These are Those  Errors when code does not work according to your expection \n",
    "\n",
    "2 = syntax error : grammatical error in your code\n",
    "\n",
    "3 = exception error : those error that may occur during runtime and disrupt the normal flow of program"
   ]
  },
  {
   "cell_type": "code",
   "execution_count": 2,
   "id": "e75a4170",
   "metadata": {},
   "outputs": [
    {
     "name": "stdout",
     "output_type": "stream",
     "text": [
      "Enter the Dividend :34\n",
      "Enter the Divisor :0\n",
      "This Is Exceptional Case i.e division by zero PLease Enter Divisor Greater Than Zero !!!\n"
     ]
    }
   ],
   "source": [
    "a = int(input(\"Enter the Dividend :\"))\n",
    "b = int(input(\"Enter the Divisor :\"))\n",
    "try:\n",
    "    print(a/b)\n",
    "except:\n",
    "    print(\"This Is Exceptional Case i.e division by zero PLease Enter Divisor Greater Than Zero !!!\")"
   ]
  },
  {
   "cell_type": "code",
   "execution_count": 1,
   "id": "03a8b5de",
   "metadata": {},
   "outputs": [
    {
     "name": "stdout",
     "output_type": "stream",
     "text": [
      "Enter the Dividend :67\n",
      "Enter the Divisor :90\n",
      "0.7444444444444445\n",
      "No Errors Found :)\n",
      "important task\n"
     ]
    }
   ],
   "source": [
    "import sys\n",
    "a = int(input(\"Enter the Dividend :\"))\n",
    "b = int(input(\"Enter the Divisor :\"))\n",
    "try:\n",
    "    print(a/b)\n",
    "except Exception as e:\n",
    "    print(\"oops!\",e.__class__,\"occurred\")\n",
    "else:\n",
    "    print(\"No Errors Found :)\")\n",
    "finally:\n",
    "    print(\"important task\")"
   ]
  },
  {
   "cell_type": "code",
   "execution_count": 3,
   "id": "2fe0ff8e",
   "metadata": {},
   "outputs": [
    {
     "name": "stdout",
     "output_type": "stream",
     "text": [
      "Enter A Number :hi\n"
     ]
    },
    {
     "ename": "ValueError",
     "evalue": "invalid literal for int() with base 10: 'hi'",
     "output_type": "error",
     "traceback": [
      "\u001b[1;31m---------------------------------------------------------------------------\u001b[0m",
      "\u001b[1;31mValueError\u001b[0m                                Traceback (most recent call last)",
      "Input \u001b[1;32mIn [3]\u001b[0m, in \u001b[0;36m<cell line: 3>\u001b[1;34m()\u001b[0m\n\u001b[0;32m      1\u001b[0m \u001b[38;5;66;03m# category value name error\u001b[39;00m\n\u001b[0;32m      2\u001b[0m \u001b[38;5;28;01mimport\u001b[39;00m \u001b[38;5;21;01msys\u001b[39;00m\n\u001b[1;32m----> 3\u001b[0m a\u001b[38;5;241m=\u001b[39m\u001b[38;5;28;43mint\u001b[39;49m\u001b[43m(\u001b[49m\u001b[38;5;28;43minput\u001b[39;49m\u001b[43m(\u001b[49m\u001b[38;5;124;43m\"\u001b[39;49m\u001b[38;5;124;43mEnter A Number :\u001b[39;49m\u001b[38;5;124;43m\"\u001b[39;49m\u001b[43m)\u001b[49m\u001b[43m)\u001b[49m\n\u001b[0;32m      4\u001b[0m b \u001b[38;5;241m=\u001b[39m \u001b[38;5;28mint\u001b[39m(\u001b[38;5;28minput\u001b[39m(\u001b[38;5;124m\"\u001b[39m\u001b[38;5;124mEnter second Number :\u001b[39m\u001b[38;5;124m\"\u001b[39m))\n\u001b[0;32m      5\u001b[0m \u001b[38;5;28;01mtry\u001b[39;00m:\n",
      "\u001b[1;31mValueError\u001b[0m: invalid literal for int() with base 10: 'hi'"
     ]
    }
   ],
   "source": [
    "# category value name error\n",
    "import sys\n",
    "a=int(input(\"Enter A Number :\"))\n",
    "b = int(input(\"Enter second Number :\"))\n",
    "try:\n",
    "    a+b+c\n",
    "except Exception as e:\n",
    "    print(\"oops!\",e.__class__,\"occurred\")\n",
    "except ValueError:\n",
    "    print(\"value Errorr\")\n",
    "else:\n",
    "    print(\"No Errors Found :)\")\n",
    "finally:\n",
    "    print(\"important task\")\n"
   ]
  },
  {
   "cell_type": "markdown",
   "id": "b8ec2006",
   "metadata": {},
   "source": [
    "# a try can have more than one except block"
   ]
  },
  {
   "cell_type": "code",
   "execution_count": 10,
   "id": "bc8fc467",
   "metadata": {},
   "outputs": [
    {
     "name": "stdout",
     "output_type": "stream",
     "text": [
      "Enter A Number :45\n",
      "Enter second Number :56\n",
      "Variable X is Not Defined\n",
      "important task\n"
     ]
    }
   ],
   "source": [
    "import sys\n",
    "a=int(input(\"Enter A Number :\"))\n",
    "b = int(input(\"Enter second Number :\"))\n",
    "try:\n",
    "    print(x)\n",
    "except NameError:\n",
    "    print(\"Variable x is Not Defined\")\n",
    "except:\n",
    "    print(\"Something Went Wrong !!\")\n",
    "finally:\n",
    "    print(\"important task\")"
   ]
  },
  {
   "cell_type": "code",
   "execution_count": 13,
   "id": "b96729a2",
   "metadata": {},
   "outputs": [
    {
     "name": "stdout",
     "output_type": "stream",
     "text": [
      "enter a number :g\n"
     ]
    },
    {
     "ename": "ValueError",
     "evalue": "invalid literal for int() with base 10: 'g'",
     "output_type": "error",
     "traceback": [
      "\u001b[1;31m---------------------------------------------------------------------------\u001b[0m",
      "\u001b[1;31mValueError\u001b[0m                                Traceback (most recent call last)",
      "Input \u001b[1;32mIn [13]\u001b[0m, in \u001b[0;36m<cell line: 2>\u001b[1;34m()\u001b[0m\n\u001b[0;32m      1\u001b[0m \u001b[38;5;28;01mimport\u001b[39;00m \u001b[38;5;21;01msys\u001b[39;00m\n\u001b[1;32m----> 2\u001b[0m n \u001b[38;5;241m=\u001b[39m \u001b[38;5;28;43mint\u001b[39;49m\u001b[43m(\u001b[49m\u001b[38;5;28;43minput\u001b[39;49m\u001b[43m(\u001b[49m\u001b[38;5;124;43m\"\u001b[39;49m\u001b[38;5;124;43menter a number :\u001b[39;49m\u001b[38;5;124;43m\"\u001b[39;49m\u001b[43m)\u001b[49m\u001b[43m)\u001b[49m\n\u001b[0;32m      3\u001b[0m m \u001b[38;5;241m=\u001b[39m \u001b[38;5;28mint\u001b[39m(\u001b[38;5;28minput\u001b[39m(\u001b[38;5;124m\"\u001b[39m\u001b[38;5;124mEnter Second number :\u001b[39m\u001b[38;5;124m\"\u001b[39m))\n\u001b[0;32m      4\u001b[0m \u001b[38;5;28;01mtry\u001b[39;00m:\n",
      "\u001b[1;31mValueError\u001b[0m: invalid literal for int() with base 10: 'g'"
     ]
    }
   ],
   "source": [
    "import sys\n",
    "n = int(input(\"enter a number :\"))\n",
    "m = int(input(\"Enter Second number :\"))\n",
    "try:\n",
    "    print(\"in try\")\n",
    "    print(n/m)\n",
    "    print(\"in try block\")\n",
    "except ZeroDivisionError:\n",
    "    print(\"Divisor Should Not Be Zero\")\n",
    "except NameError:\n",
    "    print(\"Variable x is not defined\")\n",
    "except TypeError:\n",
    "    print(\"oops!!\",\"its not an Integer Type ..Error Occured..\")\n",
    "    "
   ]
  },
  {
   "cell_type": "code",
   "execution_count": 15,
   "id": "cfc47069",
   "metadata": {},
   "outputs": [
    {
     "name": "stdout",
     "output_type": "stream",
     "text": [
      "ENter the Divisor :0\n",
      "Divisor Should BE Greater Than Zero\n",
      "Kindly Re_Enter \n",
      "ENter the Divisor :0\n",
      "Divisor Should BE Greater Than Zero\n",
      "Kindly Re_Enter \n",
      "ENter the Divisor :0\n",
      "Divisor Should BE Greater Than Zero\n",
      "Kindly Re_Enter \n",
      "You Tried Too Many Times !!\n"
     ]
    }
   ],
   "source": [
    "dividend = 100\n",
    "c = 0\n",
    "while True:\n",
    "    if c==3:\n",
    "        print(\"You Tried Too Many Times !!\")\n",
    "        break\n",
    "    divisor=int(input(\"ENter the Divisor :\"))\n",
    "    try:\n",
    "        q = (dividend)/(divisor)\n",
    "    except:\n",
    "        c = c + 1\n",
    "        print(\"Divisor Should BE Greater Than Zero\")\n",
    "        print(\"Kindly Re_Enter \")\n",
    "        continue\n",
    "    else:\n",
    "        print(\"The Answer Is :\",q)\n",
    "        break"
   ]
  },
  {
   "cell_type": "code",
   "execution_count": 5,
   "id": "2357b409",
   "metadata": {},
   "outputs": [
    {
     "ename": "SyntaxError",
     "evalue": "invalid syntax (74901746.py, line 1)",
     "output_type": "error",
     "traceback": [
      "\u001b[1;36m  Input \u001b[1;32mIn [5]\u001b[1;36m\u001b[0m\n\u001b[1;33m    help(except)\u001b[0m\n\u001b[1;37m         ^\u001b[0m\n\u001b[1;31mSyntaxError\u001b[0m\u001b[1;31m:\u001b[0m invalid syntax\n"
     ]
    }
   ],
   "source": [
    "help(except)"
   ]
  },
  {
   "cell_type": "code",
   "execution_count": null,
   "id": "7daade42",
   "metadata": {},
   "outputs": [],
   "source": []
  }
 ],
 "metadata": {
  "kernelspec": {
   "display_name": "Python 3 (ipykernel)",
   "language": "python",
   "name": "python3"
  },
  "language_info": {
   "codemirror_mode": {
    "name": "ipython",
    "version": 3
   },
   "file_extension": ".py",
   "mimetype": "text/x-python",
   "name": "python",
   "nbconvert_exporter": "python",
   "pygments_lexer": "ipython3",
   "version": "3.9.12"
  }
 },
 "nbformat": 4,
 "nbformat_minor": 5
}
