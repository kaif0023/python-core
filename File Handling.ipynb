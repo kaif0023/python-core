{
 "cells": [
  {
   "cell_type": "code",
   "execution_count": null,
   "id": "fe959478",
   "metadata": {},
   "outputs": [],
   "source": [
    "f=open(\"C:\\\\Users\\\\md kaif\\\\Desktop\\\\md.txt\",\"r\")\n",
    "f"
   ]
  },
  {
   "cell_type": "code",
   "execution_count": null,
   "id": "bdf05046",
   "metadata": {},
   "outputs": [],
   "source": [
    "f.read()"
   ]
  },
  {
   "cell_type": "code",
   "execution_count": null,
   "id": "6b1ae0d7",
   "metadata": {},
   "outputs": [],
   "source": [
    "f.tell()"
   ]
  },
  {
   "cell_type": "code",
   "execution_count": null,
   "id": "5a55b70f",
   "metadata": {},
   "outputs": [],
   "source": [
    "f.read()"
   ]
  },
  {
   "cell_type": "code",
   "execution_count": null,
   "id": "e7fe09d4",
   "metadata": {},
   "outputs": [],
   "source": [
    "f=open(\"C:\\\\Users\\\\md kaif\\\\Desktop\\\\md.txt\",\"r\")\n",
    "f"
   ]
  },
  {
   "cell_type": "code",
   "execution_count": null,
   "id": "f402aad9",
   "metadata": {},
   "outputs": [],
   "source": [
    "f.tell()"
   ]
  },
  {
   "cell_type": "code",
   "execution_count": null,
   "id": "1990a3b6",
   "metadata": {},
   "outputs": [],
   "source": [
    "f.read(6)"
   ]
  },
  {
   "cell_type": "code",
   "execution_count": null,
   "id": "7555a769",
   "metadata": {},
   "outputs": [],
   "source": [
    "f.tell()"
   ]
  },
  {
   "cell_type": "code",
   "execution_count": null,
   "id": "0880dc91",
   "metadata": {},
   "outputs": [],
   "source": [
    "f.read()"
   ]
  },
  {
   "cell_type": "code",
   "execution_count": null,
   "id": "47a2dc3d",
   "metadata": {},
   "outputs": [],
   "source": [
    "f.read()"
   ]
  },
  {
   "cell_type": "code",
   "execution_count": null,
   "id": "0af5fbcb",
   "metadata": {},
   "outputs": [],
   "source": [
    "# to move file pointer to first\n",
    "f.seek(0)"
   ]
  },
  {
   "cell_type": "code",
   "execution_count": null,
   "id": "7f8c0baf",
   "metadata": {},
   "outputs": [],
   "source": [
    "f.read()"
   ]
  },
  {
   "cell_type": "code",
   "execution_count": null,
   "id": "c46a2c6d",
   "metadata": {},
   "outputs": [],
   "source": [
    "f.read()"
   ]
  },
  {
   "cell_type": "code",
   "execution_count": null,
   "id": "40cead24",
   "metadata": {},
   "outputs": [],
   "source": [
    "f=open(\"C:\\\\Users\\\\md kaif\\\\Desktop\\\\md.txt\",\"r\")\n",
    "f"
   ]
  },
  {
   "cell_type": "code",
   "execution_count": null,
   "id": "14224294",
   "metadata": {},
   "outputs": [],
   "source": [
    "f.readline()"
   ]
  },
  {
   "cell_type": "code",
   "execution_count": null,
   "id": "cad1fcd5",
   "metadata": {},
   "outputs": [],
   "source": [
    "f.seek(0)"
   ]
  },
  {
   "cell_type": "code",
   "execution_count": null,
   "id": "6b39ba25",
   "metadata": {},
   "outputs": [],
   "source": [
    "f.readline()"
   ]
  },
  {
   "cell_type": "code",
   "execution_count": null,
   "id": "4e67317d",
   "metadata": {},
   "outputs": [],
   "source": []
  },
  {
   "cell_type": "code",
   "execution_count": null,
   "id": "567b9ff9",
   "metadata": {},
   "outputs": [],
   "source": [
    "l=f.readline()\n",
    "l"
   ]
  },
  {
   "cell_type": "code",
   "execution_count": null,
   "id": "5cd752e0",
   "metadata": {},
   "outputs": [],
   "source": [
    "l[0]"
   ]
  },
  {
   "cell_type": "code",
   "execution_count": null,
   "id": "2265075d",
   "metadata": {},
   "outputs": [],
   "source": [
    "f=open(\"C:\\\\Users\\\\md kaif\\\\Desktop\\\\md.txt\",\"r\")\n",
    "f"
   ]
  },
  {
   "cell_type": "code",
   "execution_count": null,
   "id": "f647dd07",
   "metadata": {},
   "outputs": [],
   "source": [
    "l = f.readlines()\n",
    "l"
   ]
  },
  {
   "cell_type": "code",
   "execution_count": null,
   "id": "9e68a39c",
   "metadata": {},
   "outputs": [],
   "source": [
    "l[0]"
   ]
  },
  {
   "cell_type": "code",
   "execution_count": null,
   "id": "78035b58",
   "metadata": {},
   "outputs": [],
   "source": [
    "f=open(\"C:\\\\Users\\\\md kaif\\\\Desktop\\\\md.txt\",\"r\")\n",
    "f"
   ]
  },
  {
   "cell_type": "code",
   "execution_count": null,
   "id": "fed6010a",
   "metadata": {},
   "outputs": [],
   "source": [
    "f=open(\"C:\\\\Users\\\\md kaif\\\\Desktop\\\\md.txt\",\"r\")\n",
    "f\n",
    "l = f.readlines()\n",
    "print(l)\n",
    "for i in l:\n",
    "    l.del"
   ]
  },
  {
   "cell_type": "code",
   "execution_count": null,
   "id": "04c61117",
   "metadata": {},
   "outputs": [],
   "source": [
    "l[0]"
   ]
  },
  {
   "cell_type": "code",
   "execution_count": null,
   "id": "9578b930",
   "metadata": {},
   "outputs": [],
   "source": [
    "f=open(\"C:\\\\Users\\\\md kaif\\\\Desktop\\\\md.txt\",\"r\")\n",
    "f\n",
    "\n",
    "    \n",
    "\n",
    "    "
   ]
  },
  {
   "cell_type": "code",
   "execution_count": null,
   "id": "333d4980",
   "metadata": {},
   "outputs": [],
   "source": [
    "l = f.readlines()\n",
    "print(l)\n",
    "l1= []\n",
    "for i in l:\n",
    "    z=i.replace(\"\\n,\"\")\n",
    "    l1.append(z)\n",
    "print(l1)"
   ]
  },
  {
   "cell_type": "code",
   "execution_count": null,
   "id": "234fe922",
   "metadata": {},
   "outputs": [],
   "source": []
  },
  {
   "cell_type": "code",
   "execution_count": null,
   "id": "ae44a758",
   "metadata": {},
   "outputs": [],
   "source": [
    "f=open(\"bacc1.text\",\"x\")\n",
    "f"
   ]
  },
  {
   "cell_type": "code",
   "execution_count": null,
   "id": "5f737bc9",
   "metadata": {},
   "outputs": [],
   "source": [
    "f.write(\"hello hi how are you\")"
   ]
  },
  {
   "cell_type": "code",
   "execution_count": null,
   "id": "7b65d80e",
   "metadata": {},
   "outputs": [],
   "source": [
    "f"
   ]
  },
  {
   "cell_type": "code",
   "execution_count": null,
   "id": "3a787b5e",
   "metadata": {},
   "outputs": [],
   "source": [
    "f.readlines()"
   ]
  },
  {
   "cell_type": "code",
   "execution_count": null,
   "id": "b29d3b03",
   "metadata": {},
   "outputs": [],
   "source": [
    "f"
   ]
  },
  {
   "cell_type": "code",
   "execution_count": null,
   "id": "916febd4",
   "metadata": {},
   "outputs": [],
   "source": [
    "f.write(\"hello\")"
   ]
  },
  {
   "cell_type": "code",
   "execution_count": null,
   "id": "476809e8",
   "metadata": {},
   "outputs": [],
   "source": [
    "f"
   ]
  },
  {
   "cell_type": "code",
   "execution_count": null,
   "id": "7d585ae6",
   "metadata": {},
   "outputs": [],
   "source": [
    "f=open(\"hi.text\",\"x\")\n",
    "f"
   ]
  },
  {
   "cell_type": "code",
   "execution_count": null,
   "id": "b78c66af",
   "metadata": {},
   "outputs": [],
   "source": [
    "f.write('hi how are you')"
   ]
  },
  {
   "cell_type": "code",
   "execution_count": null,
   "id": "88582fbd",
   "metadata": {},
   "outputs": [],
   "source": [
    "f.tell()"
   ]
  },
  {
   "cell_type": "code",
   "execution_count": null,
   "id": "df1ea772",
   "metadata": {},
   "outputs": [],
   "source": [
    "f.write('python core')"
   ]
  },
  {
   "cell_type": "code",
   "execution_count": null,
   "id": "e316d56d",
   "metadata": {},
   "outputs": [],
   "source": [
    "f.tell()"
   ]
  },
  {
   "cell_type": "code",
   "execution_count": null,
   "id": "0d590599",
   "metadata": {},
   "outputs": [],
   "source": [
    "f=open(\"C:\\\\Users\\\\md kaif\\\\Desktop\\\\md.txt\",\"r\")\n",
    "f\n"
   ]
  },
  {
   "cell_type": "code",
   "execution_count": null,
   "id": "4399cf93",
   "metadata": {},
   "outputs": [],
   "source": [
    "l1= []\n",
    "for i in l:\n",
    "    z=i.replace(\"\\n,\" \")\n",
    "    l1.append(z)\n",
    "print(l1)"
   ]
  },
  {
   "cell_type": "code",
   "execution_count": null,
   "id": "9c153143",
   "metadata": {},
   "outputs": [],
   "source": [
    "f = open(\"m1.txt\",\"w\")\n",
    "f"
   ]
  },
  {
   "cell_type": "code",
   "execution_count": null,
   "id": "ef67d14c",
   "metadata": {},
   "outputs": [],
   "source": [
    "f.write(\"hello Students \\n hope you are doing fine ...!!!\")\n",
    "f.write(\"hi we are doing good .. ??\")\n",
    "f.close()"
   ]
  },
  {
   "cell_type": "code",
   "execution_count": null,
   "id": "e0618a46",
   "metadata": {},
   "outputs": [],
   "source": [
    "f = open(\"m1.txt\",\"w\")\n",
    "f"
   ]
  },
  {
   "cell_type": "code",
   "execution_count": null,
   "id": "8dedbe64",
   "metadata": {},
   "outputs": [],
   "source": [
    "f.write(\"hello we are fine \\n how do you do\")\n",
    "f.close()"
   ]
  },
  {
   "cell_type": "code",
   "execution_count": null,
   "id": "369aff03",
   "metadata": {},
   "outputs": [],
   "source": [
    "f = open(\"m1.txt\",\"a\")\n",
    "f"
   ]
  },
  {
   "cell_type": "code",
   "execution_count": null,
   "id": "d1533067",
   "metadata": {},
   "outputs": [],
   "source": [
    "\n",
    "f = open(\"m1.txt\",\"a\")\n",
    "f\n"
   ]
  },
  {
   "cell_type": "code",
   "execution_count": null,
   "id": "5924c2f0",
   "metadata": {},
   "outputs": [],
   "source": [
    "f.write(\"hello we are fine \\n how do you do\")\n",
    "f.close()"
   ]
  },
  {
   "cell_type": "code",
   "execution_count": null,
   "id": "23bc9f5b",
   "metadata": {},
   "outputs": [],
   "source": [
    "\n",
    "f = open(\"m1.txt\",\"a\")\n",
    "f\n"
   ]
  },
  {
   "cell_type": "code",
   "execution_count": null,
   "id": "eab01447",
   "metadata": {},
   "outputs": [],
   "source": [
    "f.tell()"
   ]
  },
  {
   "cell_type": "code",
   "execution_count": null,
   "id": "3bea9167",
   "metadata": {},
   "outputs": [],
   "source": [
    "f.read()"
   ]
  },
  {
   "cell_type": "code",
   "execution_count": null,
   "id": "9aaeeacf",
   "metadata": {},
   "outputs": [],
   "source": [
    "f.write(\"hello Students \\n hope you are doing fine ...!!!\")\n",
    "f.write(\"hi we are doing good .. ??\")\n",
    "f.close()"
   ]
  },
  {
   "cell_type": "code",
   "execution_count": null,
   "id": "1c160d84",
   "metadata": {},
   "outputs": [],
   "source": [
    "\n",
    "f = open(\"m1.txt\",\"a\")\n",
    "f"
   ]
  },
  {
   "cell_type": "code",
   "execution_count": null,
   "id": "b982c21d",
   "metadata": {},
   "outputs": [],
   "source": [
    "f.seek(0)"
   ]
  },
  {
   "cell_type": "code",
   "execution_count": null,
   "id": "04684ff3",
   "metadata": {},
   "outputs": [],
   "source": [
    "f.write(\"hello Students \\n hope you are doing fine ...!!!\")\n",
    "f.close()"
   ]
  },
  {
   "cell_type": "code",
   "execution_count": null,
   "id": "57e69f17",
   "metadata": {},
   "outputs": [],
   "source": [
    "f = open(\"m1.txt\",\"a+\")\n",
    "f"
   ]
  },
  {
   "cell_type": "code",
   "execution_count": null,
   "id": "254b43eb",
   "metadata": {},
   "outputs": [],
   "source": [
    "f.tell()"
   ]
  },
  {
   "cell_type": "code",
   "execution_count": null,
   "id": "d97b41fd",
   "metadata": {},
   "outputs": [],
   "source": [
    "f.read()"
   ]
  },
  {
   "cell_type": "code",
   "execution_count": null,
   "id": "2cd377fe",
   "metadata": {},
   "outputs": [],
   "source": [
    "f.seek(1)"
   ]
  },
  {
   "cell_type": "code",
   "execution_count": null,
   "id": "34913c92",
   "metadata": {},
   "outputs": [],
   "source": [
    "f.read()"
   ]
  },
  {
   "cell_type": "code",
   "execution_count": null,
   "id": "3d92b214",
   "metadata": {},
   "outputs": [],
   "source": [
    "f.tell()"
   ]
  },
  {
   "cell_type": "code",
   "execution_count": null,
   "id": "387f5fb3",
   "metadata": {},
   "outputs": [],
   "source": [
    "f.write(\"hi name is kaif\")\n",
    "f.close()"
   ]
  },
  {
   "cell_type": "code",
   "execution_count": null,
   "id": "9ed03629",
   "metadata": {},
   "outputs": [],
   "source": [
    "f = open(\"m1.txt\",\"a+\")\n",
    "f\n"
   ]
  },
  {
   "cell_type": "code",
   "execution_count": null,
   "id": "605b1fe5",
   "metadata": {},
   "outputs": [],
   "source": [
    "f.writelines([\"i am doing good \\n i am good \"])\n",
    "f.close()"
   ]
  },
  {
   "cell_type": "code",
   "execution_count": null,
   "id": "c419baef",
   "metadata": {},
   "outputs": [],
   "source": [
    "write a program which writes five food items \n",
    "and display that food items which is longest in length"
   ]
  },
  {
   "cell_type": "code",
   "execution_count": null,
   "id": "45ab6231",
   "metadata": {},
   "outputs": [],
   "source": [
    "f = open(\"new.txt\",\"a+\")\n",
    "f\n",
    "f.close()"
   ]
  },
  {
   "cell_type": "code",
   "execution_count": null,
   "id": "9556910c",
   "metadata": {},
   "outputs": [],
   "source": [
    "for i in range(1,6):\n",
    "    f1=input(\"Enter The Food Items\")\n",
    "    f.write(f1)\n",
    "f.close()\n",
    "    "
   ]
  },
  {
   "cell_type": "code",
   "execution_count": null,
   "id": "3305fd1e",
   "metadata": {},
   "outputs": [],
   "source": [
    "f = open(\"new.txt\",\"w\")\n",
    "f\n"
   ]
  },
  {
   "cell_type": "code",
   "execution_count": null,
   "id": "4357bdbe",
   "metadata": {},
   "outputs": [],
   "source": [
    "f = open(\"new.txt\",\"w\")\n",
    "f\n",
    "for i in range(1,6):\n",
    "    f1=input(\"Enter The Food Items\")\n",
    "    f.write(f1)\n",
    "f.close()"
   ]
  },
  {
   "cell_type": "code",
   "execution_count": null,
   "id": "f92f114d",
   "metadata": {},
   "outputs": [],
   "source": [
    "f = open(\"new.txt\",\"r\")\n",
    "f\n",
    "for i in range(1,6):\n",
    "    f1=input(\"Enter The Food Items\")\n",
    "    f.write(\"\\n\")\n"
   ]
  },
  {
   "cell_type": "code",
   "execution_count": null,
   "id": "3e2831ef",
   "metadata": {},
   "outputs": [],
   "source": [
    "f = open(\"new.txt\",\"r\")\n",
    "f"
   ]
  },
  {
   "cell_type": "code",
   "execution_count": null,
   "id": "abff8f87",
   "metadata": {},
   "outputs": [],
   "source": [
    "f.read()"
   ]
  },
  {
   "cell_type": "code",
   "execution_count": null,
   "id": "68fe20d7",
   "metadata": {},
   "outputs": [],
   "source": [
    "f.seek(0)"
   ]
  },
  {
   "cell_type": "code",
   "execution_count": null,
   "id": "401444bc",
   "metadata": {},
   "outputs": [],
   "source": [
    "l=f.readlines()"
   ]
  },
  {
   "cell_type": "code",
   "execution_count": null,
   "id": "e1ca37ae",
   "metadata": {},
   "outputs": [],
   "source": [
    "f = open(\"new.txt\",\"a+\")\n",
    "f\n",
    "for i in range(1,6):\n",
    "    f1=input(\"Enter The Food Items\")\n",
    "    f.write(\"\\n\")\n",
    "f.close()"
   ]
  },
  {
   "cell_type": "code",
   "execution_count": null,
   "id": "2b715004",
   "metadata": {},
   "outputs": [],
   "source": [
    "l = f\n",
    "for i in l:\n",
    "    i.replace(\"/n\",\"\")\n",
    "f.close()"
   ]
  },
  {
   "cell_type": "code",
   "execution_count": null,
   "id": "f0150a05",
   "metadata": {},
   "outputs": [],
   "source": [
    "f = open(\"hi.text\",\"r+\")\n",
    "f"
   ]
  },
  {
   "cell_type": "code",
   "execution_count": null,
   "id": "3159b6de",
   "metadata": {},
   "outputs": [],
   "source": [
    "f.tell()"
   ]
  },
  {
   "cell_type": "code",
   "execution_count": null,
   "id": "a15de607",
   "metadata": {},
   "outputs": [],
   "source": [
    "f.read()"
   ]
  },
  {
   "cell_type": "code",
   "execution_count": null,
   "id": "bf4f80df",
   "metadata": {},
   "outputs": [],
   "source": [
    "f.tell()"
   ]
  },
  {
   "cell_type": "code",
   "execution_count": null,
   "id": "acfec4ba",
   "metadata": {},
   "outputs": [],
   "source": [
    "f.write(\"Welcome to Python Core :)\")\n",
    "f.close()"
   ]
  },
  {
   "cell_type": "code",
   "execution_count": null,
   "id": "fa48b26b",
   "metadata": {},
   "outputs": [],
   "source": [
    "f = open(\"hi.text\",\"r+\")\n",
    "f"
   ]
  },
  {
   "cell_type": "code",
   "execution_count": null,
   "id": "a1c20c96",
   "metadata": {},
   "outputs": [],
   "source": [
    "f.seek(5)"
   ]
  },
  {
   "cell_type": "code",
   "execution_count": null,
   "id": "7400fe6b",
   "metadata": {},
   "outputs": [],
   "source": [
    "f.write(\"hello,hi\")\n",
    "f.close()"
   ]
  },
  {
   "cell_type": "code",
   "execution_count": null,
   "id": "5a115198",
   "metadata": {},
   "outputs": [],
   "source": [
    "f = open(\"kaif.txt\",\"x\")\n",
    "f"
   ]
  },
  {
   "cell_type": "code",
   "execution_count": null,
   "id": "228590d0",
   "metadata": {},
   "outputs": [],
   "source": [
    "f.write(\"how,hey,you \\n why,where\")\n",
    "f.close()"
   ]
  },
  {
   "cell_type": "code",
   "execution_count": null,
   "id": "f22deba7",
   "metadata": {},
   "outputs": [],
   "source": [
    "with open(\"kaif.txt\") as f:\n",
    "    print(f.read())"
   ]
  },
  {
   "cell_type": "code",
   "execution_count": null,
   "id": "4023a551",
   "metadata": {},
   "outputs": [],
   "source": [
    "with open(\"kaif.txt\") as f:\n",
    "    f.read()"
   ]
  },
  {
   "cell_type": "code",
   "execution_count": null,
   "id": "71b44dd9",
   "metadata": {},
   "outputs": [],
   "source": [
    "# write a program to read the line number of the file as per the user\n",
    "\n",
    "f = open(\"linenumber.txt\",\"w\")\n",
    "f\n",
    "f.write(\"python is boring\")\n",
    "f.write(\"python is interesting\")\n",
    "f.write(\"python is the most favaurable language\")\n",
    "f.write(\"python is mandatory for data science\")\n",
    "f.close()"
   ]
  },
  {
   "cell_type": "code",
   "execution_count": null,
   "id": "339372b7",
   "metadata": {},
   "outputs": [],
   "source": [
    "line=int(input(\"Enter the line number\"))\n",
    "ln=0\n",
    "f =open(\"linenumber.txt\",\"r\")\n",
    "for i in f:\n",
    "    ln =ln+1\n",
    "    if ln==line:\n",
    "        print(i)\n",
    "        break"
   ]
  },
  {
   "cell_type": "code",
   "execution_count": null,
   "id": "f99f0e2a",
   "metadata": {},
   "outputs": [],
   "source": [
    "#write a program to enter food items in file if food is not present in the current file\n",
    "f1 = open(\"new2.txt\",\"a+\")\n",
    "f1\n",
    "for i in range(1,6):\n",
    "    f=input(\"Enter The Food Items\")\n",
    "    f1.write(f)\n",
    "    f1.write(\"\\n\")\n",
    "f1.close()"
   ]
  },
  {
   "cell_type": "code",
   "execution_count": null,
   "id": "8efb0fd5",
   "metadata": {},
   "outputs": [],
   "source": [
    "f = open(\"new1.txt\",\"a+\")\n",
    "f"
   ]
  },
  {
   "cell_type": "code",
   "execution_count": null,
   "id": "9d3548bc",
   "metadata": {},
   "outputs": [],
   "source": [
    "for i in range(1,6):\n",
    "    f1=input(\"Enter The Food Items\")\n",
    "    f.write(\"\\n\")\n",
    "f.close()"
   ]
  },
  {
   "cell_type": "code",
   "execution_count": 10,
   "id": "90eb63cc",
   "metadata": {},
   "outputs": [
    {
     "ename": "KeyboardInterrupt",
     "evalue": "Interrupted by user",
     "output_type": "error",
     "traceback": [
      "\u001b[1;31m---------------------------------------------------------------------------\u001b[0m",
      "\u001b[1;31mKeyboardInterrupt\u001b[0m                         Traceback (most recent call last)",
      "Input \u001b[1;32mIn [10]\u001b[0m, in \u001b[0;36m<cell line: 1>\u001b[1;34m()\u001b[0m\n\u001b[1;32m----> 1\u001b[0m food1\u001b[38;5;241m=\u001b[39m\u001b[38;5;28;43minput\u001b[39;49m\u001b[43m(\u001b[49m\u001b[38;5;124;43m\"\u001b[39;49m\u001b[38;5;124;43mEnter the Food Items\u001b[39;49m\u001b[38;5;124;43m\"\u001b[39;49m\u001b[43m)\u001b[49m\n\u001b[0;32m      2\u001b[0m f\u001b[38;5;241m=\u001b[39m\u001b[38;5;28mopen\u001b[39m(\u001b[38;5;124m\"\u001b[39m\u001b[38;5;124mnew2.txt\u001b[39m\u001b[38;5;124m\"\u001b[39m,\u001b[38;5;124m\"\u001b[39m\u001b[38;5;124mr+\u001b[39m\u001b[38;5;124m\"\u001b[39m)\n\u001b[0;32m      3\u001b[0m food_items\u001b[38;5;241m=\u001b[39m[]\n",
      "File \u001b[1;32m~\\anaconda3\\lib\\site-packages\\ipykernel\\kernelbase.py:1075\u001b[0m, in \u001b[0;36mKernel.raw_input\u001b[1;34m(self, prompt)\u001b[0m\n\u001b[0;32m   1071\u001b[0m \u001b[38;5;28;01mif\u001b[39;00m \u001b[38;5;129;01mnot\u001b[39;00m \u001b[38;5;28mself\u001b[39m\u001b[38;5;241m.\u001b[39m_allow_stdin:\n\u001b[0;32m   1072\u001b[0m     \u001b[38;5;28;01mraise\u001b[39;00m StdinNotImplementedError(\n\u001b[0;32m   1073\u001b[0m         \u001b[38;5;124m\"\u001b[39m\u001b[38;5;124mraw_input was called, but this frontend does not support input requests.\u001b[39m\u001b[38;5;124m\"\u001b[39m\n\u001b[0;32m   1074\u001b[0m     )\n\u001b[1;32m-> 1075\u001b[0m \u001b[38;5;28;01mreturn\u001b[39;00m \u001b[38;5;28;43mself\u001b[39;49m\u001b[38;5;241;43m.\u001b[39;49m\u001b[43m_input_request\u001b[49m\u001b[43m(\u001b[49m\n\u001b[0;32m   1076\u001b[0m \u001b[43m    \u001b[49m\u001b[38;5;28;43mstr\u001b[39;49m\u001b[43m(\u001b[49m\u001b[43mprompt\u001b[49m\u001b[43m)\u001b[49m\u001b[43m,\u001b[49m\n\u001b[0;32m   1077\u001b[0m \u001b[43m    \u001b[49m\u001b[38;5;28;43mself\u001b[39;49m\u001b[38;5;241;43m.\u001b[39;49m\u001b[43m_parent_ident\u001b[49m\u001b[43m[\u001b[49m\u001b[38;5;124;43m\"\u001b[39;49m\u001b[38;5;124;43mshell\u001b[39;49m\u001b[38;5;124;43m\"\u001b[39;49m\u001b[43m]\u001b[49m\u001b[43m,\u001b[49m\n\u001b[0;32m   1078\u001b[0m \u001b[43m    \u001b[49m\u001b[38;5;28;43mself\u001b[39;49m\u001b[38;5;241;43m.\u001b[39;49m\u001b[43mget_parent\u001b[49m\u001b[43m(\u001b[49m\u001b[38;5;124;43m\"\u001b[39;49m\u001b[38;5;124;43mshell\u001b[39;49m\u001b[38;5;124;43m\"\u001b[39;49m\u001b[43m)\u001b[49m\u001b[43m,\u001b[49m\n\u001b[0;32m   1079\u001b[0m \u001b[43m    \u001b[49m\u001b[43mpassword\u001b[49m\u001b[38;5;241;43m=\u001b[39;49m\u001b[38;5;28;43;01mFalse\u001b[39;49;00m\u001b[43m,\u001b[49m\n\u001b[0;32m   1080\u001b[0m \u001b[43m\u001b[49m\u001b[43m)\u001b[49m\n",
      "File \u001b[1;32m~\\anaconda3\\lib\\site-packages\\ipykernel\\kernelbase.py:1120\u001b[0m, in \u001b[0;36mKernel._input_request\u001b[1;34m(self, prompt, ident, parent, password)\u001b[0m\n\u001b[0;32m   1117\u001b[0m             \u001b[38;5;28;01mbreak\u001b[39;00m\n\u001b[0;32m   1118\u001b[0m \u001b[38;5;28;01mexcept\u001b[39;00m \u001b[38;5;167;01mKeyboardInterrupt\u001b[39;00m:\n\u001b[0;32m   1119\u001b[0m     \u001b[38;5;66;03m# re-raise KeyboardInterrupt, to truncate traceback\u001b[39;00m\n\u001b[1;32m-> 1120\u001b[0m     \u001b[38;5;28;01mraise\u001b[39;00m \u001b[38;5;167;01mKeyboardInterrupt\u001b[39;00m(\u001b[38;5;124m\"\u001b[39m\u001b[38;5;124mInterrupted by user\u001b[39m\u001b[38;5;124m\"\u001b[39m) \u001b[38;5;28;01mfrom\u001b[39;00m \u001b[38;5;28mNone\u001b[39m\n\u001b[0;32m   1121\u001b[0m \u001b[38;5;28;01mexcept\u001b[39;00m \u001b[38;5;167;01mException\u001b[39;00m:\n\u001b[0;32m   1122\u001b[0m     \u001b[38;5;28mself\u001b[39m\u001b[38;5;241m.\u001b[39mlog\u001b[38;5;241m.\u001b[39mwarning(\u001b[38;5;124m\"\u001b[39m\u001b[38;5;124mInvalid Message:\u001b[39m\u001b[38;5;124m\"\u001b[39m, exc_info\u001b[38;5;241m=\u001b[39m\u001b[38;5;28;01mTrue\u001b[39;00m)\n",
      "\u001b[1;31mKeyboardInterrupt\u001b[0m: Interrupted by user"
     ]
    }
   ],
   "source": [
    "food1=input(\"Enter the Food Items\")\n",
    "f=open(\"new2.txt\",\"r+\")\n",
    "food_items=[]\n",
    "food_items=f.readlines()\n",
    "print(food_items)\n",
    "for k in food_items:\n",
    "    k1=k.replace(\"\\n\",\"\")\n",
    "    food_items.append(k1)\n",
    "print(food_items)\n",
    "\n",
    "if food1 in food_items:\n",
    "    print(\"this items is already present\")\n",
    "else:\n",
    "    f.write(food1)\n",
    "    f.write(\"\\n\")\n",
    "    f.close()"
   ]
  },
  {
   "cell_type": "code",
   "execution_count": 33,
   "id": "3b05a56e",
   "metadata": {},
   "outputs": [
    {
     "ename": "FileNotFoundError",
     "evalue": "[Errno 2] No such file or directory: 'hi.txt'",
     "output_type": "error",
     "traceback": [
      "\u001b[1;31m---------------------------------------------------------------------------\u001b[0m",
      "\u001b[1;31mFileNotFoundError\u001b[0m                         Traceback (most recent call last)",
      "Input \u001b[1;32mIn [33]\u001b[0m, in \u001b[0;36m<cell line: 3>\u001b[1;34m()\u001b[0m\n\u001b[0;32m      1\u001b[0m \u001b[38;5;66;03m#wap to read corresponding lines of both the files\u001b[39;00m\n\u001b[0;32m      2\u001b[0m f\u001b[38;5;241m=\u001b[39m\u001b[38;5;28mopen\u001b[39m(\u001b[38;5;124m\"\u001b[39m\u001b[38;5;124mfood.txt\u001b[39m\u001b[38;5;124m\"\u001b[39m,\u001b[38;5;124m\"\u001b[39m\u001b[38;5;124mr\u001b[39m\u001b[38;5;124m\"\u001b[39m)\n\u001b[1;32m----> 3\u001b[0m f1\u001b[38;5;241m=\u001b[39m\u001b[38;5;28;43mopen\u001b[39;49m\u001b[43m(\u001b[49m\u001b[38;5;124;43m\"\u001b[39;49m\u001b[38;5;124;43mhi.txt\u001b[39;49m\u001b[38;5;124;43m\"\u001b[39;49m\u001b[43m)\u001b[49m\n\u001b[0;32m      4\u001b[0m l1\u001b[38;5;241m=\u001b[39mf\u001b[38;5;241m.\u001b[39mreadlines()\n\u001b[0;32m      5\u001b[0m \u001b[38;5;28mprint\u001b[39m(l1)\n",
      "\u001b[1;31mFileNotFoundError\u001b[0m: [Errno 2] No such file or directory: 'hi.txt'"
     ]
    }
   ],
   "source": [
    "#wap to read corresponding lines of both the files\n",
    "f=open(\"food.txt\",\"r\")\n",
    "f1=open(\"hi.txt\")\n",
    "l1=f.readlines()\n",
    "print(l1)\n",
    "\n",
    "l2=f1.readlines()\n",
    "print(l2)\n",
    "dict(zip(l1,l2))"
   ]
  },
  {
   "cell_type": "code",
   "execution_count": null,
   "id": "f41c1025",
   "metadata": {},
   "outputs": [],
   "source": [
    "#task1\n",
    "# hi kaif\n",
    "# how are you\n",
    "# count the frequence of each word in file"
   ]
  },
  {
   "cell_type": "code",
   "execution_count": null,
   "id": "2fae24f5",
   "metadata": {},
   "outputs": [],
   "source": [
    "f = open(\"name.doc\",\"w\")\n",
    "f"
   ]
  },
  {
   "cell_type": "code",
   "execution_count": null,
   "id": "1f164b4e",
   "metadata": {},
   "outputs": [],
   "source": [
    "f.write(\"hi \\n\")\n",
    "f.write(\"hello \\n\")\n",
    "f.write(\"i am kaif \\n\")\n",
    "f.close()"
   ]
  },
  {
   "cell_type": "code",
   "execution_count": null,
   "id": "1a2d8210",
   "metadata": {},
   "outputs": [],
   "source": [
    "f=open(\"name.doc\",\"w+\")\n",
    "print(\"filename :\",f.name)\n",
    "print(\"filemode :\",f.mode)\n",
    "print(\"Is File readable :\",f.readable())\n",
    "print(\"Is File Writable :\",f.writable())\n",
    "print(\"Is File Close :\",f.closed)\n",
    "f.close()\n",
    "print(\"Is File IS Close :\",f.closed)"
   ]
  },
  {
   "cell_type": "code",
   "execution_count": null,
   "id": "13303911",
   "metadata": {},
   "outputs": [],
   "source": [
    "f = open(\"name.doc\",\"w\")\n",
    "f"
   ]
  },
  {
   "cell_type": "code",
   "execution_count": null,
   "id": "72ab0f15",
   "metadata": {},
   "outputs": [],
   "source": [
    "f.write(\"hi \\n\")\n",
    "f.write(\"hello \\n\")\n",
    "f.write(\"i am kaif \\n\")\n",
    "f.close()"
   ]
  },
  {
   "cell_type": "code",
   "execution_count": null,
   "id": "18455216",
   "metadata": {},
   "outputs": [],
   "source": [
    "f = open(\"name.doc\",\"w\")\n",
    "f"
   ]
  },
  {
   "cell_type": "code",
   "execution_count": null,
   "id": "565376ea",
   "metadata": {},
   "outputs": [],
   "source": [
    "f.close()"
   ]
  },
  {
   "cell_type": "code",
   "execution_count": null,
   "id": "19fe439d",
   "metadata": {},
   "outputs": [],
   "source": [
    "f = open(\"name.doc\",\"w\")\n",
    "f"
   ]
  },
  {
   "cell_type": "code",
   "execution_count": null,
   "id": "eece14bb",
   "metadata": {},
   "outputs": [],
   "source": [
    "f.write(\"hi \\n\")\n",
    "f.write(\"hello \\n\")\n",
    "f.write(\"i am kaif \\n\")\n",
    "f.close()"
   ]
  },
  {
   "cell_type": "code",
   "execution_count": null,
   "id": "4a53f283",
   "metadata": {},
   "outputs": [],
   "source": [
    "f = open(\"name.doc\",\"w+\")\n",
    "f"
   ]
  },
  {
   "cell_type": "code",
   "execution_count": null,
   "id": "f4d3b8ac",
   "metadata": {},
   "outputs": [],
   "source": [
    "count=0\n",
    "for i in f:\n",
    "    count+=1\n",
    "print(\"Number of words in this file are :\",count)\n",
    "    \n",
    "    "
   ]
  },
  {
   "cell_type": "code",
   "execution_count": 5,
   "id": "5208e289",
   "metadata": {},
   "outputs": [
    {
     "data": {
      "text/plain": [
       "<_io.TextIOWrapper name='name.doc' mode='w+' encoding='cp1252'>"
      ]
     },
     "execution_count": 5,
     "metadata": {},
     "output_type": "execute_result"
    }
   ],
   "source": [
    "f = open(\"name.doc\",\"w+\")\n",
    "f"
   ]
  },
  {
   "cell_type": "code",
   "execution_count": 7,
   "id": "c34eb840",
   "metadata": {},
   "outputs": [],
   "source": [
    "f.write(\"hi \\n\")\n",
    "f.write(\"hello \\n\")\n",
    "f.write(\"i\" \"am\" \"kaif \\n\")\n",
    "f.close()"
   ]
  },
  {
   "cell_type": "code",
   "execution_count": 8,
   "id": "bb19caf7",
   "metadata": {},
   "outputs": [
    {
     "name": "stdout",
     "output_type": "stream",
     "text": [
      "['hi \\n', 'hello \\n', 'hi \\n', 'hello \\n', 'iamkaif \\n']\n",
      "Number of words in this file are : 5\n"
     ]
    }
   ],
   "source": [
    "f = open(\"name.doc\",\"r\")\n",
    "f\n",
    "count=0\n",
    "z=f.readlines()\n",
    "print(z)\n",
    "for i in z:\n",
    "    count+=1\n",
    "print(\"Number of words in this file are :\",count)\n",
    "f.close()"
   ]
  },
  {
   "cell_type": "code",
   "execution_count": null,
   "id": "0f0991b4",
   "metadata": {},
   "outputs": [],
   "source": [
    "count=0\n",
    "for i in f:\n",
    "    count+=1\n",
    "print(\"Number of words in this file are :\",count)"
   ]
  },
  {
   "cell_type": "code",
   "execution_count": 12,
   "id": "8ad42fd4",
   "metadata": {},
   "outputs": [
    {
     "data": {
      "text/plain": [
       "<_io.TextIOWrapper name='food.txt' mode='r' encoding='cp1252'>"
      ]
     },
     "execution_count": 12,
     "metadata": {},
     "output_type": "execute_result"
    }
   ],
   "source": [
    "f = open(\"food.txt\",\"r\")\n",
    "f"
   ]
  },
  {
   "cell_type": "code",
   "execution_count": 13,
   "id": "809232c0",
   "metadata": {},
   "outputs": [
    {
     "data": {
      "text/plain": [
       "['pizza\\n', 'pakore\\n', 'popcorn\\n', 'burger\\n', 'jalebi\\n']"
      ]
     },
     "execution_count": 13,
     "metadata": {},
     "output_type": "execute_result"
    }
   ],
   "source": [
    "f.readlines()"
   ]
  },
  {
   "cell_type": "code",
   "execution_count": 9,
   "id": "326e04d7",
   "metadata": {},
   "outputs": [],
   "source": [
    "f.write(\"pizza\")\n",
    "f.write(\"\\n\")\n",
    "f.write(\"pakore\")\n",
    "f.write(\"\\n\")\n",
    "f.write(\"popcorn\")\n",
    "f.write(\"\\n\")\n",
    "f.write(\"burger\")\n",
    "f.write(\"\\n\")\n",
    "f.write(\"jalebi\")\n",
    "f.write(\"\\n\")\n",
    "f.close()"
   ]
  },
  {
   "cell_type": "code",
   "execution_count": 32,
   "id": "1ff34670",
   "metadata": {},
   "outputs": [
    {
     "name": "stdout",
     "output_type": "stream",
     "text": [
      "Enter the Food Itemspizza\n",
      "['pizza\\n', 'pakore\\n', 'popcorn\\n', 'burger\\n', 'jalebi\\n', 'cake\\n', 'samosa\\n', 'patties\\n']\n",
      "['pizza', 'pakore', 'popcorn', 'burger', 'jalebi', 'cake', 'samosa', 'patties']\n",
      "this item is already present !!\n",
      "['pizza', 'pakore', 'popcorn', 'burger', 'jalebi', 'cake', 'samosa', 'patties']\n"
     ]
    }
   ],
   "source": [
    "food1=input(\"Enter the Food Items\")\n",
    "f=open(\"food.txt\",\"r+\")\n",
    "food_items1=[]\n",
    "food_items=f.readlines()\n",
    "print(food_items)\n",
    "for k in food_items:\n",
    "    k1=k.replace(\"\\n\",\"\")\n",
    "    food_items1.append(k1)\n",
    "print(food_items1)\n",
    "\n",
    "if food1 in food_items1:\n",
    "    print(\"this item is already present !!\")\n",
    "else:\n",
    "    f.write(food1)\n",
    "    f.write(\"\\n\")\n",
    "    f.close()\n",
    "print(food_items1)\n",
    "    \n",
    "\n",
    "    \n",
    "    "
   ]
  },
  {
   "cell_type": "code",
   "execution_count": 17,
   "id": "d9cdaa52",
   "metadata": {},
   "outputs": [
    {
     "name": "stdout",
     "output_type": "stream",
     "text": [
      "Enter the Food Itemspizza\n"
     ]
    }
   ],
   "source": [
    "#food1=input(\"Enter the Food Items\")"
   ]
  },
  {
   "cell_type": "code",
   "execution_count": null,
   "id": "7780c61c",
   "metadata": {},
   "outputs": [],
   "source": [
    "if food1 in fooditems1:\n",
    "    print(\"this item is already present !!\")\n",
    "else:\n",
    "    f.write(food1)\n",
    "    f.write(\"\\n\")\n",
    "    f.close()"
   ]
  },
  {
   "cell_type": "code",
   "execution_count": 4,
   "id": "53bb3916",
   "metadata": {},
   "outputs": [
    {
     "data": {
      "text/plain": [
       "<_io.TextIOWrapper name='phone-entry' mode='w' encoding='cp1252'>"
      ]
     },
     "execution_count": 4,
     "metadata": {},
     "output_type": "execute_result"
    }
   ],
   "source": [
    "f = open(\"phone-entry\",\"w\")\n",
    "f"
   ]
  },
  {
   "cell_type": "code",
   "execution_count": 5,
   "id": "883564ad",
   "metadata": {},
   "outputs": [
    {
     "name": "stdout",
     "output_type": "stream",
     "text": [
      "Enter First Name -mm\n",
      "Enter Last Name -nn\n",
      "Enter your Phone Number -555455\n",
      "Enter First Name -kk\n",
      "Enter Last Name -hh\n",
      "Enter your Phone Number -58\n",
      "Enter First Name -mmm\n",
      "Enter Last Name -kjskdjk\n",
      "Enter your Phone Number -4558566\n",
      "Enter First Name -kjkj\n",
      "Enter Last Name -jbhhs\n",
      "Enter your Phone Number -4859614\n",
      "Enter First Name -kjkj\n",
      "Enter Last Name -665\n",
      "Enter your Phone Number -666\n",
      "Enter First Name -kkd\n",
      "Enter Last Name -jdhd\n",
      "Enter your Phone Number -45555\n"
     ]
    }
   ],
   "source": [
    "f.write(\"First-Name,Last-Name,Phonenumber\")\n",
    "f.write(\"\\n\")\n",
    "for i in range(1,7):\n",
    "    f.write(input(\"Enter First Name -\"))\n",
    "    f.write(\",\")\n",
    "    f.write(input(\"Enter Last Name -\"))\n",
    "    f.write(\",\")\n",
    "    f.write(input(\"Enter your Phone Number -\"))\n",
    "    f.write(\"\\n\")\n",
    "f.close()\n"
   ]
  },
  {
   "cell_type": "code",
   "execution_count": 6,
   "id": "d81aff42",
   "metadata": {},
   "outputs": [
    {
     "data": {
      "text/plain": [
       "<_io.TextIOWrapper name='count.txt' mode='w' encoding='cp1252'>"
      ]
     },
     "execution_count": 6,
     "metadata": {},
     "output_type": "execute_result"
    }
   ],
   "source": [
    "f=open(\"count.txt\",\"w\")\n",
    "f"
   ]
  },
  {
   "cell_type": "code",
   "execution_count": 7,
   "id": "e0bf439a",
   "metadata": {},
   "outputs": [
    {
     "name": "stdout",
     "output_type": "stream",
     "text": [
      "Enter The Counthi hello\n",
      "Enter The Countpython\n",
      "Enter The Counthello python\n",
      "Enter The Counthi data science\n"
     ]
    }
   ],
   "source": [
    "for i in range(1,5):\n",
    "    c = input(\"Enter The Count\")\n",
    "    f.write(c)\n",
    "    f.write(\"\\n\")\n",
    "f.close()"
   ]
  },
  {
   "cell_type": "code",
   "execution_count": 32,
   "id": "90dacc19",
   "metadata": {},
   "outputs": [
    {
     "data": {
      "text/plain": [
       "<_io.TextIOWrapper name='count.txt' mode='r+' encoding='cp1252'>"
      ]
     },
     "execution_count": 32,
     "metadata": {},
     "output_type": "execute_result"
    }
   ],
   "source": [
    "f=open(\"count.txt\",\"r+\")\n",
    "f"
   ]
  },
  {
   "cell_type": "code",
   "execution_count": 33,
   "id": "1926911b",
   "metadata": {},
   "outputs": [
    {
     "name": "stdout",
     "output_type": "stream",
     "text": [
      "['hi', 'hello\\npython\\nhello', 'python\\nhi', 'data', 'science\\n']\n",
      "['hi', 'hellopythonhello', 'pythonhi', 'data', 'science']\n"
     ]
    },
    {
     "data": {
      "text/plain": [
       "Counter({'hi': 1,\n",
       "         'hellopythonhello': 1,\n",
       "         'pythonhi': 1,\n",
       "         'data': 1,\n",
       "         'science': 1})"
      ]
     },
     "execution_count": 33,
     "metadata": {},
     "output_type": "execute_result"
    }
   ],
   "source": [
    "z=f.read()\n",
    "l=z.split(\" \")\n",
    "print(l)\n",
    "l1=[]\n",
    "for i in l:\n",
    "    i=i.replace(\"\\n\",\"\")\n",
    "    l1.append(i)\n",
    "print(l1)\n",
    "from collections import Counter\n",
    "Counter(l1)"
   ]
  },
  {
   "cell_type": "code",
   "execution_count": 16,
   "id": "decc7a05",
   "metadata": {},
   "outputs": [
    {
     "data": {
      "text/plain": [
       "0"
      ]
     },
     "execution_count": 16,
     "metadata": {},
     "output_type": "execute_result"
    }
   ],
   "source": [
    "f.seek(0)"
   ]
  },
  {
   "cell_type": "code",
   "execution_count": 17,
   "id": "03087c89",
   "metadata": {},
   "outputs": [
    {
     "name": "stdout",
     "output_type": "stream",
     "text": [
      "['hi hello\\n', 'python\\n', 'hello python\\n', 'hi data science\\n']\n"
     ]
    }
   ],
   "source": [
    "l = f.readlines()\n",
    "print(l)"
   ]
  },
  {
   "cell_type": "code",
   "execution_count": 19,
   "id": "51e7f508",
   "metadata": {},
   "outputs": [
    {
     "name": "stdout",
     "output_type": "stream",
     "text": [
      "['hi hello', 'python', 'hello python', 'hi data science']\n"
     ]
    }
   ],
   "source": [
    "l1=[]\n",
    "for i in l:\n",
    "    i=i.replace(\"\\n\",\"\")\n",
    "    l1.append(i)\n",
    "print(l1)"
   ]
  },
  {
   "cell_type": "code",
   "execution_count": 20,
   "id": "6672e466",
   "metadata": {},
   "outputs": [
    {
     "name": "stdout",
     "output_type": "stream",
     "text": [
      "[['hi', 'hello'], ['python'], ['hello', 'python'], ['hi', 'data', 'science']]\n"
     ]
    }
   ],
   "source": [
    "main=[]\n",
    "for i in l1:\n",
    "    word=i.split(\" \")\n",
    "    main.append(word)\n",
    "print(main)\n"
   ]
  },
  {
   "cell_type": "code",
   "execution_count": 24,
   "id": "bdd87fd4",
   "metadata": {},
   "outputs": [
    {
     "name": "stdout",
     "output_type": "stream",
     "text": [
      "['hi', 'hello', 'python', 'hello', 'python', 'hi', 'data', 'science']\n"
     ]
    },
    {
     "data": {
      "text/plain": [
       "Counter({'hi': 2, 'hello': 2, 'python': 2, 'data': 1, 'science': 1})"
      ]
     },
     "execution_count": 24,
     "metadata": {},
     "output_type": "execute_result"
    }
   ],
   "source": [
    "mainword=[]\n",
    "for i in main:\n",
    "    for j in i:\n",
    "        mainword.append(j)\n",
    "print(mainword)\n",
    "from collections import Counter\n",
    "Counter(mainword)\n",
    "        "
   ]
  },
  {
   "cell_type": "code",
   "execution_count": null,
   "id": "b78d7e58",
   "metadata": {},
   "outputs": [],
   "source": []
  }
 ],
 "metadata": {
  "kernelspec": {
   "display_name": "Python 3 (ipykernel)",
   "language": "python",
   "name": "python3"
  },
  "language_info": {
   "codemirror_mode": {
    "name": "ipython",
    "version": 3
   },
   "file_extension": ".py",
   "mimetype": "text/x-python",
   "name": "python",
   "nbconvert_exporter": "python",
   "pygments_lexer": "ipython3",
   "version": "3.9.12"
  }
 },
 "nbformat": 4,
 "nbformat_minor": 5
}
