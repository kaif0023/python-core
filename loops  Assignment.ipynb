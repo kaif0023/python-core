{
 "cells": [
  {
   "cell_type": "code",
   "execution_count": 1,
   "id": "abe2b98d",
   "metadata": {},
   "outputs": [
    {
     "name": "stdout",
     "output_type": "stream",
     "text": [
      "The Given List Is Not Lucky\n"
     ]
    }
   ],
   "source": [
    "# LOOPS : \n",
    "# Assignment Question:-------\n",
    "#Q.1 Write a program to check whether the given list of number is lucky.  \n",
    "# a lucky list contains at least one number is divisible by 7.\n",
    "#ans. \n",
    "x = [1,3,5,9,11,15,25,97]\n",
    "for i in x :\n",
    "    if i % 7 == 0:\n",
    "        print(\"The Given List Is Lucky\")\n",
    "        break\n",
    "else:\n",
    "    print(\"The Given List Is Not Lucky\")\n",
    "        \n",
    "\n"
   ]
  },
  {
   "cell_type": "code",
   "execution_count": 1,
   "id": "69be84fe",
   "metadata": {},
   "outputs": [
    {
     "name": "stdout",
     "output_type": "stream",
     "text": [
      "Enter the Number :- 7\n",
      "The Sum Of all Numbers upto 7 is = 28\n"
     ]
    }
   ],
   "source": [
    "# Q.2 Write a program to print sum of all numbers from 1 to given number.\n",
    "num = int(input(\"Enter the Number :- \"))\n",
    "sum = 0\n",
    "for i in range(1,num + 1):\n",
    "    sum = sum + i\n",
    "print(\"The Sum Of all Numbers upto\",num, \"is\",\"=\",sum)\n",
    "    \n",
    "\n"
   ]
  },
  {
   "cell_type": "code",
   "execution_count": 3,
   "id": "4c44f28f",
   "metadata": {},
   "outputs": [
    {
     "name": "stdout",
     "output_type": "stream",
     "text": [
      "Enter A Number :- 405\n",
      "405 Is not Armstrong number\n"
     ]
    }
   ],
   "source": [
    "# Q.3 Write a program to check whether the given number id armstrong or not\n",
    "# Armstrong number is a number that is equal to the sum of cubes of its digits. For example 0, 1, 153, 370, 371 and 407 are the Armstrong numbers.\n",
    "\n",
    "num = int(input(\"Enter A Number :- \"))\n",
    "sum = 0\n",
    "temp = num\n",
    "while temp > 0:\n",
    "    digit = temp % 10\n",
    "    sum += digit ** 3\n",
    "    temp //= 10\n",
    "if num == sum:\n",
    "    print(num,\"Is Armstrong number\")\n",
    "else:\n",
    "    print(num,\"Is not Armstrong number\")\n",
    "        \n",
    "        \n",
    "        "
   ]
  },
  {
   "cell_type": "code",
   "execution_count": 4,
   "id": "5eba5d16",
   "metadata": {},
   "outputs": [
    {
     "name": "stdout",
     "output_type": "stream",
     "text": [
      "2\n",
      "4\n",
      "6\n",
      "8\n",
      "10\n"
     ]
    }
   ],
   "source": [
    "# Q4. Write a program to print the following using while loop   \n",
    " #a. First 10 Even numbers   \n",
    "#b. First 10 Odd numbers   \n",
    "#c. First 10 Natural numbers   \n",
    "#d. First 10 Whole numbers \n",
    "\n",
    "#1\n",
    "x = 1\n",
    "while x <= 10:\n",
    "    if x % 2 == 0:\n",
    "        print(x)\n",
    "    x += 1\n",
    "        \n",
    "    \n",
    "\n"
   ]
  },
  {
   "cell_type": "code",
   "execution_count": 5,
   "id": "7db952d0",
   "metadata": {},
   "outputs": [
    {
     "name": "stdout",
     "output_type": "stream",
     "text": [
      "1\n",
      "3\n",
      "5\n",
      "7\n",
      "9\n"
     ]
    }
   ],
   "source": [
    "#2\n",
    "x = 0\n",
    "while x <= 10:\n",
    "    if x % 2 != 0:\n",
    "        print(x)\n",
    "    x += 1"
   ]
  },
  {
   "cell_type": "code",
   "execution_count": 6,
   "id": "e26c2b1a",
   "metadata": {},
   "outputs": [
    {
     "name": "stdout",
     "output_type": "stream",
     "text": [
      "1\n",
      "2\n",
      "3\n",
      "4\n",
      "5\n",
      "6\n",
      "7\n",
      "8\n",
      "9\n",
      "10\n"
     ]
    }
   ],
   "source": [
    "#3\n",
    "x = 1\n",
    "while x <= 10:\n",
    "    print(x)\n",
    "    x += 1"
   ]
  },
  {
   "cell_type": "code",
   "execution_count": 7,
   "id": "6c7c5dd6",
   "metadata": {},
   "outputs": [
    {
     "name": "stdout",
     "output_type": "stream",
     "text": [
      "0\n",
      "1\n",
      "2\n",
      "3\n",
      "4\n",
      "5\n",
      "6\n",
      "7\n",
      "8\n",
      "9\n",
      "10\n"
     ]
    }
   ],
   "source": [
    "#4\n",
    "x = 0\n",
    "while x <= 10:\n",
    "    print(x)\n",
    "    x += 1\n"
   ]
  },
  {
   "cell_type": "code",
   "execution_count": 8,
   "id": "20860c19",
   "metadata": {},
   "outputs": [
    {
     "name": "stdout",
     "output_type": "stream",
     "text": [
      "1 1\n",
      "\n",
      "2 4\n",
      "\n",
      "3 9\n",
      "\n",
      "4 16\n",
      "\n",
      "5 25\n",
      "\n",
      "6 36\n",
      "\n",
      "7 49\n",
      "\n",
      "8 64\n",
      "\n",
      "9 81\n",
      "\n",
      "10 100\n",
      "\n",
      "11 121\n",
      "\n",
      "12 144\n",
      "\n",
      "13 169\n",
      "\n",
      "14 196\n",
      "\n",
      "15 225\n",
      "\n",
      "16 256\n",
      "\n",
      "17 289\n",
      "\n",
      "18 324\n",
      "\n",
      "19 361\n",
      "\n",
      "20 400\n",
      "\n"
     ]
    }
   ],
   "source": [
    "#Q5. Write a program to print first 10 integers and their squares using while loop.   \n",
    "#1 1   \n",
    "#2 4   \n",
    "#3 9 and so on\n",
    "\n",
    "x = 1\n",
    "while x <= 20:\n",
    "    print(x,x*x)\n",
    "    print()\n",
    "    x += 1\n",
    "    \n",
    "    \n",
    "\n"
   ]
  },
  {
   "cell_type": "code",
   "execution_count": 9,
   "id": "a901c786",
   "metadata": {},
   "outputs": [
    {
     "name": "stdout",
     "output_type": "stream",
     "text": [
      "10\n",
      "20\n",
      "30\n",
      "40\n",
      "50\n",
      "60\n",
      "70\n",
      "80\n",
      "90\n",
      "100\n",
      "110\n",
      "120\n",
      "130\n",
      "140\n",
      "150\n",
      "160\n",
      "170\n",
      "180\n",
      "190\n",
      "200\n",
      "210\n",
      "220\n",
      "230\n",
      "240\n",
      "250\n",
      "260\n",
      "270\n",
      "280\n",
      "290\n",
      "300\n"
     ]
    }
   ],
   "source": [
    "#Q6. Write for loop statement to print the following series:   \n",
    "#10\n",
    "#20\n",
    "#30 \n",
    "#.\n",
    "#.\n",
    "#.\n",
    "#300\n",
    "\n",
    "x = 10\n",
    "for i in range (1,31):\n",
    "    print(x*i)\n",
    "\n",
    "  \n"
   ]
  },
  {
   "cell_type": "code",
   "execution_count": 10,
   "id": "10a6aeff",
   "metadata": {},
   "outputs": [
    {
     "name": "stdout",
     "output_type": "stream",
     "text": [
      "105\n",
      "98\n",
      "91\n",
      "84\n",
      "77\n",
      "70\n",
      "63\n",
      "56\n",
      "49\n",
      "42\n",
      "35\n",
      "28\n",
      "21\n",
      "14\n",
      "7\n"
     ]
    }
   ],
   "source": [
    "#Q7. Write a while loop statement to print the following series   \n",
    "#105\n",
    "#98\n",
    "#91 \n",
    "#.\n",
    "#.\n",
    "#.\n",
    "#.\n",
    "#7\n",
    "\n",
    "x = 105\n",
    "while x >= 7:\n",
    "    print(x)\n",
    "    x -= 7\n"
   ]
  },
  {
   "cell_type": "code",
   "execution_count": 11,
   "id": "c60080cf",
   "metadata": {},
   "outputs": [
    {
     "name": "stdout",
     "output_type": "stream",
     "text": [
      "Enter A Number : 45\n",
      "You Wish To Enter More Number ? Type 1 for Yes Or 0 For No 1\n",
      "Enter A Number : 25\n",
      "You Wish To Enter More Number ? Type 1 for Yes Or 0 For No 12\n",
      "invalid choice\n",
      "Enter A Number : 12\n",
      "You Wish To Enter More Number ? Type 1 for Yes Or 0 For No 0\n",
      "Sum Of The Numbers Is = 82\n"
     ]
    }
   ],
   "source": [
    "## Q8. Write a program to enter the numbers till the user wants \n",
    "# and at he end it should display the sum of all the numbers entered.\n",
    "sum = 0\n",
    "while(1):\n",
    "    num = int(input(\"Enter A Number : \"))\n",
    "    sum = sum + num\n",
    "    choice = input(\"You Wish To Enter More Number ? Type 1 for Yes Or 0 For No \")\n",
    "    if choice == \"1\":\n",
    "        continue\n",
    "    elif choice == \"0\":\n",
    "        break\n",
    "    else:\n",
    "        print(\"invalid choice\")\n",
    "print(\"Sum Of The Numbers Is\",\"=\",sum)\n",
    "\n",
    "    \n"
   ]
  },
  {
   "cell_type": "code",
   "execution_count": 12,
   "id": "efe7d000",
   "metadata": {},
   "outputs": [
    {
     "name": "stdout",
     "output_type": "stream",
     "text": [
      "Enter A Number : 45\n",
      "Enter A Number : -78\n",
      "Enter A Number : 45\n",
      "Enter A Number : -85\n",
      "Enter A Number : 25\n",
      "Enter A Number : 96\n",
      "Enter A Number : 0\n",
      "[45, -78, 45, -85, 25, 96, 0]\n",
      "Positive numbers in the list are : 5\n",
      "negative numbers in the list are : 2\n",
      "Sum Of the Positive and Negative Numbers is : 48\n"
     ]
    }
   ],
   "source": [
    "#Q9. Write a program to enter the numbers till the user enter ZERO and at the end \n",
    "#it should display the count and sum of positive  , negative numbers  entered.\n",
    "\n",
    "list = []\n",
    "sum = 0\n",
    "while(1):\n",
    "    num = int(input(\"Enter A Number : \"))\n",
    "    list.append(num)\n",
    "    if num != 0:\n",
    "        sum = sum + num\n",
    "    else:\n",
    "        break\n",
    "print(list)\n",
    "\n",
    "pos = 0\n",
    "neg = 0\n",
    "for num in list:\n",
    "    if num >= 0:\n",
    "        pos += 1\n",
    "    else:\n",
    "        neg += 1\n",
    "print(\"Positive numbers in the list are :\", pos)\n",
    "print(\"negative numbers in the list are :\", neg)\n",
    "print(\"Sum Of the Positive and Negative Numbers is :\", sum)\n",
    "    \n",
    "\n",
    "    "
   ]
  },
  {
   "cell_type": "code",
   "execution_count": 13,
   "id": "6eacab6f",
   "metadata": {},
   "outputs": [
    {
     "name": "stdout",
     "output_type": "stream",
     "text": [
      "104\n",
      "130\n",
      "143\n",
      "169\n",
      "182\n",
      "208\n",
      "221\n",
      "247\n",
      "260\n",
      "286\n",
      "299\n",
      "325\n",
      "338\n",
      "364\n",
      "377\n",
      "403\n",
      "416\n",
      "442\n",
      "455\n",
      "481\n",
      "494\n"
     ]
    }
   ],
   "source": [
    "# Q10. Write a program to display all the numbers which are divisible by 13 but not by 3\n",
    "#    between 100 and 500.(exclusive both numbers)\n",
    "for i in range (100,500):\n",
    "    if i % 13 == 0 and i % 3 != 0:\n",
    "        print(i)"
   ]
  },
  {
   "cell_type": "code",
   "execution_count": 14,
   "id": "69a195f9",
   "metadata": {},
   "outputs": [
    {
     "name": "stdout",
     "output_type": "stream",
     "text": [
      "please Enter the total number of list elements :10\n",
      "Enter the value of 1 element:12\n",
      "Enter the value of 2 element:54\n",
      "Enter the value of 3 element:96\n",
      "Enter the value of 4 element:58\n",
      "Enter the value of 5 element:478\n",
      "Enter the value of 6 element:456\n",
      "Enter the value of 7 element:256\n",
      "Enter the value of 8 element:10\n",
      "Enter the value of 9 element:14\n",
      "Enter the value of 10 element:169\n",
      "[12, 54, 96, 58, 478, 456, 256, 10, 14, 169]\n",
      "largest no is  478\n",
      "smallest no is  10\n"
     ]
    }
   ],
   "source": [
    "#  Q11. Write a program to accept 10 numbers from the user \n",
    "#  and display the largest & smallest number number.\n",
    "numlist = []\n",
    "number = int(input(\"please Enter the total number of list elements :\"))\n",
    "for i in range (1,number + 1):\n",
    "    value = int(input(\"Enter the value of %d element:\"%i))\n",
    "    numlist.append(value)\n",
    "    \n",
    "smallest = largest = numlist[0]\n",
    "    \n",
    "for j in range(1,number):\n",
    "    if(smallest > numlist[j]):\n",
    "        smallest = numlist[j]\n",
    "    if(largest < numlist[j]):\n",
    "        largest = numlist[j]\n",
    "print(numlist)\n",
    "print(\"largest no is \",largest)\n",
    "print(\"smallest no is \",smallest)\n",
    "        \n",
    "\n"
   ]
  },
  {
   "cell_type": "code",
   "execution_count": 15,
   "id": "450730ff",
   "metadata": {},
   "outputs": [
    {
     "name": "stdout",
     "output_type": "stream",
     "text": [
      "Enter the Range : 20\n",
      "1\n",
      "4\n",
      "9\n",
      "16\n",
      "25\n",
      "36\n",
      "49\n",
      "64\n",
      "81\n",
      "100\n",
      "121\n",
      "144\n",
      "169\n",
      "196\n",
      "225\n",
      "256\n",
      "289\n",
      "324\n",
      "361\n",
      "400\n"
     ]
    }
   ],
   "source": [
    "# Q12. Write a program to print the following series till n terms.   \n",
    "# 1\n",
    "#  4\n",
    "#  9\n",
    "#  16\n",
    "#  25\n",
    "#  .\n",
    "# .\n",
    "# .\n",
    "\n",
    "# n terms.\n",
    "\n",
    "x = int(input(\"Enter the Range : \"))\n",
    "for i in range (1,x + 1):\n",
    "    print(i*i)\n"
   ]
  },
  {
   "cell_type": "code",
   "execution_count": 1,
   "id": "9f3df4d4",
   "metadata": {},
   "outputs": [
    {
     "name": "stdout",
     "output_type": "stream",
     "text": [
      "Enter Your Username : kaif\n",
      "Enter Your Password : 1234\n",
      "\n",
      "To Sign In Please Enter Your username And password\n",
      "Enter Your username : kaif\n",
      "Enter Your password : 1234\n",
      "[--Access granted--]\n"
     ]
    }
   ],
   "source": [
    "# Q. 13 Wap to take username and password from user and save it and then allow the user to sign  \n",
    "# if he/she is authenticate user then sign happens \n",
    "# else give 5 attempts after 5 attempts if he doe not give right crenditials. then display tried next time \n",
    "username = input(\"Enter Your Username : \")\n",
    "password = input(\"Enter Your Password : \")\n",
    "print()\n",
    "print(\"To Sign In Please Enter Your username And password\")\n",
    "count = 0\n",
    "while count < 5:\n",
    "    x = input(\"Enter Your username : \")\n",
    "    y = input(\"Enter Your password : \")\n",
    "    if x == username and y == password:\n",
    "        print(\"[--Access granted--]\")\n",
    "        break\n",
    "    else:\n",
    "        print(\"Please Try Again\")\n",
    "        count += 1\n",
    "        if count == 5:\n",
    "            print(\"You Have Entered Wrong Inputs Too Many Times !!!\")\n",
    "        \n",
    "    "
   ]
  },
  {
   "cell_type": "code",
   "execution_count": 17,
   "id": "e1d54b05",
   "metadata": {},
   "outputs": [
    {
     "name": "stdout",
     "output_type": "stream",
     "text": [
      "2002,2009,2016,2023,2037,2044,2051,2058,2072,2079,2086,2093,2107,2114,2121,2128,2142,2149,2156,2163,2177,2184,2191,2198,2212,2219,2226,2233,2247,2254,2261,2268,2282,2289,2296,2303,2317,2324,2331,2338,2352,2359,2366,2373,2387,2394,2401,2408,2422,2429,2436,2443,2457,2464,2471,2478,2492,2499,2506,2513,2527,2534,2541,2548,2562,2569,2576,2583,2597,2604,2611,2618,2632,2639,2646,2653,2667,2674,2681,2688,2702,2709,2716,2723,2737,2744,2751,2758,2772,2779,2786,2793,2807,2814,2821,2828,2842,2849,2856,2863,2877,2884,2891,2898,2912,2919,2926,2933,2947,2954,2961,2968,2982,2989,2996,3003,3017,3024,3031,3038,3052,3059,3066,3073,3087,3094,3101,3108,3122,3129,3136,3143,3157,3164,3171,3178,3192,3199,"
     ]
    }
   ],
   "source": [
    "# Q.14  Write a program which will find all such numbers which are divisible by 7 but are not a multiple of 5,\n",
    "# between 2000 and 3200 (both included). \n",
    "# The numbers obtained should be printed in a comma-separated sequence on a single line.\n",
    "\n",
    "for i in range(2000,3200):\n",
    "    if (i % 7 == 0 and i % 5 != 0 ):\n",
    "        print(i,end=\",\")"
   ]
  },
  {
   "cell_type": "code",
   "execution_count": 18,
   "id": "f66b62b9",
   "metadata": {},
   "outputs": [
    {
     "name": "stdout",
     "output_type": "stream",
     "text": [
      "1100,1010,"
     ]
    }
   ],
   "source": [
    "# Q. 15 Write a program which accepts a sequence of comma separated 4 digit binary numbers as its input and \n",
    "# then check whether they are divisible by 5 or not.\n",
    "# The numbers that are divisible by 5 are to be printed in a comma separated sequence.\n",
    "list = [1100,1101,1010,1001]\n",
    "for i in list:\n",
    "    if i % 5 == 0:\n",
    "        print(i,end=',')\n"
   ]
  },
  {
   "cell_type": "code",
   "execution_count": 19,
   "id": "2306385a",
   "metadata": {},
   "outputs": [
    {
     "name": "stdout",
     "output_type": "stream",
     "text": [
      "2000\n",
      "2002\n",
      "2004\n",
      "2006\n",
      "2008\n",
      "2020\n",
      "2022\n",
      "2024\n",
      "2026\n",
      "2028\n",
      "2040\n",
      "2042\n",
      "2044\n",
      "2046\n",
      "2048\n",
      "2060\n",
      "2062\n",
      "2064\n",
      "2066\n",
      "2068\n",
      "2080\n",
      "2082\n",
      "2084\n",
      "2086\n",
      "2088\n",
      "2200\n",
      "2202\n",
      "2204\n",
      "2206\n",
      "2208\n",
      "2220\n",
      "2222\n",
      "2224\n",
      "2226\n",
      "2228\n",
      "2240\n",
      "2242\n",
      "2244\n",
      "2246\n",
      "2248\n",
      "2260\n",
      "2262\n",
      "2264\n",
      "2266\n",
      "2268\n",
      "2280\n",
      "2282\n",
      "2284\n",
      "2286\n",
      "2288\n",
      "2400\n",
      "2402\n",
      "2404\n",
      "2406\n",
      "2408\n",
      "2420\n",
      "2422\n",
      "2424\n",
      "2426\n",
      "2428\n",
      "2440\n",
      "2442\n",
      "2444\n",
      "2446\n",
      "2448\n",
      "2460\n",
      "2462\n",
      "2464\n",
      "2466\n",
      "2468\n",
      "2480\n",
      "2482\n",
      "2484\n",
      "2486\n",
      "2488\n",
      "2600\n",
      "2602\n",
      "2604\n",
      "2606\n",
      "2608\n",
      "2620\n",
      "2622\n",
      "2624\n",
      "2626\n",
      "2628\n",
      "2640\n",
      "2642\n",
      "2644\n",
      "2646\n",
      "2648\n",
      "2660\n",
      "2662\n",
      "2664\n",
      "2666\n",
      "2668\n",
      "2680\n",
      "2682\n",
      "2684\n",
      "2686\n",
      "2688\n",
      "2800\n",
      "2802\n",
      "2804\n",
      "2806\n",
      "2808\n",
      "2820\n",
      "2822\n",
      "2824\n",
      "2826\n",
      "2828\n",
      "2840\n",
      "2842\n",
      "2844\n",
      "2846\n",
      "2848\n",
      "2860\n",
      "2862\n",
      "2864\n",
      "2866\n",
      "2868\n",
      "2880\n",
      "2882\n",
      "2884\n",
      "2886\n",
      "2888\n"
     ]
    }
   ],
   "source": [
    "#  Q.16\n",
    "\n",
    "for i in range(1000,3001):\n",
    "    count = 0\n",
    "    i = str(i)\n",
    "    for ch in i:\n",
    "        ch = int(ch)\n",
    "        if ch % 2 == 0:\n",
    "            count = count + 1\n",
    "        if count == 4:\n",
    "            print(i)"
   ]
  },
  {
   "cell_type": "code",
   "execution_count": null,
   "id": "b5852fbd",
   "metadata": {
    "scrolled": true
   },
   "outputs": [
    {
     "name": "stdout",
     "output_type": "stream",
     "text": [
      "Welcome to Hot n Cold Restaurent \n",
      "Please order Your Desired Items from Options Below: \n",
      "1. Pizza , price is : 150 \n",
      "2. Burger , price is : 100 \n",
      "3. Fries , price is : 70 \n",
      "Press 1 For Pizza , 2 for Burgers And 3 For Fries: 3\n",
      "Fries Will Cost You: \n",
      "70\n"
     ]
    }
   ],
   "source": [
    "# Q .17 Consider you have your own restaurant : three item choices  is there :\n",
    "# 1: pizza\n",
    "# 2:  burger\n",
    "# 3:  hotdog\n",
    "# toppings available for pizza: paneer, mushrooms, and capsicum\n",
    "# fillings avialable for burger and hot dog is  single layer cheeze and double layer cheese\n",
    "# and side order menu is softdrinks\n",
    "# WAP TO CALCULATE THE COST OF ITEM which user ordered BASED ON THE MENU OF RESTAURANT\n",
    "print(\"Welcome to Hot n Cold Restaurent \")\n",
    "def menu():\n",
    "    print(\"Please order Your Desired Items from Options Below: \")\n",
    "    print(\"1. Pizza , price is : 150 \")\n",
    "    print(\"2. Burger , price is : 100 \")\n",
    "    print(\"3. Fries , price is : 70 \")\n",
    "    pizza = 1\n",
    "    burgers = 2\n",
    "    hotdog = 3\n",
    "    choice = int(input(\"Press 1 For Pizza , 2 for Burgers And 3 For Fries: \"))\n",
    "    price = 0\n",
    "    if choice == 1:\n",
    "        print(\"Which Toppings Would You Prefer: \")\n",
    "        print(\"1. paneer , 60 rs\")\n",
    "        print(\"2. mushroom, 50 rs \")\n",
    "        print(\"3. capsicum, 35 rs \")\n",
    "        paneer = 1\n",
    "        mushrooms = 2\n",
    "        capsicum = 3\n",
    "        topping = int(input(\"Enter your Choice :\"))\n",
    "        if topping == 1:\n",
    "            print(\"Paneer pizza will Cost You :\")\n",
    "            price = 150 + 60\n",
    "            print(price)\n",
    "        elif topping == 2:\n",
    "            print(\"Mushroom Pizza Will Cost You :\")\n",
    "            price = 150 + 50\n",
    "            print(price)\n",
    "        elif topping == 3:\n",
    "            print(\"Capsicum Pizza Will Cost You :\")\n",
    "            price = 150 + 35\n",
    "            print(price)\n",
    "        else:\n",
    "            print(\"Invalid Choice\")\n",
    "    elif choice == 2:\n",
    "        print(\"Would You Like to Add Some Extra Cheese : \")\n",
    "        yes = 1\n",
    "        no = 2\n",
    "        choice1 = int(input(\"Press 1 for Yes and 2 for No\"))\n",
    "        if choice1 == 1:\n",
    "            print(\"Which Choice Would You Prefer : \")\n",
    "            print(\"1. Single Layer Cheese\")\n",
    "            print(\"2. Double Layer Cheese\")\n",
    "            singlelayercheese = 1\n",
    "            doublelayercheese = 2\n",
    "            choice2 = int(input(\"Enter Your Choice : \"))\n",
    "            if choice2 == 1:\n",
    "                print(\"Single Layer Cheese Will Cost You: \")\n",
    "                price = 100 + 30\n",
    "                print(price)\n",
    "            elif choice2 == 2:\n",
    "                print(\"Double layer Cheese Will Cost You: \")\n",
    "                price = 100 + 60\n",
    "                print(price)\n",
    "        else:\n",
    "            print(\"Invalid Choice !!\")\n",
    "    elif choice == 3:\n",
    "        print(\"Fries Will Cost You: \")\n",
    "        price = 70\n",
    "        print(price)\n",
    "    else:\n",
    "        print(\"Enter Valid Choice !!\")\n",
    "    choice3=int(input(\"Would You Like to Add Soft Drinks Or Not Press 1 for Yes 2 For No : \"))\n",
    "    yes = 1\n",
    "    no = 2\n",
    "    if choice3 == 1:\n",
    "        print(\"Soft Drinks Will be :\")\n",
    "        print(85)\n",
    "        print(\"Final Price Will be :\")\n",
    "        price1 = (price + 85)\n",
    "        print(price1)\n",
    "    elif choice3 ==2:\n",
    "        print(price)\n",
    "    else:\n",
    "        print(\"Invalid Choice\")\n",
    "    choice4 = int(input(\"Would You Like To Order Again ? , Press 1 for yes or 2 for no :\"))\n",
    "    yes = 1\n",
    "    no = 2\n",
    "    if choice4 == 1:\n",
    "        print(menu())\n",
    "    else:\n",
    "        print(\"Thanks For Your Order\")\n",
    "menu()\n",
    " \n",
    "    \n",
    "    \n",
    "        \n",
    "\n",
    "    \n"
   ]
  },
  {
   "cell_type": "code",
   "execution_count": null,
   "id": "26c8e0a9",
   "metadata": {},
   "outputs": [],
   "source": []
  }
 ],
 "metadata": {
  "kernelspec": {
   "display_name": "Python 3 (ipykernel)",
   "language": "python",
   "name": "python3"
  },
  "language_info": {
   "codemirror_mode": {
    "name": "ipython",
    "version": 3
   },
   "file_extension": ".py",
   "mimetype": "text/x-python",
   "name": "python",
   "nbconvert_exporter": "python",
   "pygments_lexer": "ipython3",
   "version": "3.9.12"
  }
 },
 "nbformat": 4,
 "nbformat_minor": 5
}
