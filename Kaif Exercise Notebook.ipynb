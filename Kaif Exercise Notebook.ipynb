{
 "cells": [
  {
   "cell_type": "markdown",
   "id": "554855d2",
   "metadata": {},
   "source": [
    "Q:¶\n",
    "Raj has 23 candies, simran has 34 candies, aditya has 21 candies . Candies would be equally distributed How many candies need to be distributed to each of them and remaning candies need to given to diksha ?"
   ]
  },
  {
   "cell_type": "code",
   "execution_count": 8,
   "id": "ad3dc478",
   "metadata": {},
   "outputs": [
    {
     "name": "stdout",
     "output_type": "stream",
     "text": [
      "Total Candies is :  78\n",
      "Everyone will Get :  26\n",
      "Diksha will Get : 0\n"
     ]
    }
   ],
   "source": [
    "raj = 23\n",
    "simran = 34\n",
    "aditya = 21\n",
    "totalcandies = raj + simran + aditya\n",
    "print(\"Total Candies is : \",totalcandies)\n",
    "print(\"Everyone will Get : \",totalcandies//3)\n",
    "eachgotcandies = totalcandies//3\n",
    "diksha = totalcandies%3\n",
    "print(\"Diksha will Get :\",diksha)\n"
   ]
  },
  {
   "cell_type": "code",
   "execution_count": 30,
   "id": "27d10e22",
   "metadata": {},
   "outputs": [
    {
     "name": "stdout",
     "output_type": "stream",
     "text": [
      "Enter Your Height in Centimetre :- 167\n",
      "Enter Your Weight in Kilograms :- 55\n",
      "Your B.M.I is :-  0.0019721036967980205\n"
     ]
    }
   ],
   "source": [
    "# Write a program to calculate BMI by taking input from the user regarding his height and weight\n",
    "# formula : w/(h**2)\n",
    "height=int(input(\"Enter Your Height in Centimetre :- \"))\n",
    "weight=int(input(\"Enter Your Weight in Kilograms :- \"))\n",
    "bmi=weight/height**2\n",
    "print(\"Your B.M.I is :- \",bmi)"
   ]
  },
  {
   "cell_type": "code",
   "execution_count": 14,
   "id": "f16d5d9f",
   "metadata": {},
   "outputs": [
    {
     "name": "stdout",
     "output_type": "stream",
     "text": [
      "2,3\n"
     ]
    }
   ],
   "source": [
    "a=2\n",
    "b=3\n",
    "print(a,b,sep=\",\")"
   ]
  },
  {
   "cell_type": "code",
   "execution_count": 20,
   "id": "e52aa7cb",
   "metadata": {},
   "outputs": [
    {
     "name": "stdout",
     "output_type": "stream",
     "text": [
      "enter the two numbers :- 7+99\n",
      "106\n"
     ]
    }
   ],
   "source": [
    "#Write a Program to add Two Numbers\n",
    "#take two inputs simultaneously\n",
    "\n",
    "a,b=input(\"enter the two numbers :- \").split(\"+\")\n",
    "a=int(a)\n",
    "b=int(b)\n",
    "c=a+b\n",
    "print(c)"
   ]
  },
  {
   "cell_type": "code",
   "execution_count": 2,
   "id": "2dbf91fc",
   "metadata": {},
   "outputs": [
    {
     "name": "stdout",
     "output_type": "stream",
     "text": [
      "0 1 2 3 4 5 6 "
     ]
    }
   ],
   "source": [
    "for i in range(7):\n",
    "    print(i,sep=\",\",end=\" \")"
   ]
  },
  {
   "cell_type": "code",
   "execution_count": 14,
   "id": "f3b9e831",
   "metadata": {},
   "outputs": [
    {
     "name": "stdout",
     "output_type": "stream",
     "text": [
      "Enter A number :-2\n",
      "2\n",
      "3\n",
      "5\n",
      "8\n",
      "12\n",
      "17\n",
      "23\n",
      "30\n",
      "38\n",
      "47\n"
     ]
    }
   ],
   "source": [
    "s = int(input(\"Enter A number :-\"))\n",
    "for i in range(10):\n",
    "    s = (s + int(i))\n",
    "    print(s)"
   ]
  },
  {
   "cell_type": "code",
   "execution_count": 84,
   "id": "c18aa6c9",
   "metadata": {},
   "outputs": [
    {
     "name": "stdout",
     "output_type": "stream",
     "text": [
      "555"
     ]
    }
   ],
   "source": [
    "example = ['1','2','3','4','5','55','6','77','88','87','90']\n",
    "for i in example and range(0,3):\n",
    "    print(example[4] ,end='')"
   ]
  },
  {
   "cell_type": "code",
   "execution_count": 6,
   "id": "b35beb75",
   "metadata": {},
   "outputs": [
    {
     "name": "stdout",
     "output_type": "stream",
     "text": [
      "Enter the radius of the circle: 90\n",
      "Area of circle =25434.00 \n"
     ]
    }
   ],
   "source": [
    "r = float(input('Enter the radius of the circle: '))\n",
    "area = 3.14 * r * r\n",
    "\n",
    "print('Area of circle =%.2f ' %area)"
   ]
  },
  {
   "cell_type": "code",
   "execution_count": 1,
   "id": "8f0accab",
   "metadata": {},
   "outputs": [
    {
     "name": "stdout",
     "output_type": "stream",
     "text": [
      "Enter the value of a: 56 67\n",
      "Enter the value of b: 6799\n",
      "Values Before Swapping\n",
      "a =  56 67 and b =  6799\n",
      "Values After Swapping\n",
      "a =  6799 and b =  56 67\n"
     ]
    }
   ],
   "source": [
    "a = input('Enter the value of a: ')\n",
    "b = input('Enter the value of b: ')\n",
    "\n",
    "print('Values Before Swapping')\n",
    "print('a = ',a, 'and b = ',b)\n",
    "\n",
    "temp = a\n",
    "a = b\n",
    "b = temp\n",
    "\n",
    "print('Values After Swapping')\n",
    "print('a = ',a, 'and b = ',b)"
   ]
  },
  {
   "cell_type": "code",
   "execution_count": null,
   "id": "be572c2d",
   "metadata": {},
   "outputs": [],
   "source": [
    "# python program to find the area of the triangle\n",
    "\n",
    "# take inputs\n",
    "a = float(input('Enter the first side of the triangle: '))\n",
    "b = float(input('Enter the second side of the triangle: '))\n",
    "c = float(input('Enter the third side of the triangle: '))\n",
    "\n",
    "# must be smaller than the third side.  \n",
    "if (a < 0 or b < 0 or c < 0 or \n",
    "                 (a+b <= c) or (a+c <=b) or (b+c <=a) ):  \n",
    "    print('Not a valid triangle')\n",
    "    \n",
    "else:\n",
    "\n",
    "    # calculate the semi-perimeter\n",
    "    s = (a + b + c) / 2\n",
    "\n",
    "    # calculate area of triangle\n",
    "    area = (s * (s - a) * (s - b) * (s - c)) ** 0.5\n",
    "\n",
    "    # display result\n",
    "    print('Area of triangle = %0.2f' %area)"
   ]
  },
  {
   "cell_type": "code",
   "execution_count": 19,
   "id": "7d3187cb",
   "metadata": {},
   "outputs": [
    {
     "name": "stdout",
     "output_type": "stream",
     "text": [
      "Enter a Number To Find Its Factorial :- 3,7\n",
      "Factorial of  3 is = 1\n",
      "Factorial of  3 is = 2\n",
      "Factorial of  3 is = 6\n",
      "Factorial of  7 is = 6\n",
      "Factorial of  7 is = 12\n",
      "Factorial of  7 is = 36\n",
      "Factorial of  7 is = 144\n",
      "Factorial of  7 is = 720\n",
      "Factorial of  7 is = 4320\n",
      "Factorial of  7 is = 30240\n"
     ]
    }
   ],
   "source": [
    "#Take User Input and Find Factorial of any Number\n",
    "x,y = input(\"Enter a Number To Find Its Factorial :- \").split(\",\")\n",
    "y = int(y)\n",
    "x = int(x)\n",
    "factorial = 1\n",
    "if x < 0:\n",
    "    print(\"Factorial of Negative Number Does Not Exist\")\n",
    "elif x == 0 or x == 1:\n",
    "    print(\"Factorial of is : 1\")\n",
    "else:\n",
    "    for i in range(1,x + 1):\n",
    "        factorial = factorial*i\n",
    "        print(\"Factorial of \",x,\"is\", \"=\" ,factorial)\n",
    "if y < 0:\n",
    "    print(\"Factorial of Negative Number Does Not Exist\")\n",
    "elif y == 0 or y == 1:\n",
    "    print(\"Factorial of is : 1\") \n",
    "else:\n",
    "    for i in range(1,y + 1):\n",
    "            factorial = factorial*i\n",
    "            print(\"Factorial of \",y,\"is\", \"=\" ,factorial)\n",
    "\n"
   ]
  },
  {
   "cell_type": "code",
   "execution_count": null,
   "id": "8ff57c39",
   "metadata": {},
   "outputs": [],
   "source": []
  },
  {
   "cell_type": "code",
   "execution_count": 22,
   "id": "1924e314",
   "metadata": {},
   "outputs": [
    {
     "name": "stdout",
     "output_type": "stream",
     "text": [
      "Enter A Number :- 4\n",
      "Enter Element1\n",
      "Enter Element2\n",
      "Enter Element3\n",
      "Enter Element4\n",
      "[1, 2, 3, 4]\n"
     ]
    }
   ],
   "source": [
    "list = []\n",
    "n = int(input(\"Enter A Number :- \"))\n",
    "count = 0\n",
    "for i in range (1,n + 1):\n",
    "    e = int(input(\"Enter Element\"))\n",
    "    list.append(e)\n",
    "print(list)\n",
    "even = []\n",
    "odd = []\n",
    "for j in list:\n",
    "    if (j % 2 == 0):\n",
    "        even.append(j)\n",
    "    else:\n",
    "        odd.append(j)\n",
    "    \n",
    "    \n",
    "        "
   ]
  },
  {
   "cell_type": "code",
   "execution_count": 25,
   "id": "221d3c4c",
   "metadata": {},
   "outputs": [
    {
     "name": "stdout",
     "output_type": "stream",
     "text": [
      "Enter A Range :-  3 5\n",
      "3 4 5 "
     ]
    }
   ],
   "source": [
    "start,end=input(\"Enter A Range :-  \").split(\" \")\n",
    "start=int(start)\n",
    "end=int(end)\n",
    "for i in range (start, end+1):\n",
    "    if i==25:\n",
    "        break\n",
    "    print(i,end=\" \")"
   ]
  },
  {
   "cell_type": "code",
   "execution_count": 45,
   "id": "31c200ac",
   "metadata": {},
   "outputs": [
    {
     "name": "stdout",
     "output_type": "stream",
     "text": [
      "Enter A Number : 8\n",
      "1\n",
      "hello\n",
      "2\n",
      "hello\n",
      "3\n",
      "hello\n",
      "4\n",
      "hello\n",
      "5\n",
      "hello\n",
      "6\n",
      "hello\n",
      "7\n",
      "hello\n",
      "8\n",
      "hello\n"
     ]
    }
   ],
   "source": [
    "# Continue Statement\n",
    "a = int(input(\"Enter A Number : \"))\n",
    "for i in range(1,a+1):\n",
    "    if i == 9:\n",
    "        continue\n",
    "    print(i)\n",
    "    print(\"hello\")\n"
   ]
  },
  {
   "cell_type": "code",
   "execution_count": 14,
   "id": "6bd59637",
   "metadata": {},
   "outputs": [
    {
     "name": "stdout",
     "output_type": "stream",
     "text": [
      "Enter Two Numbers To find there table :- 9 11\n",
      "9  \n",
      "18  \n",
      "27  \n",
      "36  \n",
      "45  \n",
      "54  \n",
      "63  \n",
      "72  \n",
      "81  \n",
      "90  \n",
      "11  \n",
      "22  \n",
      "33  \n",
      "44  \n",
      "55  \n",
      "66  \n",
      "77  \n",
      "88  \n",
      "99  \n",
      "110  \n"
     ]
    }
   ],
   "source": [
    "\n",
    "a,j=input(\"Enter Two Numbers To find there table :- \").split(\" \")\n",
    "a=int(a)\n",
    "j=int(j)\n",
    "for i in range (1,11):\n",
    "    print(a*i,end=\" \")\n",
    "    print(\" \")\n",
    "    \n",
    "for k in range (1,11):\n",
    "        print(j*k,end=\" \") \n",
    "        print(\" \")\n",
    "    "
   ]
  },
  {
   "cell_type": "code",
   "execution_count": 10,
   "id": "7fb3b172",
   "metadata": {},
   "outputs": [
    {
     "name": "stdout",
     "output_type": "stream",
     "text": [
      "Enter The Number of Rows:- 5\n",
      "1 \n",
      "1 2 \n",
      "1 2 3 \n",
      "1 2 3 4 \n",
      "1 2 3 4 5 \n"
     ]
    }
   ],
   "source": [
    "row = int(input(\"Enter The Number of Rows:- \"))\n",
    "for i  in range (1,row + 1):\n",
    "    for j in range (1,i + 1):\n",
    "        print(j,end=\" \")\n",
    "    print(\"\")"
   ]
  },
  {
   "cell_type": "code",
   "execution_count": 20,
   "id": "c8891c74",
   "metadata": {},
   "outputs": [
    {
     "name": "stdout",
     "output_type": "stream",
     "text": [
      "Enter The Number of Rows 6\n",
      "1 \n",
      "1 2 \n",
      "1 2 3 \n",
      "1 2 3 4 \n",
      "1 2 3 4 5 \n",
      "1 2 3 4 5 6 \n"
     ]
    }
   ],
   "source": [
    "row = int(input(\"Enter The Number of Rows \"))\n",
    "for i in  range (1, row + 1, 1):\n",
    "    for j in range (1, i + 1):\n",
    "        print(j,end=\" \")\n",
    "    print(\"\")"
   ]
  },
  {
   "cell_type": "code",
   "execution_count": 5,
   "id": "cf1ddc02",
   "metadata": {},
   "outputs": [
    {
     "name": "stdout",
     "output_type": "stream",
     "text": [
      "Enter A Range :12\n",
      "These are even Numbers 12\n",
      "These are even Numbers 12\n",
      "These are even Numbers 12\n",
      "These are even Numbers 12\n",
      "These are even Numbers 12\n",
      "These are even Numbers 12\n",
      "These are even Numbers 12\n",
      "These are even Numbers 12\n",
      "These are even Numbers 12\n",
      "These are even Numbers 12\n",
      "These are even Numbers 12\n",
      "These are even Numbers 12\n"
     ]
    }
   ],
   "source": [
    "\n",
    "list=[x]\n",
    "x = int(input(\"Enter A Range :\"))\n",
    "for i in range(1,x+1):\n",
    "    if x % 2 == 0:\n",
    "        print(\"These are even Numbers\",x)\n",
    "    else:\n",
    "        print(\"These are Odd Numbers\",x)"
   ]
  },
  {
   "cell_type": "code",
   "execution_count": 9,
   "id": "dd9d1a1f",
   "metadata": {},
   "outputs": [
    {
     "name": "stdout",
     "output_type": "stream",
     "text": [
      "Enter A Number A Rows to Make a Pattern : 7\n",
      "*   *   *   *   *   *   *   \n",
      "*   *   *   *   *   *   \n",
      "*   *   *   *   *   \n",
      "*   *   *   *   \n",
      "*   *   *   \n",
      "*   *   \n",
      "*   \n"
     ]
    }
   ],
   "source": [
    "row = int(input(\"Enter A Number A Rows to Make a Pattern : \"))\n",
    "m = row\n",
    "for i in range (1,row + 1):\n",
    "    for j in range (1,m + 1):\n",
    "        print(\"*\",\" \",end = \" \")\n",
    "    m = m - 1\n",
    "    print(\"\")"
   ]
  },
  {
   "cell_type": "code",
   "execution_count": 21,
   "id": "1333289b",
   "metadata": {},
   "outputs": [
    {
     "name": "stdout",
     "output_type": "stream",
     "text": [
      "Enter A Number :- 60\n",
      "6\n",
      "Not Palindrome\n"
     ]
    }
   ],
   "source": [
    "num = int(input(\"Enter A Number :- \"))\n",
    "temp = num\n",
    "reverse = 0\n",
    "if num == 0:\n",
    "    print(\"Reverse of Zero is 0\")\n",
    "while (num != 0):\n",
    "    r = num % 10\n",
    "    num = num // 10\n",
    "    r = str\n",
    "    reverse = reverse * 10 + r\n",
    "print(reverse)\n",
    "if temp != reverse:\n",
    "    print(\"Not Palindrome\")\n",
    "else:\n",
    "    print(\"Palindrome\")\n",
    "    \n",
    "    \n",
    "    "
   ]
  },
  {
   "cell_type": "code",
   "execution_count": null,
   "id": "d1b5a634",
   "metadata": {},
   "outputs": [],
   "source": []
  },
  {
   "cell_type": "code",
   "execution_count": 1,
   "id": "cba6a4c6",
   "metadata": {},
   "outputs": [
    {
     "name": "stdout",
     "output_type": "stream",
     "text": [
      "Number of Rows : 7\n",
      "0   8\n",
      "\n",
      "0   8\n",
      "\n",
      "0   8\n",
      "\n",
      "0   8\n",
      "\n",
      "0   8\n",
      "\n",
      "0   8\n",
      "\n",
      "0   8\n",
      "\n"
     ]
    }
   ],
   "source": [
    "row = int(input(\"Number of Rows : \"))\n",
    "k = 0\n",
    "for i in range (1,row + 1):\n",
    "    print(k,\" \" ,row + 1)\n",
    "    k != 0\n",
    "    print(\"\")\n",
    "    "
   ]
  },
  {
   "cell_type": "code",
   "execution_count": 3,
   "id": "e29bc46d",
   "metadata": {},
   "outputs": [
    {
     "name": "stdout",
     "output_type": "stream",
     "text": [
      "Enter the Number Of Rows:- 6\n",
      "A   F   K   P   U    \n",
      "B   G   L   Q   V    \n",
      "C   H   M   R   W    \n",
      "D   I   N   S   X    \n",
      "E   J   O   T   Y    \n",
      "F   K   P   U   Z    \n"
     ]
    }
   ],
   "source": [
    "#write a program to print alphabets in rows\n",
    "row = int(input(\"Enter the Number Of Rows:- \"))\n",
    "m = 65\n",
    "for i in range (1, row + 1):\n",
    "    k = m\n",
    "    for j in range (1, row):\n",
    "        print(chr(k),\" \",end=\" \")\n",
    "        k+=5\n",
    "    m=m+1\n",
    "    print(\" \")\n",
    "    \n"
   ]
  },
  {
   "cell_type": "code",
   "execution_count": 33,
   "id": "f7dcafd7",
   "metadata": {},
   "outputs": [
    {
     "name": "stdout",
     "output_type": "stream",
     "text": [
      "Enter A Number Of Rows :- 7\n",
      "      * \n",
      "     ** \n",
      "    *** \n",
      "   **** \n",
      "  ***** \n",
      " ****** \n",
      "******* \n"
     ]
    }
   ],
   "source": [
    "row = int(input(\"Enter A Number Of Rows :- \"))\n",
    "space = row\n",
    "for i in range(1,row + 1):\n",
    "    for j in range (1,space):\n",
    "        print(end = \" \")\n",
    "    space = space - 1\n",
    "    for k in range (1,i + 1):\n",
    "        print(\"*\", end = \"\")\n",
    "    print(\" \")"
   ]
  },
  {
   "cell_type": "code",
   "execution_count": 32,
   "id": "72a15055",
   "metadata": {},
   "outputs": [
    {
     "name": "stdout",
     "output_type": "stream",
     "text": [
      "Enter The Number Of Rows:- 2\n",
      " 2\n",
      "2\n",
      " 2\n",
      "2\n"
     ]
    }
   ],
   "source": [
    "row = int(input(\"Enter The Number Of Rows:- \"))\n",
    "m = row\n",
    "for i in range (1, row + 1):\n",
    "    print(end = \" \")\n",
    "    for j in range(1, row + 1):\n",
    "        m = m - 1\n",
    "        print(end=\"\")\n",
    "        print(row)\n",
    "        \n",
    "        "
   ]
  },
  {
   "cell_type": "code",
   "execution_count": null,
   "id": "127b68db",
   "metadata": {},
   "outputs": [],
   "source": []
  },
  {
   "cell_type": "code",
   "execution_count": 3,
   "id": "6e9ae675",
   "metadata": {},
   "outputs": [
    {
     "name": "stdout",
     "output_type": "stream",
     "text": [
      "s\n",
      "t\n",
      "r\n",
      "The End\n"
     ]
    }
   ],
   "source": [
    "for val in \"string\":\n",
    "    if val == \"i\":\n",
    "        break\n",
    "    print(val)\n",
    "print(\"The End\")\n",
    "\n"
   ]
  },
  {
   "cell_type": "code",
   "execution_count": 5,
   "id": "e87972c3",
   "metadata": {},
   "outputs": [
    {
     "name": "stdout",
     "output_type": "stream",
     "text": [
      "m\n",
      "a\n",
      "d\n",
      "r\n",
      "i\n",
      "d\n",
      " \n",
      "s\n",
      "o\n",
      "f\n",
      "t\n",
      "w\n",
      "a\n",
      "r\n",
      "e\n"
     ]
    }
   ],
   "source": [
    "a = \"madrid software\"\n",
    "for i in a:\n",
    "    print(i)"
   ]
  },
  {
   "cell_type": "code",
   "execution_count": 10,
   "id": "fc45105f",
   "metadata": {},
   "outputs": [
    {
     "name": "stdout",
     "output_type": "stream",
     "text": [
      "Enter The Number:- 8\n",
      "You Wish To Enter More Number, Press 1 For Yes Or 0 For No :1\n",
      "Enter The Number:- 90\n",
      "You Wish To Enter More Number, Press 1 For Yes Or 0 For No :1\n",
      "Enter The Number:- 78798\n",
      "You Wish To Enter More Number, Press 1 For Yes Or 0 For No :0\n",
      "78896\n"
     ]
    }
   ],
   "source": [
    "sum = 0\n",
    "while(1):\n",
    "    num = int(input(\"Enter The Number:- \"))\n",
    "    sum = sum + num\n",
    "    choice = input(\"You Wish To Enter More Number, Press 1 For Yes Or 0 For No :\")\n",
    "    if choice == \"1\":\n",
    "        continue\n",
    "    elif choice == \"0\":\n",
    "        break\n",
    "    else:\n",
    "        print(\"Invaid Choice\")\n",
    "print(sum)\n",
    "    \n",
    "    \n",
    "    \n",
    "    "
   ]
  },
  {
   "cell_type": "code",
   "execution_count": 7,
   "id": "fb8deec9",
   "metadata": {},
   "outputs": [
    {
     "name": "stdout",
     "output_type": "stream",
     "text": [
      "Hello\n",
      "Before Function Calling\n",
      "Enter the number: 5 6\n",
      "11\n",
      "After Function Calling\n"
     ]
    }
   ],
   "source": [
    "print(\"Hello\")\n",
    "def add():\n",
    "    num1,num2=input(\"Enter the number: \").split(\" \")\n",
    "    num1=int(num1)\n",
    "    num2=int(num2)  \n",
    "    result=num1+num2\n",
    "    print(result)\n",
    "print(\"Before Function Calling\")\n",
    "add()\n",
    "print(\"After Function Calling\")\n"
   ]
  },
  {
   "cell_type": "code",
   "execution_count": 18,
   "id": "f2de5d15",
   "metadata": {},
   "outputs": [
    {
     "ename": "SyntaxError",
     "evalue": "invalid syntax (3669534785.py, line 2)",
     "output_type": "error",
     "traceback": [
      "\u001b[1;36m  Input \u001b[1;32mIn [18]\u001b[1;36m\u001b[0m\n\u001b[1;33m    def add(num1+num2):\u001b[0m\n\u001b[1;37m                ^\u001b[0m\n\u001b[1;31mSyntaxError\u001b[0m\u001b[1;31m:\u001b[0m invalid syntax\n"
     ]
    }
   ],
   "source": [
    "#case2 : WIth Arguments And No return\n",
    "print(\"Hello\")\n",
    "def add(num1+num2):\n",
    "    result=num1+num2\n",
    "    print(result)\n",
    "    print(\"inside function calling\")\n",
    "n1,n2=input(\"Enter The Numbers\").split(\",\")\n",
    "print(\"Before Finction Calling\")\n",
    "n1=int(n1)\n",
    "n2=int(n2)\n",
    "add()\n",
    "print(\"After Function Calling\")"
   ]
  },
  {
   "cell_type": "code",
   "execution_count": 8,
   "id": "fbaf3c0b",
   "metadata": {},
   "outputs": [
    {
     "name": "stdout",
     "output_type": "stream",
     "text": [
      "Hello\n",
      "Enter The Numbers2,6\n",
      "Before Function Calling\n",
      "After Function Calling\n",
      "<function add at 0x000001D9AC05EEE0>\n"
     ]
    }
   ],
   "source": [
    "print(\"Hello\")\n",
    "def add(n1,n2):\n",
    "    n1,n2=input(\"Enter The Numbers\").split(\",\")\n",
    "    n1 = int(n1)\n",
    "    n2 = int(n2)\n",
    "    result=n1+n2\n",
    "    print(result)\n",
    "    print(\"inside function calling\")\n",
    "n1,n2=input(\"Enter The Numbers\").split(\",\")\n",
    "print(\"Before Function Calling\")\n",
    "a=add\n",
    "print(\"After Function Calling\")\n",
    "print(a)"
   ]
  },
  {
   "cell_type": "code",
   "execution_count": 24,
   "id": "33271a09",
   "metadata": {},
   "outputs": [
    {
     "name": "stdout",
     "output_type": "stream",
     "text": [
      "Enter a Number To Find Its Table:-4\n",
      "4 * 1 = 4\n",
      "4 * 2 = 8\n",
      "4 * 3 = 12\n",
      "4 * 4 = 16\n",
      "4 * 5 = 20\n",
      "4 * 6 = 24\n",
      "4 * 7 = 28\n",
      "4 * 8 = 32\n",
      "4 * 9 = 36\n",
      "4 * 10 = 40\n",
      "\n"
     ]
    }
   ],
   "source": [
    "x = int(input(\"Enter a Number To Find Its Table:-\"))\n",
    "for i in range(1,11):\n",
    "        print(x,\"*\",i,\"=\",x*i)\n",
    "print(\"\")"
   ]
  },
  {
   "cell_type": "code",
   "execution_count": 43,
   "id": "3c40be1a",
   "metadata": {},
   "outputs": [
    {
     "name": "stdout",
     "output_type": "stream",
     "text": [
      "enter the number : 2\n",
      "2 * 1 = 2\n",
      "sqaure of 2 is   4\n",
      "2 * 3 = 6\n",
      "sqaure of 4 is   16\n",
      "2 * 5 = 10\n",
      "sqaure of 6 is   36\n",
      "2 * 7 = 14\n",
      "sqaure of 8 is   64\n",
      "2 * 9 = 18\n",
      "sqaure of 10 is   100\n"
     ]
    }
   ],
   "source": [
    "num=int(input(\"enter the number : \"))\n",
    "for i in range(1,11):\n",
    "    if (i%2==0):\n",
    "        print(\"square of\", i,\"is  \", i*i)\n",
    "        print(end=(\"\"))\n",
    "    else:\n",
    "        print(num ,\"*\", i ,\"=\", num*i)"
   ]
  },
  {
   "cell_type": "code",
   "execution_count": 52,
   "id": "99a60312",
   "metadata": {},
   "outputs": [
    {
     "name": "stdout",
     "output_type": "stream",
     "text": [
      "10 * = 100\n",
      "10 * = 90\n",
      "10 * = 80\n",
      "10 * = 70\n",
      "10 * = 60\n",
      "10 * = 50\n",
      "10 * = 40\n",
      "10 * = 30\n",
      "10 * = 20\n",
      "10 * = 10\n"
     ]
    }
   ],
   "source": [
    "for i in range (100,9,-10):\n",
    "    print(\"10\",\"*\",\"=\",i)"
   ]
  },
  {
   "cell_type": "code",
   "execution_count": 9,
   "id": "285bb4cd",
   "metadata": {},
   "outputs": [
    {
     "name": "stdout",
     "output_type": "stream",
     "text": [
      "Enter A Number-9\n",
      "This Number Is Negative\n"
     ]
    }
   ],
   "source": [
    "# case 1 without arguments without return\n",
    "def check():\n",
    "    x = int(input(\"Enter A Number\"))\n",
    "    if x >= 0:\n",
    "        print(\"This Number is Positive\")\n",
    "    else:\n",
    "        print(\"This Number Is Negative\")\n",
    "check()\n"
   ]
  },
  {
   "cell_type": "code",
   "execution_count": 11,
   "id": "94760a6a",
   "metadata": {},
   "outputs": [],
   "source": [
    "#modules"
   ]
  },
  {
   "cell_type": "code",
   "execution_count": 11,
   "id": "d843e524",
   "metadata": {},
   "outputs": [
    {
     "data": {
      "text/plain": [
       "3"
      ]
     },
     "execution_count": 11,
     "metadata": {},
     "output_type": "execute_result"
    }
   ],
   "source": [
    "len([1,3,\"hello\"])"
   ]
  },
  {
   "cell_type": "code",
   "execution_count": 12,
   "id": "d704a2da",
   "metadata": {},
   "outputs": [
    {
     "data": {
      "text/plain": [
       "4096"
      ]
     },
     "execution_count": 12,
     "metadata": {},
     "output_type": "execute_result"
    }
   ],
   "source": [
    "pow(4,6)"
   ]
  },
  {
   "cell_type": "code",
   "execution_count": 13,
   "id": "d4f29063",
   "metadata": {},
   "outputs": [
    {
     "data": {
      "text/plain": [
       "2932391891024"
      ]
     },
     "execution_count": 13,
     "metadata": {},
     "output_type": "execute_result"
    }
   ],
   "source": [
    "a = 56\n",
    "id(a)"
   ]
  },
  {
   "cell_type": "code",
   "execution_count": 14,
   "id": "7f2fb315",
   "metadata": {},
   "outputs": [
    {
     "data": {
      "text/plain": [
       "65"
      ]
     },
     "execution_count": 14,
     "metadata": {},
     "output_type": "execute_result"
    }
   ],
   "source": [
    "ord(\"A\")"
   ]
  },
  {
   "cell_type": "code",
   "execution_count": 15,
   "id": "e5b66943",
   "metadata": {},
   "outputs": [
    {
     "data": {
      "text/plain": [
       "'A'"
      ]
     },
     "execution_count": 15,
     "metadata": {},
     "output_type": "execute_result"
    }
   ],
   "source": [
    "chr(65)"
   ]
  },
  {
   "cell_type": "code",
   "execution_count": 18,
   "id": "eb6cabbd",
   "metadata": {},
   "outputs": [
    {
     "data": {
      "text/plain": [
       "14.989"
      ]
     },
     "execution_count": 18,
     "metadata": {},
     "output_type": "execute_result"
    }
   ],
   "source": [
    "round(14.9887,3)"
   ]
  },
  {
   "cell_type": "code",
   "execution_count": 19,
   "id": "3286ca16",
   "metadata": {},
   "outputs": [
    {
     "data": {
      "text/plain": [
       "['__add__',\n",
       " '__class__',\n",
       " '__class_getitem__',\n",
       " '__contains__',\n",
       " '__delattr__',\n",
       " '__delitem__',\n",
       " '__dir__',\n",
       " '__doc__',\n",
       " '__eq__',\n",
       " '__format__',\n",
       " '__ge__',\n",
       " '__getattribute__',\n",
       " '__getitem__',\n",
       " '__gt__',\n",
       " '__hash__',\n",
       " '__iadd__',\n",
       " '__imul__',\n",
       " '__init__',\n",
       " '__init_subclass__',\n",
       " '__iter__',\n",
       " '__le__',\n",
       " '__len__',\n",
       " '__lt__',\n",
       " '__mul__',\n",
       " '__ne__',\n",
       " '__new__',\n",
       " '__reduce__',\n",
       " '__reduce_ex__',\n",
       " '__repr__',\n",
       " '__reversed__',\n",
       " '__rmul__',\n",
       " '__setattr__',\n",
       " '__setitem__',\n",
       " '__sizeof__',\n",
       " '__str__',\n",
       " '__subclasshook__',\n",
       " 'append',\n",
       " 'clear',\n",
       " 'copy',\n",
       " 'count',\n",
       " 'extend',\n",
       " 'index',\n",
       " 'insert',\n",
       " 'pop',\n",
       " 'remove',\n",
       " 'reverse',\n",
       " 'sort']"
      ]
     },
     "execution_count": 19,
     "metadata": {},
     "output_type": "execute_result"
    }
   ],
   "source": [
    "dir(list)"
   ]
  },
  {
   "cell_type": "code",
   "execution_count": 9,
   "id": "db7144b6",
   "metadata": {},
   "outputs": [
    {
     "name": "stdout",
     "output_type": "stream",
     "text": [
      "madrid Solutions\n",
      "madrid Solutions\n"
     ]
    }
   ],
   "source": [
    "def student(firstname,lastname=\"Solutions\"):\n",
    "    print(firstname,lastname)\n",
    "student(firstname=\"madrid\", lastname=\"Solutions\")\n",
    "student(lastname=\"Solutions\", firstname=\"madrid\")\n",
    "\n"
   ]
  },
  {
   "cell_type": "code",
   "execution_count": 12,
   "id": "546a95ca",
   "metadata": {},
   "outputs": [
    {
     "name": "stdout",
     "output_type": "stream",
     "text": [
      "(2, 3, 7, 9, 44)\n",
      "<class 'tuple'>\n",
      "2\n",
      "<class 'tuple'>\n",
      "5\n",
      "<class 'tuple'>\n",
      "12\n",
      "<class 'tuple'>\n",
      "21\n",
      "<class 'tuple'>\n",
      "65\n"
     ]
    }
   ],
   "source": [
    "def add(*args):\n",
    "    type(args)\n",
    "    print(args)\n",
    "    sum = 0\n",
    "    for arg in args:\n",
    "        sum = sum + arg\n",
    "        print(type(args))\n",
    "        print(sum)\n",
    "        \n",
    "add(2,3,7,9,44)"
   ]
  },
  {
   "cell_type": "code",
   "execution_count": null,
   "id": "d0bece53",
   "metadata": {},
   "outputs": [],
   "source": []
  }
 ],
 "metadata": {
  "kernelspec": {
   "display_name": "Python 3 (ipykernel)",
   "language": "python",
   "name": "python3"
  },
  "language_info": {
   "codemirror_mode": {
    "name": "ipython",
    "version": 3
   },
   "file_extension": ".py",
   "mimetype": "text/x-python",
   "name": "python",
   "nbconvert_exporter": "python",
   "pygments_lexer": "ipython3",
   "version": "3.9.12"
  }
 },
 "nbformat": 4,
 "nbformat_minor": 5
}
