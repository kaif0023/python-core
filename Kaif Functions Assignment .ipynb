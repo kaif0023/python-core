{
 "cells": [
  {
   "cell_type": "code",
   "execution_count": 1,
   "id": "bcd08d21",
   "metadata": {},
   "outputs": [
    {
     "name": "stdout",
     "output_type": "stream",
     "text": [
      "My Python Notebook\n",
      "koobetoN nohtyP yM\n"
     ]
    }
   ],
   "source": [
    "# Q.1 Write a function to reverse a string. \n",
    "# Sample String : \"1234abcd\"\n",
    "# Expected Output : \"dcba4321\"\n",
    "def reverse(str1):\n",
    "    if len(str1) == 1:\n",
    "        return str1\n",
    "    else:\n",
    "        return reverse(str1[1:]) + str1[0]\n",
    "str1 = \"My Python Notebook\"\n",
    "        \n",
    "print(str1)\n",
    "print(reverse(str1))\n",
    "\n",
    "\n"
   ]
  },
  {
   "cell_type": "code",
   "execution_count": 2,
   "id": "c2b5918e",
   "metadata": {},
   "outputs": [
    {
     "name": "stdout",
     "output_type": "stream",
     "text": [
      "[1, 2, 3, 5, 61, 12, 14, 20]\n",
      "Even Numbers In list Are: [2, 12, 14, 20]\n"
     ]
    }
   ],
   "source": [
    "'''Q.2 Write a function to print the even numbers from a given list. \n",
    "Sample List : [1, 2, 3, 4, 5, 6, 7, 8, 9]\n",
    "Expected Result : [2, 4, 6, 8]'''\n",
    "\n",
    "list = [1,2,3,5,61,12,14,20]\n",
    "def even_list():\n",
    "    even = []\n",
    "    for i in list:\n",
    "        if i % 2 == 0:\n",
    "            even.append(i)\n",
    "    return even\n",
    "\n",
    "print(list)\n",
    "print(\"Even Numbers In list Are:\",even_list())\n"
   ]
  },
  {
   "cell_type": "code",
   "execution_count": 1,
   "id": "6ac83844",
   "metadata": {},
   "outputs": [
    {
     "name": "stdout",
     "output_type": "stream",
     "text": [
      "Enter A String : salmankhan\n",
      "salmankhan\n",
      "Number Of Vowels In salmankhan Are 3\n",
      "Number Of Consonents In salmankhan Are 7\n"
     ]
    }
   ],
   "source": [
    "#Q.3 Write a function to display count and display vowels and consonants in the string entered by user.\n",
    "\n",
    "def display():\n",
    "    countc = 0\n",
    "    countv = 0\n",
    "    s = str(input(\"Enter A String : \"))\n",
    "    for i in s:\n",
    "        if i in \"aeiou\":\n",
    "            countv += 1\n",
    "        else:\n",
    "            countc += 1\n",
    "    print(s)\n",
    "    print(\"Number Of Vowels In\",s,\"Are\",countv)\n",
    "    print(\"Number Of Consonents In\",s,\"Are\",countc)\n",
    "display()\n",
    "\n",
    "        \n"
   ]
  },
  {
   "cell_type": "code",
   "execution_count": 4,
   "id": "ab526093",
   "metadata": {},
   "outputs": [
    {
     "name": "stdout",
     "output_type": "stream",
     "text": [
      "Enter a Number for Base : 6\n",
      "Enter a Number for Its Power : 2\n",
      "36\n"
     ]
    }
   ],
   "source": [
    "# Q.4 Write a function to find the power of a number using function.\n",
    "def power():\n",
    "    base = int(input(\"Enter a Number for Base : \"))\n",
    "    exponent = int(input(\"Enter a Number for Its Power : \"))\n",
    "    result = pow(base,exponent)\n",
    "    print(result)\n",
    "power()"
   ]
  },
  {
   "cell_type": "code",
   "execution_count": 5,
   "id": "a69d791c",
   "metadata": {},
   "outputs": [
    {
     "name": "stdout",
     "output_type": "stream",
     "text": [
      "enter first number 23\n",
      "enter second number 34\n"
     ]
    },
    {
     "data": {
      "text/plain": [
       "(57, -11)"
      ]
     },
     "execution_count": 5,
     "metadata": {},
     "output_type": "execute_result"
    }
   ],
   "source": [
    "# Q.5 Write a function name calculation which accepts two variables and calculate addition and subtraction.\n",
    "# Also it returns both addition and subtraction result in a single return call.\n",
    "def calculation():\n",
    "    a=int(input('enter first number '))\n",
    "    b=int(input('enter second number '))\n",
    "    result1=a+b\n",
    "    result2=a-b\n",
    "    return (result1 , result2)\n",
    "    \n",
    "calculation()"
   ]
  },
  {
   "cell_type": "code",
   "execution_count": 6,
   "id": "76a0ef3d",
   "metadata": {},
   "outputs": [
    {
     "name": "stdout",
     "output_type": "stream",
     "text": [
      "Enter A Number : 34 45 67\n",
      "Largest of the Three Numbers Is : 67\n"
     ]
    }
   ],
   "source": [
    "# Q.6 Write a function which computes maximum of three numbers \n",
    "x,y,z = input(\"Enter A Number : \").split(\" \")\n",
    "x = int(x)\n",
    "y = int(y)\n",
    "z = int(z)\n",
    "def largest(x,y,z):\n",
    "    if x >= y and x >= z:\n",
    "        return x\n",
    "    elif y >= x and y >= z:\n",
    "        return y\n",
    "    else:\n",
    "        return z\n",
    "print(\"Largest of the Three Numbers Is :\",largest(x,y,z))\n"
   ]
  },
  {
   "cell_type": "code",
   "execution_count": 7,
   "id": "5fbc7bc6",
   "metadata": {},
   "outputs": [
    {
     "name": "stdout",
     "output_type": "stream",
     "text": [
      "Enter a Number : 70\n",
      "Enter Second Number : 80\n",
      "155\n"
     ]
    }
   ],
   "source": [
    "# Q.7 Create an outer function that will accept two parameters, a and b .\n",
    "# Create an inner function inside an outer function that will calculate the addition of a and b .\n",
    "# At last, an outer function will add 5 into addition and return it\n",
    "def outerfun(a,b):\n",
    "    def innerfun(a1,b1):\n",
    "        add = a1 + b1\n",
    "        return add\n",
    "    i = innerfun(a,b)\n",
    "    return i + 5\n",
    "\n",
    "a = int(input(\"Enter a Number : \"))\n",
    "b = int(input(\"Enter Second Number : \"))\n",
    "j = outerfun(a,b)\n",
    "print(j)\n",
    "    \n",
    "    \n",
    "\n",
    "\n",
    "\n",
    "\n"
   ]
  },
  {
   "cell_type": "code",
   "execution_count": 8,
   "id": "9ffa8d2b",
   "metadata": {},
   "outputs": [
    {
     "name": "stdout",
     "output_type": "stream",
     "text": [
      "Enter a number :5642367\n",
      "Number of Even Digits is 4\n",
      "Number of Odd Digits is 3\n"
     ]
    }
   ],
   "source": [
    "# Q.8 Write a function which counts the even digits  and odd digits in the number entered by user.\n",
    "def checker(num):\n",
    "    ev_num = 0\n",
    "    odd_num = 0\n",
    "    while(num!=0):\n",
    "        r = num % 10\n",
    "        if r % 2 == 0:\n",
    "            ev_num += 1\n",
    "        else:\n",
    "            odd_num += 1\n",
    "        num = num // 10\n",
    "    print(\"Number of Even Digits\",\"is\",ev_num)\n",
    "    print(\"Number of Odd Digits\",\"is\",odd_num)\n",
    "num = int(input(\"Enter a number :\"))\n",
    "d=checker(num)\n",
    "\n",
    "            \n",
    "        \n",
    "    \n",
    "    \n",
    "    \n",
    "        \n",
    "        \n",
    "        \n"
   ]
  },
  {
   "cell_type": "code",
   "execution_count": 9,
   "id": "e3287688",
   "metadata": {},
   "outputs": [
    {
     "name": "stdout",
     "output_type": "stream",
     "text": [
      "Enter Your Name :\n",
      "md kaif\n",
      "Enter Your Marks:\n",
      " 78 67 49\n",
      "Total Marks Scored By md kaif is = 194 out of 300\n",
      "Percentage is = 64.66666666666666 %\n"
     ]
    }
   ],
   "source": [
    "# Q.9 Write a function which takes the students details as name,marks of 3 subjects and display total marks and his percentage.\n",
    "def result():\n",
    "    print(\"Enter Your Name :\")\n",
    "    name = input(\"\")\n",
    "    print(\"Enter Your Marks:\")\n",
    "    maths,science,english = input(\" \").split(\" \")\n",
    "    maths = int(maths)\n",
    "    science = int(science)\n",
    "    english = int(english)\n",
    "    display = maths + science + english\n",
    "    total = 300\n",
    "    print(\"Total Marks Scored By\",name,\"is\",display,\"out of\",total)\n",
    "    percentage = (display / total) * 100\n",
    "    print(\"Percentage is\",\"=\",percentage,\"%\")\n",
    "result()"
   ]
  },
  {
   "cell_type": "code",
   "execution_count": 10,
   "id": "7a703adc",
   "metadata": {},
   "outputs": [
    {
     "name": "stdout",
     "output_type": "stream",
     "text": [
      "Please enter your Age: 12\n"
     ]
    },
    {
     "data": {
      "text/plain": [
       "'You Cannot Vote'"
      ]
     },
     "execution_count": 10,
     "metadata": {},
     "output_type": "execute_result"
    }
   ],
   "source": [
    "# Q.10 Write a function to tell user if he/she is able to vote or not.\n",
    "def eligibility():\n",
    "    age = int(input(\"Please enter your Age: \"))\n",
    "    if age >= 18:\n",
    "        return \"You Can Vote\"\n",
    "    else:\n",
    "        return \"You Cannot Vote\"\n",
    "        \n",
    "eligibility()"
   ]
  },
  {
   "cell_type": "code",
   "execution_count": 11,
   "id": "831d74e9",
   "metadata": {},
   "outputs": [
    {
     "name": "stdout",
     "output_type": "stream",
     "text": [
      "enter the base and height  5,6\n",
      "enter Sides Of Triangle30 40 20\n",
      "Area of The TRIANGLE is : 15.0\n",
      "Perimeter of The TRIANGLE is : 90\n"
     ]
    }
   ],
   "source": [
    "# Q.11 Write a function to calculate area and perimeter of a rectangle.\n",
    "def area_t():\n",
    "        b,h=input(\"enter the base and height  \").split(\",\")\n",
    "        b=int(b)\n",
    "        h=int(h)\n",
    "        area=1/2*b*h\n",
    "        a1,a2,a3 = input(\"enter Sides Of Triangle\").split(\" \")\n",
    "        a1 = int(a1)\n",
    "        a2 = int(a2)\n",
    "        a3 = int(a3)\n",
    "        if a1 + a2 >= a3 or a2 + a3 >= a1 or a3 + a1 >= a2:\n",
    "            perimeter = a1 + a2 + a3\n",
    "        else:\n",
    "            print(\"Invalid Triangle\")\n",
    "        print(\"Area of The TRIANGLE is :\",area)\n",
    "        print(\"Perimeter of The TRIANGLE is :\",perimeter)\n",
    "        \n",
    "        \n",
    "area_t()\n",
    "\n",
    "\n"
   ]
  },
  {
   "cell_type": "code",
   "execution_count": 12,
   "id": "9f8546ee",
   "metadata": {},
   "outputs": [
    {
     "name": "stdout",
     "output_type": "stream",
     "text": [
      "enter the radius of circle :  30\n",
      "the area of circle is :   2826.0\n",
      "the circumference of circle is :   188.4\n"
     ]
    }
   ],
   "source": [
    "# Q.12 Write a function to calculate area and circumference of a circle.\n",
    "\n",
    "def areac():\n",
    "    radius=int(input(\"enter the radius of circle :  \"))\n",
    "    area=3.14*radius**2\n",
    "    circumference = 2*3.14*radius\n",
    "    print(\"the area of circle is :  \", area)\n",
    "    print(\"the circumference of circle is :  \", circumference)\n",
    "    \n",
    "areac()\n"
   ]
  },
  {
   "cell_type": "code",
   "execution_count": 13,
   "id": "9448c410",
   "metadata": {},
   "outputs": [
    {
     "name": "stdout",
     "output_type": "stream",
     "text": [
      "[1, 3, 6, 8, 9, 4, 11]\n"
     ]
    },
    {
     "data": {
      "text/plain": [
       "57024"
      ]
     },
     "execution_count": 13,
     "metadata": {},
     "output_type": "execute_result"
    }
   ],
   "source": [
    "# Q.13 Write a function to calculate the multiplication of all the elements in the list.\n",
    "import math\n",
    "\n",
    "mylist = [1,3,6,8,9,4,11]\n",
    "\n",
    "def multi():\n",
    "    for i in mylist:\n",
    "        result = math.prod(mylist)\n",
    "        print(mylist)\n",
    "        return result\n",
    "multi()\n"
   ]
  }
 ],
 "metadata": {
  "kernelspec": {
   "display_name": "Python 3 (ipykernel)",
   "language": "python",
   "name": "python3"
  },
  "language_info": {
   "codemirror_mode": {
    "name": "ipython",
    "version": 3
   },
   "file_extension": ".py",
   "mimetype": "text/x-python",
   "name": "python",
   "nbconvert_exporter": "python",
   "pygments_lexer": "ipython3",
   "version": "3.9.12"
  }
 },
 "nbformat": 4,
 "nbformat_minor": 5
}
