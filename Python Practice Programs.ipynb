{
 "cells": [
  {
   "cell_type": "code",
   "execution_count": null,
   "id": "620eab65",
   "metadata": {},
   "outputs": [],
   "source": [
    "# 11.\tWrite a program to print the first 25 odd numbers\n"
   ]
  },
  {
   "cell_type": "code",
   "execution_count": 5,
   "id": "0cc4c794",
   "metadata": {},
   "outputs": [
    {
     "name": "stdout",
     "output_type": "stream",
     "text": [
      "Printing First 25 Odd Numbers ..\n",
      "1/3/5/7/9/11/13/15/17/19/21/23/25/27/29/31/33/35/37/39/41/43/45/47/49/"
     ]
    }
   ],
   "source": [
    "print(\"Printing First 25 Odd Numbers ..\")\n",
    "for i in range(1,50):\n",
    "    if i % 2 != 0:\n",
    "        print(i,end=\"/\")"
   ]
  },
  {
   "cell_type": "code",
   "execution_count": null,
   "id": "6ba676ed",
   "metadata": {},
   "outputs": [],
   "source": [
    "# 12.\tWrite a Python program that accepts an integer (n) and computes the value of n+nn+nnn.\n"
   ]
  },
  {
   "cell_type": "code",
   "execution_count": 6,
   "id": "633697c4",
   "metadata": {},
   "outputs": [
    {
     "name": "stdout",
     "output_type": "stream",
     "text": [
      "Enter The value Of N : 5\n",
      "Value Of (n+nn+nnn) is ...\n",
      "155\n"
     ]
    }
   ],
   "source": [
    "n = int(input(\"Enter The value Of N : \"))\n",
    "print(\"Value Of (n+nn+nnn) is ...\")\n",
    "print(n+n*n+n*n*n)"
   ]
  },
  {
   "cell_type": "code",
   "execution_count": 2,
   "id": "b70ca2c3",
   "metadata": {},
   "outputs": [],
   "source": [
    "#13.\tTake a number from the user and find the number of digits in\n"
   ]
  },
  {
   "cell_type": "code",
   "execution_count": 7,
   "id": "10437ebd",
   "metadata": {},
   "outputs": [
    {
     "name": "stdout",
     "output_type": "stream",
     "text": [
      "Enter A Number : 345890\n",
      "Number Of Digits In  345890 Are\n",
      "6\n"
     ]
    }
   ],
   "source": [
    "num = int(input(\"Enter A Number : \"))\n",
    "count = 0\n",
    "print(\"Number Of Digits In \",num,\"Are\")\n",
    "while(num!=0):\n",
    "    r=num%10\n",
    "    num=num//10\n",
    "    count+=1\n",
    "print(count)"
   ]
  },
  {
   "cell_type": "code",
   "execution_count": 3,
   "id": "ec0c56c4",
   "metadata": {},
   "outputs": [],
   "source": [
    "#14.\tExtract username from a given email. \n",
    "# Example : if the email is nitish24singh@gmail.com then the username should be nitish24singh\n"
   ]
  },
  {
   "cell_type": "code",
   "execution_count": 9,
   "id": "f5aa8aa7",
   "metadata": {},
   "outputs": [
    {
     "name": "stdout",
     "output_type": "stream",
     "text": [
      "Enter Your E-Mail Id here : kaif3463@gmail.com\n",
      "Your User-Name Is : \n",
      "kaif3463\n"
     ]
    }
   ],
   "source": [
    "email=input(\"Enter Your E-Mail Id here : \")\n",
    "z=email.split(\"@\")\n",
    "print(\"Your User-Name Is : \")\n",
    "print(z[0])"
   ]
  },
  {
   "cell_type": "code",
   "execution_count": 4,
   "id": "222c91e4",
   "metadata": {},
   "outputs": [],
   "source": [
    "#15.\tWrite a dummy program that can perform login and registration using a menu driven program"
   ]
  },
  {
   "cell_type": "code",
   "execution_count": 11,
   "id": "9a72ba5b",
   "metadata": {},
   "outputs": [
    {
     "name": "stdout",
     "output_type": "stream",
     "text": [
      "Register Your Username : kaif123\n",
      "Enter A  Password : 56789\n",
      "Enter Your Registered Username : kkf\n",
      "Enter Your Password : jfjf\n",
      "Please Try Again , Wrong Credentials !!\n",
      "Enter Your Registered Username : jifj\n",
      "Enter Your Password : jhjhf\n",
      "Please Try Again , Wrong Credentials !!\n",
      "Enter Your Registered Username : hfh\n",
      "Enter Your Password : jhfj\n",
      "Please Try Again , Wrong Credentials !!\n",
      "Enter Your Registered Username : ghhg\n",
      "Enter Your Password : hgh'\n",
      "Please Try Again , Wrong Credentials !!\n",
      "Enter Your Registered Username : kaif123\n",
      "Enter Your Password : 56789\n",
      "[--Access Granted--]\n"
     ]
    }
   ],
   "source": [
    "username = input(\"Register Your Username : \")\n",
    "password = input(\"Enter A  Password : \")\n",
    "count = 0\n",
    "while(count<5):\n",
    "    user = input(\"Enter Your Registered Username : \")\n",
    "    passw = input(\"Enter Your Password : \")\n",
    "    if (user == username and passw == password):\n",
    "        print(\"[--Access Granted--]\")\n",
    "        break\n",
    "    else:\n",
    "        print(\"Please Try Again , Wrong Credentials !!\")\n",
    "        count = count + 1\n",
    "        if count == 5:\n",
    "            print(\"You Have tried Too Times !!!\")"
   ]
  },
  {
   "cell_type": "code",
   "execution_count": null,
   "id": "3d3d026f",
   "metadata": {},
   "outputs": [],
   "source": []
  }
 ],
 "metadata": {
  "kernelspec": {
   "display_name": "Python 3 (ipykernel)",
   "language": "python",
   "name": "python3"
  },
  "language_info": {
   "codemirror_mode": {
    "name": "ipython",
    "version": 3
   },
   "file_extension": ".py",
   "mimetype": "text/x-python",
   "name": "python",
   "nbconvert_exporter": "python",
   "pygments_lexer": "ipython3",
   "version": "3.9.12"
  }
 },
 "nbformat": 4,
 "nbformat_minor": 5
}
