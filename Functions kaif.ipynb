{
 "cells": [
  {
   "cell_type": "code",
   "execution_count": 2,
   "id": "afd45a89",
   "metadata": {},
   "outputs": [
    {
     "name": "stdout",
     "output_type": "stream",
     "text": [
      "300\n",
      "2\n",
      "2\n"
     ]
    }
   ],
   "source": [
    "a = 2 \n",
    "def myfun():\n",
    "    x = 300\n",
    "    print(x)\n",
    "    print(a)\n",
    "\n",
    "myfun()\n",
    "print(a)\n",
    "    "
   ]
  },
  {
   "cell_type": "code",
   "execution_count": 3,
   "id": "a423b138",
   "metadata": {},
   "outputs": [
    {
     "name": "stdout",
     "output_type": "stream",
     "text": [
      "300\n",
      "2\n",
      "2\n"
     ]
    },
    {
     "ename": "NameError",
     "evalue": "name 'x' is not defined",
     "output_type": "error",
     "traceback": [
      "\u001b[1;31m---------------------------------------------------------------------------\u001b[0m",
      "\u001b[1;31mNameError\u001b[0m                                 Traceback (most recent call last)",
      "Input \u001b[1;32mIn [3]\u001b[0m, in \u001b[0;36m<cell line: 9>\u001b[1;34m()\u001b[0m\n\u001b[0;32m      7\u001b[0m myfun()\n\u001b[0;32m      8\u001b[0m \u001b[38;5;28mprint\u001b[39m(a)\n\u001b[1;32m----> 9\u001b[0m \u001b[38;5;28mprint\u001b[39m(\u001b[43mx\u001b[49m)\n",
      "\u001b[1;31mNameError\u001b[0m: name 'x' is not defined"
     ]
    }
   ],
   "source": [
    "a = 2 \n",
    "def myfun():\n",
    "    x = 300\n",
    "    print(x)\n",
    "    print(a)\n",
    "\n",
    "myfun()\n",
    "print(a)\n",
    "print(x)"
   ]
  },
  {
   "cell_type": "code",
   "execution_count": 9,
   "id": "ffe3d0f8",
   "metadata": {},
   "outputs": [
    {
     "name": "stdout",
     "output_type": "stream",
     "text": [
      "300 200\n",
      "300 200\n"
     ]
    },
    {
     "data": {
      "text/plain": [
       "200"
      ]
     },
     "execution_count": 9,
     "metadata": {},
     "output_type": "execute_result"
    }
   ],
   "source": [
    "x = 300\n",
    "y = 200\n",
    "def myfun(x,y):\n",
    "    print(x,y)\n",
    "    return x and y\n",
    "print(x,y)\n",
    "myfun(x,y)\n",
    "\n",
    "    "
   ]
  },
  {
   "cell_type": "code",
   "execution_count": 7,
   "id": "4a927666",
   "metadata": {},
   "outputs": [
    {
     "name": "stdout",
     "output_type": "stream",
     "text": [
      "Enter A Number To Find Its Factorial : 3\n",
      "6\n"
     ]
    }
   ],
   "source": [
    "def factorial(num):\n",
    "    if num == 1:\n",
    "        return 1\n",
    "    else:\n",
    "        return factorial(num-1)*num\n",
    "n = int(input(\"Enter A Number To Find Its Factorial : \"))\n",
    "if n == 1 or n == 0:\n",
    "    print(\"Factorial Of \",n,\"Is\",1)\n",
    "elif n < 0:\n",
    "    print(\"Factorial of Negative Numbers Does Not Exist\")\n",
    "else:\n",
    "    fact = factorial(n)\n",
    "    print(fact)"
   ]
  },
  {
   "cell_type": "code",
   "execution_count": null,
   "id": "eebb4567",
   "metadata": {},
   "outputs": [],
   "source": [
    "def reverse(num):\n",
    "    if num == "
   ]
  },
  {
   "cell_type": "code",
   "execution_count": 22,
   "id": "a540e588",
   "metadata": {},
   "outputs": [
    {
     "name": "stdout",
     "output_type": "stream",
     "text": [
      "Enter A Number a To Find Its Table3\n",
      "3 * 1 = 3\n",
      "3 * 2 = 6\n",
      "3 * 3 = 9\n",
      "3 * 4 = 12\n",
      "3 * 5 = 15\n",
      "3 * 6 = 18\n",
      "3 * 7 = 21\n",
      "3 * 8 = 24\n",
      "3 * 9 = 27\n",
      "3 * 10 = 30\n"
     ]
    }
   ],
   "source": [
    "x = int(input(\"Enter A Number a To Find Its Table\"))\n",
    "for i in range(1,11):\n",
    "    print(x,\"*\",i,\"=\",x*i)\n"
   ]
  },
  {
   "cell_type": "code",
   "execution_count": 14,
   "id": "9ec471d9",
   "metadata": {},
   "outputs": [
    {
     "ename": "SyntaxError",
     "evalue": "invalid syntax (2311298798.py, line 6)",
     "output_type": "error",
     "traceback": [
      "\u001b[1;36m  Input \u001b[1;32mIn [14]\u001b[1;36m\u001b[0m\n\u001b[1;33m    inner_fun(x):\u001b[0m\n\u001b[1;37m                 ^\u001b[0m\n\u001b[1;31mSyntaxError\u001b[0m\u001b[1;31m:\u001b[0m invalid syntax\n"
     ]
    }
   ],
   "source": [
    "n1 = 20\n",
    "n2 = 30\n",
    "\n",
    "def outer_fun(n1,n2):\n",
    "    x = n1 + n2\n",
    "    inner_fun(x):\n",
    "        return x\n",
    "    "
   ]
  },
  {
   "cell_type": "code",
   "execution_count": 18,
   "id": "c9c983ee",
   "metadata": {},
   "outputs": [
    {
     "data": {
      "text/plain": [
       "['__doc__',\n",
       " '__loader__',\n",
       " '__name__',\n",
       " '__package__',\n",
       " '__spec__',\n",
       " 'acos',\n",
       " 'acosh',\n",
       " 'asin',\n",
       " 'asinh',\n",
       " 'atan',\n",
       " 'atan2',\n",
       " 'atanh',\n",
       " 'ceil',\n",
       " 'comb',\n",
       " 'copysign',\n",
       " 'cos',\n",
       " 'cosh',\n",
       " 'degrees',\n",
       " 'dist',\n",
       " 'e',\n",
       " 'erf',\n",
       " 'erfc',\n",
       " 'exp',\n",
       " 'expm1',\n",
       " 'fabs',\n",
       " 'factorial',\n",
       " 'floor',\n",
       " 'fmod',\n",
       " 'frexp',\n",
       " 'fsum',\n",
       " 'gamma',\n",
       " 'gcd',\n",
       " 'hypot',\n",
       " 'inf',\n",
       " 'isclose',\n",
       " 'isfinite',\n",
       " 'isinf',\n",
       " 'isnan',\n",
       " 'isqrt',\n",
       " 'lcm',\n",
       " 'ldexp',\n",
       " 'lgamma',\n",
       " 'log',\n",
       " 'log10',\n",
       " 'log1p',\n",
       " 'log2',\n",
       " 'modf',\n",
       " 'nan',\n",
       " 'nextafter',\n",
       " 'perm',\n",
       " 'pi',\n",
       " 'pow',\n",
       " 'prod',\n",
       " 'radians',\n",
       " 'remainder',\n",
       " 'sin',\n",
       " 'sinh',\n",
       " 'sqrt',\n",
       " 'tan',\n",
       " 'tanh',\n",
       " 'tau',\n",
       " 'trunc',\n",
       " 'ulp']"
      ]
     },
     "execution_count": 18,
     "metadata": {},
     "output_type": "execute_result"
    }
   ],
   "source": [
    "import math\n",
    "dir(math)"
   ]
  },
  {
   "cell_type": "code",
   "execution_count": 19,
   "id": "3d70e2c4",
   "metadata": {},
   "outputs": [
    {
     "data": {
      "text/plain": [
       "3.141592653589793"
      ]
     },
     "execution_count": 19,
     "metadata": {},
     "output_type": "execute_result"
    }
   ],
   "source": [
    "math.pi"
   ]
  },
  {
   "cell_type": "code",
   "execution_count": 20,
   "id": "b134df66",
   "metadata": {},
   "outputs": [
    {
     "data": {
      "text/plain": [
       "2"
      ]
     },
     "execution_count": 20,
     "metadata": {},
     "output_type": "execute_result"
    }
   ],
   "source": [
    "math.floor(2.9)"
   ]
  },
  {
   "cell_type": "code",
   "execution_count": 22,
   "id": "766c39bd",
   "metadata": {},
   "outputs": [
    {
     "data": {
      "text/plain": [
       "7"
      ]
     },
     "execution_count": 22,
     "metadata": {},
     "output_type": "execute_result"
    }
   ],
   "source": [
    "math.ceil(6.9)"
   ]
  },
  {
   "cell_type": "code",
   "execution_count": 23,
   "id": "ec4ed1af",
   "metadata": {},
   "outputs": [
    {
     "data": {
      "text/plain": [
       "-3"
      ]
     },
     "execution_count": 23,
     "metadata": {},
     "output_type": "execute_result"
    }
   ],
   "source": [
    "math.floor(-2.8)"
   ]
  },
  {
   "cell_type": "code",
   "execution_count": 27,
   "id": "d960b09f",
   "metadata": {},
   "outputs": [
    {
     "data": {
      "text/plain": [
       "84"
      ]
     },
     "execution_count": 27,
     "metadata": {},
     "output_type": "execute_result"
    }
   ],
   "source": [
    "import random\n",
    "random.randint(1,100)"
   ]
  },
  {
   "cell_type": "code",
   "execution_count": 31,
   "id": "8ba773b9",
   "metadata": {},
   "outputs": [
    {
     "data": {
      "text/plain": [
       "[1, 6, 2, 56, 20, 66, 23]"
      ]
     },
     "execution_count": 31,
     "metadata": {},
     "output_type": "execute_result"
    }
   ],
   "source": [
    "a = [2,6,56,66,23,20,1]\n",
    "random.shuffle(a)\n",
    "a"
   ]
  },
  {
   "cell_type": "code",
   "execution_count": 33,
   "id": "82156a44",
   "metadata": {},
   "outputs": [
    {
     "data": {
      "text/plain": [
       "1663136128.986392"
      ]
     },
     "execution_count": 33,
     "metadata": {},
     "output_type": "execute_result"
    }
   ],
   "source": [
    "import time\n",
    "time.time()"
   ]
  },
  {
   "cell_type": "code",
   "execution_count": 35,
   "id": "a32f95ee",
   "metadata": {},
   "outputs": [
    {
     "data": {
      "text/plain": [
       "'Wed Sep 14 11:45:45 2022'"
      ]
     },
     "execution_count": 35,
     "metadata": {},
     "output_type": "execute_result"
    }
   ],
   "source": [
    "time.ctime()"
   ]
  },
  {
   "cell_type": "code",
   "execution_count": 38,
   "id": "535a5331",
   "metadata": {},
   "outputs": [
    {
     "name": "stdout",
     "output_type": "stream",
     "text": [
      "HEllo:::\n",
      "HEllo:::\n"
     ]
    }
   ],
   "source": [
    "print(\"HEllo:::\")\n",
    "time.sleep(6)\n",
    "print(\"HEllo:::\")"
   ]
  },
  {
   "cell_type": "code",
   "execution_count": 40,
   "id": "b32e183e",
   "metadata": {},
   "outputs": [
    {
     "data": {
      "text/plain": [
       "'C:\\\\Users\\\\md kaif\\\\Kaif Python'"
      ]
     },
     "execution_count": 40,
     "metadata": {},
     "output_type": "execute_result"
    }
   ],
   "source": [
    "import os\n",
    "os.getcwd()"
   ]
  },
  {
   "cell_type": "code",
   "execution_count": 41,
   "id": "0f4d31dd",
   "metadata": {},
   "outputs": [
    {
     "data": {
      "text/plain": [
       "['.ipynb_checkpoints',\n",
       " 'Assignment.ipynb',\n",
       " 'conditional statements.ipynb',\n",
       " 'conditions based programs.pdf',\n",
       " 'Functions kaif.ipynb',\n",
       " 'functions11.ipynb',\n",
       " 'Kaif Exercise Notebook.ipynb',\n",
       " 'Loops.ipynb',\n",
       " 'Modules.ipynb',\n",
       " 'patterns(loop).ipynb',\n",
       " 'Python_Basic.ipynb']"
      ]
     },
     "execution_count": 41,
     "metadata": {},
     "output_type": "execute_result"
    }
   ],
   "source": [
    "os.listdir()"
   ]
  },
  {
   "cell_type": "code",
   "execution_count": 1,
   "id": "8ca78414",
   "metadata": {},
   "outputs": [
    {
     "ename": "NameError",
     "evalue": "name 'add' is not defined",
     "output_type": "error",
     "traceback": [
      "\u001b[1;31m---------------------------------------------------------------------------\u001b[0m",
      "\u001b[1;31mNameError\u001b[0m                                 Traceback (most recent call last)",
      "Input \u001b[1;32mIn [1]\u001b[0m, in \u001b[0;36m<cell line: 2>\u001b[1;34m()\u001b[0m\n\u001b[0;32m      1\u001b[0m \u001b[38;5;28;01mimport\u001b[39;00m \u001b[38;5;21;01mmath\u001b[39;00m\n\u001b[1;32m----> 2\u001b[0m \u001b[43madd\u001b[49m(\u001b[38;5;241m34\u001b[39m,\u001b[38;5;241m56\u001b[39m)\n",
      "\u001b[1;31mNameError\u001b[0m: name 'add' is not defined"
     ]
    }
   ],
   "source": [
    "import math\n",
    "add(34,56)"
   ]
  },
  {
   "cell_type": "code",
   "execution_count": 1,
   "id": "bccff01f",
   "metadata": {},
   "outputs": [
    {
     "name": "stdout",
     "output_type": "stream",
     "text": [
      "Enter a Number: 7\n",
      "7 6 5 4 3 2 1 0 "
     ]
    }
   ],
   "source": [
    "num  = int(input(\"Enter The Upper limit: \"))\n",
    "def num1(num):\n",
    "    print(num,end=\" \")\n",
    "    if num > 0:\n",
    "        num1(num-1)\n",
    "        \n",
    "num1(num)"
   ]
  },
  {
   "cell_type": "code",
   "execution_count": 5,
   "id": "9a21122b",
   "metadata": {},
   "outputs": [
    {
     "name": "stdout",
     "output_type": "stream",
     "text": [
      "Enter A Number :787678996\n",
      "699876787"
     ]
    }
   ],
   "source": [
    "num = int(input(\"Enter A Number :\"))\n",
    "def reverse(num):\n",
    "    r = num % 10\n",
    "    num = num // 10\n",
    "    print(r,end=\"\")\n",
    "    if num > 0:\n",
    "        reverse(num)\n",
    "reverse(num)"
   ]
  },
  {
   "cell_type": "code",
   "execution_count": 3,
   "id": "51111c0a",
   "metadata": {},
   "outputs": [],
   "source": [
    "def sr_details(s1,s2):\n",
    "    '''this is for students details'''\n",
    "    print(\"Student Details\")"
   ]
  },
  {
   "cell_type": "code",
   "execution_count": 6,
   "id": "b3f59ef4",
   "metadata": {},
   "outputs": [
    {
     "ename": "NameError",
     "evalue": "name 's1' is not defined",
     "output_type": "error",
     "traceback": [
      "\u001b[1;31m---------------------------------------------------------------------------\u001b[0m",
      "\u001b[1;31mNameError\u001b[0m                                 Traceback (most recent call last)",
      "Input \u001b[1;32mIn [6]\u001b[0m, in \u001b[0;36m<cell line: 2>\u001b[1;34m()\u001b[0m\n\u001b[0;32m      1\u001b[0m sr_details\u001b[38;5;241m.\u001b[39m\u001b[38;5;18m__doc__\u001b[39m\n\u001b[1;32m----> 2\u001b[0m sr_details(\u001b[43ms1\u001b[49m,s2)\n",
      "\u001b[1;31mNameError\u001b[0m: name 's1' is not defined"
     ]
    }
   ],
   "source": [
    "sr_details.__doc__\n",
    "sr_details(s1,s2)"
   ]
  },
  {
   "cell_type": "code",
   "execution_count": null,
   "id": "939f0401",
   "metadata": {},
   "outputs": [],
   "source": []
  }
 ],
 "metadata": {
  "kernelspec": {
   "display_name": "Python 3 (ipykernel)",
   "language": "python",
   "name": "python3"
  },
  "language_info": {
   "codemirror_mode": {
    "name": "ipython",
    "version": 3
   },
   "file_extension": ".py",
   "mimetype": "text/x-python",
   "name": "python",
   "nbconvert_exporter": "python",
   "pygments_lexer": "ipython3",
   "version": "3.9.12"
  }
 },
 "nbformat": 4,
 "nbformat_minor": 5
}
