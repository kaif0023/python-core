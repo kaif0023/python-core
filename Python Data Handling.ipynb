{
 "cells": [
  {
   "cell_type": "markdown",
   "id": "2048b8e5",
   "metadata": {},
   "source": [
    "## 1. Preprocessing of the Data\n",
    "### - Cleaning\n",
    "### - Removing Duplicates\n",
    "### - Feature Engineering\n",
    "### - Transformation(Encoding,Scaling)\n",
    "### - Removal of outliers"
   ]
  },
  {
   "cell_type": "markdown",
   "id": "27a003e7",
   "metadata": {},
   "source": []
  },
  {
   "cell_type": "markdown",
   "id": "b8ee9977",
   "metadata": {},
   "source": [
    "### Dirty Data (Original Data Given To Us)\n",
    "#### - duplicated elements\n",
    "#### - missing elements\n",
    "#### - noisy elements\n",
    "#### - inaccurate elements (age=0,-ve or height = 0,-ve)\n",
    "#### - inconsistent elements"
   ]
  },
  {
   "cell_type": "markdown",
   "id": "86608c2a",
   "metadata": {},
   "source": [
    "## Note - Always Use Command - Unique To Find Inconsistency In the Data\n",
    "## Note - "
   ]
  },
  {
   "cell_type": "code",
   "execution_count": 1,
   "id": "93960833",
   "metadata": {},
   "outputs": [],
   "source": [
    "import numpy as np\n",
    "import pandas as pd\n",
    "import seaborn as sns"
   ]
  },
  {
   "cell_type": "code",
   "execution_count": 2,
   "id": "8a2e88a0",
   "metadata": {},
   "outputs": [
    {
     "data": {
      "text/html": [
       "<div>\n",
       "<style scoped>\n",
       "    .dataframe tbody tr th:only-of-type {\n",
       "        vertical-align: middle;\n",
       "    }\n",
       "\n",
       "    .dataframe tbody tr th {\n",
       "        vertical-align: top;\n",
       "    }\n",
       "\n",
       "    .dataframe thead th {\n",
       "        text-align: right;\n",
       "    }\n",
       "</style>\n",
       "<table border=\"1\" class=\"dataframe\">\n",
       "  <thead>\n",
       "    <tr style=\"text-align: right;\">\n",
       "      <th></th>\n",
       "      <th>Age</th>\n",
       "      <th>Height</th>\n",
       "      <th>Gender</th>\n",
       "    </tr>\n",
       "  </thead>\n",
       "  <tbody>\n",
       "    <tr>\n",
       "      <th>0</th>\n",
       "      <td>12.0</td>\n",
       "      <td>130.0</td>\n",
       "      <td>m</td>\n",
       "    </tr>\n",
       "    <tr>\n",
       "      <th>1</th>\n",
       "      <td>NaN</td>\n",
       "      <td>NaN</td>\n",
       "      <td>f</td>\n",
       "    </tr>\n",
       "    <tr>\n",
       "      <th>2</th>\n",
       "      <td>14.0</td>\n",
       "      <td>133.0</td>\n",
       "      <td>NaN</td>\n",
       "    </tr>\n",
       "    <tr>\n",
       "      <th>3</th>\n",
       "      <td>NaN</td>\n",
       "      <td>143.0</td>\n",
       "      <td>m</td>\n",
       "    </tr>\n",
       "    <tr>\n",
       "      <th>4</th>\n",
       "      <td>26.0</td>\n",
       "      <td>123.0</td>\n",
       "      <td>NaN</td>\n",
       "    </tr>\n",
       "    <tr>\n",
       "      <th>5</th>\n",
       "      <td>12.0</td>\n",
       "      <td>NaN</td>\n",
       "      <td>f</td>\n",
       "    </tr>\n",
       "    <tr>\n",
       "      <th>6</th>\n",
       "      <td>13.0</td>\n",
       "      <td>NaN</td>\n",
       "      <td>m</td>\n",
       "    </tr>\n",
       "    <tr>\n",
       "      <th>7</th>\n",
       "      <td>24.0</td>\n",
       "      <td>NaN</td>\n",
       "      <td>NaN</td>\n",
       "    </tr>\n",
       "    <tr>\n",
       "      <th>8</th>\n",
       "      <td>12.0</td>\n",
       "      <td>120.0</td>\n",
       "      <td>NaN</td>\n",
       "    </tr>\n",
       "    <tr>\n",
       "      <th>9</th>\n",
       "      <td>13.0</td>\n",
       "      <td>121.0</td>\n",
       "      <td>m</td>\n",
       "    </tr>\n",
       "  </tbody>\n",
       "</table>\n",
       "</div>"
      ],
      "text/plain": [
       "    Age  Height Gender\n",
       "0  12.0   130.0      m\n",
       "1   NaN     NaN      f\n",
       "2  14.0   133.0    NaN\n",
       "3   NaN   143.0      m\n",
       "4  26.0   123.0    NaN\n",
       "5  12.0     NaN      f\n",
       "6  13.0     NaN      m\n",
       "7  24.0     NaN    NaN\n",
       "8  12.0   120.0    NaN\n",
       "9  13.0   121.0      m"
      ]
     },
     "execution_count": 2,
     "metadata": {},
     "output_type": "execute_result"
    }
   ],
   "source": [
    "df1 = pd.DataFrame({\"Age\":[12,np.nan,14,np.nan,26,12,13,24,12,13],\"Height\":[130,np.nan,133,143,123,np.nan,np.nan,np.nan,120,121],\"Gender\":[\"m\",\"f\",np.nan,\"m\",np.nan,\"f\",\"m\",np.nan,np.nan,\"m\"]})\n",
    "df1\n"
   ]
  },
  {
   "cell_type": "markdown",
   "id": "810326e6",
   "metadata": {},
   "source": [
    "### Handling missing values (nan,none,nat)\n",
    "#### 1. detection of missing values"
   ]
  },
  {
   "cell_type": "code",
   "execution_count": 3,
   "id": "f444cf92",
   "metadata": {},
   "outputs": [
    {
     "data": {
      "text/html": [
       "<div>\n",
       "<style scoped>\n",
       "    .dataframe tbody tr th:only-of-type {\n",
       "        vertical-align: middle;\n",
       "    }\n",
       "\n",
       "    .dataframe tbody tr th {\n",
       "        vertical-align: top;\n",
       "    }\n",
       "\n",
       "    .dataframe thead th {\n",
       "        text-align: right;\n",
       "    }\n",
       "</style>\n",
       "<table border=\"1\" class=\"dataframe\">\n",
       "  <thead>\n",
       "    <tr style=\"text-align: right;\">\n",
       "      <th></th>\n",
       "      <th>Age</th>\n",
       "      <th>Height</th>\n",
       "      <th>Gender</th>\n",
       "    </tr>\n",
       "  </thead>\n",
       "  <tbody>\n",
       "    <tr>\n",
       "      <th>0</th>\n",
       "      <td>False</td>\n",
       "      <td>False</td>\n",
       "      <td>False</td>\n",
       "    </tr>\n",
       "    <tr>\n",
       "      <th>1</th>\n",
       "      <td>True</td>\n",
       "      <td>True</td>\n",
       "      <td>False</td>\n",
       "    </tr>\n",
       "    <tr>\n",
       "      <th>2</th>\n",
       "      <td>False</td>\n",
       "      <td>False</td>\n",
       "      <td>True</td>\n",
       "    </tr>\n",
       "    <tr>\n",
       "      <th>3</th>\n",
       "      <td>True</td>\n",
       "      <td>False</td>\n",
       "      <td>False</td>\n",
       "    </tr>\n",
       "    <tr>\n",
       "      <th>4</th>\n",
       "      <td>False</td>\n",
       "      <td>False</td>\n",
       "      <td>True</td>\n",
       "    </tr>\n",
       "    <tr>\n",
       "      <th>5</th>\n",
       "      <td>False</td>\n",
       "      <td>True</td>\n",
       "      <td>False</td>\n",
       "    </tr>\n",
       "    <tr>\n",
       "      <th>6</th>\n",
       "      <td>False</td>\n",
       "      <td>True</td>\n",
       "      <td>False</td>\n",
       "    </tr>\n",
       "    <tr>\n",
       "      <th>7</th>\n",
       "      <td>False</td>\n",
       "      <td>True</td>\n",
       "      <td>True</td>\n",
       "    </tr>\n",
       "    <tr>\n",
       "      <th>8</th>\n",
       "      <td>False</td>\n",
       "      <td>False</td>\n",
       "      <td>True</td>\n",
       "    </tr>\n",
       "    <tr>\n",
       "      <th>9</th>\n",
       "      <td>False</td>\n",
       "      <td>False</td>\n",
       "      <td>False</td>\n",
       "    </tr>\n",
       "  </tbody>\n",
       "</table>\n",
       "</div>"
      ],
      "text/plain": [
       "     Age  Height  Gender\n",
       "0  False   False   False\n",
       "1   True    True   False\n",
       "2  False   False    True\n",
       "3   True   False   False\n",
       "4  False   False    True\n",
       "5  False    True   False\n",
       "6  False    True   False\n",
       "7  False    True    True\n",
       "8  False   False    True\n",
       "9  False   False   False"
      ]
     },
     "execution_count": 3,
     "metadata": {},
     "output_type": "execute_result"
    }
   ],
   "source": [
    "df1.isnull()"
   ]
  },
  {
   "cell_type": "markdown",
   "id": "5c18b6d5",
   "metadata": {},
   "source": [
    "### 2. Counting Missing Values"
   ]
  },
  {
   "cell_type": "code",
   "execution_count": 4,
   "id": "451333a8",
   "metadata": {},
   "outputs": [
    {
     "data": {
      "text/plain": [
       "Age       2\n",
       "Height    4\n",
       "Gender    4\n",
       "dtype: int64"
      ]
     },
     "execution_count": 4,
     "metadata": {},
     "output_type": "execute_result"
    }
   ],
   "source": [
    "df1.isnull().sum()"
   ]
  },
  {
   "cell_type": "code",
   "execution_count": 7,
   "id": "00306921",
   "metadata": {},
   "outputs": [
    {
     "data": {
      "text/plain": [
       "2"
      ]
     },
     "execution_count": 7,
     "metadata": {},
     "output_type": "execute_result"
    }
   ],
   "source": [
    "df1[\"Age\"].isnull().sum()"
   ]
  },
  {
   "cell_type": "code",
   "execution_count": 9,
   "id": "b3656beb",
   "metadata": {},
   "outputs": [
    {
     "data": {
      "text/plain": [
       "Age       2\n",
       "Gender    4\n",
       "dtype: int64"
      ]
     },
     "execution_count": 9,
     "metadata": {},
     "output_type": "execute_result"
    }
   ],
   "source": [
    "df1[[\"Age\",\"Gender\"]].isnull().sum()"
   ]
  },
  {
   "cell_type": "markdown",
   "id": "710dc51e",
   "metadata": {},
   "source": [
    "### Handling Missing Values : delete or Fill with Some values (Imputing)\n",
    "##### Note This : Refer This Link :- https://www.analyticsvidhya.com\n",
    "#### 1. If Column Is numeric (Mean,Median And Mode) (Prefer mean,median (If Your data has Outliers)\n",
    "#### 2. If Columns Is Categorical (We Use Mode)\n",
    "#### 3. With arbitrary / Constant Values (as per domain knowledge)"
   ]
  },
  {
   "cell_type": "markdown",
   "id": "2132536b",
   "metadata": {},
   "source": [
    "## Filling Missing Values"
   ]
  },
  {
   "cell_type": "code",
   "execution_count": 16,
   "id": "b49d8f93",
   "metadata": {},
   "outputs": [
    {
     "data": {
      "text/plain": [
       "Age       float64\n",
       "Height    float64\n",
       "Gender     object\n",
       "dtype: object"
      ]
     },
     "execution_count": 16,
     "metadata": {},
     "output_type": "execute_result"
    }
   ],
   "source": [
    "df1.dtypes"
   ]
  },
  {
   "cell_type": "markdown",
   "id": "accb3d29",
   "metadata": {},
   "source": [
    "## outliers (Extreme Values)\n",
    "#### Defination - an outlier is a data value that differs significantly than Other Values in the data"
   ]
  },
  {
   "cell_type": "markdown",
   "id": "cc92ad0f",
   "metadata": {},
   "source": [
    "### For Median (WE Have To Sort The data)\n",
    "#### Note- (if Odd= Center point if Even=Then average Of Two Middle Values )\n"
   ]
  },
  {
   "cell_type": "markdown",
   "id": "a07369f0",
   "metadata": {},
   "source": [
    "### Outliers Detection"
   ]
  },
  {
   "cell_type": "code",
   "execution_count": 13,
   "id": "41fa8034",
   "metadata": {},
   "outputs": [
    {
     "name": "stderr",
     "output_type": "stream",
     "text": [
      "C:\\Users\\md kaif\\anaconda3\\lib\\site-packages\\seaborn\\_decorators.py:36: FutureWarning: Pass the following variable as a keyword arg: x. From version 0.12, the only valid positional argument will be `data`, and passing other arguments without an explicit keyword will result in an error or misinterpretation.\n",
      "  warnings.warn(\n"
     ]
    },
    {
     "data": {
      "text/plain": [
       "<AxesSubplot:xlabel='Age'>"
      ]
     },
     "execution_count": 13,
     "metadata": {},
     "output_type": "execute_result"
    },
    {
     "data": {
      "image/png": "[encoded data removed]",
      "text/plain": [
       "<Figure size 432x288 with 1 Axes>"
      ]
     },
     "metadata": {
      "needs_background": "light"
     },
     "output_type": "display_data"
    }
   ],
   "source": [
    "sns.boxplot(df1[\"Age\"])"
   ]
  },
  {
   "cell_type": "code",
   "execution_count": 17,
   "id": "e173c946",
   "metadata": {},
   "outputs": [
    {
     "name": "stderr",
     "output_type": "stream",
     "text": [
      "C:\\Users\\md kaif\\AppData\\Local\\Temp\\ipykernel_9624\\2279417019.py:1: FutureWarning: Dropping of nuisance columns in DataFrame reductions (with 'numeric_only=None') is deprecated; in a future version this will raise TypeError.  Select only valid columns before calling the reduction.\n",
      "  df1.median()\n"
     ]
    },
    {
     "data": {
      "text/plain": [
       "Age        13.0\n",
       "Height    126.5\n",
       "dtype: float64"
      ]
     },
     "execution_count": 17,
     "metadata": {},
     "output_type": "execute_result"
    }
   ],
   "source": [
    "df1.median()"
   ]
  },
  {
   "cell_type": "code",
   "execution_count": 18,
   "id": "22a799e9",
   "metadata": {},
   "outputs": [
    {
     "name": "stderr",
     "output_type": "stream",
     "text": [
      "C:\\Users\\md kaif\\AppData\\Local\\Temp\\ipykernel_9624\\2053335143.py:1: FutureWarning: Dropping of nuisance columns in DataFrame reductions (with 'numeric_only=None') is deprecated; in a future version this will raise TypeError.  Select only valid columns before calling the reduction.\n",
      "  df1.mean()\n"
     ]
    },
    {
     "data": {
      "text/plain": [
       "Age        15.750000\n",
       "Height    128.333333\n",
       "dtype: float64"
      ]
     },
     "execution_count": 18,
     "metadata": {},
     "output_type": "execute_result"
    }
   ],
   "source": [
    "df1.mean()"
   ]
  },
  {
   "cell_type": "code",
   "execution_count": 19,
   "id": "1514f089",
   "metadata": {},
   "outputs": [
    {
     "data": {
      "text/html": [
       "<div>\n",
       "<style scoped>\n",
       "    .dataframe tbody tr th:only-of-type {\n",
       "        vertical-align: middle;\n",
       "    }\n",
       "\n",
       "    .dataframe tbody tr th {\n",
       "        vertical-align: top;\n",
       "    }\n",
       "\n",
       "    .dataframe thead th {\n",
       "        text-align: right;\n",
       "    }\n",
       "</style>\n",
       "<table border=\"1\" class=\"dataframe\">\n",
       "  <thead>\n",
       "    <tr style=\"text-align: right;\">\n",
       "      <th></th>\n",
       "      <th>Age</th>\n",
       "      <th>Height</th>\n",
       "      <th>Gender</th>\n",
       "    </tr>\n",
       "  </thead>\n",
       "  <tbody>\n",
       "    <tr>\n",
       "      <th>0</th>\n",
       "      <td>12.0</td>\n",
       "      <td>130.0</td>\n",
       "      <td>m</td>\n",
       "    </tr>\n",
       "    <tr>\n",
       "      <th>1</th>\n",
       "      <td>NaN</td>\n",
       "      <td>NaN</td>\n",
       "      <td>f</td>\n",
       "    </tr>\n",
       "    <tr>\n",
       "      <th>2</th>\n",
       "      <td>14.0</td>\n",
       "      <td>133.0</td>\n",
       "      <td>NaN</td>\n",
       "    </tr>\n",
       "    <tr>\n",
       "      <th>3</th>\n",
       "      <td>NaN</td>\n",
       "      <td>143.0</td>\n",
       "      <td>m</td>\n",
       "    </tr>\n",
       "    <tr>\n",
       "      <th>4</th>\n",
       "      <td>26.0</td>\n",
       "      <td>123.0</td>\n",
       "      <td>NaN</td>\n",
       "    </tr>\n",
       "    <tr>\n",
       "      <th>5</th>\n",
       "      <td>12.0</td>\n",
       "      <td>NaN</td>\n",
       "      <td>f</td>\n",
       "    </tr>\n",
       "    <tr>\n",
       "      <th>6</th>\n",
       "      <td>13.0</td>\n",
       "      <td>NaN</td>\n",
       "      <td>m</td>\n",
       "    </tr>\n",
       "    <tr>\n",
       "      <th>7</th>\n",
       "      <td>24.0</td>\n",
       "      <td>NaN</td>\n",
       "      <td>NaN</td>\n",
       "    </tr>\n",
       "    <tr>\n",
       "      <th>8</th>\n",
       "      <td>12.0</td>\n",
       "      <td>120.0</td>\n",
       "      <td>NaN</td>\n",
       "    </tr>\n",
       "    <tr>\n",
       "      <th>9</th>\n",
       "      <td>13.0</td>\n",
       "      <td>121.0</td>\n",
       "      <td>m</td>\n",
       "    </tr>\n",
       "    <tr>\n",
       "      <th>10</th>\n",
       "      <td>200.0</td>\n",
       "      <td>122.0</td>\n",
       "      <td>m</td>\n",
       "    </tr>\n",
       "    <tr>\n",
       "      <th>11</th>\n",
       "      <td>400.0</td>\n",
       "      <td>123.0</td>\n",
       "      <td>m</td>\n",
       "    </tr>\n",
       "  </tbody>\n",
       "</table>\n",
       "</div>"
      ],
      "text/plain": [
       "      Age  Height Gender\n",
       "0    12.0   130.0      m\n",
       "1     NaN     NaN      f\n",
       "2    14.0   133.0    NaN\n",
       "3     NaN   143.0      m\n",
       "4    26.0   123.0    NaN\n",
       "5    12.0     NaN      f\n",
       "6    13.0     NaN      m\n",
       "7    24.0     NaN    NaN\n",
       "8    12.0   120.0    NaN\n",
       "9    13.0   121.0      m\n",
       "10  200.0   122.0      m\n",
       "11  400.0   123.0      m"
      ]
     },
     "execution_count": 19,
     "metadata": {},
     "output_type": "execute_result"
    }
   ],
   "source": [
    "df1 = pd.DataFrame({\"Age\":[12,np.nan,14,np.nan,26,12,13,24,12,13,200,400],\"Height\":[130,np.nan,133,143,123,np.nan,np.nan,np.nan,120,121,122,123],\"Gender\":[\"m\",\"f\",np.nan,\"m\",np.nan,\"f\",\"m\",np.nan,np.nan,\"m\",\"m\",\"m\"]})\n",
    "df1\n"
   ]
  },
  {
   "cell_type": "code",
   "execution_count": 21,
   "id": "3bb72523",
   "metadata": {},
   "outputs": [
    {
     "name": "stderr",
     "output_type": "stream",
     "text": [
      "C:\\Users\\md kaif\\anaconda3\\lib\\site-packages\\seaborn\\_decorators.py:36: FutureWarning: Pass the following variable as a keyword arg: x. From version 0.12, the only valid positional argument will be `data`, and passing other arguments without an explicit keyword will result in an error or misinterpretation.\n",
      "  warnings.warn(\n"
     ]
    },
    {
     "data": {
      "text/plain": [
       "<AxesSubplot:xlabel='Age'>"
      ]
     },
     "execution_count": 21,
     "metadata": {},
     "output_type": "execute_result"
    },
    {
     "data": {
      "image/png": "[encoded data removed]",
      "text/plain": [
       "<Figure size 432x288 with 1 Axes>"
      ]
     },
     "metadata": {
      "needs_background": "light"
     },
     "output_type": "display_data"
    }
   ],
   "source": [
    "sns.boxplot(df1[\"Age\"])"
   ]
  },
  {
   "cell_type": "code",
   "execution_count": 7,
   "id": "e8f2abf3",
   "metadata": {},
   "outputs": [
    {
     "name": "stderr",
     "output_type": "stream",
     "text": [
      "C:\\Users\\md kaif\\AppData\\Local\\Temp\\ipykernel_9796\\2053335143.py:1: FutureWarning: Dropping of nuisance columns in DataFrame reductions (with 'numeric_only=None') is deprecated; in a future version this will raise TypeError.  Select only valid columns before calling the reduction.\n",
      "  df1.mean()\n"
     ]
    },
    {
     "data": {
      "text/plain": [
       "Age        15.750000\n",
       "Height    128.333333\n",
       "dtype: float64"
      ]
     },
     "execution_count": 7,
     "metadata": {},
     "output_type": "execute_result"
    }
   ],
   "source": [
    "df1.mean()"
   ]
  },
  {
   "cell_type": "markdown",
   "id": "daab8680",
   "metadata": {},
   "source": [
    "## How To Fill Missing Missing Values"
   ]
  },
  {
   "cell_type": "code",
   "execution_count": 24,
   "id": "7bbe8b17",
   "metadata": {},
   "outputs": [],
   "source": [
    "df1[\"Age\"].fillna(df1[\"Age\"].median(),inplace=True)"
   ]
  },
  {
   "cell_type": "code",
   "execution_count": 25,
   "id": "f694e72c",
   "metadata": {},
   "outputs": [
    {
     "data": {
      "text/plain": [
       "0"
      ]
     },
     "execution_count": 25,
     "metadata": {},
     "output_type": "execute_result"
    }
   ],
   "source": [
    "df1[\"Age\"].isnull().sum()"
   ]
  },
  {
   "cell_type": "code",
   "execution_count": 26,
   "id": "312e445d",
   "metadata": {},
   "outputs": [
    {
     "data": {
      "text/html": [
       "<div>\n",
       "<style scoped>\n",
       "    .dataframe tbody tr th:only-of-type {\n",
       "        vertical-align: middle;\n",
       "    }\n",
       "\n",
       "    .dataframe tbody tr th {\n",
       "        vertical-align: top;\n",
       "    }\n",
       "\n",
       "    .dataframe thead th {\n",
       "        text-align: right;\n",
       "    }\n",
       "</style>\n",
       "<table border=\"1\" class=\"dataframe\">\n",
       "  <thead>\n",
       "    <tr style=\"text-align: right;\">\n",
       "      <th></th>\n",
       "      <th>Age</th>\n",
       "      <th>Height</th>\n",
       "      <th>Gender</th>\n",
       "    </tr>\n",
       "  </thead>\n",
       "  <tbody>\n",
       "    <tr>\n",
       "      <th>0</th>\n",
       "      <td>12.0</td>\n",
       "      <td>130.0</td>\n",
       "      <td>m</td>\n",
       "    </tr>\n",
       "    <tr>\n",
       "      <th>1</th>\n",
       "      <td>13.5</td>\n",
       "      <td>NaN</td>\n",
       "      <td>f</td>\n",
       "    </tr>\n",
       "    <tr>\n",
       "      <th>2</th>\n",
       "      <td>14.0</td>\n",
       "      <td>133.0</td>\n",
       "      <td>NaN</td>\n",
       "    </tr>\n",
       "    <tr>\n",
       "      <th>3</th>\n",
       "      <td>13.5</td>\n",
       "      <td>143.0</td>\n",
       "      <td>m</td>\n",
       "    </tr>\n",
       "    <tr>\n",
       "      <th>4</th>\n",
       "      <td>26.0</td>\n",
       "      <td>123.0</td>\n",
       "      <td>NaN</td>\n",
       "    </tr>\n",
       "    <tr>\n",
       "      <th>5</th>\n",
       "      <td>12.0</td>\n",
       "      <td>NaN</td>\n",
       "      <td>f</td>\n",
       "    </tr>\n",
       "    <tr>\n",
       "      <th>6</th>\n",
       "      <td>13.0</td>\n",
       "      <td>NaN</td>\n",
       "      <td>m</td>\n",
       "    </tr>\n",
       "    <tr>\n",
       "      <th>7</th>\n",
       "      <td>24.0</td>\n",
       "      <td>NaN</td>\n",
       "      <td>NaN</td>\n",
       "    </tr>\n",
       "    <tr>\n",
       "      <th>8</th>\n",
       "      <td>12.0</td>\n",
       "      <td>120.0</td>\n",
       "      <td>NaN</td>\n",
       "    </tr>\n",
       "    <tr>\n",
       "      <th>9</th>\n",
       "      <td>13.0</td>\n",
       "      <td>121.0</td>\n",
       "      <td>m</td>\n",
       "    </tr>\n",
       "    <tr>\n",
       "      <th>10</th>\n",
       "      <td>200.0</td>\n",
       "      <td>122.0</td>\n",
       "      <td>m</td>\n",
       "    </tr>\n",
       "    <tr>\n",
       "      <th>11</th>\n",
       "      <td>400.0</td>\n",
       "      <td>123.0</td>\n",
       "      <td>m</td>\n",
       "    </tr>\n",
       "  </tbody>\n",
       "</table>\n",
       "</div>"
      ],
      "text/plain": [
       "      Age  Height Gender\n",
       "0    12.0   130.0      m\n",
       "1    13.5     NaN      f\n",
       "2    14.0   133.0    NaN\n",
       "3    13.5   143.0      m\n",
       "4    26.0   123.0    NaN\n",
       "5    12.0     NaN      f\n",
       "6    13.0     NaN      m\n",
       "7    24.0     NaN    NaN\n",
       "8    12.0   120.0    NaN\n",
       "9    13.0   121.0      m\n",
       "10  200.0   122.0      m\n",
       "11  400.0   123.0      m"
      ]
     },
     "execution_count": 26,
     "metadata": {},
     "output_type": "execute_result"
    }
   ],
   "source": [
    "df1"
   ]
  },
  {
   "cell_type": "code",
   "execution_count": 27,
   "id": "d0d86f77",
   "metadata": {},
   "outputs": [],
   "source": [
    "df1[\"Height\"].fillna(df1[\"Height\"].mean(),inplace=True)"
   ]
  },
  {
   "cell_type": "code",
   "execution_count": 28,
   "id": "8bc04029",
   "metadata": {},
   "outputs": [
    {
     "data": {
      "text/html": [
       "<div>\n",
       "<style scoped>\n",
       "    .dataframe tbody tr th:only-of-type {\n",
       "        vertical-align: middle;\n",
       "    }\n",
       "\n",
       "    .dataframe tbody tr th {\n",
       "        vertical-align: top;\n",
       "    }\n",
       "\n",
       "    .dataframe thead th {\n",
       "        text-align: right;\n",
       "    }\n",
       "</style>\n",
       "<table border=\"1\" class=\"dataframe\">\n",
       "  <thead>\n",
       "    <tr style=\"text-align: right;\">\n",
       "      <th></th>\n",
       "      <th>Age</th>\n",
       "      <th>Height</th>\n",
       "      <th>Gender</th>\n",
       "    </tr>\n",
       "  </thead>\n",
       "  <tbody>\n",
       "    <tr>\n",
       "      <th>0</th>\n",
       "      <td>12.0</td>\n",
       "      <td>130.000</td>\n",
       "      <td>m</td>\n",
       "    </tr>\n",
       "    <tr>\n",
       "      <th>1</th>\n",
       "      <td>13.5</td>\n",
       "      <td>126.875</td>\n",
       "      <td>f</td>\n",
       "    </tr>\n",
       "    <tr>\n",
       "      <th>2</th>\n",
       "      <td>14.0</td>\n",
       "      <td>133.000</td>\n",
       "      <td>NaN</td>\n",
       "    </tr>\n",
       "    <tr>\n",
       "      <th>3</th>\n",
       "      <td>13.5</td>\n",
       "      <td>143.000</td>\n",
       "      <td>m</td>\n",
       "    </tr>\n",
       "    <tr>\n",
       "      <th>4</th>\n",
       "      <td>26.0</td>\n",
       "      <td>123.000</td>\n",
       "      <td>NaN</td>\n",
       "    </tr>\n",
       "    <tr>\n",
       "      <th>5</th>\n",
       "      <td>12.0</td>\n",
       "      <td>126.875</td>\n",
       "      <td>f</td>\n",
       "    </tr>\n",
       "    <tr>\n",
       "      <th>6</th>\n",
       "      <td>13.0</td>\n",
       "      <td>126.875</td>\n",
       "      <td>m</td>\n",
       "    </tr>\n",
       "    <tr>\n",
       "      <th>7</th>\n",
       "      <td>24.0</td>\n",
       "      <td>126.875</td>\n",
       "      <td>NaN</td>\n",
       "    </tr>\n",
       "    <tr>\n",
       "      <th>8</th>\n",
       "      <td>12.0</td>\n",
       "      <td>120.000</td>\n",
       "      <td>NaN</td>\n",
       "    </tr>\n",
       "    <tr>\n",
       "      <th>9</th>\n",
       "      <td>13.0</td>\n",
       "      <td>121.000</td>\n",
       "      <td>m</td>\n",
       "    </tr>\n",
       "    <tr>\n",
       "      <th>10</th>\n",
       "      <td>200.0</td>\n",
       "      <td>122.000</td>\n",
       "      <td>m</td>\n",
       "    </tr>\n",
       "    <tr>\n",
       "      <th>11</th>\n",
       "      <td>400.0</td>\n",
       "      <td>123.000</td>\n",
       "      <td>m</td>\n",
       "    </tr>\n",
       "  </tbody>\n",
       "</table>\n",
       "</div>"
      ],
      "text/plain": [
       "      Age   Height Gender\n",
       "0    12.0  130.000      m\n",
       "1    13.5  126.875      f\n",
       "2    14.0  133.000    NaN\n",
       "3    13.5  143.000      m\n",
       "4    26.0  123.000    NaN\n",
       "5    12.0  126.875      f\n",
       "6    13.0  126.875      m\n",
       "7    24.0  126.875    NaN\n",
       "8    12.0  120.000    NaN\n",
       "9    13.0  121.000      m\n",
       "10  200.0  122.000      m\n",
       "11  400.0  123.000      m"
      ]
     },
     "execution_count": 28,
     "metadata": {},
     "output_type": "execute_result"
    }
   ],
   "source": [
    "df1"
   ]
  },
  {
   "cell_type": "code",
   "execution_count": 29,
   "id": "6c5fae4d",
   "metadata": {},
   "outputs": [],
   "source": [
    "df1[\"Gender\"].fillna(df1[\"Gender\"].mode()[0],inplace=True)"
   ]
  },
  {
   "cell_type": "code",
   "execution_count": 30,
   "id": "ee7f5417",
   "metadata": {},
   "outputs": [
    {
     "data": {
      "text/html": [
       "<div>\n",
       "<style scoped>\n",
       "    .dataframe tbody tr th:only-of-type {\n",
       "        vertical-align: middle;\n",
       "    }\n",
       "\n",
       "    .dataframe tbody tr th {\n",
       "        vertical-align: top;\n",
       "    }\n",
       "\n",
       "    .dataframe thead th {\n",
       "        text-align: right;\n",
       "    }\n",
       "</style>\n",
       "<table border=\"1\" class=\"dataframe\">\n",
       "  <thead>\n",
       "    <tr style=\"text-align: right;\">\n",
       "      <th></th>\n",
       "      <th>Age</th>\n",
       "      <th>Height</th>\n",
       "      <th>Gender</th>\n",
       "    </tr>\n",
       "  </thead>\n",
       "  <tbody>\n",
       "    <tr>\n",
       "      <th>0</th>\n",
       "      <td>12.0</td>\n",
       "      <td>130.000</td>\n",
       "      <td>m</td>\n",
       "    </tr>\n",
       "    <tr>\n",
       "      <th>1</th>\n",
       "      <td>13.5</td>\n",
       "      <td>126.875</td>\n",
       "      <td>f</td>\n",
       "    </tr>\n",
       "    <tr>\n",
       "      <th>2</th>\n",
       "      <td>14.0</td>\n",
       "      <td>133.000</td>\n",
       "      <td>m</td>\n",
       "    </tr>\n",
       "    <tr>\n",
       "      <th>3</th>\n",
       "      <td>13.5</td>\n",
       "      <td>143.000</td>\n",
       "      <td>m</td>\n",
       "    </tr>\n",
       "    <tr>\n",
       "      <th>4</th>\n",
       "      <td>26.0</td>\n",
       "      <td>123.000</td>\n",
       "      <td>m</td>\n",
       "    </tr>\n",
       "    <tr>\n",
       "      <th>5</th>\n",
       "      <td>12.0</td>\n",
       "      <td>126.875</td>\n",
       "      <td>f</td>\n",
       "    </tr>\n",
       "    <tr>\n",
       "      <th>6</th>\n",
       "      <td>13.0</td>\n",
       "      <td>126.875</td>\n",
       "      <td>m</td>\n",
       "    </tr>\n",
       "    <tr>\n",
       "      <th>7</th>\n",
       "      <td>24.0</td>\n",
       "      <td>126.875</td>\n",
       "      <td>m</td>\n",
       "    </tr>\n",
       "    <tr>\n",
       "      <th>8</th>\n",
       "      <td>12.0</td>\n",
       "      <td>120.000</td>\n",
       "      <td>m</td>\n",
       "    </tr>\n",
       "    <tr>\n",
       "      <th>9</th>\n",
       "      <td>13.0</td>\n",
       "      <td>121.000</td>\n",
       "      <td>m</td>\n",
       "    </tr>\n",
       "    <tr>\n",
       "      <th>10</th>\n",
       "      <td>200.0</td>\n",
       "      <td>122.000</td>\n",
       "      <td>m</td>\n",
       "    </tr>\n",
       "    <tr>\n",
       "      <th>11</th>\n",
       "      <td>400.0</td>\n",
       "      <td>123.000</td>\n",
       "      <td>m</td>\n",
       "    </tr>\n",
       "  </tbody>\n",
       "</table>\n",
       "</div>"
      ],
      "text/plain": [
       "      Age   Height Gender\n",
       "0    12.0  130.000      m\n",
       "1    13.5  126.875      f\n",
       "2    14.0  133.000      m\n",
       "3    13.5  143.000      m\n",
       "4    26.0  123.000      m\n",
       "5    12.0  126.875      f\n",
       "6    13.0  126.875      m\n",
       "7    24.0  126.875      m\n",
       "8    12.0  120.000      m\n",
       "9    13.0  121.000      m\n",
       "10  200.0  122.000      m\n",
       "11  400.0  123.000      m"
      ]
     },
     "execution_count": 30,
     "metadata": {},
     "output_type": "execute_result"
    }
   ],
   "source": [
    "df1"
   ]
  },
  {
   "cell_type": "code",
   "execution_count": 31,
   "id": "f8fe2bd6",
   "metadata": {},
   "outputs": [
    {
     "data": {
      "text/plain": [
       "Age       0\n",
       "Height    0\n",
       "Gender    0\n",
       "dtype: int64"
      ]
     },
     "execution_count": 31,
     "metadata": {},
     "output_type": "execute_result"
    }
   ],
   "source": [
    "df1.isnull().sum()"
   ]
  },
  {
   "cell_type": "code",
   "execution_count": 2,
   "id": "7e2eae49",
   "metadata": {},
   "outputs": [],
   "source": [
    "df=pd.read_csv(\"C://Users//md kaif//Downloads//upcoming-event.csv\")"
   ]
  },
  {
   "cell_type": "code",
   "execution_count": 62,
   "id": "9661d400",
   "metadata": {
    "scrolled": true
   },
   "outputs": [
    {
     "data": {
      "text/html": [
       "<div>\n",
       "<style scoped>\n",
       "    .dataframe tbody tr th:only-of-type {\n",
       "        vertical-align: middle;\n",
       "    }\n",
       "\n",
       "    .dataframe tbody tr th {\n",
       "        vertical-align: top;\n",
       "    }\n",
       "\n",
       "    .dataframe thead th {\n",
       "        text-align: right;\n",
       "    }\n",
       "</style>\n",
       "<table border=\"1\" class=\"dataframe\">\n",
       "  <thead>\n",
       "    <tr style=\"text-align: right;\">\n",
       "      <th></th>\n",
       "    </tr>\n",
       "  </thead>\n",
       "  <tbody>\n",
       "    <tr>\n",
       "      <th>0</th>\n",
       "    </tr>\n",
       "    <tr>\n",
       "      <th>1</th>\n",
       "    </tr>\n",
       "    <tr>\n",
       "      <th>2</th>\n",
       "    </tr>\n",
       "    <tr>\n",
       "      <th>3</th>\n",
       "    </tr>\n",
       "    <tr>\n",
       "      <th>4</th>\n",
       "    </tr>\n",
       "    <tr>\n",
       "      <th>5</th>\n",
       "    </tr>\n",
       "    <tr>\n",
       "      <th>6</th>\n",
       "    </tr>\n",
       "    <tr>\n",
       "      <th>7</th>\n",
       "    </tr>\n",
       "    <tr>\n",
       "      <th>8</th>\n",
       "    </tr>\n",
       "  </tbody>\n",
       "</table>\n",
       "</div>"
      ],
      "text/plain": [
       "Empty DataFrame\n",
       "Columns: []\n",
       "Index: [0, 1, 2, 3, 4, 5, 6, 7, 8]"
      ]
     },
     "execution_count": 62,
     "metadata": {},
     "output_type": "execute_result"
    }
   ],
   "source": [
    "df.iloc[:,101:119]"
   ]
  },
  {
   "cell_type": "code",
   "execution_count": 65,
   "id": "c13d394c",
   "metadata": {},
   "outputs": [
    {
     "name": "stdout",
     "output_type": "stream",
     "text": [
      "<class 'pandas.core.frame.DataFrame'>\n",
      "RangeIndex: 9 entries, 0 to 8\n",
      "Data columns (total 87 columns):\n",
      " #   Column                        Non-Null Count  Dtype  \n",
      "---  ------                        --------------  -----  \n",
      " 0   R_fighter                     9 non-null      object \n",
      " 1   B_fighter                     9 non-null      object \n",
      " 2   R_odds                        9 non-null      int64  \n",
      " 3   B_odds                        9 non-null      int64  \n",
      " 4   R_ev                          9 non-null      float64\n",
      " 5   B_ev                          9 non-null      float64\n",
      " 6   date                          9 non-null      object \n",
      " 7   location                      9 non-null      object \n",
      " 8   country                       9 non-null      object \n",
      " 9   title_bout                    9 non-null      bool   \n",
      " 10  weight_class                  9 non-null      object \n",
      " 11  gender                        9 non-null      object \n",
      " 12  no_of_rounds                  9 non-null      int64  \n",
      " 13  B_current_lose_streak         9 non-null      int64  \n",
      " 14  B_current_win_streak          9 non-null      int64  \n",
      " 15  B_draw                        9 non-null      int64  \n",
      " 16  B_avg_SIG_STR_landed          9 non-null      float64\n",
      " 17  B_avg_SIG_STR_pct             9 non-null      float64\n",
      " 18  B_avg_SUB_ATT                 9 non-null      float64\n",
      " 19  B_avg_TD_landed               9 non-null      float64\n",
      " 20  B_avg_TD_pct                  9 non-null      float64\n",
      " 21  B_longest_win_streak          9 non-null      int64  \n",
      " 22  B_losses                      9 non-null      int64  \n",
      " 23  B_total_rounds_fought         9 non-null      int64  \n",
      " 24  B_total_title_bouts           9 non-null      int64  \n",
      " 25  B_win_by_Decision_Majority    9 non-null      int64  \n",
      " 26  B_win_by_Decision_Split       9 non-null      int64  \n",
      " 27  B_win_by_Decision_Unanimous   9 non-null      int64  \n",
      " 28  B_win_by_KO/TKO               9 non-null      int64  \n",
      " 29  B_win_by_Submission           9 non-null      int64  \n",
      " 30  B_win_by_TKO_Doctor_Stoppage  9 non-null      int64  \n",
      " 31  B_wins                        9 non-null      int64  \n",
      " 32  B_Stance                      9 non-null      object \n",
      " 33  B_Height_cms                  9 non-null      float64\n",
      " 34  B_Reach_cms                   9 non-null      float64\n",
      " 35  B_Weight_lbs                  9 non-null      int64  \n",
      " 36  R_current_lose_streak         9 non-null      int64  \n",
      " 37  R_current_win_streak          9 non-null      int64  \n",
      " 38  R_draw                        9 non-null      int64  \n",
      " 39  R_avg_SIG_STR_landed          9 non-null      float64\n",
      " 40  R_avg_SIG_STR_pct             9 non-null      float64\n",
      " 41  R_avg_SUB_ATT                 9 non-null      float64\n",
      " 42  R_avg_TD_landed               9 non-null      float64\n",
      " 43  R_avg_TD_pct                  9 non-null      float64\n",
      " 44  R_longest_win_streak          9 non-null      int64  \n",
      " 45  R_losses                      9 non-null      int64  \n",
      " 46  R_total_rounds_fought         9 non-null      int64  \n",
      " 47  R_total_title_bouts           9 non-null      int64  \n",
      " 48  R_win_by_Decision_Majority    9 non-null      int64  \n",
      " 49  R_win_by_Decision_Split       9 non-null      int64  \n",
      " 50  R_win_by_Decision_Unanimous   9 non-null      int64  \n",
      " 51  R_win_by_KO/TKO               9 non-null      int64  \n",
      " 52  R_win_by_Submission           9 non-null      int64  \n",
      " 53  R_win_by_TKO_Doctor_Stoppage  9 non-null      int64  \n",
      " 54  R_wins                        9 non-null      int64  \n",
      " 55  R_Stance                      9 non-null      object \n",
      " 56  R_Height_cms                  9 non-null      float64\n",
      " 57  R_Reach_cms                   9 non-null      float64\n",
      " 58  R_Weight_lbs                  9 non-null      int64  \n",
      " 59  R_age                         9 non-null      int64  \n",
      " 60  B_age                         9 non-null      int64  \n",
      " 61  lose_streak_dif               9 non-null      int64  \n",
      " 62  win_streak_dif                9 non-null      int64  \n",
      " 63  longest_win_streak_dif        9 non-null      int64  \n",
      " 64  win_dif                       9 non-null      int64  \n",
      " 65  loss_dif                      9 non-null      int64  \n",
      " 66  total_round_dif               9 non-null      int64  \n",
      " 67  total_title_bout_dif          9 non-null      int64  \n",
      " 68  ko_dif                        9 non-null      int64  \n",
      " 69  sub_dif                       9 non-null      int64  \n",
      " 70  height_dif                    9 non-null      float64\n",
      " 71  reach_dif                     9 non-null      float64\n",
      " 72  age_dif                       9 non-null      int64  \n",
      " 73  sig_str_dif                   9 non-null      float64\n",
      " 74  avg_sub_att_dif               9 non-null      float64\n",
      " 75  avg_td_dif                    9 non-null      float64\n",
      " 76  empty_arena                   9 non-null      int64  \n",
      " 77  constant_1                    9 non-null      int64  \n",
      " 78  B_match_weightclass_rank      9 non-null      float64\n",
      " 79  R_match_weightclass_rank      9 non-null      float64\n",
      " 80  better_rank                   9 non-null      object \n",
      " 81  r_dec_odds                    9 non-null      int64  \n",
      " 82  b_dec_odds                    9 non-null      float64\n",
      " 83  r_sub_odds                    9 non-null      int64  \n",
      " 84  b_sub_odds                    9 non-null      float64\n",
      " 85  r_ko_odds                     9 non-null      int64  \n",
      " 86  b_ko_odds                     9 non-null      float64\n",
      "dtypes: bool(1), float64(26), int64(50), object(10)\n",
      "memory usage: 6.2+ KB\n"
     ]
    }
   ],
   "source": [
    "df.info()"
   ]
  },
  {
   "cell_type": "code",
   "execution_count": 66,
   "id": "25518026",
   "metadata": {},
   "outputs": [
    {
     "data": {
      "text/html": [
       "<div>\n",
       "<style scoped>\n",
       "    .dataframe tbody tr th:only-of-type {\n",
       "        vertical-align: middle;\n",
       "    }\n",
       "\n",
       "    .dataframe tbody tr th {\n",
       "        vertical-align: top;\n",
       "    }\n",
       "\n",
       "    .dataframe thead th {\n",
       "        text-align: right;\n",
       "    }\n",
       "</style>\n",
       "<table border=\"1\" class=\"dataframe\">\n",
       "  <thead>\n",
       "    <tr style=\"text-align: right;\">\n",
       "      <th></th>\n",
       "      <th>R_fighter</th>\n",
       "      <th>B_fighter</th>\n",
       "      <th>R_odds</th>\n",
       "      <th>B_odds</th>\n",
       "      <th>R_ev</th>\n",
       "      <th>B_ev</th>\n",
       "      <th>date</th>\n",
       "      <th>location</th>\n",
       "      <th>country</th>\n",
       "      <th>title_bout</th>\n",
       "      <th>...</th>\n",
       "      <th>constant_1</th>\n",
       "      <th>B_match_weightclass_rank</th>\n",
       "      <th>R_match_weightclass_rank</th>\n",
       "      <th>better_rank</th>\n",
       "      <th>r_dec_odds</th>\n",
       "      <th>b_dec_odds</th>\n",
       "      <th>r_sub_odds</th>\n",
       "      <th>b_sub_odds</th>\n",
       "      <th>r_ko_odds</th>\n",
       "      <th>b_ko_odds</th>\n",
       "    </tr>\n",
       "  </thead>\n",
       "  <tbody>\n",
       "    <tr>\n",
       "      <th>0</th>\n",
       "      <td>Mackenzie Dern</td>\n",
       "      <td>Marina Rodriguez</td>\n",
       "      <td>-195</td>\n",
       "      <td>165</td>\n",
       "      <td>51.282051</td>\n",
       "      <td>165.000000</td>\n",
       "      <td>2021-10-09</td>\n",
       "      <td>Las Vegas, Nevada, USA</td>\n",
       "      <td>USA</td>\n",
       "      <td>False</td>\n",
       "      <td>...</td>\n",
       "      <td>1</td>\n",
       "      <td>6.0</td>\n",
       "      <td>4.0</td>\n",
       "      <td>Red</td>\n",
       "      <td>500</td>\n",
       "      <td>400.0</td>\n",
       "      <td>100</td>\n",
       "      <td>2800.0</td>\n",
       "      <td>900</td>\n",
       "      <td>380.0</td>\n",
       "    </tr>\n",
       "    <tr>\n",
       "      <th>1</th>\n",
       "      <td>Randy Brown</td>\n",
       "      <td>Jared Gooden</td>\n",
       "      <td>-265</td>\n",
       "      <td>215</td>\n",
       "      <td>37.735849</td>\n",
       "      <td>215.000000</td>\n",
       "      <td>2021-10-09</td>\n",
       "      <td>Las Vegas, Nevada, USA</td>\n",
       "      <td>USA</td>\n",
       "      <td>False</td>\n",
       "      <td>...</td>\n",
       "      <td>1</td>\n",
       "      <td>8.5</td>\n",
       "      <td>6.5</td>\n",
       "      <td>neither</td>\n",
       "      <td>200</td>\n",
       "      <td>550.0</td>\n",
       "      <td>400</td>\n",
       "      <td>1600.0</td>\n",
       "      <td>215</td>\n",
       "      <td>500.0</td>\n",
       "    </tr>\n",
       "    <tr>\n",
       "      <th>2</th>\n",
       "      <td>Tim Elliott</td>\n",
       "      <td>Matheus Nicolau</td>\n",
       "      <td>155</td>\n",
       "      <td>-180</td>\n",
       "      <td>155.000000</td>\n",
       "      <td>55.555556</td>\n",
       "      <td>2021-10-09</td>\n",
       "      <td>Las Vegas, Nevada, USA</td>\n",
       "      <td>USA</td>\n",
       "      <td>False</td>\n",
       "      <td>...</td>\n",
       "      <td>1</td>\n",
       "      <td>11.0</td>\n",
       "      <td>9.0</td>\n",
       "      <td>Red</td>\n",
       "      <td>240</td>\n",
       "      <td>120.0</td>\n",
       "      <td>800</td>\n",
       "      <td>450.0</td>\n",
       "      <td>1600</td>\n",
       "      <td>650.0</td>\n",
       "    </tr>\n",
       "    <tr>\n",
       "      <th>3</th>\n",
       "      <td>Sabina Mazo</td>\n",
       "      <td>Mariya Agapova</td>\n",
       "      <td>-190</td>\n",
       "      <td>160</td>\n",
       "      <td>52.631579</td>\n",
       "      <td>160.000000</td>\n",
       "      <td>2021-10-09</td>\n",
       "      <td>Las Vegas, Nevada, USA</td>\n",
       "      <td>USA</td>\n",
       "      <td>False</td>\n",
       "      <td>...</td>\n",
       "      <td>1</td>\n",
       "      <td>8.5</td>\n",
       "      <td>6.5</td>\n",
       "      <td>neither</td>\n",
       "      <td>130</td>\n",
       "      <td>350.0</td>\n",
       "      <td>800</td>\n",
       "      <td>800.0</td>\n",
       "      <td>350</td>\n",
       "      <td>750.0</td>\n",
       "    </tr>\n",
       "    <tr>\n",
       "      <th>4</th>\n",
       "      <td>Chris Gutierrez</td>\n",
       "      <td>Felipe Colares</td>\n",
       "      <td>-235</td>\n",
       "      <td>190</td>\n",
       "      <td>42.553191</td>\n",
       "      <td>190.000000</td>\n",
       "      <td>2021-10-09</td>\n",
       "      <td>Las Vegas, Nevada, USA</td>\n",
       "      <td>USA</td>\n",
       "      <td>False</td>\n",
       "      <td>...</td>\n",
       "      <td>1</td>\n",
       "      <td>8.5</td>\n",
       "      <td>6.5</td>\n",
       "      <td>neither</td>\n",
       "      <td>-110</td>\n",
       "      <td>400.0</td>\n",
       "      <td>1000</td>\n",
       "      <td>600.0</td>\n",
       "      <td>400</td>\n",
       "      <td>1200.0</td>\n",
       "    </tr>\n",
       "    <tr>\n",
       "      <th>5</th>\n",
       "      <td>Alexandr Romanov</td>\n",
       "      <td>Jared Vanderaa</td>\n",
       "      <td>-525</td>\n",
       "      <td>385</td>\n",
       "      <td>19.047619</td>\n",
       "      <td>385.000000</td>\n",
       "      <td>2021-10-09</td>\n",
       "      <td>Las Vegas, Nevada, USA</td>\n",
       "      <td>USA</td>\n",
       "      <td>False</td>\n",
       "      <td>...</td>\n",
       "      <td>1</td>\n",
       "      <td>8.5</td>\n",
       "      <td>6.5</td>\n",
       "      <td>neither</td>\n",
       "      <td>450</td>\n",
       "      <td>1100.0</td>\n",
       "      <td>140</td>\n",
       "      <td>2200.0</td>\n",
       "      <td>165</td>\n",
       "      <td>700.0</td>\n",
       "    </tr>\n",
       "    <tr>\n",
       "      <th>6</th>\n",
       "      <td>Charles Rosa</td>\n",
       "      <td>Damon Jackson</td>\n",
       "      <td>165</td>\n",
       "      <td>-195</td>\n",
       "      <td>165.000000</td>\n",
       "      <td>51.282051</td>\n",
       "      <td>2021-10-09</td>\n",
       "      <td>Las Vegas, Nevada, USA</td>\n",
       "      <td>USA</td>\n",
       "      <td>False</td>\n",
       "      <td>...</td>\n",
       "      <td>1</td>\n",
       "      <td>8.5</td>\n",
       "      <td>6.5</td>\n",
       "      <td>neither</td>\n",
       "      <td>300</td>\n",
       "      <td>140.0</td>\n",
       "      <td>650</td>\n",
       "      <td>350.0</td>\n",
       "      <td>1100</td>\n",
       "      <td>700.0</td>\n",
       "    </tr>\n",
       "    <tr>\n",
       "      <th>7</th>\n",
       "      <td>Loopy Godinez</td>\n",
       "      <td>Silvana Gomez Juarez</td>\n",
       "      <td>-335</td>\n",
       "      <td>260</td>\n",
       "      <td>29.850746</td>\n",
       "      <td>260.000000</td>\n",
       "      <td>2021-10-09</td>\n",
       "      <td>Las Vegas, Nevada, USA</td>\n",
       "      <td>USA</td>\n",
       "      <td>False</td>\n",
       "      <td>...</td>\n",
       "      <td>1</td>\n",
       "      <td>8.5</td>\n",
       "      <td>6.5</td>\n",
       "      <td>neither</td>\n",
       "      <td>-135</td>\n",
       "      <td>400.0</td>\n",
       "      <td>700</td>\n",
       "      <td>1100.0</td>\n",
       "      <td>400</td>\n",
       "      <td>675.0</td>\n",
       "    </tr>\n",
       "    <tr>\n",
       "      <th>8</th>\n",
       "      <td>Steve Garcia</td>\n",
       "      <td>Charlie Ontiveros</td>\n",
       "      <td>-335</td>\n",
       "      <td>260</td>\n",
       "      <td>29.850746</td>\n",
       "      <td>260.000000</td>\n",
       "      <td>2021-10-09</td>\n",
       "      <td>Las Vegas, Nevada, USA</td>\n",
       "      <td>USA</td>\n",
       "      <td>False</td>\n",
       "      <td>...</td>\n",
       "      <td>1</td>\n",
       "      <td>8.5</td>\n",
       "      <td>6.5</td>\n",
       "      <td>neither</td>\n",
       "      <td>400</td>\n",
       "      <td>650.0</td>\n",
       "      <td>800</td>\n",
       "      <td>1400.0</td>\n",
       "      <td>-135</td>\n",
       "      <td>650.0</td>\n",
       "    </tr>\n",
       "  </tbody>\n",
       "</table>\n",
       "<p>9 rows × 87 columns</p>\n",
       "</div>"
      ],
      "text/plain": [
       "          R_fighter             B_fighter  R_odds  B_odds        R_ev  \\\n",
       "0    Mackenzie Dern      Marina Rodriguez    -195     165   51.282051   \n",
       "1       Randy Brown          Jared Gooden    -265     215   37.735849   \n",
       "2       Tim Elliott       Matheus Nicolau     155    -180  155.000000   \n",
       "3       Sabina Mazo        Mariya Agapova    -190     160   52.631579   \n",
       "4   Chris Gutierrez        Felipe Colares    -235     190   42.553191   \n",
       "5  Alexandr Romanov        Jared Vanderaa    -525     385   19.047619   \n",
       "6      Charles Rosa         Damon Jackson     165    -195  165.000000   \n",
       "7     Loopy Godinez  Silvana Gomez Juarez    -335     260   29.850746   \n",
       "8      Steve Garcia     Charlie Ontiveros    -335     260   29.850746   \n",
       "\n",
       "         B_ev        date                location country  title_bout  ...  \\\n",
       "0  165.000000  2021-10-09  Las Vegas, Nevada, USA     USA       False  ...   \n",
       "1  215.000000  2021-10-09  Las Vegas, Nevada, USA     USA       False  ...   \n",
       "2   55.555556  2021-10-09  Las Vegas, Nevada, USA     USA       False  ...   \n",
       "3  160.000000  2021-10-09  Las Vegas, Nevada, USA     USA       False  ...   \n",
       "4  190.000000  2021-10-09  Las Vegas, Nevada, USA     USA       False  ...   \n",
       "5  385.000000  2021-10-09  Las Vegas, Nevada, USA     USA       False  ...   \n",
       "6   51.282051  2021-10-09  Las Vegas, Nevada, USA     USA       False  ...   \n",
       "7  260.000000  2021-10-09  Las Vegas, Nevada, USA     USA       False  ...   \n",
       "8  260.000000  2021-10-09  Las Vegas, Nevada, USA     USA       False  ...   \n",
       "\n",
       "  constant_1 B_match_weightclass_rank  R_match_weightclass_rank  better_rank  \\\n",
       "0          1                      6.0                       4.0          Red   \n",
       "1          1                      8.5                       6.5      neither   \n",
       "2          1                     11.0                       9.0          Red   \n",
       "3          1                      8.5                       6.5      neither   \n",
       "4          1                      8.5                       6.5      neither   \n",
       "5          1                      8.5                       6.5      neither   \n",
       "6          1                      8.5                       6.5      neither   \n",
       "7          1                      8.5                       6.5      neither   \n",
       "8          1                      8.5                       6.5      neither   \n",
       "\n",
       "   r_dec_odds  b_dec_odds  r_sub_odds  b_sub_odds  r_ko_odds  b_ko_odds  \n",
       "0         500       400.0         100      2800.0        900      380.0  \n",
       "1         200       550.0         400      1600.0        215      500.0  \n",
       "2         240       120.0         800       450.0       1600      650.0  \n",
       "3         130       350.0         800       800.0        350      750.0  \n",
       "4        -110       400.0        1000       600.0        400     1200.0  \n",
       "5         450      1100.0         140      2200.0        165      700.0  \n",
       "6         300       140.0         650       350.0       1100      700.0  \n",
       "7        -135       400.0         700      1100.0        400      675.0  \n",
       "8         400       650.0         800      1400.0       -135      650.0  \n",
       "\n",
       "[9 rows x 87 columns]"
      ]
     },
     "execution_count": 66,
     "metadata": {},
     "output_type": "execute_result"
    }
   ],
   "source": [
    "df"
   ]
  },
  {
   "cell_type": "code",
   "execution_count": 49,
   "id": "78ae86da",
   "metadata": {},
   "outputs": [],
   "source": [
    "df[\"R_match_weightclass_rank\"].fillna(df[\"R_match_weightclass_rank\"].median(),inplace=True)"
   ]
  },
  {
   "cell_type": "code",
   "execution_count": 45,
   "id": "851df0d6",
   "metadata": {},
   "outputs": [],
   "source": [
    "df.drop(columns=df[[\"R_Women's Strawweight_rank\",\"R_Women's Flyweight_rank\",\"R_Women's Featherweight_rank\"]],inplace=True)"
   ]
  },
  {
   "cell_type": "code",
   "execution_count": null,
   "id": "33ec6bc4",
   "metadata": {},
   "outputs": [],
   "source": [
    "df.iloc[:,2]"
   ]
  },
  {
   "cell_type": "code",
   "execution_count": 52,
   "id": "39a73d01",
   "metadata": {},
   "outputs": [
    {
     "data": {
      "text/plain": [
       "<bound method NDFrame.head of           R_fighter             B_fighter  R_odds  B_odds        R_ev  \\\n",
       "0    Mackenzie Dern      Marina Rodriguez    -195     165   51.282051   \n",
       "1       Randy Brown          Jared Gooden    -265     215   37.735849   \n",
       "2       Tim Elliott       Matheus Nicolau     155    -180  155.000000   \n",
       "3       Sabina Mazo        Mariya Agapova    -190     160   52.631579   \n",
       "4   Chris Gutierrez        Felipe Colares    -235     190   42.553191   \n",
       "5  Alexandr Romanov        Jared Vanderaa    -525     385   19.047619   \n",
       "6      Charles Rosa         Damon Jackson     165    -195  165.000000   \n",
       "7     Loopy Godinez  Silvana Gomez Juarez    -335     260   29.850746   \n",
       "8      Steve Garcia     Charlie Ontiveros    -335     260   29.850746   \n",
       "\n",
       "         B_ev        date                location country  title_bout  ...  \\\n",
       "0  165.000000  2021-10-09  Las Vegas, Nevada, USA     USA       False  ...   \n",
       "1  215.000000  2021-10-09  Las Vegas, Nevada, USA     USA       False  ...   \n",
       "2   55.555556  2021-10-09  Las Vegas, Nevada, USA     USA       False  ...   \n",
       "3  160.000000  2021-10-09  Las Vegas, Nevada, USA     USA       False  ...   \n",
       "4  190.000000  2021-10-09  Las Vegas, Nevada, USA     USA       False  ...   \n",
       "5  385.000000  2021-10-09  Las Vegas, Nevada, USA     USA       False  ...   \n",
       "6   51.282051  2021-10-09  Las Vegas, Nevada, USA     USA       False  ...   \n",
       "7  260.000000  2021-10-09  Las Vegas, Nevada, USA     USA       False  ...   \n",
       "8  260.000000  2021-10-09  Las Vegas, Nevada, USA     USA       False  ...   \n",
       "\n",
       "  constant_1 B_match_weightclass_rank  R_match_weightclass_rank  better_rank  \\\n",
       "0          1                      6.0                       4.0          Red   \n",
       "1          1                      8.5                       6.5      neither   \n",
       "2          1                     11.0                       9.0          Red   \n",
       "3          1                      8.5                       6.5      neither   \n",
       "4          1                      8.5                       6.5      neither   \n",
       "5          1                      8.5                       6.5      neither   \n",
       "6          1                      8.5                       6.5      neither   \n",
       "7          1                      8.5                       6.5      neither   \n",
       "8          1                      8.5                       6.5      neither   \n",
       "\n",
       "   r_dec_odds  b_dec_odds  r_sub_odds  b_sub_odds  r_ko_odds  b_ko_odds  \n",
       "0         500       400.0         100      2800.0        900      380.0  \n",
       "1         200       550.0         400      1600.0        215      500.0  \n",
       "2         240       120.0         800       450.0       1600      650.0  \n",
       "3         130       350.0         800       800.0        350      750.0  \n",
       "4        -110       400.0        1000       600.0        400     1200.0  \n",
       "5         450      1100.0         140      2200.0        165      700.0  \n",
       "6         300       140.0         650       350.0       1100      700.0  \n",
       "7        -135       400.0         700      1100.0        400      675.0  \n",
       "8         400       650.0         800      1400.0       -135      650.0  \n",
       "\n",
       "[9 rows x 87 columns]>"
      ]
     },
     "execution_count": 52,
     "metadata": {},
     "output_type": "execute_result"
    }
   ],
   "source": [
    "df.head"
   ]
  },
  {
   "cell_type": "code",
   "execution_count": 41,
   "id": "f7f01e5e",
   "metadata": {},
   "outputs": [
    {
     "data": {
      "text/plain": [
       "R_fighter      object\n",
       "B_fighter      object\n",
       "R_odds          int64\n",
       "B_odds          int64\n",
       "R_ev          float64\n",
       "               ...   \n",
       "b_dec_odds    float64\n",
       "r_sub_odds      int64\n",
       "b_sub_odds    float64\n",
       "r_ko_odds       int64\n",
       "b_ko_odds     float64\n",
       "Length: 119, dtype: object"
      ]
     },
     "execution_count": 41,
     "metadata": {},
     "output_type": "execute_result"
    }
   ],
   "source": [
    "df.dtypes"
   ]
  },
  {
   "cell_type": "code",
   "execution_count": 11,
   "id": "e0ba0725",
   "metadata": {},
   "outputs": [
    {
     "name": "stdout",
     "output_type": "stream",
     "text": [
      "<bound method NDFrame.head of           R_fighter             B_fighter  R_odds  B_odds        R_ev  \\\n",
      "0    Mackenzie Dern      Marina Rodriguez    -195     165   51.282051   \n",
      "1       Randy Brown          Jared Gooden    -265     215   37.735849   \n",
      "2       Tim Elliott       Matheus Nicolau     155    -180  155.000000   \n",
      "3       Sabina Mazo        Mariya Agapova    -190     160   52.631579   \n",
      "4   Chris Gutierrez        Felipe Colares    -235     190   42.553191   \n",
      "5  Alexandr Romanov        Jared Vanderaa    -525     385   19.047619   \n",
      "6      Charles Rosa         Damon Jackson     165    -195  165.000000   \n",
      "7     Loopy Godinez  Silvana Gomez Juarez    -335     260   29.850746   \n",
      "8      Steve Garcia     Charlie Ontiveros    -335     260   29.850746   \n",
      "\n",
      "         B_ev        date                location country  Winner  ...  \\\n",
      "0  165.000000  2021-10-09  Las Vegas, Nevada, USA     USA     NaN  ...   \n",
      "1  215.000000  2021-10-09  Las Vegas, Nevada, USA     USA     NaN  ...   \n",
      "2   55.555556  2021-10-09  Las Vegas, Nevada, USA     USA     NaN  ...   \n",
      "3  160.000000  2021-10-09  Las Vegas, Nevada, USA     USA     NaN  ...   \n",
      "4  190.000000  2021-10-09  Las Vegas, Nevada, USA     USA     NaN  ...   \n",
      "5  385.000000  2021-10-09  Las Vegas, Nevada, USA     USA     NaN  ...   \n",
      "6   51.282051  2021-10-09  Las Vegas, Nevada, USA     USA     NaN  ...   \n",
      "7  260.000000  2021-10-09  Las Vegas, Nevada, USA     USA     NaN  ...   \n",
      "8  260.000000  2021-10-09  Las Vegas, Nevada, USA     USA     NaN  ...   \n",
      "\n",
      "   finish_details finish_round finish_round_time  total_fight_time_secs  \\\n",
      "0             NaN          NaN               NaN                    NaN   \n",
      "1             NaN          NaN               NaN                    NaN   \n",
      "2             NaN          NaN               NaN                    NaN   \n",
      "3             NaN          NaN               NaN                    NaN   \n",
      "4             NaN          NaN               NaN                    NaN   \n",
      "5             NaN          NaN               NaN                    NaN   \n",
      "6             NaN          NaN               NaN                    NaN   \n",
      "7             NaN          NaN               NaN                    NaN   \n",
      "8             NaN          NaN               NaN                    NaN   \n",
      "\n",
      "   r_dec_odds  b_dec_odds  r_sub_odds  b_sub_odds  r_ko_odds  b_ko_odds  \n",
      "0         500       400.0         100      2800.0        900      380.0  \n",
      "1         200       550.0         400      1600.0        215      500.0  \n",
      "2         240       120.0         800       450.0       1600      650.0  \n",
      "3         130       350.0         800       800.0        350      750.0  \n",
      "4        -110       400.0        1000       600.0        400     1200.0  \n",
      "5         450      1100.0         140      2200.0        165      700.0  \n",
      "6         300       140.0         650       350.0       1100      700.0  \n",
      "7        -135         NaN         700         NaN        400        NaN  \n",
      "8         400       650.0         800      1400.0       -135      650.0  \n",
      "\n",
      "[9 rows x 119 columns]>\n"
     ]
    }
   ],
   "source": [
    "print(df.head)"
   ]
  },
  {
   "cell_type": "code",
   "execution_count": 4,
   "id": "3c78015c",
   "metadata": {},
   "outputs": [
    {
     "data": {
      "text/plain": [
       "<AxesSubplot:xlabel='R_ev'>"
      ]
     },
     "execution_count": 4,
     "metadata": {},
     "output_type": "execute_result"
    },
    {
     "data": {
      "image/png": "[encoded data removed]",
      "text/plain": [
       "<Figure size 432x288 with 1 Axes>"
      ]
     },
     "metadata": {
      "needs_background": "light"
     },
     "output_type": "display_data"
    }
   ],
   "source": [
    "sns.boxplot(df[\"R_ev\"])"
   ]
  },
  {
   "cell_type": "code",
   "execution_count": 7,
   "id": "aba07741",
   "metadata": {},
   "outputs": [
    {
     "name": "stdout",
     "output_type": "stream",
     "text": [
      "<class 'pandas.core.frame.DataFrame'>\n",
      "RangeIndex: 9 entries, 0 to 8\n",
      "Columns: 119 entries, R_fighter to b_ko_odds\n",
      "dtypes: bool(1), float64(58), int64(50), object(10)\n",
      "memory usage: 8.4+ KB\n"
     ]
    }
   ],
   "source": [
    "df.info()"
   ]
  },
  {
   "cell_type": "code",
   "execution_count": null,
   "id": "3bc9072a",
   "metadata": {},
   "outputs": [],
   "source": []
  }
 ],
 "metadata": {
  "kernelspec": {
   "display_name": "Python 3 (ipykernel)",
   "language": "python",
   "name": "python3"
  },
  "language_info": {
   "codemirror_mode": {
    "name": "ipython",
    "version": 3
   },
   "file_extension": ".py",
   "mimetype": "text/x-python",
   "name": "python",
   "nbconvert_exporter": "python",
   "pygments_lexer": "ipython3",
   "version": "3.9.12"
  }
 },
 "nbformat": 4,
 "nbformat_minor": 5
}
